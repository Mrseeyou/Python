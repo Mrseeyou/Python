{
 "cells": [
  {
   "cell_type": "markdown",
   "metadata": {},
   "source": [
    "# HTML概述\n"
   ]
  },
  {
   "cell_type": "markdown",
   "metadata": {},
   "source": [
    "### 一 什么是HTML\n",
    "- HTML是用来描述网页的一种语言\n",
    "    - 超文本标记语言(英文:HyperText Markup Language, 简称:HTML) 是一种用于创建网页的标准标记语言\n",
    "    - HTML 不是一种编程语言, 而是一种标记语言\n",
    "    - 标记语言是一套标记标签(markup tag)\n",
    "    - THML 文档包含了 HTML 标签及文本内容\n",
    "    - HTML 文档也叫做 Web页面"
   ]
  },
  {
   "cell_type": "markdown",
   "metadata": {},
   "source": [
    "### 二 HTML 是干嘛的\n",
    "- 可以使用 HTML 来建立自己的WEB站点, HTML 运行在浏览器上, 由浏览器来解析"
   ]
  },
  {
   "cell_type": "markdown",
   "metadata": {},
   "source": [
    "### 三 建立HTML文件\n",
    "- .html\n",
    "- .htm"
   ]
  },
  {
   "cell_type": "markdown",
   "metadata": {},
   "source": [
    "### 四 HTML 注释\n",
    "    \n",
    " \n",
    "       <!--注释内容-->"
   ]
  },
  {
   "cell_type": "markdown",
   "metadata": {},
   "source": [
    "### 五 HTML 网页的基本结构\n",
    "\n",
    "     <!DOCTYPE HTML>      声明为 HTML5 文档\n",
    "     <html>               元素是 HTML 页面的根元素\n",
    "     <head>               元素包含了文档的元(meta) 数据\n",
    "     <body>               元素包含了可见的页面内容\n",
    "     \n",
    "####  通用声明(了解)\n",
    "      HTML5:\n",
    "      <!DOCTYPE HTML>\n",
    "      \n",
    "      HTML4.01:\n",
    "      <!DOCTYPE HTML PUBLIC \"-/W3C/DTD HTML 4.01 Transitional//EN\"\n",
    "      \"http://www.w3.org/TR/html4/loose.dtd\">\n",
    "      \n",
    "      XHTML1.0\n",
    "      <!DOCTYPE html PUBLIC \"-//W3C//DTD XHTML 1.0 Transitional//EN\"\n",
    "      \"http://www.w3.org/TR/xhtml1/DTD/xhtml1-transitional.dtd\">\n",
    "      "
   ]
  },
  {
   "cell_type": "markdown",
   "metadata": {},
   "source": [
    "### 六 HTML 标签结构\n",
    "- HTML 标记标签通常被称为 HTML 标签(HTML tag)\n",
    "    - HTML 标签是由尖括号包围的关键字\n",
    "    - HTML 标签通常是成对出现的\n",
    "    - HTML 标签对中的第一个标签是开始标签, 第二个标签是结束标签\n",
    "        \n",
    "            <标签>内容</标签>"
   ]
  },
  {
   "cell_type": "markdown",
   "metadata": {},
   "source": [
    "### 七 HTML 元素\n",
    "- 'HTML 标签' 和 'HTML 元素'通常都是描述同样的意思, 一个 THML 元素包含了开始标签与结束标签"
   ]
  },
  {
   "cell_type": "markdown",
   "metadata": {},
   "source": [
    "### 八 HTML 属性\n",
    "- HTML 元素可以设置属性\n",
    "- 属性一般添加在开始标签\n",
    "- 属性一般以名称/值对的形式出现,比如: name=\"value\"\n",
    "\n",
    "- 注意:\n",
    "    - 属性必须用双引号引起来\n",
    "    - 标签都用小写字母\n",
    "    - 双标签必须要写闭合标签"
   ]
  }
 ],
 "metadata": {
  "kernelspec": {
   "display_name": "Python 3",
   "language": "python",
   "name": "python3"
  },
  "language_info": {
   "codemirror_mode": {
    "name": "ipython",
    "version": 3
   },
   "file_extension": ".py",
   "mimetype": "text/x-python",
   "name": "python",
   "nbconvert_exporter": "python",
   "pygments_lexer": "ipython3",
   "version": "3.7.0"
  }
 },
 "nbformat": 4,
 "nbformat_minor": 2
}
