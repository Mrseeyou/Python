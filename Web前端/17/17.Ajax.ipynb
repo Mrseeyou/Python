{
 "cells": [
  {
   "cell_type": "markdown",
   "metadata": {},
   "source": [
    "## ajax是什么\n",
    "\n",
    "#### AJAX是与服务器交换数据并更新部分网页的艺术,在不重新加载整个页面的情况下\n",
    "\n",
    "AJAX指异步JavaScript及XML (Asynchronout JavaScript And XML)\n",
    "\n",
    "AJAX是一种在2005年由Google推广开来的编程模式\n",
    "\n",
    "AJAX不是一种新的编程语言,而是一种使用现有标准的新方法\n",
    "\n",
    "通过AJAX, 你可以创建更好,更快以及更友好的WEB应该程序\n",
    "\n",
    "AJAX基于JavaScript和HTTP请求(HTTP requests)\n",
    "\n",
    "#### 通过HTTP 请求加载远程数据\n",
    "\n",
    "### jQuery底层对AJAX实现进行了封装,使得我们在进行ajax操作时,不必像原生js中那么复杂\n",
    "\n",
    "    $.get, $.post, $.ajax() 返回其创建的XMLHttprequest对象  多数情况下 我们不需要去操作返回的对象"
   ]
  },
  {
   "cell_type": "markdown",
   "metadata": {},
   "source": [
    "## 如何使用ajax技术?\n",
    "\n",
    "首先得有web服务器,能够通过浏览器去执行你的html和你的python\n",
    "\n",
    "注意一点: 我们平时写的html,直接在浏览器打开时, 使用的是file协议\n",
    "\n",
    "而ajax是基于HTTP请求的,所以要求你的html能够使用http的协议打开\n",
    "\n",
    "如果你能做到用html协议去打开你的html并且能够正常显示的话,就代表你的web服务器搭建成功\n",
    "\n",
    "#### $.get()方法\n",
    "\n",
    "发送ajax请求 \n",
    "    \n",
    "    1. url\n",
    "    2. 可选 发送get请求时携带的参数\n",
    "    3. 可选 回调函数 请求完之后做什么事\n",
    "    4. 可选 返回的数据类型 json\n",
    "    \n",
    "    $.get(url,{请求的参数},function(data){},'json')\n",
    "\n",
    "#### $.post()方法\n",
    "\n",
    "    $.get(url,{请求的参数},function(data){},'json')\n",
    "\n",
    "#### $.ajax()方法\n",
    "\n",
    "    $.ajax({\n",
    "        url:'/cgi-bin/5.py',                  // 当前请求的url地址\n",
    "        type:'get',                           // 当前请求的方式 get post\n",
    "        data:{id:100,username:'zhangsan'},    // 请求时发送的参数\n",
    "        dataType:'json',                      // 返回的数据类型\n",
    "        success:function(data){\n",
    "            console.log(data);                // ajax请求成功后执行的代码     \n",
    "        },\n",
    "        error:function{\n",
    "            alert('ajax执行错误');            //ajax执行失败后执行的代码\n",
    "        },\n",
    "        timeout:2000,                         // 设置当前请求的超时时间(毫秒),必须异步请求才会生效\n",
    "        async:true                            // 是否异步 true为异步  false为同步\n",
    "    })\n"
   ]
  },
  {
   "cell_type": "markdown",
   "metadata": {},
   "source": [
    "## ajax异步 同步\n",
    "\n",
    "// 设置ajax的全局配置 async:false 设置当前请求为同步\n",
    "\n",
    "$.ajaxSetup({async:false}) (不推荐使用)\n",
    "\n",
    "关于ajax中 异步和同步\n",
    "\n",
    "ajax默认就是异步请求\n",
    "\n",
    "async(默认:true) 默认设置下, 所有请求均为异步请求\n",
    "\n",
    "如果需要发送同步请求, 请将此选项设置为false\n",
    "\n",
    "同步请求,发ajax请求出去后必须等待ajax的结果返回后才能继续往下执行\n",
    "\n",
    "一般情况下都是用异步操作,除非有特殊情况,必须等ajax的结果回来后才能做处理的,就用同步"
   ]
  },
  {
   "cell_type": "markdown",
   "metadata": {},
   "source": [
    "## 注意\n",
    "\n",
    "1.ajax是无刷新请求服务器,所有我们在浏览器中是感觉不到,也看不到ajax的具体请求和执行情况的,因此我们需要借助浏览器的调试工具(F12打开) 进行查看\n",
    "\n",
    "2.ajax的请求是基于HTTP协议的,就要求你当前打开这个带有ajax的html是必须使用http协议\n",
    "\n",
    "3.关于返回的数据类型, 在get() post() ajax() 都可以设置返回的数据类型'json', 如果需要返回json格式数据,那么就必须返回json,如果不正确,在get和post方法中将拿不到data返回的数据,在ajax方法中则会进去error方法\n",
    "\n",
    "4.在python中返回json格式数据,\n",
    "    引入json模块\n",
    "    josn.dumps(数据)  使用json_dumps方法进行json格式的编码转换\n",
    "    \n",
    "5.在使用ajax方法时,会创建一个对象 XMLHttpRequest,$(this)永远代表一个对象,没有指明对象时, 代表的是window对象,在它有对象时, 代表的就是当前的这个对象"
   ]
  },
  {
   "cell_type": "markdown",
   "metadata": {},
   "source": [
    "## 了解json格式数据\n",
    "\n",
    "json是JavaScript Object Notation的首字母缩写, 单词的意思是javascirpt对象表示法, 这里说的json指的是类似于javascript对象的一种数据格式,目前这种数据格式比较流行,逐渐替换掉了传统的xml数据格式\n",
    "\n",
    "javascript对象字面量:\n",
    "\n",
    "        var tom={\n",
    "            name:'tom',\n",
    "            age:18\n",
    "        }\n",
    "        \n",
    "json格式的数据:\n",
    "\n",
    "        {\n",
    "            \"name\":\"tom\",\n",
    "            \"age\":18\n",
    "        }\n",
    "        \n",
    "与json对象不同的是, json数据格式的属性名称需要用双引号引起来, 用单引号或者不用引号会导致读取数据错误\n",
    "\n",
    "json的另外一个数据格式是数组,和javascript中的数组字面量相同\n",
    "\n",
    "['tom',18,'programmer']"
   ]
  }
 ],
 "metadata": {
  "kernelspec": {
   "display_name": "Python 3",
   "language": "python",
   "name": "python3"
  },
  "language_info": {
   "codemirror_mode": {
    "name": "ipython",
    "version": 3
   },
   "file_extension": ".py",
   "mimetype": "text/x-python",
   "name": "python",
   "nbconvert_exporter": "python",
   "pygments_lexer": "ipython3",
   "version": "3.7.0"
  }
 },
 "nbformat": 4,
 "nbformat_minor": 2
}
