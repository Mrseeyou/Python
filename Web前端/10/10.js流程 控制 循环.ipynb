{
 "cells": [
  {
   "cell_type": "markdown",
   "metadata": {},
   "source": [
    "# js循环\n",
    "\n",
    "程序中进行有规律的重复性操作,需要用到循环语句\n",
    "\n",
    "break 和 continue 语句队循环中的代码执行提供了更严格的控制"
   ]
  },
  {
   "cell_type": "markdown",
   "metadata": {},
   "source": [
    "### for 循环\n",
    "\n",
    "for (var i=0; i<len; i++) {\n",
    "\n",
    "    ......\n",
    "}"
   ]
  },
  {
   "cell_type": "markdown",
   "metadata": {},
   "source": [
    "### for-in 语句\n",
    "\n",
    "for-in 语句是严格的迭代语句, 用于枚举对象的属性\n",
    "\n",
    "var a = [10,20,30,40,50];\n",
    "\n",
    "迭代是的数组的下标\n",
    "\n",
    "for (i in a) {\n",
    "    document.write(a[i]);\n",
    "\n",
    "}\n",
    "\n",
    "输出: 10 20 30 40 50"
   ]
  },
  {
   "cell_type": "markdown",
   "metadata": {},
   "source": [
    "# js元素的获取和操作\n",
    "\n",
    "可以使用内置对象document上的getElementById方法来获取页面上设置了id属性的元素,获取到的是一个html对象,然后将它赋值给一个变量,比如:\n",
    "\n",
    "    <script type=\"text/javascript\">\n",
    "    \n",
    "    var oDiv = document.getElementById('div1');\n",
    "    \n",
    "    </script>\n",
    "\n",
    "    .....\n",
    "    \n",
    "    <div id='div1'>这是一个div元素</div>"
   ]
  },
  {
   "cell_type": "markdown",
   "metadata": {},
   "source": [
    "上面的语句,如果把javascript写在元素的上面,就会出错.因为页面从上往下加载,javacript在页面上获取div1元素,而元素div1还没有加载. 解决这种情况的方法有两种:\n"
   ]
  },
  {
   "cell_type": "markdown",
   "metadata": {},
   "source": [
    "#### 第一种: 将javascript放的页面的最下面\n",
    "    ......\n",
    "\n",
    "    <div id='div1'>这是一个div元素</div>\n",
    "      \n",
    "    ......\n",
    "    \n",
    "    <script type=\"text/javascript\">\n",
    "    \n",
    "    var oDiv = document.getElementById('div1');\n",
    "    \n",
    "    </script>\n",
    "    \n",
    "    </body>\n",
    "    \n",
    "    "
   ]
  },
  {
   "cell_type": "markdown",
   "metadata": {},
   "source": [
    "#### 第二种: 将javascript语句放到window.onload触发的函数里面,获取元素的语句会在页面加载完后才执行,就不会出错了"
   ]
  },
  {
   "cell_type": "markdown",
   "metadata": {},
   "source": [
    "    <script type=\"text/javascript\">\n",
    "\n",
    "        window.onload = funtion(){\n",
    "\n",
    "            var oDiv = document.getElementById('div1')\n",
    "\n",
    "        }\n",
    "\n",
    "    </script>\n",
    "    \n",
    "    ...\n",
    "    \n",
    "    <div id=\"div1\">这是一个div元素</div>"
   ]
  },
  {
   "cell_type": "markdown",
   "metadata": {},
   "source": [
    "## 样式操作\n",
    "\n",
    "标签对象.style.css属性名='值'  改变标签对象的样式\n",
    "\n",
    "示例: id.style.color=\"red\";\n",
    "\n",
    "注意: 属性名相当于变量名,所以css属性名中含有双拼词的(font-size)的减号要去掉,将后面的首字母大写  型如fontSize"
   ]
  },
  {
   "cell_type": "markdown",
   "metadata": {},
   "source": [
    "## 文本操作\n",
    "\n",
    "标签对象.innerHTML=\"内容\";  在标签对象内放置指定内容\n",
    "\n",
    "获取一般用innerText   修改一般用innerHTML"
   ]
  },
  {
   "cell_type": "markdown",
   "metadata": {},
   "source": [
    "## 表单中值的操作\n",
    "\n",
    "标签对象.value;   获取标签对象的value值\n",
    "\n",
    "标签对象.value=\"值\";   设置标签对象的value值"
   ]
  }
 ],
 "metadata": {
  "kernelspec": {
   "display_name": "Python 3",
   "language": "python",
   "name": "python3"
  },
  "language_info": {
   "codemirror_mode": {
    "name": "ipython",
    "version": 3
   },
   "file_extension": ".py",
   "mimetype": "text/x-python",
   "name": "python",
   "nbconvert_exporter": "python",
   "pygments_lexer": "ipython3",
   "version": "3.7.0"
  }
 },
 "nbformat": 4,
 "nbformat_minor": 2
}
