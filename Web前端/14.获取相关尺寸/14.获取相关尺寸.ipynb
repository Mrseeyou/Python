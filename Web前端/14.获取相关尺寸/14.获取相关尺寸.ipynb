{
 "cells": [
  {
   "cell_type": "markdown",
   "metadata": {},
   "source": [
    "## 相关尺寸\n",
    "\n",
    "#### 获取元素相对于文档的偏移量\n",
    "\n",
    "var pos = $('.small').Offset();\n",
    "\n",
    "console.log(pos.left)  console.log(pos.top);\n",
    "\n"
   ]
  },
  {
   "cell_type": "markdown",
   "metadata": {},
   "source": [
    "#### 获取当前元素相对于父级元素的偏移量\n",
    "\n",
    "var l = $('.small').position().left;\n",
    "\n",
    "var t = $('.small').position().top;\n",
    "\n",
    "console.log(l,t);"
   ]
  },
  {
   "cell_type": "markdown",
   "metadata": {},
   "source": [
    "#### 获取文档滚动距离\n",
    "\n",
    "var st = $(document).scrollTop();\n",
    "\n",
    "var sl = $(document).scrollLeft();"
   ]
  },
  {
   "cell_type": "markdown",
   "metadata": {},
   "source": [
    "#### 获取元素的宽度和高度\n",
    "\n",
    "var w = $('.big').width();\n",
    "\n",
    "var h = $('.big').height();"
   ]
  },
  {
   "cell_type": "markdown",
   "metadata": {},
   "source": [
    "#### 设置元素的宽度和高度\n",
    "\n",
    "$('.big').width(100);\n",
    "\n",
    "$('.big').height(100);"
   ]
  },
  {
   "cell_type": "markdown",
   "metadata": {},
   "source": [
    "#### 获取可视区域的宽度和高度\n",
    "\n",
    "var cw = $(window).width();\n",
    "\n",
    "car ch = $(window).height();"
   ]
  },
  {
   "cell_type": "markdown",
   "metadata": {},
   "source": [
    "#### 获取文档的宽度和高度\n",
    "\n",
    "var hw = $(document).width();\n",
    "\n",
    "var hh = $(document).height();"
   ]
  }
 ],
 "metadata": {
  "kernelspec": {
   "display_name": "Python 3",
   "language": "python",
   "name": "python3"
  },
  "language_info": {
   "codemirror_mode": {
    "name": "ipython",
    "version": 3
   },
   "file_extension": ".py",
   "mimetype": "text/x-python",
   "name": "python",
   "nbconvert_exporter": "python",
   "pygments_lexer": "ipython3",
   "version": "3.7.0"
  }
 },
 "nbformat": 4,
 "nbformat_minor": 2
}
