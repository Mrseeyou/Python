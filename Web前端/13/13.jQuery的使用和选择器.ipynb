{
 "cells": [
  {
   "cell_type": "markdown",
   "metadata": {},
   "source": [
    "# jQuery\n",
    "\n",
    "jQuery是一个免费,开源的javascript库,也是目前使用最广泛的javascript函数库\n",
    "\n",
    "jQuery极大的方便你完成web前端的相关操作,例如节点操作,元素操作,事件绑定,ajax操作,且解决了大多数的兼容性问题\n",
    "\n",
    "jQuery的版本分为1.x系列和2.x,  3.x系列, 1.x系列兼容低版本的浏览器,2x, 3x系列放弃支持低版本浏览器,木器使用最多的是1.x系列\n",
    "\n",
    "http://jquery.com/官方网站\n",
    "\n",
    "jquery是一个函数库, 一个js文件, 页面用sctipt标签引入这个js文件就可以使用"
   ]
  },
  {
   "cell_type": "markdown",
   "metadata": {},
   "source": [
    "    <script type=\"text/javascript\" src=\"js/jquery-1.11.1.min.js\"> </script>"
   ]
  },
  {
   "cell_type": "markdown",
   "metadata": {},
   "source": [
    "# jquery选择器\n",
    "\n",
    "### jquery用法思想\n",
    "选择某个网页元素,然后对它进行某种操作\n",
    "\n",
    "### jquery选择器\n",
    "jquery选择器可以快速地选择元素,选择规则和CSS样式相同"
   ]
  },
  {
   "cell_type": "markdown",
   "metadata": {},
   "source": [
    "## 基础选择器\n",
    "\n",
    "通过id来获取元素 document.getElementById();\n",
    "\n",
    "// $('#logo').css('border','solid 2px red');\n",
    "\n",
    "通过标签名来获取元素\n",
    "\n",
    "// $('li').css('background','#369');\n",
    "\n",
    "通过class类名获取元素\n",
    "\n",
    "// $('.w').css('background','#369');\n",
    "\n",
    "逗号 并列获取\n",
    "\n",
    "// $('#logo,#menu').css('background','#369');\n",
    "\n",
    "空格 层级获取\n",
    "\n",
    "// $ ('#images li').css('background','#369');"
   ]
  },
  {
   "cell_type": "markdown",
   "metadata": {},
   "source": [
    "## 过滤获取\n",
    "\n",
    "获取第一个和最后一个元素\n",
    "\n",
    "// $('li:first').css('background','#369');\n",
    "\n",
    "// $('li:last').css('background',#'369');\n",
    "\n",
    "获取指定索引的元素 索引从0开始\n",
    "\n",
    "// $ ('li:eq(7)').css('background','#369');\n",
    "\n",
    "// $ ('li').eq(7).css('background','#369');\n",
    "\n",
    "获取包含指定文本的元素\n",
    "\n",
    "// $('li:contains(国)').css('background','#369');\n",
    "\n",
    "通过包含指定属性来获取元素 通过属性来获取\n",
    "\n",
    "// $('li[name=v]').css('background','#369');"
   ]
  },
  {
   "cell_type": "markdown",
   "metadata": {},
   "source": [
    "## 父子关系获取\n",
    "\n",
    "获取所有的子元素\n",
    "\n",
    "// $('.images').children().css('background','#369');\n",
    "\n",
    "获取第一个子元素\n",
    "\n",
    "// $('ul li:first-child').css('background','#369');\n",
    "\n",
    "获取最后一个子元素\n",
    "\n",
    "// $('ul li:last-child').css('background','#369');\n",
    "\n",
    "获取指定的子元素 从1开始\n",
    "\n",
    "// $('ul li:nth-child(3)').css('background','#369');\n",
    "\n",
    "在父级元素中查找指定的子级元素 不指定获取不到\n",
    "\n",
    "// $('.images').find('.w').css('background','#369');\n",
    "\n",
    "\n",
    "\n",
    "获取元素上一个同级元素\n",
    "\n",
    "// $('.f').perv().css('background','#369');\n",
    "\n",
    "获取元素下一个同级元素\n",
    "\n",
    "// $('.f').next().css('background','#369');\n",
    "\n",
    "获取同辈元素 (同辈元素不包含自己)\n",
    "\n",
    "// $('.f').siblings().css('background','#369');\n",
    "\n",
    "\n",
    "\n",
    "获取父级元素\n",
    "\n",
    "// $('.f').parent().css('background','#369');\n",
    "\n",
    "获取先辈级元素\n",
    "\n",
    "// $('.f').parents('#all').css('border','solid 1px red');\n",
    "\n"
   ]
  },
  {
   "cell_type": "markdown",
   "metadata": {},
   "source": [
    "# jQuery元素操作"
   ]
  },
  {
   "cell_type": "markdown",
   "metadata": {},
   "source": [
    "通过jquery可以操作控制元素的样式,文本,属性等"
   ]
  },
  {
   "cell_type": "markdown",
   "metadata": {},
   "source": [
    "## jquert样式操作\n",
    "\n",
    "#### css操作行内样式\n",
    "\n",
    "获取div的样式\n",
    "\n",
    "    $('div').css('width');\n",
    "\n",
    "设置div的样式\n",
    "\n",
    "    $('div').css('width','100px');\n",
    "    \n",
    "#### 特别注意\n",
    "\n",
    "选择器获取的多个元素,获取信息获取的是第一个,比如: $('div').css('width'),获取的是第一个div的width"
   ]
  },
  {
   "cell_type": "markdown",
   "metadata": {},
   "source": [
    "## 类名class操作\n",
    "\n",
    "#### 操作样式类名\n",
    "\n",
    "$('div1').addClass('divclass2')  // 为id为div1的对象追加样式divclass2 (可添加多个样式)\n",
    "\n",
    "$('div1').removeClass('divclass') // 移除id为div1的对象 class名为divclass的样式\n",
    "\n",
    "$('div1').removeClass('divclass divclass2') //移除多个样式\n",
    "\n",
    "$('div1').toggleClass('anotherclass') // 重复切换anotherclass模式"
   ]
  },
  {
   "cell_type": "markdown",
   "metadata": {},
   "source": [
    "## 文本操作\n",
    "\n",
    "#### 1.html() 取出或设置html内容\n",
    "\n",
    "取出html内容\n",
    "\n",
    "    var htm = $('div1').html();\n",
    "\n",
    "设置html内容 覆盖原来的内容\n",
    "\n",
    "    $('div').html('<span>添加文字</span>');\n"
   ]
  },
  {
   "cell_type": "markdown",
   "metadata": {},
   "source": [
    "#### 2.text() 取出或设置text内容\n",
    "\n",
    "取出文本内容\n",
    "\n",
    "    var $htm = $('div1').text();\n",
    "\n",
    "设置文本内容 覆盖原来内容 且不解析标签\n",
    "\n",
    "    $ ('div1').text(<span>添加文字</span>);"
   ]
  },
  {
   "cell_type": "markdown",
   "metadata": {},
   "source": [
    "## 属性操作\n",
    "\n",
    "#### 1.attr() 取出或设置某个属性的值\n",
    "\n",
    "取出图片的地址\n",
    "\n",
    "    var $src = $('#img1').attr('src');\n",
    "    \n",
    "设置图片的地址和alt属性\n",
    "\n",
    "    $('#img1').attr({ src: \"test.jpg\", alt:\"Test Image\"});\n",
    "    \n",
    "设置class属性\n",
    "\n",
    "    $('#abc').attr('class','all');\n",
    "    \n",
    "自定义属性\n",
    "\n",
    "    $('#abc').attr('love','iloveyou');"
   ]
  },
  {
   "cell_type": "markdown",
   "metadata": {},
   "source": [
    "#### 2.removeattr()  删除属性\n",
    "\n",
    "    $ ('#abc').removeattr('class')\n",
    "\n",
    "    $ ('#abc').removeattr('love')"
   ]
  }
 ],
 "metadata": {
  "kernelspec": {
   "display_name": "Python 3",
   "language": "python",
   "name": "python3"
  },
  "language_info": {
   "codemirror_mode": {
    "name": "ipython",
    "version": 3
   },
   "file_extension": ".py",
   "mimetype": "text/x-python",
   "name": "python",
   "nbconvert_exporter": "python",
   "pygments_lexer": "ipython3",
   "version": "3.7.0"
  }
 },
 "nbformat": 4,
 "nbformat_minor": 2
}
