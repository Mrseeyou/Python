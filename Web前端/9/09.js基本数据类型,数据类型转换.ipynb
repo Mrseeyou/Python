{
 "cells": [
  {
   "cell_type": "markdown",
   "metadata": {},
   "source": [
    "# JavaScript基本数据类型\n",
    "\n",
    "typeof - 函数获取一个变量的类型:\n",
    "\n",
    "boolean - Boolean类型\n",
    "\n",
    "number - Number类型(整数,浮点数)\n",
    "\n",
    "string - 字符串类型(采用\"\",'')\n",
    "\n",
    "object - 对象 数组 null类型\n",
    "\n",
    "function - 函数类型\n",
    "\n",
    "undefined 未定义类型\n"
   ]
  },
  {
   "cell_type": "markdown",
   "metadata": {},
   "source": [
    "## js数据类型转换\n",
    "\n",
    "使用:Number()丶parselnt()和parseFloat()做类型转换\n",
    "\n",
    " Nuber()强转一个数值(包含整数和浮点数)\n",
    "\n",
    " *parseInt()强转整数\n",
    "\n",
    " *parseFloat()强转浮点数\n",
    "\n",
    " isNaN - 检测参数是否 不是一个数"
   ]
  },
  {
   "cell_type": "markdown",
   "metadata": {},
   "source": [
    "#### 可用的3种强制类型转换如下:\n",
    "\n",
    "Boolean(value) - 把给定的值转换成Boolean 类型;\n",
    "\n",
    "Number(value) - 把给定的值转换成数字(可以是整数或浮点数);\n",
    "\n",
    "string(value) - 把给定的值转换成字符串;\n"
   ]
  },
  {
   "cell_type": "markdown",
   "metadata": {},
   "source": [
    "## js运算符\n",
    "\n",
    "#### 算数运算符\n",
    "\n",
    " +,  -, *,  /,  ++ , --\n",
    "\n",
    "#### 字符串连接符\n",
    "\n",
    " +\n",
    "\n",
    "#### 赋值运算符\n",
    "\n",
    " =  +=  -=  %=\n",
    "\n",
    "#### 比较运算符\n",
    "\n",
    " <   >   <=   >=  ==  === !=  !==\n",
    "\n",
    "#### 逻辑运算符\n",
    "\n",
    " &&  ||  !\n",
    "\n",
    "#### 位运算符\n",
    "\n",
    " ^  &  |  <<  >>\n",
    "\n",
    "#### 其他运算符\n",
    "\n",
    " ?  :  三元运算符\n"
   ]
  }
 ],
 "metadata": {
  "kernelspec": {
   "display_name": "Python 3",
   "language": "python",
   "name": "python3"
  },
  "language_info": {
   "codemirror_mode": {
    "name": "ipython",
    "version": 3
   },
   "file_extension": ".py",
   "mimetype": "text/x-python",
   "name": "python",
   "nbconvert_exporter": "python",
   "pygments_lexer": "ipython3",
   "version": "3.7.0"
  }
 },
 "nbformat": 4,
 "nbformat_minor": 2
}
