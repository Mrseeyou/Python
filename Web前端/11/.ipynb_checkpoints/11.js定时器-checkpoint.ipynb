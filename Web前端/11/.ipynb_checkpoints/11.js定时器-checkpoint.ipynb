{
 "cells": [
  {
   "cell_type": "markdown",
   "metadata": {},
   "source": [
    "## js定时器\n",
    "\n",
    "通过使用JacaScript, 我们有能力做到在一个设定的时间间隔之后来执行代码,而不是在函数被调用后立即执行\n",
    "\n",
    "我们称之为计时事件"
   ]
  },
  {
   "cell_type": "markdown",
   "metadata": {},
   "source": [
    "#### 定时器在javascript中的作用\n",
    "\n",
    "1.制作动画\n",
    "2.异步操作"
   ]
  },
  {
   "cell_type": "markdown",
   "metadata": {},
   "source": [
    "### 定时器类型及语法\n",
    "\n",
    "setInterval() - 间隔指定的毫秒数不停地执行代码.\n",
    "\n",
    "setTimeout() - 暂停指定的毫秒数后执行指定的代码 setInterval()和setTimeout()是Window对象的两个方法."
   ]
  },
  {
   "cell_type": "markdown",
   "metadata": {},
   "source": [
    "定时器:\n",
    "\n",
    "        setTimeout  只执行一次的定时器\n",
    "            \n",
    "        clearTimeout  关闭只执行一次的定时器\n",
    "         \n",
    "        setInterval   反复执行的定时器\n",
    "        \n",
    "        clearInterval 关闭反复执行的定时器\n",
    "        \n",
    "var time1 = setTimeout(myalert,2000);\n",
    "\n",
    "var time2 = setInterval(myalert,2000);\n",
    "\n",
    "clearTimeout(time1);\n",
    "\n",
    "clearInterval(time2);"
   ]
  },
  {
   "cell_type": "markdown",
   "metadata": {},
   "source": [
    "## js函数\n",
    "\n",
    "第一种是使用function语句定义函数\n",
    "\n",
    "    function abc(){\n",
    "    \n",
    "        alert(\"abc\");\n",
    "    };\n",
    "    \n",
    "第二种是在表达式中定义函数\n",
    "\n",
    "var 函数名 = function\\(参数1,参数2,...\\){函数体};\n",
    "\n",
    "    var add = function\\(a,b\\){\n",
    "    \n",
    "        return a+b;\n",
    "    };\n",
    "    \n",
    "    // 调用函数\n",
    "    \n",
    "    document.write\\(add\\(50,20\\)\\);"
   ]
  },
  {
   "cell_type": "markdown",
   "metadata": {},
   "source": [
    "### arguments\n",
    "\n",
    "在函数代码中,使用特殊对象 arguments, 开发者无需明确指出参数名,就能反问它们\n",
    "\n",
    "例如,在函数func() 中, 第一个参数是 message 用arguments[0]就可以访问这个值 也就是第一个值(第一个参数位置是0,第二个是1,以此类推)"
   ]
  },
  {
   "cell_type": "markdown",
   "metadata": {},
   "source": [
    "## 关于变量和参数问题:\n",
    "\n",
    "函数外面定义的变量是全局变量, 函数内可以直接使用\n",
    "\n",
    "在函数内部没有使用var定义的=变量则为全局变量\n",
    "\n",
    "在函数内使用var关键字定义的变量是局部变量,即出了函数外面无法获取\n",
    "\n",
    "js函数定义的参数没有默认值,(形参的默认值在之前只有新版火狐浏览器支持,目前版本的chrome浏览器也可以支持)"
   ]
  }
 ],
 "metadata": {
  "kernelspec": {
   "display_name": "Python 3",
   "language": "python",
   "name": "python3"
  },
  "language_info": {
   "codemirror_mode": {
    "name": "ipython",
    "version": 3
   },
   "file_extension": ".py",
   "mimetype": "text/x-python",
   "name": "python",
   "nbconvert_exporter": "python",
   "pygments_lexer": "ipython3",
   "version": "3.7.0"
  }
 },
 "nbformat": 4,
 "nbformat_minor": 2
}
