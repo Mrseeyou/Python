{
 "cells": [
  {
   "cell_type": "markdown",
   "metadata": {},
   "source": [
    "# CSS\n",
    "- css由此诞生\n",
    "    - 为了让网页元素的样式更加丰富\n",
    "    - 为了让网页的内容和样式能拆分\n",
    "- css是 Cascading Style Sheets\n",
    "    - 意思是层叠样式表\n",
    "- 有了css, html中打部分表现样式的标签就废弃不用了\n",
    "- html只负责文档的结构和内容, 表现形式完全交给css, html文档变得更加简洁"
   ]
  },
  {
   "cell_type": "markdown",
   "metadata": {},
   "source": [
    "# CSS 基本语法及页面应用\n",
    "\n",
    "### CSS基本语法\n",
    "- css的定义方法是: 选择器{属性:值; 属性:值; 属性:值;} 选择器是降样式和页面元素关联起来的名称, 属性是希望设置的样式属性 每个属性有一个或多个值\n",
    "- 示例:\n",
    "    \n",
    "        div{width:100px; height:100px; color:red}\n",
    "\n",
    "### CSS 页面引入方法\n",
    "- 1.外联式: 通过link标签, 链接到外部样式表到页面中\n",
    "    \n",
    "        <link rel=\"stylesheet\" type=\"text/css\" href=\"css/main.css\">\n",
    "- 2.嵌入式: 通过style标签, 在网页上创建嵌入的样式表\n",
    "    \n",
    "        <style type=\"text/css\">\n",
    "            div{width:100px; height:100px; color:red}\n",
    "            ......\n",
    "        </style>\n",
    "- 3.内联式: 通过标签的style属性, 在标签上直接写样式\n",
    "        \n",
    "        <div style=\"width:100px; height:100px; color:red\">\n",
    "        ......\n",
    "        </div>"
   ]
  },
  {
   "cell_type": "markdown",
   "metadata": {},
   "source": [
    "# CSS 选择器\n",
    "\n",
    "### 常用的选择器有如下几种:\n",
    "- 1.标签选择器\n",
    "    - 标签选择器, 此种选择器影响范围大, 建议尽量应用在层级选择器中\n",
    "            \n",
    "- 2.id选择器\n",
    "    - 通过id名称选择元素, 元素的id名称不能重复, 所有一个样式设置项只能对应于页面上一个元素, 不能重复\n",
    "    - id名一般给程序使用, 所以不推荐使用id作为选择器\n",
    "\n",
    "- 3.类选择器\n",
    "    - 通过类名来选择元素, 一个类可以应用多个元素, 一个元素上也可以使用多个类, 应该灵活, 可复用, 是css中应用最多的一种选择器\n",
    "\n",
    "- 4.层级选择器\n",
    "    - 主要应用在选择父元素下的子元素, 或者子元素下面的子元素, 可于标签元素结合使用, 减少命名, 同时也可以通过层级, 防止命名冲突\n",
    "\n",
    "- 5.组选择器\n",
    "    - 多个选择器, 如果有同样的样式设置, 可以使用组选择器 也称为 并列选择器\n",
    "    \n",
    "- 6.伪类及伪元素选择器\n",
    "    - 常用伪类选择器有hover, 表示鼠标悬浮在元素上时的状态, 伪元素选择器有before和after, 它们可以通过样式在元素中插入内容\n"
   ]
  }
 ],
 "metadata": {
  "kernelspec": {
   "display_name": "Python 3",
   "language": "python",
   "name": "python3"
  },
  "language_info": {
   "codemirror_mode": {
    "name": "ipython",
    "version": 3
   },
   "file_extension": ".py",
   "mimetype": "text/x-python",
   "name": "python",
   "nbconvert_exporter": "python",
   "pygments_lexer": "ipython3",
   "version": "3.7.0"
  }
 },
 "nbformat": 4,
 "nbformat_minor": 2
}
