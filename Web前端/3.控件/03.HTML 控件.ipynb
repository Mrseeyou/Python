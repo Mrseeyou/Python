{
 "cells": [
  {
   "cell_type": "markdown",
   "metadata": {},
   "source": [
    "### 三 常用的实体字符\n",
    "    gt;    大于号\n",
    "    it;    小于号\n",
    "    copy;  版权\n",
    "    nbsl;  空格\n",
    "<a href=http://www.w3school.com.cn/html/html_entities.asp>点击查看</a>"
   ]
  },
  {
   "cell_type": "markdown",
   "metadata": {},
   "source": [
    "### 四 表单标签\n",
    "    表单是一个包含表单元素的区域, 通过form来定义表单区域\n",
    "    通过type属性定义不同类型的表单控件\n",
    "    text 普通文本输入框\n",
    "    password 密码输入框\n",
    "    radio 单选按钮\n",
    "    checked 多选按钮\n",
    "    select 下拉框\n",
    "    file 文件上传选框\n",
    "    textarea 文本域\n",
    "    submit 提交按钮\n",
    "    reset 重置按钮\n",
    "    hidden 隐藏域, 要和表单单一提交的信息\n",
    "    \n",
    "#### 常用属性\n",
    "    name          表单项目, 用于存储内容的值\n",
    "    value         输入的值\n",
    "    disabled      禁用属性\n",
    "    readonly      不可选中(只读)\n",
    "    checked       选项框默认指定选项\n",
    "    placeholder   提示\n",
    "    \n",
    "#### 注意\n",
    "    form    有两个必须存在的属性 action提交地址 method提交方式\n",
    "    post    通过request body传参, 参数不可见, 没有大小限制, 相对安全\n",
    "    get     通过url进行传参, 参数可见, 大小有限制, 不安全"
   ]
  }
 ],
 "metadata": {
  "kernelspec": {
   "display_name": "Python 3",
   "language": "python",
   "name": "python3"
  },
  "language_info": {
   "codemirror_mode": {
    "name": "ipython",
    "version": 3
   },
   "file_extension": ".py",
   "mimetype": "text/x-python",
   "name": "python",
   "nbconvert_exporter": "python",
   "pygments_lexer": "ipython3",
   "version": "3.7.0"
  }
 },
 "nbformat": 4,
 "nbformat_minor": 2
}
