{
 "cells": [
  {
   "cell_type": "markdown",
   "metadata": {},
   "source": [
    "# css间距\n",
    "\n",
    "### 内补白(内补丁)\n",
    "\n",
    "        padding: 检索或设置对象四边的内部边距 \n",
    "        padding-top: 检索或设置顶边的内部边距\n",
    "        padding-right: 检索或设置右边的内部边距\n",
    "        padding-bottom: 检索或设置底部的内部边距\n",
    "        padding-left: 检索或设置左边的内部边距\n",
    "        在padding不设置方向, 只设置值得时候:\n",
    "            只设置一个值得时候,则是四个方向都取这个值\n",
    "            只设置两个值得时候,第一个值代表上下, 第二个值代表左右\n",
    "            设置四个值得时候,从顶部开始,按照顺时针方向设置四个方向的值\n",
    "### 外补白(外补丁)\n",
    "        \n",
    "        margin: 检索或设置对象四边的外沿边距\n",
    "        margin值重合: 在使用的时候,如果设置重合,取最大值,不叠加\n",
    "        基本方法同padding\n",
    "        相关技巧:\n",
    "            设置元素水平居中:   margin:x auto;\n",
    "            让元素合并:  margin:(取负值)"
   ]
  },
  {
   "cell_type": "markdown",
   "metadata": {},
   "source": [
    "# 盒子模型\n",
    "- 元素在页面中显示成一个方块, 类似一个盒子, CSS盒子模型就是使用现实中盒子来做比喻, 帮助我们设置元素对应的样式\n",
    "    - 把元素叫做盒子, 设置对应的样式分别为: 盒子的边框(border) 盒子内的内容和边框之间的间距(padding) 盒子与盒子之间的间距\n",
    "    \n",
    "            盒子的真实尺寸 \n",
    "            盒子的宽度     width + padding左右 + border左右\n",
    "            盒子的高度     height + padding上下 + border上下\n",
    "            \n",
    "- 在布局中, 如果想增大内容和边框的距离, 有不想改变盒子显示的尺寸\n",
    "    \n",
    "            box-sizing: content-box | border-box"
   ]
  },
  {
   "cell_type": "markdown",
   "metadata": {},
   "source": [
    "# 块元素 内联元素 内联块元素\n",
    "- 元素就是标签, 布局中常用的有三种标签, 块元素 内联元素 内联块元素, 了解这三种元素的特性, 才能熟练的进行页面布局\n",
    "\n",
    "### 快元素\n",
    "- 快元素, 可以称为行元素, 布局中常用的标签如: div p ul li h1-h6 dl dt dd 等等都是快元素, 它们在布局中的行为:\n",
    "    - 支持全部的样式\n",
    "    - 如果没有设置宽度, 默认的宽度为父极宽度的100%\n",
    "    - 盒子独占一行, 即使设置了宽度\n",
    "    \n",
    "### 内联元素\n",
    "- 内联元素, 也可以称为行内元素, 布局中常用的标签如: a span ern b strong l 等等都是内联元素, 它们的布局中的行为:\n",
    "    - 支持部分样式(不支持宽 高 margin上下)\n",
    "    - 宽高由内容决定\n",
    "    - 盒子并在一起\n",
    "    - 代码换行, 盒子之间会产生间距\n",
    "    - 子元素是内联元素, 父元素可以用text-align属性设置元素水平对齐方式, 用line-height属性设置垂直对齐方式\n",
    "    - 不独占一行\n",
    "    \n",
    "### 内联块元素\n",
    "- 内联快元素, 也叫行内快元素, 是新增的元素类型, 现有元素没有归于此类别的, img和input元素的行为类似这种元素, 但也归类于内联元素, 它们在布局中的表现行为:\n",
    "    - 支持全部样式\n",
    "    - 如果没有设置宽高, 宽高由内容决定\n",
    "    - 盒子并在一行\n",
    "    - 代码换行 产生间距\n",
    "    - 子元素是内联块元素, 父元素可以用text-align属性设置元素水平对齐方式, 用line-height属性设置垂直对齐方式\n",
    "    - 不独占一行\n",
    "    \n",
    "        "
   ]
  },
  {
   "cell_type": "markdown",
   "metadata": {},
   "source": [
    "# 块元素 内联元素 内联块元素之间的转换\n",
    "- display属性是用来设置元素的类型或是否隐藏的,常用属性有:\n",
    "    - none 元素影藏且不占位置\n",
    "    - block 元素以块元素显示\n",
    "    - inline 元素以内联元素显示\n",
    "    - inline-block 元素以内联块元素显示"
   ]
  }
 ],
 "metadata": {
  "kernelspec": {
   "display_name": "Python 3",
   "language": "python",
   "name": "python3"
  },
  "language_info": {
   "codemirror_mode": {
    "name": "ipython",
    "version": 3
   },
   "file_extension": ".py",
   "mimetype": "text/x-python",
   "name": "python",
   "nbconvert_exporter": "python",
   "pygments_lexer": "ipython3",
   "version": "3.7.0"
  }
 },
 "nbformat": 4,
 "nbformat_minor": 2
}
