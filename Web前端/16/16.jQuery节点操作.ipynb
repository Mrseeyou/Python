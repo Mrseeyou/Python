{
 "cells": [
  {
   "cell_type": "markdown",
   "metadata": {},
   "source": [
    "# jquery 节点操作\n",
    "\n",
    "### 创建节点\n",
    "\n",
    "    var Div = $('div');\n",
    "\n",
    "    var Div2 = $('<div>这是一个div元素</div>');\n",
    "\n",
    "插入节点\n",
    "\n",
    "1.append()和appendTo(): 在现存元素的内部,从尾部插入元素   (正序)\n",
    "\n",
    "    var Span = $('<span>这是一个span元素</span>');\n",
    "\n",
    "    $('#Div1').append(Span);\n",
    "    \n",
    "2.prepend()和perpendTo():在现存元素的内部,从头部插入元素    (反序)\n",
    "\n",
    "3.after()和inserAfter():在现存元素外部,从后面插入元素    (反序)\n",
    "\n",
    "3.before()和insertBefore():在现存元素的外部,从前面插入元素   (正序)\n",
    "\n",
    "### 删除节点\n",
    "\n",
    "$(element).remove()删除当前元素\n",
    "\n",
    "$(element).empty()清空\n",
    "\n",
    "### 克隆节点\n",
    "\n",
    "$(element).clone(true) // 如果是为了单纯的克隆 不需要传true 如果要连天事件一起克隆 则传true参数"
   ]
  }
 ],
 "metadata": {
  "kernelspec": {
   "display_name": "Python 3",
   "language": "python",
   "name": "python3"
  },
  "language_info": {
   "codemirror_mode": {
    "name": "ipython",
    "version": 3
   },
   "file_extension": ".py",
   "mimetype": "text/x-python",
   "name": "python",
   "nbconvert_exporter": "python",
   "pygments_lexer": "ipython3",
   "version": "3.7.0"
  }
 },
 "nbformat": 4,
 "nbformat_minor": 2
}
