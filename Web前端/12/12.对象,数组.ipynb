{
 "cells": [
  {
   "cell_type": "markdown",
   "metadata": {},
   "source": [
    "# js对象\n"
   ]
  },
  {
   "cell_type": "markdown",
   "metadata": {},
   "source": [
    "1. 使用原始的方式创建内置对象\n",
    "\n",
    "        var myObject = new Object();    \n",
    "        myObject.name = \"lijie\";   \n",
    "        myObject.age = 20;    \n",
    "        myObject.say = function(){...};\n",
    "    \n",
    "2. 直接创建自定义对象\n",
    "\n",
    "        var 对象名 = {属性名1:属性值, 属性名2:属性值,...};\n",
    "    \n",
    "3. 使用自定义构造函数创建对象\n",
    "\n",
    "        function pen(name,color,price){\n",
    "            this.name;\n",
    "            this.color;\n",
    "            this.price;\n",
    "            this.say = function(){\n",
    "            };\n",
    "        };\n",
    "\n",
    "        var pen = new pen(\"铅笔\",\"red\",\"20\");"
   ]
  },
  {
   "cell_type": "markdown",
   "metadata": {},
   "source": [
    "### this关键字\n",
    "\n",
    "this 单词本身就是'这个'的意思\n",
    "\n",
    "在对象的方法中使用,代表着当前这个对象\n",
    "\n",
    "意味着当对象调用这个方法时,方法中的this就代表这个对象"
   ]
  },
  {
   "cell_type": "markdown",
   "metadata": {},
   "source": [
    "### 遍历\n",
    "\n",
    "    for(i in window){\n",
    "        document.write(i+'...'+window[i]);\n",
    "    }\n",
    "\n",
    "这种语句可以遍历对象中的所有属性或数组中的所有元素"
   ]
  },
  {
   "cell_type": "markdown",
   "metadata": {},
   "source": [
    "### 关于类型\n",
    "\n",
    "测试类型:\n",
    "\n",
    "1.typeof()    //global对象的其中一个方法,typeof()\n",
    "\n",
    "2.对象.constructor;  //查看当前对象的构造函数是谁\n",
    "\n",
    "    if(arr.constructor==Array){\n",
    "        alert('数组');  // 数组推荐用这种方法,因为typeof得到的是object\n",
    "    }"
   ]
  },
  {
   "cell_type": "markdown",
   "metadata": {},
   "source": [
    "# js数组"
   ]
  },
  {
   "cell_type": "markdown",
   "metadata": {},
   "source": [
    "数组就是一组数据的集合,javascript中,数组里面的数据可以是不同类型的."
   ]
  },
  {
   "cell_type": "markdown",
   "metadata": {},
   "source": [
    "### 定义数组的方法\n",
    "\n",
    "对象的实例创建\n",
    "    \n",
    "        var aList = new Array(1,2,3);\n",
    "       \n",
    "直接创建\n",
    "\n",
    "        var aList2 = [1,2,3];"
   ]
  },
  {
   "cell_type": "markdown",
   "metadata": {},
   "source": [
    "### 操作数组中数据的方法\n",
    "    var aList = [1,2,3,4];\n",
    "\n",
    "1.获取数组的长度: aList.length\n",
    "        \n",
    "        alert(aList.length);  // 弹出4\n",
    "        \n",
    "2.用下标操作数组的某个数据: aList[0]\n",
    "\n",
    "        alert(aList[1]);   // 弹出2\n",
    "        \n",
    "3.push()和pop()从数组最后添加成员或删除成员\n",
    "\n",
    "        aList.push(5);  // 可以添加多个\n",
    "        alert(aList)  // 弹出[1,2,3,4,5]\n",
    "        \n",
    "        aList.pop();\n",
    "        alert(aList)  // 弹出[1,2,3]\n",
    "        \n",
    "4.unshift()和shift()从数组前面增加成员或删除成员\n",
    "    \n",
    "        aList.unshift(5)  // 可添加多个\n",
    "        alert(aList)     // 弹出[5,1,2,3,4]\n",
    "        aList.shift() \n",
    "        alert(aList)      // 弹出[2,3,4]\n",
    "        \n",
    "5.splice()在数组中增加或删除成员\n",
    "            \n",
    "        传一个参数a 代表从第a个元素开始 之后的元素全部删除\n",
    "        传两个参数a,b 代表从第a个元素开始 之后的元素删除b个\n",
    "        传三个参数a,b,c 代表从第a个元素开始 之后的元素删除b个 用c元素在删除的地方替代 (c可以是多个元素)\n",
    "        aList.splice(2,1,7,8,9)  // 从第2个元素开始,删除1个元素,然后在此位置增加7,8,9三个元素\n",
    "        \n",
    "        "
   ]
  },
  {
   "cell_type": "markdown",
   "metadata": {},
   "source": [
    "### 多维数组\n",
    "多维数组指的是驻足的成员也是数组的数组\n",
    "\n",
    "        var aList = {[1,2,3],['a','b','c']};\n",
    "        \n",
    "        alert(aList[0][1]); // 弹出2;"
   ]
  },
  {
   "cell_type": "markdown",
   "metadata": {},
   "source": [
    "## js数学对象Math\n",
    "\n",
    "四舍五入 4\n",
    "\n",
    "        var res = Math.round(3.5415);\n",
    "        console.log(res);    \n",
    "\n",
    "获取最大值,获取最小值 888 111\n",
    "\n",
    "        var res1 = Math.max(111,333,888,666,444);\n",
    "        console.log(res1);   \n",
    "        var res2 = Math.min(111,333,888,666,444);\n",
    "        console.log(res2);\n",
    "\n",
    "获取绝对值 33\n",
    "\n",
    "        var res3 = Math.abs(-33);\n",
    "        console.log(res3);\n",
    "\n",
    "退一取整,进一取整 1 2\n",
    "\n",
    "        var res4 = Math.floor(1.5);\n",
    "        console.log(res4);\n",
    "        var res5 = Math.ceil(1.5);\n",
    "        console.log(res5);\n",
    "\n",
    "幂运算 用来获取x的y次方 27 \n",
    "\n",
    "        var res6 = Math.pow(3,3)\n",
    "        console.log(res6)\n",
    "\n",
    "开放运算 返回一个数的平方根 7\n",
    "\n",
    "        var res7 = Math.sqrt(49)\n",
    "        console.log(res7)"
   ]
  },
  {
   "cell_type": "markdown",
   "metadata": {},
   "source": [
    "## random返回0~1之间的随机数\n",
    "random获取一个随机数 返回0~1之间的随机小数 有可能是0 但是不会取1\n",
    "\n",
    "封装函数()\n",
    "\n",
    "    function rand(m,n){\n",
    "        return Math.floor(Math.random()*(n-m+1))+m;\n",
    "    }\n",
    "    var res = rand(20,30)"
   ]
  }
 ],
 "metadata": {
  "kernelspec": {
   "display_name": "Python 3",
   "language": "python",
   "name": "python3"
  },
  "language_info": {
   "codemirror_mode": {
    "name": "ipython",
    "version": 3
   },
   "file_extension": ".py",
   "mimetype": "text/x-python",
   "name": "python",
   "nbconvert_exporter": "python",
   "pygments_lexer": "ipython3",
   "version": "3.7.0"
  }
 },
 "nbformat": 4,
 "nbformat_minor": 2
}
