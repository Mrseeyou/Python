{
 "cells": [
  {
   "cell_type": "markdown",
   "metadata": {},
   "source": [
    "# 页面布局\n",
    "\n",
    "### 静态布局\n",
    "\n",
    "静态布局: 元素不变的布局\n",
    "布局特点: 窗口缩小后内容被遮挡时, 拖动滚动条显示布局\n",
    "\n",
    "设计方法: \n",
    "\n",
    "PC: 居中布局, 所有样式使用绝对宽度, 高度\n",
    "\n",
    "移动设备: 另外建立移动网站, 以m.域名为域名"
   ]
  },
  {
   "cell_type": "markdown",
   "metadata": {},
   "source": [
    "### 响应式布局\n",
    "\n",
    "响应式布局: 创建多个布局, 分别对应一个屏幕分辨率范围\n",
    "\n",
    "特点: 分别为不同的屏幕分辩率定义布局, 同时, 在每个布局中, 应用流式布局的理念, 即页面元素宽度随着窗口调整而自动适配\n",
    "\n",
    "相应适布局就是使用媒体查询的方式, 创建多个元素宽度是相对的,一种布局理想的响应式布局, 指对PC/移动各种终端进行响应的"
   ]
  },
  {
   "cell_type": "markdown",
   "metadata": {},
   "source": [
    "# JavaScript\n",
    "\n",
    "### 目标\n",
    "\n",
    "学习前端脚本语言javascript的基本概念 页面引入方式 获取页面元素及操作元素属性的技巧, 学习函数的基本定义方法和使用方法\n",
    "\n",
    "### 前端三大块\n",
    "\n",
    "HTNL 页面结构\n",
    "\n",
    "css 页面的表现形式\n",
    "\n",
    "JavaScript 页面动态效果 \n",
    "\n",
    "### 什么是JavaScriot\n",
    "\n",
    "JavaScript是运行在浏览器端的脚本语言, Javacript主要解决的是前端与用户交互的问题, 包括使用交互于数据交互 JavaScript是浏览器解释执行的\n",
    "\n",
    "1.JavaScript 是一种客户端脚本语言 (脚本语言是一种轻量级的编程语言)\n",
    "\n",
    "2.JavaScript 通常被直接嵌入 HTML 页面\n",
    "\n",
    "3.JavaScript 是一种解释性语言(就是说 代码执行不进行预编译)\n",
    "\n",
    "### 特点\n",
    "\n",
    "1.弱类型\n",
    "\n",
    "2.基于对象(因为面向对象需要具有封装 继承 多态的特征)\n",
    "\n",
    "3.安全\n",
    "\n",
    "4.兼容性\n",
    "\n"
   ]
  },
  {
   "cell_type": "markdown",
   "metadata": {},
   "source": [
    "\n",
    "# JavaScript嵌入页面的方式\n",
    "\n",
    "1.页面script标签嵌入\n",
    "\n",
    "2.外部引入\n",
    "\n",
    "3.行间事件(主要用于事件)\n",
    "\n",
    "### Javascript语句与注释\n",
    "\n",
    "一条javascript语句应该以分号结尾\n",
    "\n",
    "### JavaScript变量\n",
    "\n",
    "JavaScript 是一种弱类型语言, Javascript的变量类型由它的值来决定\n",
    "\n",
    "定义变量需要用关键字 'var'\n",
    "\n",
    "不使用var关键字定义全局变量在严格模式下将会执行错误 \"use strict\"\n",
    "\n",
    "同时定义多个变量用逗号隔开, 公用一个\"var\"关键字\n",
    "\n",
    "#### 变量 函数 属性命名规范\n",
    "\n",
    "字母数字下划线\n",
    "\n",
    "首字母不能为数字\n",
    "\n",
    "严格区分大小写\n",
    "\n",
    "不能使用关键字"
   ]
  }
 ],
 "metadata": {
  "kernelspec": {
   "display_name": "Python 3",
   "language": "python",
   "name": "python3"
  },
  "language_info": {
   "codemirror_mode": {
    "name": "ipython",
    "version": 3
   },
   "file_extension": ".py",
   "mimetype": "text/x-python",
   "name": "python",
   "nbconvert_exporter": "python",
   "pygments_lexer": "ipython3",
   "version": "3.7.0"
  }
 },
 "nbformat": 4,
 "nbformat_minor": 2
}
