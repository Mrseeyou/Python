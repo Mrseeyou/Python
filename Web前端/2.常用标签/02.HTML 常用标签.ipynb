{
 "cells": [
  {
   "cell_type": "markdown",
   "metadata": {},
   "source": [
    "# HTML 常用标签\n",
    "### 一 HTML常用的块级标签(块级元素)\n",
    "- 独占一行\n",
    "\n",
    "#### 有语义的HTML\n",
    "- 有默认样式\n",
    "\n",
    "#### 标题(Heading)\n",
    "- 通过H1~H6标签来定义的\n",
    "\n",
    "#### 段落\n",
    "- 通过标签 p 来定义的\n",
    "    - 一般用于标记一段纯文本\n",
    "- br 标签 强制换行\n",
    "\n",
    "#### 列表\n",
    "- 无序列表 ul 配 li\n",
    "    - 是一个项目的列表, 列项目使用粗体圆点(典型的小黑圆圈)进行标记\n",
    "- 有序列表 ol 配 li\n",
    "    - 也是一个项目的列表, 列表项目使用数字进行标记\n",
    "    - 有序列表属性:\n",
    "        - type属性 设置有序列表的标记类型\n",
    "        - start 设置列表项从第几个标记开始\n",
    "- 自定义列表 dl, dt, dd (了解)\n",
    "    - dt标题\n",
    "    - dd标题的解释项\n",
    "##### 注意: ul 和 ol 中 只能写 li 标签\n",
    "##### 列表项内部可以使用段落 换行符 图片 链接以及其他列表等等\n",
    "\n",
    "#### 表格 \n",
    "- table 声明一个表格\n",
    "\n",
    "         border         边框 设置1代表显示\n",
    "         cellpadding    内容与表框的距离\n",
    "         cellspacing    单元格和单元格之间的距离\n",
    "         width          设置单元格的总体宽度\n",
    "         height         设置单元格的总体高度\n",
    "- th 表头(行)\n",
    "\n",
    "         默认水平居中, 并且有标题效果\n",
    "- tr 行\n",
    "\n",
    "         colspan        水平合并 (跨列显示) 在tr中, 设置水平方向一个单元格占据的宽度         \n",
    "- td 列\n",
    "\n",
    "         rowspan        垂直合并 (跨行显示) 在td中, 设置垂直方向一个单元格占据的高度\n",
    "         \n",
    "     align          内容水平对齐方式   默认居左 center right\n",
    "     \n",
    "     valign         内容垂直对齐方式   默认居中 top  bottom\n",
    "##### anglin和valign如果给 tr 设置 影响整行 如果给 td 设置 只影响单元格\n",
    "\n",
    "#### 无意义的块级元素 div\n",
    "- <div> 元素没有特定的含义 除此之外 由于它属于块级元素 浏览器会在其前后显示执行 一般与 css 一同使用\n",
    "- <div> 元素的另一个常见的用途是文档布局 它取代了使用表格定义布局的老实方法"
   ]
  },
  {
   "cell_type": "markdown",
   "metadata": {},
   "source": [
    "### 二 HTML常用的行级标签(行内元素)\n",
    "    不独占一行\n",
    "#### 有语义的行内元素\n",
    "\n",
    "#### HTML链接 a标签\n",
    "    <a href=\"链接地址\">链接文本</a>\n",
    "    taget属性, 定义被链接的文档在何处显示 _blank新窗口打开\n",
    "    \n",
    "#### HTML图像\n",
    "    <img src=\"图片地址\" alt=\"图片显示失败后的文字描述\">\n",
    "    \n",
    "#### 文本标签\n",
    "    b标签,加粗 strong标签,加粗且有意义 i标签,斜体 em标签,斜体且有意义\n",
    "    \n",
    "#### 无语义的行内元素\n",
    "    span标签 配合css使用\n"
   ]
  }
 ],
 "metadata": {
  "kernelspec": {
   "display_name": "Python 3",
   "language": "python",
   "name": "python3"
  },
  "language_info": {
   "codemirror_mode": {
    "name": "ipython",
    "version": 3
   },
   "file_extension": ".py",
   "mimetype": "text/x-python",
   "name": "python",
   "nbconvert_exporter": "python",
   "pygments_lexer": "ipython3",
   "version": "3.7.0"
  }
 },
 "nbformat": 4,
 "nbformat_minor": 2
}
