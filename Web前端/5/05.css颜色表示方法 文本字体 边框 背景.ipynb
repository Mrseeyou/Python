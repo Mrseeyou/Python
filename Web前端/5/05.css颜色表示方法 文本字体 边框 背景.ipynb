{
 "cells": [
  {
   "cell_type": "markdown",
   "metadata": {},
   "source": [
    "# css颜色 文本字体\n",
    "\n",
    "### css颜色表示法\n",
    "- 1. 颜色名表示, 比如: red 红色, gold 金色\n",
    "- 2. 十六进制值表示, 比如: #ff0000 表示红色, 两两相同可以简写成 #f00\n",
    "- 3. RGB颜色 红(R) 绿(G) 蓝(B) 比如: background-color:rgb(255,0,0) 表示红色\n",
    "- 4. RGBA颜色 红(R) 绿(G) 蓝(B) 透明度(A)  比如: background-color:rgb(255,0,0,0.5) 表示淡红色\n"
   ]
  },
  {
   "cell_type": "markdown",
   "metadata": {},
   "source": [
    "### css文本设置\n",
    "- 常用的应用文本的css样式:\n",
    "    \n",
    "        color            设置文字的颜色      如: color:red\n",
    "        font-size        设置文字的大小      如: font-size:12px\n",
    "        font-family      设置文字的字体      如: font-family:\"微软雅黑\"\n",
    "        font-style       设置字体是否倾斜    如: font-style:\"normal\" 设置不斜体   font-style:\"italic\" 设置文字斜体\n",
    "        font-weight      设置文字是否加粗    如: font-weight:bold   设置加粗  font-weight:normal 设置不加粗\n",
    "        line-height      设置文字的行高(居中)如: line-height:24px  设置行高等于总高度,就是垂直居中\n",
    "        text-decoration  设置文字的下划线    如: text-decoration:none 将文字下划线去掉\n",
    "        text-indent      设置文字首行缩进    如: text-indent:24px  设置文字首行缩进24px\n",
    "        text-align       设置文字水平对齐方式 如: tetx-align:center 设置文字水平居中\n",
    "        letter-spacing   设置文字和字母的间距\n",
    "        word-spacing     设置单词的间距\n",
    " "
   ]
  },
  {
   "cell_type": "markdown",
   "metadata": {},
   "source": [
    "### css 边框属性\n",
    "\n",
    "        border:宽度 样式 颜色\n",
    "        border-width\n",
    "        border-color\n",
    "        border-style 边框样式 solid实线  dotted点状线  dashed虚线\n",
    "        可单独设置边框上下左右的样式: \n",
    "            border-top\n",
    "            border-bottom\n",
    "            border-left\n",
    "            border-right\n",
    "        \n",
    "        css3的样式\n",
    "        border-radius: 圆角处理\n",
    "        box-shadow: x轴偏移 y轴偏移 模糊度 扩散程度 颜色 inset内阴影 设置或检索对象阴影(委派选择器)"
   ]
  },
  {
   "cell_type": "markdown",
   "metadata": {},
   "source": [
    "### 背景属性\n",
    "        \n",
    "        background-color:      背景颜色\n",
    "        background-image:      背景图片\n",
    "        background-repeat      是否重复平铺 \n",
    "        background-position    定位 \n",
    "        css3的属性\n",
    "            background-size:背景大小 %或px"
   ]
  }
 ],
 "metadata": {
  "kernelspec": {
   "display_name": "Python 3",
   "language": "python",
   "name": "python3"
  },
  "language_info": {
   "codemirror_mode": {
    "name": "ipython",
    "version": 3
   },
   "file_extension": ".py",
   "mimetype": "text/x-python",
   "name": "python",
   "nbconvert_exporter": "python",
   "pygments_lexer": "ipython3",
   "version": "3.7.0"
  }
 },
 "nbformat": 4,
 "nbformat_minor": 2
}
