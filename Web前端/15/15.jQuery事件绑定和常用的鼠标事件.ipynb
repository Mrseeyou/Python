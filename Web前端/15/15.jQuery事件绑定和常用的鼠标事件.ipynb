{
 "cells": [
  {
   "cell_type": "markdown",
   "metadata": {},
   "source": [
    "# 关于事件\n",
    "\n",
    "## 事件绑定\n",
    "\n",
    "#### 1.基本绑定\n",
    "\n",
    "$('.element').click(function(){})\n",
    "\n",
    "$('.element').dblclick(function(){})\n",
    "\n",
    "...\n",
    "\n",
    "加载完毕事件\n",
    "\n",
    "$(document).ready(function(){})\n",
    "\n",
    "$(function(){})\n",
    "\n",
    "#### 2.方法绑定\n",
    "\n",
    "$('.element').bind('click',function(){}); // 绑定事件\n",
    "\n",
    "$('.element').unbind(); //解除事件绑定\n",
    "\n",
    "####  3.动态绑定\n",
    "\n",
    "$('.element').live('click',function(){});\n",
    "\n",
    "需要注意,live方法在高版本的jquery中移除了,使用on方法替代,具体在使用时注意查看"
   ]
  },
  {
   "cell_type": "markdown",
   "metadata": {},
   "source": [
    "## 事件触发\n",
    "\n",
    "当我们想要去触发某个元素的事件时,可以使用trigger 注意需要指定元素的事件类型\n",
    "\n",
    "$(element).trigger('click')"
   ]
  },
  {
   "cell_type": "markdown",
   "metadata": {},
   "source": [
    "### 常用的鼠标事件\n",
    "\n",
    "鼠标单击事件 click\n",
    "\n",
    "鼠标双击事件 dblclick\n",
    "\n",
    "鼠标移入事件 mouseover\n",
    "\n",
    "鼠标移出事件 mouseout\n",
    "\n",
    "鼠标按下事件 mousedown\n",
    "\n",
    "鼠标抬起事件 mouseup\n",
    "\n",
    "鼠标移动事件 mousemove"
   ]
  },
  {
   "cell_type": "markdown",
   "metadata": {},
   "source": [
    "# 事件泡沫和默认行为\n",
    "\n",
    "### 事件泡沫\n",
    "\n",
    "当触发一个元素的事件时,会自动触发该元素的父级和先辈级的同类型事件,造成事件并发,导致页面混乱,我们称为事件泡沫\n",
    "\n",
    "此时我们可以在元素的时间处理函数中 返回一恶搞false来进行阻止, 注意这个方法仅限于在jquery中使用\n",
    "\n",
    "### 默认行为\n",
    "\n",
    "在页面中有些元素是具备默认行为的,例如a链接的单击,表单的提交,都会进行跳转或提交,这些我们称为默认行为\n",
    "\n",
    "但是在绑定上事件后,它首先会先执行事件,再去执行默认行为,而有时我们只想让事件触发,但不想执行默认行为\n",
    "\n",
    "可以在元素的事件中返回一个false来进行阻止默认行为"
   ]
  },
  {
   "cell_type": "markdown",
   "metadata": {},
   "source": [
    "## 获得当前鼠标的位置和按键\n",
    "\n",
    "我们又鼠标和键盘按键的事件,在触发事件时如果我们想要获取鼠标的位置或按键的信息时,首先需要在当前的事件中传递一个事件对象event\n",
    "\n",
    "        $(element).click(function(e){\n",
    "            // 能够获取鼠标的x轴和y轴坐标,坐标位置相对于浏览器窗口\n",
    "            var x = e.clientk;\n",
    "            var y = e.clienty;\n",
    "\n",
    "            // 能够获取鼠标的x轴和y轴坐标,坐标位置相对于文档\n",
    "            var _x = e.pageX;\n",
    "            var _y = e.pageY;\n",
    "        })\n",
    "        \n",
    "        \n",
    "        $(elenment).keydown(function(e){\n",
    "            // 可以打印e对象, 或者直接使用该对象中的keyCode属性来获取按键信息\n",
    "            var key = e.keyCode;\n",
    "            consoel.log(key);\n",
    "        })"
   ]
  }
 ],
 "metadata": {
  "kernelspec": {
   "display_name": "Python 3",
   "language": "python",
   "name": "python3"
  },
  "language_info": {
   "codemirror_mode": {
    "name": "ipython",
    "version": 3
   },
   "file_extension": ".py",
   "mimetype": "text/x-python",
   "name": "python",
   "nbconvert_exporter": "python",
   "pygments_lexer": "ipython3",
   "version": "3.7.0"
  }
 },
 "nbformat": 4,
 "nbformat_minor": 2
}
