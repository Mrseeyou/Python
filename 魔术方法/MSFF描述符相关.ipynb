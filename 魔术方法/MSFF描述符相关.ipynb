{
 "cells": [
  {
   "cell_type": "code",
   "execution_count": 1,
   "metadata": {},
   "outputs": [],
   "source": [
    "# 1.__get__()\n",
    "# 触发时机：在获取指定描述符操作的成员属性的值的时候触发\n",
    "# 参数：1描述符对象本身，2描述符描述的属性所在的对象，描述符描述的对象的类\n",
    "# 返回值：必须有，不然无法获取相应属性值\n",
    "# 注意：仅在描述符中使用"
   ]
  },
  {
   "cell_type": "code",
   "execution_count": 2,
   "metadata": {},
   "outputs": [],
   "source": [
    "# 2.__set__()\n",
    "# 触发时机：在设置或者添加指定描述符操作的成员属性的时候触发\n",
    "# 参数：1描述符对象本身，2描述符描述的属性所在的对象,3要设置的值\n",
    "# 返回值：无\n",
    "# 注意：仅在描述符中使用"
   ]
  },
  {
   "cell_type": "code",
   "execution_count": null,
   "metadata": {},
   "outputs": [],
   "source": [
    "# 3.__delete__()\n",
    "# 触发时机：在删除指定描述符操作的成员属性的时候触发\n",
    "# 参数：1描述符对象本身，2描述符描述的属性所在的对象\n",
    "# 返回值：无\n",
    "# 注意：仅在描述符中使用"
   ]
  }
 ],
 "metadata": {
  "kernelspec": {
   "display_name": "Python 3",
   "language": "python",
   "name": "python3"
  },
  "language_info": {
   "codemirror_mode": {
    "name": "ipython",
    "version": 3
   },
   "file_extension": ".py",
   "mimetype": "text/x-python",
   "name": "python",
   "nbconvert_exporter": "python",
   "pygments_lexer": "ipython3",
   "version": "3.7.0"
  }
 },
 "nbformat": 4,
 "nbformat_minor": 2
}
