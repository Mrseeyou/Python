{
 "cells": [
  {
   "cell_type": "markdown",
   "metadata": {},
   "source": [
    "# 魔术方法\n",
    "        - 魔术方法就是一个类/对象中的方法，和普通方法唯一的不同时，普通方法需要调用！而魔术方法是在特定时刻自动触发。魔术方法的统一特征,方法名被前后各两个下划线包裹\n",
    "### 一.常用魔术方法\n",
    "### 二.描述符相关\n",
    "### 三.属性操作相关\n",
    "### 四.运算相关\n",
    "        - 比较运算相关\n",
    "        - 算术与运算相关\n",
    "        - 反运算相关\n",
    "        - 赋值运算相关\n",
    "        - 一元运算相关\n",
    "### 五.类型转换相关\n",
    "### 六.上下文管理相关\n",
    "### 七.容器类型相关 "
   ]
  },
  {
   "cell_type": "code",
   "execution_count": 12,
   "metadata": {},
   "outputs": [
    {
     "name": "stdout",
     "output_type": "stream",
     "text": [
      "初始化魔法函数\n"
     ]
    }
   ],
   "source": [
    "# 一.常用魔术方法 __init__\n",
    "# 初始化魔术方法\n",
    "# 触发时机：初始化对象时触发（不是实例化触发，但是和实例化在一个操作中）\n",
    "# 参数：至少有一个self，接收对象\n",
    "# 返回值：无\n",
    "# 作用：初始化对象的成员\n",
    "# 注意：使用该方式初始化的成员都是直接写入对象当中，类中无法具有\n",
    "\n",
    "class A():\n",
    "    def __init__(self,name):\n",
    "        self.name = name\n",
    "        print(\"初始化魔法函数\")\n",
    "      \n",
    "a = A(\"xiaoming\")"
   ]
  },
  {
   "cell_type": "code",
   "execution_count": 32,
   "metadata": {},
   "outputs": [
    {
     "name": "stdout",
     "output_type": "stream",
     "text": [
      "实例化魔法函数\n",
      "初始化魔法函数\n",
      "3\n",
      "哈哈\n",
      "哈哈\n"
     ]
    }
   ],
   "source": [
    "# 一.常用魔术方法 __new__\n",
    "# 实例化魔术方法\n",
    "# 触发时机： 在实例化对时触发\n",
    "# 参数：至少要有一个参数cls，代表要实例化的类，此参数在实例化时由Python解释器自动提供\n",
    "# 返回值：必须要有返回值，返回实例化出来的实例\n",
    "# 作用：实例化对象 主要是当你继承一些不可变的class时(比如int, str, tuple)或实现自定义的metaclass。\n",
    "# 注意：可以return父类__new__出来的实例，或者直接是object的__new__出来的实例,\n",
    "#       若__new__没有正确返回当前类cls的实例，那__init__是不会被调用的，即使是父类的实例也不行 \n",
    "\n",
    "class A():\n",
    "    def __new__(cls,name):\n",
    "        print(\"实例化魔法函数\")\n",
    "        return super(A,cls).__new__(cls)\n",
    "    def __init__(self,name):\n",
    "        self.name = name\n",
    "        print(\"初始化魔法函数\")\n",
    "    \n",
    "      \n",
    "a = A(\"xiaoming\")\n",
    "\n",
    "# class B():\n",
    "#     def __init__(self, value):\n",
    "#         super(B,self).__init__(self, abs(value))\n",
    " \n",
    "# a = B(3)\n",
    "# print(a)\n",
    "# 假如我们需要一个永远都是正数的整数,上面的代码不行\n",
    "class B(int):\n",
    "    def __new__(cls, value):\n",
    "        return super(B, cls).__new__(cls, abs(value))\n",
    " \n",
    "a = B(-3)\n",
    "print(a)\n",
    "\n",
    "# 用__new__实现单例\n",
    "class A():\n",
    "    def __new__(cls):\n",
    "        # 关键在于这，每一次实例化的时候，我们都只会返回这同一个instance对象\n",
    "        if not hasattr(cls,\"instance\"):\n",
    "            cls.instance = super(A,cls).__new__(cls)\n",
    "        return cls.instance\n",
    "obj1 = A()\n",
    "obj2 = A()\n",
    "obj1.attr = \"哈哈\"\n",
    "print(obj1.attr)\n",
    "print(obj2.attr)"
   ]
  },
  {
   "cell_type": "code",
   "execution_count": 75,
   "metadata": {},
   "outputs": [
    {
     "name": "stdout",
     "output_type": "stream",
     "text": [
      "__del__调用\n",
      "[2, 3, 4, 5]\n"
     ]
    }
   ],
   "source": [
    "# 一.常用魔术方法 __del__\n",
    "# 析构魔术方法\n",
    "# 触发时机：当对象没有任何变量的时候被触发\n",
    "# 参数：一个self 接收对象\n",
    "# 返回值：无\n",
    "# 作用：使用完对象是回收资源\n",
    "# 注意：del不一定会触发当前方法，只有当前对象没有任何变量接收时才会触发\n",
    "\n",
    "class A():\n",
    "    def __init__(self,name):\n",
    "        self.name = name\n",
    "        \n",
    "    def __del__(self):\n",
    "        print(\"__del__调用\")\n",
    "        \n",
    "a = A(\"xiaoming\")\n",
    "a1 = a\n",
    "del a\n",
    "del a1\n",
    "# 当删除 a 或 a1 中的一个 __del__不调用\n",
    "# 都删除完了才调用\n",
    "\n",
    "s = [1,2,3,4,5]\n",
    "del(s[0])\n",
    "print(s)"
   ]
  },
  {
   "cell_type": "code",
   "execution_count": 62,
   "metadata": {},
   "outputs": [
    {
     "name": "stdout",
     "output_type": "stream",
     "text": [
      "我被调用了\n",
      "Xiao Ming\n"
     ]
    }
   ],
   "source": [
    "# 一.常用魔术方法 __call__\n",
    "# 调用对象的魔术方法\n",
    "# 触发时机:将对象当作函数调用时触发 对象()\n",
    "# 参数:至少一个self接收对象，其余根据调用时参数决定\n",
    "# 返回值：根据情况而定\n",
    "# 作用：可以将复杂的步骤进行合并操作，减少调用的步骤，方便使用\n",
    "\n",
    "class A():\n",
    "    def __init__(self,name):\n",
    "        self.name = name\n",
    "    def __call__(self,add):\n",
    "        self.name = self.name.title()\n",
    "        print(\"我被调用了\")\n",
    "\n",
    "a = A(\"xiao ming\")# 赋值\n",
    "a(\"xiao ming\")# 调用\n",
    "print(a.name)# 打印"
   ]
  },
  {
   "cell_type": "code",
   "execution_count": 74,
   "metadata": {},
   "outputs": [
    {
     "name": "stdout",
     "output_type": "stream",
     "text": [
      "我被调用了\n",
      "6\n",
      "8\n"
     ]
    }
   ],
   "source": [
    "# 一.常用魔术方法 __len__\n",
    "# 触发时机：使用len(对象) 的时候触发\n",
    "# 参数：一个参数self\n",
    "# 返回值：必须是一个整型\n",
    "# 作用：可以设置为检测对象成员个数，但是也可以进行其他任意操作\n",
    "# 注意：返回值必须必须是整数，否则语法报错，另外该要求是格式要求。\n",
    "\n",
    "class A():\n",
    "    def __init__(self,name):\n",
    "        self.name = name\n",
    "    def __len__(self):\n",
    "        print(\"我被调用了\")\n",
    "        return len(self.name)\n",
    "a = A(\"object\")\n",
    "print(len(a))\n",
    "\n",
    "f = \"xiaoming\"\n",
    "print(len(f))"
   ]
  },
  {
   "cell_type": "code",
   "execution_count": 5,
   "metadata": {},
   "outputs": [
    {
     "name": "stdout",
     "output_type": "stream",
     "text": [
      "我是初始化\n",
      "我被调用了\n"
     ]
    }
   ],
   "source": [
    "# 一.常用魔术方法 __str__\n",
    "# 触发时机:使用print(对象)或者str(对象)的时候触发\n",
    "# 参数：一个self接收对象\n",
    "# 返回值：必须是字符串类型\n",
    "# 作用：print（对象时）进行操作，得到字符串，通常用于快捷操作\n",
    "\n",
    "class A():\n",
    "    def __init__(self,name=0):\n",
    "        print(\"我是初始化\")\n",
    "    \n",
    "    def __call__(self,add):\n",
    "        print(\"我是调用对象\")\n",
    "    # 如果不用以下代码,就会返回内存地址  \n",
    "    def __str__(self):\n",
    "        return \"我被调用了\"\n",
    "a = A()\n",
    "print(a)"
   ]
  },
  {
   "cell_type": "code",
   "execution_count": 106,
   "metadata": {},
   "outputs": [
    {
     "name": "stdout",
     "output_type": "stream",
     "text": [
      "我是初始化\n",
      "我被调用了\n"
     ]
    }
   ],
   "source": [
    "# 一.常用魔术方法 __repr__\n",
    "# 触发时机:在使用repr(对象)的时候触发\n",
    "# 参数：一个self接收对象\n",
    "# 返回值：必须是字符串\n",
    "# 作用：将对象转使用repr化为字符串时使用，也可以用于快捷操作\n",
    "# 跟__str__的却别在于不用print打印也会按定义的格式输出\n",
    "\n",
    "class A():\n",
    "    def __init__(self,name=0):\n",
    "        print(\"我是初始化\")\n",
    "    def __call__(self,add):\n",
    "        print(\"我是调用对象函数\")\n",
    "    # 如果不用以下代码,就会返回内存地址  \n",
    "    def __repr__(self):\n",
    "        return \"我被调用了\"\n",
    "a = A()\n",
    "print(a)"
   ]
  },
  {
   "cell_type": "code",
   "execution_count": 112,
   "metadata": {},
   "outputs": [],
   "source": [
    "# 一.常用魔术方法 __bool__\n",
    "# 触发时机: 使用bool(对象)的时候触发\n",
    "# 参数：一个self接收对象\n",
    "# 返回值：必须是布尔值\n",
    "# 作用：根据实际情况决定，可以作为快捷方式使用\n",
    "# 注意:仅适合于返回布尔值的操作"
   ]
  },
  {
   "cell_type": "code",
   "execution_count": 1,
   "metadata": {},
   "outputs": [],
   "source": [
    "# 一.常用魔术方法 __format__\n",
    "# 触发时机：使用字符串.format(对象)时候触发\n",
    "# 参数：一个self接收对象，一个参数接收format的{}中的格式\n",
    "# 返回值:必须是字符串\n",
    "# 作用：设置对象可以作为format的参数，并且自定义对象格式化的规则"
   ]
  },
  {
   "cell_type": "code",
   "execution_count": 2,
   "metadata": {},
   "outputs": [],
   "source": [
    "# 一.常用魔术方法 __hash__\n",
    "# 参数：objrct 对象\n",
    "# # 返回值: 返回对象的哈希值\n",
    "# 作用: 用于获取一个对象(字符串或者数值等)的哈希值"
   ]
  },
  {
   "cell_type": "code",
   "execution_count": null,
   "metadata": {},
   "outputs": [],
   "source": [
    "# 一.常用魔术方法 __bytes__\n",
    "# 参数: 一个self接受对象\n",
    "# 返回值: 返回一个新的 bytes对象，该对象是一个 0 <= x < 256 区间内的整数不可变序列(不可修改)\n",
    "# 作用: 通过相互转化,进行解码"
   ]
  }
 ],
 "metadata": {
  "kernelspec": {
   "display_name": "Python 3",
   "language": "python",
   "name": "python3"
  },
  "language_info": {
   "codemirror_mode": {
    "name": "ipython",
    "version": 3
   },
   "file_extension": ".py",
   "mimetype": "text/x-python",
   "name": "python",
   "nbconvert_exporter": "python",
   "pygments_lexer": "ipython3",
   "version": "3.7.0"
  }
 },
 "nbformat": 4,
 "nbformat_minor": 2
}
