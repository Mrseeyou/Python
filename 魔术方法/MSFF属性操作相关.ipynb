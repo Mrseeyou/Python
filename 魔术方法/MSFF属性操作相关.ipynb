{
 "cells": [
  {
   "cell_type": "code",
   "execution_count": 34,
   "metadata": {},
   "outputs": [
    {
     "name": "stdout",
     "output_type": "stream",
     "text": [
      "NoName\n",
      "哈哈\n",
      "18\n"
     ]
    }
   ],
   "source": [
    "# 1.__getattr__（）\n",
    "# 触发时机：获取不存在的对象成员时触发\n",
    "# 参数：1接收当前对象的self，一个是获取成员名称的字符串\n",
    "# 返回值：不设置返回None\n",
    "# 作用:为访问不存在的属性设置值\n",
    "# 注意：getattribute无论何时都会在getattr之前触发，触发了getattribute就不会在触发getattr了\n",
    "\n",
    "class A():\n",
    "    name = \"NoName\"\n",
    "    age = 18\n",
    "    \n",
    "    def __getattr__(self,name):\n",
    "        print(\"哈哈\")\n",
    "        return \"18\"\n",
    "\n",
    "a = A()\n",
    "print(a.name)\n",
    "print(a.addr)"
   ]
  },
  {
   "cell_type": "code",
   "execution_count": 35,
   "metadata": {},
   "outputs": [
    {
     "name": "stdout",
     "output_type": "stream",
     "text": [
      "{}\n",
      "设置属性:age\n"
     ]
    }
   ],
   "source": [
    "# 2.__setattr__（）\n",
    "# 触发时机:设置对象成员值的时候触发\n",
    "# 参数:1个当前对象的self,一个是要设置的成员名称字符串,一个是要设置的值\n",
    "# 返回值:无 过程操作\n",
    "# 作用:接管设置操作,可以在设置前之前进行判断验证等行为\n",
    "# 注意:在当前方法中无法使用成员=值的方式直接设置成员，否则会无限递归，必须借助object的设置方法来完成\n",
    "# object.__setattr__（参数1，参数2，参数3）\n",
    "\n",
    "class Person():\n",
    "    def __setattr__(self,name,value):\n",
    "        print(\"设置属性:{0}\".format(name))\n",
    "        # 下面语句会导致死循环\n",
    "        # self.name = value\n",
    "        # 为了避免死循环,规定统一调用父类魔法函数\n",
    "        super().__setattr__(name,value)\n",
    "p = Person()\n",
    "print(p.__dict__)\n",
    "p.age = 18"
   ]
  },
  {
   "cell_type": "code",
   "execution_count": 3,
   "metadata": {},
   "outputs": [],
   "source": [
    "# 3.__delattr__（）\n",
    "# 触发时机：删除对象成员时触发\n",
    "# 参数：一个当前对象的self\n",
    "# 返回值：无\n",
    "# 作用:可以在删除成员时进行验证。"
   ]
  },
  {
   "cell_type": "code",
   "execution_count": 41,
   "metadata": {},
   "outputs": [
    {
     "name": "stdout",
     "output_type": "stream",
     "text": [
      "我最先被调用\n",
      "007\n"
     ]
    }
   ],
   "source": [
    "# 4.__getattribute__（）\n",
    "# 触发时机：使用对象成员时触发，无论成员是否存在\n",
    "# 参数：1个接收当前对象self，一个是获取的成员的名称字符串\n",
    "# 返回值：必须有\n",
    "# 作用：在具有封装操作（私有化时），为程序开部分访问权限使用\n",
    "\n",
    "class A():\n",
    "    name = \"NoName\"\n",
    "    age = 18\n",
    "    \n",
    "    def __getattribute__(self,name):\n",
    "        print(\"我最先被调用\")\n",
    "        return \"007\"\n",
    "    \n",
    "    def __getattr__(self,name):\n",
    "        print(\"哈哈\")\n",
    "        return \"18\"\n",
    "\n",
    "a = A()\n",
    "print(a.name)\n",
    "# print(a.addr)"
   ]
  },
  {
   "cell_type": "code",
   "execution_count": 37,
   "metadata": {},
   "outputs": [
    {
     "name": "stdout",
     "output_type": "stream",
     "text": [
      "['age', 'name', 'sex']\n"
     ]
    }
   ],
   "source": [
    "# 5.__dir__（）\n",
    "# 触发时机：dir（对象）的时候触发\n",
    "# 参数:1个接收当前对象self\n",
    "# 返回值：必须为序列类型（列表，元组，集合等，）\n",
    "# 作用：可以自定义成员列表的返回值\n",
    "\n",
    "class Person:\n",
    "    def __dir__(self):\n",
    "        return ['name', 'sex', 'age']\n",
    " \n",
    "p = Person()\n",
    "print(dir(p))"
   ]
  }
 ],
 "metadata": {
  "kernelspec": {
   "display_name": "Python 3",
   "language": "python",
   "name": "python3"
  },
  "language_info": {
   "codemirror_mode": {
    "name": "ipython",
    "version": 3
   },
   "file_extension": ".py",
   "mimetype": "text/x-python",
   "name": "python",
   "nbconvert_exporter": "python",
   "pygments_lexer": "ipython3",
   "version": "3.7.0"
  }
 },
 "nbformat": 4,
 "nbformat_minor": 2
}
