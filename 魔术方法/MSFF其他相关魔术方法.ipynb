{
 "cells": [
  {
   "cell_type": "markdown",
   "metadata": {},
   "source": [
    "### 比较运算\n",
    "\n"
   ]
  },
  {
   "cell_type": "code",
   "execution_count": 71,
   "metadata": {},
   "outputs": [],
   "source": [
    "#  1.__lt__()  定义小于号的行为：x < y 调用 x.lt(y)       \n",
    "#  2.__le__()  定义小于等于号的行为：x <= y 调用 x.le(y)    \n",
    "#  3.__gt__()  定义大于号的行为：x > y 调用 x.gt(y)    \n",
    "#  4.__ge__()  定义大于等于号的行为：x >= y 调用 x.ge(y)   \n",
    "#  5.__eq__()  定义大于等于号的行为：x == y 调用 x.eq(y)    \n",
    "#  6.__ne__()  定义不等号的行为：x != y 调用 x.ne(y)"
   ]
  },
  {
   "cell_type": "code",
   "execution_count": 72,
   "metadata": {},
   "outputs": [
    {
     "name": "stdout",
     "output_type": "stream",
     "text": [
      "False\n"
     ]
    }
   ],
   "source": [
    "#  1.__lt__()\n",
    "#  def __lt__(self,other):\n",
    "#  return 数据\n",
    "# 触发时机：进行小于判断时自动触发\n",
    "# 参数：2个参数 第一个是self，第二个判断的第二个对象\n",
    "# 返回值：返回值可以任意类型，推荐布尔值\n",
    "# 作用：定义小于号的行为：x < y 调用 x.lt(y)\n",
    "    \n",
    "class Student():\n",
    "    def __init__(self,x):\n",
    "        self.x = x\n",
    "    \n",
    "        \n",
    "    def __lt__(self,y):\n",
    "        return self.x < y.x # 不加这句 返回None\n",
    "      \n",
    "stu1 = Student(\"50\")\n",
    "stu2 = Student(\"100\")\n",
    "print(stu1 < stu2)"
   ]
  },
  {
   "cell_type": "markdown",
   "metadata": {},
   "source": [
    "### 算术运算"
   ]
  },
  {
   "cell_type": "code",
   "execution_count": 73,
   "metadata": {},
   "outputs": [],
   "source": [
    "# __add__(self, other)           定义加法的行为：+\n",
    "# __sub__(self, other)           定义减法的行为：-\n",
    "# __mul__(self, other)           定义乘法的行为：\n",
    "# __truediv__(self, other)       定义真除法的行为：/\n",
    "# __floordiv__(self, other)      定义整数除法的行为：//\n",
    "# __mod__(self, other)           定义取模算法的行为：%\n",
    "# __divmod__(self, other)        定义当被 divmod() 调用时的行为\n",
    "# __pow__(self, other[, modulo]) 定义当被 power() 调用或 ** 运算时的行为\n",
    "# __lshift__(self, other)        定义按位左移位的行为：<<\n",
    "# __rshift__(self, other)        定义按位右移位的行为：>>\n",
    "# __and__(self, other)           定义按位与操作的行为：&\n",
    "# __xor__(self, other)           定义按位异或操作的行为：^\n",
    "# __or__(self, other)            定义按位或操作的行为：|"
   ]
  },
  {
   "cell_type": "markdown",
   "metadata": {},
   "source": [
    "### 反运算相关"
   ]
  },
  {
   "cell_type": "code",
   "execution_count": 74,
   "metadata": {},
   "outputs": [],
   "source": [
    "# __radd__(self, other)      与上方相同，当左操作数不支持相应的操作时被调用\n",
    "# __rsub__(self, other)      与上方相同，当左操作数不支持相应的操作时被调用\n",
    "# __rmul__(self, other)      与上方相同，当左操作数不支持相应的操作时被调用\n",
    "# __rtruediv__(self, other)  与上方相同，当左操作数不支持相应的操作时被调用\n",
    "# __rfloordiv__(self, other) 与上方相同，当左操作数不支持相应的操作时被调用\n",
    "# __rmod__(self, other)      与上方相同，当左操作数不支持相应的操作时被调用\n",
    "# __rdivmod__(self, other)   与上方相同，当左操作数不支持相应的操作时被调用\n",
    "# __rpow__(self, other)      与上方相同，当左操作数不支持相应的操作时被调用\n",
    "# __rlshift__(self, other)   与上方相同，当左操作数不支持相应的操作时被调用\n",
    "# __rrshift__(self, other)   与上方相同，当左操作数不支持相应的操作时被调用\n",
    "# __rand__(self, other)      与上方相同，当左操作数不支持相应的操作时被调用\n",
    "# __rxor__(self, other)      与上方相同，当左操作数不支持相应的操作时被调用\n",
    "# __ror__(self, other)       与上方相同，当左操作数不支持相应的操作时被调用"
   ]
  },
  {
   "cell_type": "markdown",
   "metadata": {},
   "source": [
    "### 赋值运算"
   ]
  },
  {
   "cell_type": "code",
   "execution_count": 75,
   "metadata": {},
   "outputs": [],
   "source": [
    "# __iadd__(self, other)             定义赋值加法的行为：+=\n",
    "# __isub__(self, other)             定义赋值减法的行为：-=\n",
    "# __imul__(self, other)             定义赋值乘法的行为：=\n",
    "# __itruediv__(self, other)         定义赋值真除法的行为：/=\n",
    "# __ifloordiv__(self, other)        定义赋值整数除法的行为：//=\n",
    "# __imod__(self, other)             定义赋值取模算法的行为：%=\n",
    "# __ipow__(self, other[, modulo])   定义赋值幂运算的行为：**=\n",
    "# __ilshift__(self, other)          定义赋值按位左移位的行为：<<=\n",
    "# __irshift__(self, other)          定义赋值按位右移位的行为：>>=\n",
    "# __iand__(self, other)             定义赋值按位与操作的行为：&=\n",
    "# __ixor__(self, other)             定义赋值按位异或操作的行为：^=\n",
    "# __ior__(self, other)              定义赋值按位或操作的行为：|="
   ]
  },
  {
   "cell_type": "markdown",
   "metadata": {},
   "source": [
    "### 一元运算"
   ]
  },
  {
   "cell_type": "code",
   "execution_count": 76,
   "metadata": {},
   "outputs": [],
   "source": [
    "# __pos__(self)      定义正号的行为：+x\n",
    "# __neg__(self)      定义负号的行为：-x\n",
    "# __abs__(self)      定义当被 abs() 调用时的行为\n",
    "# __invert__(self)   定义按位求反的行为：~x"
   ]
  },
  {
   "cell_type": "markdown",
   "metadata": {},
   "source": [
    "### 类型转换"
   ]
  },
  {
   "cell_type": "code",
   "execution_count": 77,
   "metadata": {},
   "outputs": [],
   "source": [
    "# __complex__(self)      定义当被 complex() 调用时的行为（需要返回恰当的值）\n",
    "# __int__(self)          定义当被 int() 调用时的行为（需要返回恰当的值）\n",
    "# __float__(self)        定义当被 float() 调用时的行为（需要返回恰当的值）\n",
    "# __round__(self[, n])   定义当被 round() 调用时的行为（需要返回恰当的值）\n",
    "# __index(self)__        \n",
    "# 1. 当对象是被应用在切片表达式中时，实现整形强制转换                           \n",
    "# 2. 如果你定义了一个可能在切片时用到的定制的数值型,你应该定义 index                        \n",
    "# 3. 如果 index 被定义，则 int 也需要被定义，且返回相同的值"
   ]
  },
  {
   "cell_type": "markdown",
   "metadata": {},
   "source": [
    "### 上下文管理"
   ]
  },
  {
   "cell_type": "code",
   "execution_count": 78,
   "metadata": {},
   "outputs": [],
   "source": [
    "# enter(self)\n",
    "#     1. 定义当使用 with 语句时的初始化行为\n",
    "#     2. enter 的返回值被 with 语句的目标或者 as 后的名字绑定\n",
    "\n",
    "# exit(self, exctype, excvalue, traceback)\n",
    "#     1. 定义当一个代码块被执行或者终止后上下文管理器应该做什么\n",
    "#     2. 一般被用来处理异常，清除工作或者做一些代码块执行完毕之后的日常工作"
   ]
  },
  {
   "cell_type": "markdown",
   "metadata": {},
   "source": [
    "### 容器类型"
   ]
  },
  {
   "cell_type": "code",
   "execution_count": 79,
   "metadata": {},
   "outputs": [],
   "source": [
    "# __len__(self)                  定义当被 len() 调用时的行为（返回容器中元素的个数）\n",
    "# __getitem__(self, key)         定义获取容器中指定元素的行为，相当于 self[key]\n",
    "# __setitem__(self, key, value)  定义设置容器中指定元素的行为，相当于 self[key] = value\n",
    "# __delitem__(self, key)         定义删除容器中指定元素的行为，相当于 del self[key]\n",
    "# __iter__(self)                 定义当迭代容器中的元素的行为\n",
    "# __reversed__(self)             定义当被 reversed() 调用时的行为\n",
    "# __contains__(self, item)       定义当使用成员测试运算符（in 或 not in）时的行为"
   ]
  }
 ],
 "metadata": {
  "kernelspec": {
   "display_name": "Python 3",
   "language": "python",
   "name": "python3"
  },
  "language_info": {
   "codemirror_mode": {
    "name": "ipython",
    "version": 3
   },
   "file_extension": ".py",
   "mimetype": "text/x-python",
   "name": "python",
   "nbconvert_exporter": "python",
   "pygments_lexer": "ipython3",
   "version": "3.7.0"
  }
 },
 "nbformat": 4,
 "nbformat_minor": 2
}
