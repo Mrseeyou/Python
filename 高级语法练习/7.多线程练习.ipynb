{
 "cells": [
  {
   "cell_type": "markdown",
   "metadata": {},
   "source": [
    "- 使用多线程去播放两个播放列表, 一个是movie, 一个是music\n",
    "    - _thread\n",
    "    - threading"
   ]
  },
  {
   "cell_type": "code",
   "execution_count": null,
   "metadata": {},
   "outputs": [
    {
     "name": "stdout",
     "output_type": "stream",
     "text": [
      "你现在收看的是:斗破.mp4\n",
      "你现在收听的是:周杰伦.mp3\n",
      "你现在收听的是:五月天.mp3\n",
      "你现在收看的是:复仇者联盟.avi\n",
      "对不起,改格式不支持播放\n",
      "你现在收看的是:xxx.mp4\n"
     ]
    }
   ],
   "source": [
    "import _thread as thread\n",
    "import time\n",
    "\n",
    "# split() 通过指定分隔符对字符串进行切片，如果参数 num 有指定值，则分隔 num+1 个子字符串\n",
    "# str.split(str=\"\", num=string.count(str))\n",
    "# str -- 分隔符，默认为所有的空字符，包括空格、换行(\\n)、制表符(\\t)等。\n",
    "# num -- 分割次数。默认为 -1, 即分隔所有。\n",
    "movie_list = [\"斗破.mp4\", \"复仇者联盟.avi\", \"钢铁雨.rmvb\", \"xxx.mp4\"]\n",
    "music_list = [\"周杰伦.mp3\", \"五月天.mp3\"]\n",
    "movie_format = [\"mp4\", \"avi\"]\n",
    "music_format = [\"mp3\"]\n",
    "\n",
    "def paly(palylist):\n",
    "    for i in palylist:\n",
    "        # 将变量按 . 分割,索引取 1\n",
    "        if i.split(\".\")[1] in movie_format:\n",
    "            print(\"你现在收看的是:{}\" .format(i))\n",
    "            time.sleep(3)\n",
    "        elif i.split(\".\")[1] in music_format:\n",
    "            print(\"你现在收听的是:{}\" . format(i))\n",
    "            time.sleep(2)\n",
    "        else:\n",
    "            print(\"对不起,改格式不支持播放\")\n",
    "            \n",
    "def thread_run():\n",
    "    thread.start_new_thread(paly, (movie_list,))\n",
    "    thread.start_new_thread(paly, (music_list,))\n",
    "    \n",
    "if __name__ == \"__main__\":\n",
    "    thread_run()\n",
    "    \n",
    "    while True:\n",
    "        time.sleep(2)\n",
    "    "
   ]
  },
  {
   "cell_type": "code",
   "execution_count": null,
   "metadata": {},
   "outputs": [
    {
     "name": "stdout",
     "output_type": "stream",
     "text": [
      "你现在收看的是:斗破.mp4\n",
      "你现在收听的是:周杰伦.mp3\n",
      "你现在收听的是:五月天.mp3\n",
      "你现在收看的是:复仇者联盟.avi\n",
      "对不起,改格式不支持播放\n",
      "你现在收看的是:xxx.mp4\n"
     ]
    }
   ],
   "source": [
    "import threading\n",
    "import time\n",
    "\n",
    "movie_list = [\"斗破.mp4\", \"复仇者联盟.avi\", \"钢铁雨.rmvb\", \"xxx.mp4\"]\n",
    "music_list = [\"周杰伦.mp3\", \"五月天.mp3\"]\n",
    "movie_format = [\"mp4\", \"avi\"]\n",
    "music_format = [\"mp3\"]\n",
    "\n",
    "def paly(palylist):\n",
    "    for i in palylist:\n",
    "        if i.split(\".\")[1] in movie_format:\n",
    "            print(\"你现在收看的是:{}\" .format(i))\n",
    "            time.sleep(3)\n",
    "        elif i.split(\".\")[1] in music_format:\n",
    "            print(\"你现在收听的是:{}\" . format(i))\n",
    "            time.sleep(2)\n",
    "        else:\n",
    "            print(\"对不起,改格式不支持播放\")\n",
    "            \n",
    "def threading_run():\n",
    "    t1 = threading.Thread(target=paly, args=(movie_list,))\n",
    "    t2 = threading.Thread(target=paly, args=(music_list,))\n",
    "    t1.start()\n",
    "    t2.start()\n",
    "    \n",
    "if __name__ == \"__main__\":\n",
    "    threading_run()\n",
    "    \n",
    "    while True:\n",
    "        time.sleep(2)\n",
    "    "
   ]
  },
  {
   "cell_type": "markdown",
   "metadata": {},
   "source": [
    "- 用类的方式去完成"
   ]
  },
  {
   "cell_type": "code",
   "execution_count": 3,
   "metadata": {},
   "outputs": [
    {
     "name": "stdout",
     "output_type": "stream",
     "text": [
      "你现在收看的是:斗破.mp4\n",
      "你现在收听的是:周杰伦.mp3\n",
      "你现在收听的是:五月天.mp3\n",
      "你现在收看的是:复仇者联盟.avi\n",
      "对不起,改格式不支持播放\n",
      "你现在收看的是:xxx.mp4\n"
     ]
    }
   ],
   "source": [
    "import threading\n",
    "import time\n",
    "\n",
    "movie_list = [\"斗破.mp4\", \"复仇者联盟.avi\", \"钢铁雨.rmvb\", \"xxx.mp4\"]\n",
    "music_list = [\"周杰伦.mp3\", \"五月天.mp3\"]\n",
    "movie_format = [\"mp4\", \"avi\"]\n",
    "music_format = [\"mp3\"]\n",
    "       \n",
    "class MyThread(threading.Thread):\n",
    "    def __init__(self, palylist):\n",
    "        super().__init__()\n",
    "        self.palylist = palylist\n",
    "        \n",
    "    def run(self):\n",
    "        paly(self.palylist)\n",
    "        \n",
    "def paly(palylist):\n",
    "    for i in palylist:\n",
    "        if i.split(\".\")[1] in movie_format:\n",
    "            print(\"你现在收看的是:{}\" .format(i))\n",
    "            time.sleep(3)\n",
    "        elif i.split(\".\")[1] in music_format:\n",
    "            print(\"你现在收听的是:{}\" . format(i))\n",
    "            time.sleep(2)\n",
    "        else:\n",
    "            print(\"对不起,改格式不支持播放\")        \n",
    "        \n",
    "if __name__ == \"__main__\":\n",
    "    m1 = MyThread(movie_list)\n",
    "    m2 = MyThread(music_list)\n",
    "    m1.start()\n",
    "    m2.start()     "
   ]
  },
  {
   "cell_type": "markdown",
   "metadata": {},
   "source": [
    "- 使用多进程去完成\n"
   ]
  },
  {
   "cell_type": "code",
   "execution_count": null,
   "metadata": {},
   "outputs": [],
   "source": [
    "import multiprocessing\n",
    "import threading\n",
    "import time\n",
    "\n",
    "movie_list = [\"斗破.mp4\", \"复仇者联盟.avi\", \"钢铁雨.rmvb\", \"xxx.mp4\"]\n",
    "music_list = [\"周杰伦.mp3\", \"五月天.mp3\"]\n",
    "movie_format = [\"mp4\", \"avi\"]\n",
    "music_format = [\"mp3\"]\n",
    "        \n",
    "def paly(palylist):\n",
    "    for i in palylist:\n",
    "        if i.split(\".\")[1] in movie_format:\n",
    "            print(\"你现在收看的是:{}\" .format(i))\n",
    "            time.sleep(3)\n",
    "        elif i.split(\".\")[1] in music_format:\n",
    "            print(\"你现在收听的是:{}\" . format(i))\n",
    "            time.sleep(2)\n",
    "        else:\n",
    "            print(\"对不起,改格式不支持播放\")       \n",
    "\n",
    "if __name__ == \"__main__\":\n",
    "    p1 = multiprocessing.Process(target=paly, args=(movie_list,))\n",
    "    p2 = multiprocessing.Process(target=paly, args=(music_list,))\n",
    "    p1.start()\n",
    "    p2.start()\n",
    "    \n",
    "    while True:\n",
    "        time.sleep(2)\n",
    "    "
   ]
  }
 ],
 "metadata": {
  "kernelspec": {
   "display_name": "Python 3",
   "language": "python",
   "name": "python3"
  },
  "language_info": {
   "codemirror_mode": {
    "name": "ipython",
    "version": 3
   },
   "file_extension": ".py",
   "mimetype": "text/x-python",
   "name": "python",
   "nbconvert_exporter": "python",
   "pygments_lexer": "ipython3",
   "version": "3.7.0"
  }
 },
 "nbformat": 4,
 "nbformat_minor": 2
}
