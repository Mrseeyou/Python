{
 "cells": [
  {
   "cell_type": "markdown",
   "metadata": {},
   "source": [
    "- 利用map()函数,把用户输入的不规范的英文,编成首先字母大写,其他小写的规范名字\n"
   ]
  },
  {
   "cell_type": "code",
   "execution_count": 5,
   "metadata": {},
   "outputs": [
    {
     "name": "stdout",
     "output_type": "stream",
     "text": [
      "['Admam', 'Lisa', 'Jack']\n"
     ]
    }
   ],
   "source": [
    "def func(n):\n",
    "    return n.title()\n",
    "\n",
    "s = [\"ADMAM\", \"LISA\", \"JACK\"]\n",
    "\n",
    "s1 = map(func, s)\n",
    "\n",
    "# for i in s1:\n",
    "#     print(i, end=\" \")\n",
    "    \n",
    "s2 = list(s1)\n",
    "print(s2)"
   ]
  },
  {
   "cell_type": "markdown",
   "metadata": {},
   "source": [
    "- 回数: 从左向右和从右向左读都是一样的数, 例如12321, 999, 请利用 filter()函数"
   ]
  },
  {
   "cell_type": "code",
   "execution_count": 34,
   "metadata": {},
   "outputs": [
    {
     "name": "stdout",
     "output_type": "stream",
     "text": [
      "1~500: [0, 1, 2, 3, 4, 5, 6, 7, 8, 9, 11, 22, 33, 44, 55, 66, 77, 88, 99, 101, 111, 121, 131, 141, 151, 161, 171, 181, 191, 202, 212, 222, 232, 242, 252, 262, 272, 282, 292, 303, 313, 323, 333, 343, 353, 363, 373, 383, 393, 404, 414, 424, 434, 444, 454, 464, 474, 484, 494]\n"
     ]
    }
   ],
   "source": [
    "def equal(a,b):\n",
    "    return a==b\n",
    "\n",
    "def is_palindrome(n):\n",
    "    s = str(n)\n",
    "    for i in range(len(s)-1):\n",
    "        if equal(s[i],s[len(s)-i-1]):\n",
    "                 continue\n",
    "        else:\n",
    "             return False\n",
    "    return True\n",
    "            \n",
    "num = filter(is_palindrome, range(500))\n",
    "                 \n",
    "print(\"1~500:\", list(num))\n",
    "             \n",
    "             "
   ]
  },
  {
   "cell_type": "markdown",
   "metadata": {},
   "source": [
    "- 假设,我们用一组tuple来表示学生的姓名和成绩, L = [(\"Boy\",75),(\"Adam\",95),(\"Bart\",66),(\"Lisa\",88)] 用 sorted() 对上述列表按照名字排序"
   ]
  },
  {
   "cell_type": "code",
   "execution_count": 1,
   "metadata": {},
   "outputs": [
    {
     "name": "stdout",
     "output_type": "stream",
     "text": [
      "[('Adam', 95), ('Bart', 66), ('Boy', 75), ('Lisa', 88)]\n"
     ]
    }
   ],
   "source": [
    "L = [('Boy',75),('Adam',95),('Bart',66),('Lisa',88)]\n",
    "\n",
    "L1 = sorted(L)\n",
    "\n",
    "print(L1)"
   ]
  },
  {
   "cell_type": "markdown",
   "metadata": {},
   "source": [
    "- 以上代码,按照成绩高低进行排序"
   ]
  },
  {
   "cell_type": "code",
   "execution_count": 3,
   "metadata": {},
   "outputs": [
    {
     "name": "stdout",
     "output_type": "stream",
     "text": [
      "[('Bart', 66), ('Boy', 75), ('Lisa', 88), ('Adam', 95)]\n"
     ]
    }
   ],
   "source": [
    "L = [('Boy',75),('Adam',95),('Bart',66),('Lisa',88)]\n",
    "\n",
    "def by_score(a):\n",
    "    a = sorted(range(a[1]),key=abs) # 索引到数字,因为是可迭代的 需要加range\n",
    "    return a\n",
    "\n",
    "L1 = sorted(L,key=by_score)\n",
    "print(L1)"
   ]
  },
  {
   "cell_type": "markdown",
   "metadata": {},
   "source": [
    "- 一组tuple来表示学生的姓名和成绩, L = [(\"Boy\",75),(\"Adam\",95),(\"Bart\",66),(\"Lisa\",88)] 用 lambda函数对上述列表按照名字排序"
   ]
  },
  {
   "cell_type": "code",
   "execution_count": 3,
   "metadata": {},
   "outputs": [
    {
     "name": "stdout",
     "output_type": "stream",
     "text": [
      "[('Adam', 95), ('Bart', 66), ('Boy', 75), ('LISA', 88)]\n"
     ]
    }
   ],
   "source": [
    "L = [('Boy',75),('Adam',95),('Bart',66),('LISA',88)]\n",
    "\n",
    "letter = lambda x: sorted(x)\n",
    "\n",
    "print(letter(L))"
   ]
  },
  {
   "cell_type": "markdown",
   "metadata": {},
   "source": [
    "- 一组tuple来表示学生的姓名和成绩, L = [(\"Boy\",75),(\"Adam\",95),(\"Bart\",66),(\"Lisa\",88)] 用 lambda函数对上述列表按照成绩排序"
   ]
  },
  {
   "cell_type": "code",
   "execution_count": 16,
   "metadata": {},
   "outputs": [
    {
     "name": "stdout",
     "output_type": "stream",
     "text": [
      "[('Bart', 66), ('Boy', 75), ('LISA', 88), ('Adam', 95)]\n"
     ]
    }
   ],
   "source": [
    "L = [('Boy',75),('Adam',95),('Bart',66),('LISA',88)]\n",
    "\n",
    "grede = sorted(L,key=lambda x: x[1])\n",
    "\n",
    "print(grede)"
   ]
  },
  {
   "cell_type": "markdown",
   "metadata": {},
   "source": [
    "- 回数: 从左向右和从右向左都是一样的数, 例如12321, 999, 请利用lambda函数"
   ]
  },
  {
   "cell_type": "code",
   "execution_count": 15,
   "metadata": {},
   "outputs": [
    {
     "name": "stdout",
     "output_type": "stream",
     "text": [
      "[1, 2, 3, 4, 5, 6, 7, 8, 9, 11, 22, 33, 44, 55, 66, 77, 88, 99, 101, 111, 121, 131, 141, 151, 161, 171, 181, 191, 202, 212, 222, 232, 242, 252, 262, 272, 282, 292, 303, 313, 323, 333, 343, 353, 363, 373, 383, 393, 404, 414, 424, 434, 444, 454, 464, 474, 484, 494]\n"
     ]
    }
   ],
   "source": [
    "L = range(1,500)\n",
    "\n",
    "num = filter(lambda x : str(x)[0]==str(x)[-1] ,L) # 索引-1 就是最后一位\n",
    "\n",
    "print(list(num))"
   ]
  },
  {
   "cell_type": "markdown",
   "metadata": {},
   "source": [
    "权重\n",
    "\n",
    "goods = [{'name':'goods1','price':200,'sales':100,'stars':5,'comments':400},{'name':goods2,'price':400,'sales':192,'stars':4,'comments':300},{'name':goods3,'price':198,'sales':322,'stars':5,'comments':500},{'name':goods4,'price':99,'sales':500,'stars':4,'comments':180},{'name':goods5,'price':998,'sales':400,'stars':5,'comments':238}]\n",
    "\n",
    "权重是100\n",
    "\n",
    "价格占权重40%, 销量占权重17%, 评级占权重13%, 评论占权重30%"
   ]
  },
  {
   "cell_type": "code",
   "execution_count": 23,
   "metadata": {},
   "outputs": [
    {
     "data": {
      "text/plain": [
       "[{'name': 'goods4', 'price': 99, 'sales': 500, 'stars': 4, 'comments': 180},\n",
       " {'name': 'goods1', 'price': 200, 'sales': 100, 'stars': 5, 'comments': 400},\n",
       " {'name': 'goods2', 'price': 400, 'sales': 192, 'stars': 4, 'comments': 300},\n",
       " {'name': 'goods3', 'price': 198, 'sales': 322, 'stars': 5, 'comments': 500},\n",
       " {'name': 'goods5', 'price': 998, 'sales': 400, 'stars': 5, 'comments': 238}]"
      ]
     },
     "execution_count": 23,
     "metadata": {},
     "output_type": "execute_result"
    }
   ],
   "source": [
    "goods = goods = [{'name':'goods1','price':200,'sales':100,'stars':5,'comments':400},{'name':'goods2','price':400,'sales':192,'stars':4,'comments':300},{'name':'goods3','price':198,'sales':322,'stars':5,'comments':500},{'name':\"goods4\",'price':99,'sales':500,'stars':4,'comments':180},{'name':\"goods5\",'price':998,'sales':400,'stars':5,'comments':238}]\n",
    "\n",
    "# sorted() 进行排序\n",
    "\n",
    "def my_sorted(arg):\n",
    "    price = arg['price']\n",
    "    sales = arg['sales']\n",
    "    star = arg['stars']\n",
    "    comment = arg['comments']\n",
    "    \n",
    "    data = price*0.4 + sales*0.17 + star*0.13 + comment*0.3\n",
    "    return data\n",
    "\n",
    "sorted(goods, key=my_sorted)"
   ]
  },
  {
   "cell_type": "code",
   "execution_count": 25,
   "metadata": {},
   "outputs": [
    {
     "name": "stdout",
     "output_type": "stream",
     "text": [
      "[{'name': 'goods5', 'price': 998, 'sales': 400, 'stars': 5, 'comments': 238}, {'name': 'goods3', 'price': 198, 'sales': 322, 'stars': 5, 'comments': 500}, {'name': 'goods2', 'price': 400, 'sales': 192, 'stars': 4, 'comments': 300}, {'name': 'goods1', 'price': 200, 'sales': 100, 'stars': 5, 'comments': 400}, {'name': 'goods4', 'price': 99, 'sales': 500, 'stars': 4, 'comments': 180}]\n"
     ]
    }
   ],
   "source": [
    "goods = goods = [{'name':'goods1','price':200,'sales':100,'stars':5,'comments':400},{'name':'goods2','price':400,'sales':192,'stars':4,'comments':300},{'name':'goods3','price':198,'sales':322,'stars':5,'comments':500},{'name':\"goods4\",'price':99,'sales':500,'stars':4,'comments':180},{'name':\"goods5\",'price':998,'sales':400,'stars':5,'comments':238}]\n",
    "\n",
    "my_data = sorted(goods, key=lambda x: x['price']*0.4 + x['sales']*0.17 + x['stars']*0.13 + x['comments']*0.3, reverse=True)\n",
    "\n",
    "print(my_data)"
   ]
  }
 ],
 "metadata": {
  "kernelspec": {
   "display_name": "Python 3",
   "language": "python",
   "name": "python3"
  },
  "language_info": {
   "codemirror_mode": {
    "name": "ipython",
    "version": 3
   },
   "file_extension": ".py",
   "mimetype": "text/x-python",
   "name": "python",
   "nbconvert_exporter": "python",
   "pygments_lexer": "ipython3",
   "version": "3.7.0"
  }
 },
 "nbformat": 4,
 "nbformat_minor": 2
}
