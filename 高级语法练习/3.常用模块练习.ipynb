{
 "cells": [
  {
   "cell_type": "markdown",
   "metadata": {},
   "source": [
    "- 写一个6位随机验证码程序(使用random模块), 要求验证码中至少包含一个数字, 一个小写字母, 一个大写字母"
   ]
  },
  {
   "cell_type": "code",
   "execution_count": 313,
   "metadata": {},
   "outputs": [
    {
     "name": "stdout",
     "output_type": "stream",
     "text": [
      "p25nFk\n"
     ]
    }
   ],
   "source": [
    "import random as r\n",
    "\n",
    "num1 = r.randint(0,9)\n",
    "num2 = r.randint(0,9)\n",
    "num3 = r.randint(0,9)\n",
    "num4 = r.randint(0,9)\n",
    "\n",
    "lowercase1 = r.choice(\"abcdefghijkimnopqrstuvwxyz\")\n",
    "lowercase2 = r.choice(\"abcdefghijkimnopqrstuvwxyz\")\n",
    "lowercase3 = r.choice(\"abcdefghijkimnopqrstuvwxyz\")\n",
    "lowercase4 = r.choice(\"abcdefghijkimnopqrstuvwxyz\")\n",
    "\n",
    "capotal1 = r.choice(\"ABCDEFGHIJKLMNOPQRSTUVWXYZ\")\n",
    "capotal2 = r.choice(\"ABCDEFGHIJKLMNOPQRSTUVWXYZ\")\n",
    "capotal3 = r.choice(\"ABCDEFGHIJKLMNOPQRSTUVWXYZ\")\n",
    "capotal4 = r.choice(\"ABCDEFGHIJKLMNOPQRSTUVWXYZ\")\n",
    "\n",
    "\n",
    "a1 = (str(num1) + str(num2) + str(num3) + str(num4) + lowercase1 + capotal1)\n",
    "a2 = (str(num1) + str(num2) + str(num3) + lowercase2 + lowercase1 + capotal1)\n",
    "a3 = (str(num1) + str(num2) + lowercase3 + lowercase2 + lowercase1 + capotal1)\n",
    "a4 = (str(num1) + lowercase4 + lowercase3 + lowercase2 + lowercase1 + capotal1)\n",
    "a5 = (str(num1) + str(num2) + str(num3) + capotal2 + lowercase1 + capotal1)\n",
    "a6 = (str(num1) + str(num2) + capotal3 + capotal2 + lowercase1 + capotal1)\n",
    "a7 = (str(num1) + capotal4 + capotal3 + capotal2 + lowercase + capotal1)\n",
    "a8 = (str(num1) + str(num2) + capotal2 + lowercase2 + lowercase1 + capotal1)\n",
    "\n",
    "b = r.choice([a1,a2,a3,a4,a5,a6,a7,a8])\n",
    "\n",
    "b1 = list(b)\n",
    "\n",
    "r.shuffle(b1)\n",
    "\n",
    "b2 = \"\".join(b1)\n",
    "\n",
    "print(b2)"
   ]
  },
  {
   "cell_type": "code",
   "execution_count": 315,
   "metadata": {},
   "outputs": [
    {
     "name": "stdout",
     "output_type": "stream",
     "text": [
      "xT2LzL\n"
     ]
    }
   ],
   "source": [
    "import random\n",
    "import string\n",
    "\n",
    "code = []\n",
    "code.append(random.choice(string.ascii_lowercase)) # 保证验证码中有一个小写字母\n",
    "code.append(random.choice(string.ascii_uppercase)) # 保证验证码中有一个大写字母\n",
    "code.append(random.choice(string.digits)) # 保证验证码中有一个数字\n",
    "\n",
    "while len(code) < 6:\n",
    "    code.append(random.choice(string.ascii_lowercase+string.ascii_uppercase+string.digits))\n",
    "    \n",
    "q_code = \"\".join(code)\n",
    "\n",
    "print(q_code)"
   ]
  },
  {
   "cell_type": "markdown",
   "metadata": {},
   "source": [
    "#### 写一个用户登录验证程序, 文件如下 1234.json\n",
    "- 1234.josn\n",
    "- {\"expire_date\": \"2021-01-01\", \"id\":\"1234\",\"status\":\"0\",\"pay_day\":\"22\",\"password\":\"abc\"}\n",
    "\n",
    "    - 用户为json的文件名\n",
    "    - 判断是否过期, 与expire_date做比较\n",
    "    - 登录成功后打印登录成功, 三次登录失败, status值改为1, 并且锁定账户"
   ]
  },
  {
   "cell_type": "code",
   "execution_count": 1,
   "metadata": {},
   "outputs": [
    {
     "name": "stdout",
     "output_type": "stream",
     "text": [
      "请输入用户名: 1234\n",
      "请输入密码: abc\n",
      "登录成功\n"
     ]
    }
   ],
   "source": [
    "import os \n",
    "import time\n",
    "import json\n",
    "\n",
    "count = 0\n",
    "\n",
    "exit_flag = False\n",
    "\n",
    "while count < 3:\n",
    "    user = input(\"请输入用户名: \")\n",
    "    filname = user.strip()+'.json'  # strip()去空格函数  此代码将输入的用户名与需要打开的文件名联系起来,即用户为json的文件名\n",
    "    \n",
    "    # 判断文件是否存在 不存在则执行缩进同一缩进代码(以下代码不执行)\n",
    "    if os.path.exists(filname): \n",
    "        f = open(filname, \"r+\", encoding = \"utf-8\")      \n",
    "        j_user = json.load(f)   # 将文件内的内容读取出来放到j_user中\n",
    "       \n",
    "        # 首先设定锁定条件\n",
    "        if j_user[\"status\"] == 1:   \n",
    "            print(\"账户已锁定!\")\n",
    "            f.close()\n",
    "            break\n",
    "        else:\n",
    "            expire_dt = j_user[\"expire_date\"]\n",
    "            current_st = time.time()\n",
    "            expire_st = time.mktime(time.strptime(expire_dt, \"%Y-%m-%d\")) # 获取时间戳用于进行比较,即判断是否过期\n",
    "            \n",
    "            # 其次判断是否过期\n",
    "            if current_st > expire_st:\n",
    "                  print(\"用户已过期!\")\n",
    "                  f.close()\n",
    "                  break\n",
    "                \n",
    "            # 在文件存在,且读取后 进行以下对比\n",
    "            else:\n",
    "                  while count < 3:\n",
    "                      pwd = input(\"请输入密码: \")\n",
    "                      if pwd.strip() == j_user[\"password\"]:\n",
    "                          print(\"登录成功\")\n",
    "                          exit_flag = True\n",
    "                          f.close()\n",
    "                          break\n",
    "                      else:\n",
    "                          if count == 2:\n",
    "                              print(\"用户登录超过3次,锁定账户\")\n",
    "                              j_user[\"status\"] = 1\n",
    "                                \n",
    "                              # seek(off, whence=0) 从文件中移动off个操作标记（文件指针），正往结束方向移动，负往开始方向移动。\n",
    "                              # 如果设定了whence参数，就以whence设定的起始位为准，0代表从头开始，\n",
    "                              # 1代表当前位置，2代表文件最末尾位置。\n",
    "                              f.seek(0)\n",
    "                            \n",
    "                              # 指定长度的话，就从文件的开头开始截断指定长度，其余内容删除；\n",
    "                              # 不指定长度的话，就从文件开头开始截断到当前位置，其余内容删除\n",
    "                              f.truncate()\n",
    "                              json.dump(j_user,f)# 参数 变量名 和 文件(清空的),也就是给j_user从新赋值了\n",
    "                      count += 1\n",
    "    if exit_flag:\n",
    "        break\n",
    "    else:\n",
    "        print(\"用户不存在!\")\n",
    "        count += 1\n",
    "        if count == 3:\n",
    "            f.close()\n",
    "            print(\"账户已锁定\")\n",
    "                \n",
    "        "
   ]
  }
 ],
 "metadata": {
  "kernelspec": {
   "display_name": "Python 3",
   "language": "python",
   "name": "python3"
  },
  "language_info": {
   "codemirror_mode": {
    "name": "ipython",
    "version": 3
   },
   "file_extension": ".py",
   "mimetype": "text/x-python",
   "name": "python",
   "nbconvert_exporter": "python",
   "pygments_lexer": "ipython3",
   "version": "3.7.0"
  }
 },
 "nbformat": 4,
 "nbformat_minor": 2
}
