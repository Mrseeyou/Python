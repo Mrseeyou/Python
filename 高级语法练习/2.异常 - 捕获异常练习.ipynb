{
 "cells": [
  {
   "cell_type": "markdown",
   "metadata": {},
   "source": [
    "- 编写一个计算减法的方法,当第一个数小于第二个数时,抛出'被减数不能小于被减数'的异常"
   ]
  },
  {
   "cell_type": "code",
   "execution_count": 13,
   "metadata": {},
   "outputs": [
    {
     "name": "stdout",
     "output_type": "stream",
     "text": [
      "请输入减数: 30\n",
      "请输入被减数: 50\n",
      "减数不能小于被减数\n"
     ]
    }
   ],
   "source": [
    "try:\n",
    "    num = int(input(\"请输入减数: \"))\n",
    "    num1 = int(input(\"请输入被减数: \"))\n",
    "    number = num - num1\n",
    "    if num >= num1:\n",
    "        print(\"{0} - {1} = {2}\".format(num, num1, number))\n",
    "    else:\n",
    "        raise ValueError\n",
    "except ValueError:\n",
    "    print(\"减数不能小于被减数\")\n",
    "        \n",
    "    \n",
    "    \n",
    "    "
   ]
  },
  {
   "cell_type": "markdown",
   "metadata": {},
   "source": [
    "- 定义一个函数func(filename)filename:文件的路径, 函数功能: 打开文件, 并且返回文件内容, 最后关闭, 用异常捕获来处理可能发生的错误"
   ]
  },
  {
   "cell_type": "code",
   "execution_count": 8,
   "metadata": {},
   "outputs": [
    {
     "name": "stdout",
     "output_type": "stream",
     "text": [
      "This is Test Document\n",
      "执行完毕\n"
     ]
    }
   ],
   "source": [
    "import os\n",
    "def func(filename):\n",
    "    try:\n",
    "        with open(filename) as f:\n",
    "            strline = f.readline()\n",
    "            while strline:\n",
    "                print(strline)\n",
    "                strline = f.readline()\n",
    "    except Exception as a:\n",
    "        print(\"出错了,内容是{0}\".format(a))\n",
    "        \n",
    "    finally:\n",
    "        print(\"执行完毕\")\n",
    "\n",
    "func(\"text0001.txt\")"
   ]
  },
  {
   "cell_type": "markdown",
   "metadata": {},
   "source": [
    "- 自己定义一个异常类, 继承Exception类, 捕获下面的过程: 判断输入的字符串长度是否小于5"
   ]
  },
  {
   "cell_type": "code",
   "execution_count": 10,
   "metadata": {},
   "outputs": [
    {
     "name": "stdout",
     "output_type": "stream",
     "text": [
      "请输入: aaaaaa\n",
      "输入正确\n",
      "执行完毕\n"
     ]
    }
   ],
   "source": [
    "class LenError(Exception):\n",
    "    pass\n",
    "\n",
    "try:\n",
    "    num = len(input(\"请输入: \"))\n",
    "    if num < 5:\n",
    "        raise LenError\n",
    "    else:\n",
    "        print(\"输入正确\")\n",
    "\n",
    "except Exception as a:\n",
    "    print(\"你出入的内容太少\")\n",
    "    \n",
    "finally:\n",
    "    print(\"执行完毕\")"
   ]
  }
 ],
 "metadata": {
  "kernelspec": {
   "display_name": "Python 3",
   "language": "python",
   "name": "python3"
  },
  "language_info": {
   "codemirror_mode": {
    "name": "ipython",
    "version": 3
   },
   "file_extension": ".py",
   "mimetype": "text/x-python",
   "name": "python",
   "nbconvert_exporter": "python",
   "pygments_lexer": "ipython3",
   "version": "3.7.0"
  }
 },
 "nbformat": 4,
 "nbformat_minor": 2
}
