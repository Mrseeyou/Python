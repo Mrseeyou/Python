{
 "cells": [
  {
   "cell_type": "markdown",
   "metadata": {},
   "source": [
    "- 编写一个程序, 接受用户输入的内容, 并且保存为新的文件\n",
    "- 如果用户单独输入: w\n",
    "- 表示文件保存退出"
   ]
  },
  {
   "cell_type": "code",
   "execution_count": 5,
   "metadata": {},
   "outputs": [
    {
     "name": "stdout",
     "output_type": "stream",
     "text": [
      "请出入文件名: text03\n",
      "请输入需要保存的内容,输入w退出: 111\n",
      "请输入需要保存的内容,输入w退出: 222\n",
      "请输入需要保存的内容,输入w退出: 333\n",
      "请输入需要保存的内容,输入w退出: 444\n",
      "请输入需要保存的内容,输入w退出: 555\n",
      "请输入需要保存的内容,输入w退出: 666\n",
      "请输入需要保存的内容,输入w退出: w\n"
     ]
    }
   ],
   "source": [
    "file_name = input(\"请出入文件名: \")\n",
    "\n",
    "def file_write(file_name):\n",
    "    \n",
    "    f = open(file_name, 'w') \n",
    " \n",
    "    while True:       \n",
    "        my_os = input('请输入需要保存的内容,输入w退出: ')\n",
    "        \n",
    "        if my_os != \"w\":\n",
    "            f.write('%s\\n' % my_os) # my_os 传入到s处\n",
    "        else:\n",
    "            break\n",
    "\n",
    "    f.close()\n",
    "    \n",
    "file_write(file_name)"
   ]
  },
  {
   "cell_type": "markdown",
   "metadata": {},
   "source": [
    "- 编写一个程序, 比较用户输入的文件(文件名)是否相同, 如果不同, 显示出所有不同出的行号\n"
   ]
  },
  {
   "cell_type": "code",
   "execution_count": 11,
   "metadata": {},
   "outputs": [
    {
     "name": "stdout",
     "output_type": "stream",
     "text": [
      "请输入用于比较的第一个文件名: text01\n",
      "请输入用于比较的第二个文件名: text02\n",
      "输入的文件有3处不同\n",
      "第4行不一样\n",
      "第5行不一样\n",
      "第6行不一样\n"
     ]
    }
   ],
   "source": [
    "file1 = input(\"请输入用于比较的第一个文件名: \")\n",
    "file2 = input(\"请输入用于比较的第二个文件名: \")\n",
    "\n",
    "def file_compare(file1, file2):\n",
    "    f1 = open(file1, encoding='utf-8')\n",
    "    f2 = open(file2, encoding='utf-8')\n",
    "    \n",
    "    count = 0 # 记录行数\n",
    "    differ = [] # 统计不一样时的行数\n",
    "    \n",
    "    for line1 in f1:\n",
    "        line2 = f2.readline()\n",
    "        \n",
    "        count += 1\n",
    "        \n",
    "        if line1 != line2:\n",
    "            differ.append(count)\n",
    "\n",
    "    f1.close()\n",
    "    f2.close()\n",
    "    \n",
    "    return differ\n",
    "\n",
    "differ = file_compare(file1, file2)\n",
    "\n",
    "if len(differ) == 0:\n",
    "    print('输入的文件完全相同')\n",
    "else:\n",
    "    print(\"输入的文件有%d处不同\" % len(differ))\n",
    "    for each in differ:\n",
    "        print('第%d行不一样' % each)"
   ]
  },
  {
   "cell_type": "markdown",
   "metadata": {},
   "source": [
    "- 编写一个程序, 当用户输入文件名和行数的时候, 将该文件的前N行内容打印到屏幕上"
   ]
  },
  {
   "cell_type": "code",
   "execution_count": 12,
   "metadata": {},
   "outputs": [
    {
     "name": "stdout",
     "output_type": "stream",
     "text": [
      "请输入文件名: text01\n",
      "请输入需要显示的行数: 3\n",
      "文件text01的前3内容如下: \n",
      "111\n",
      "\n",
      "222\n",
      "\n",
      "333\n",
      "\n"
     ]
    }
   ],
   "source": [
    "file = input('请输入文件名: ')\n",
    "num = input('请输入需要显示的行数: ')\n",
    "\n",
    "def my_file(file, num):\n",
    "    print(\"文件%s的前%s内容如下: \" % (file, num))\n",
    "    \n",
    "    f = open(file)\n",
    "    \n",
    "    for i in range(int(num)): # 因为输入的是str 所以需要转换\n",
    "        print(f.readline())\n",
    "        \n",
    "    f.close()\n",
    "    \n",
    "my_file(file, num)    "
   ]
  },
  {
   "cell_type": "markdown",
   "metadata": {},
   "source": [
    "- 编写一个程序, 用户需要输入文件名,而后可以输入需要显示的行数(包括范围)"
   ]
  },
  {
   "cell_type": "code",
   "execution_count": 21,
   "metadata": {},
   "outputs": [
    {
     "name": "stdout",
     "output_type": "stream",
     "text": [
      "请输入需要打开的文件名: text01\n",
      "请输入需要显示的起始行数: 1\n",
      "请输入需要显示的结束行数: 3\n",
      "文件text01的1至3行内容如下\n",
      "111\n",
      "\n",
      "222\n",
      "\n",
      "333\n",
      "\n"
     ]
    }
   ],
   "source": [
    "file_name = input(r'请输入需要打开的文件名: ')\n",
    "num1 = input(r\"请输入需要显示的起始行数: \")\n",
    "num2 = input(r\"请输入需要显示的结束行数: \")\n",
    "\n",
    "def file_line(file_name, num1, num2):\n",
    "    print('文件%s的%s至%s行内容如下' % (file_name, num1, num2))\n",
    "    \n",
    "    f = open(file_name)\n",
    "    l = list(f) # 把内容转换为list 用于切片操作\n",
    "    \n",
    "     \n",
    "    f1 = l[int(num1)-1:int(num2)] # 因为切片索引是从0开始的 \n",
    "\n",
    "    for i in f1:\n",
    "        print(i)\n",
    "\n",
    "    f.close()\n",
    "\n",
    "file_line(file_name, num1, num2)"
   ]
  },
  {
   "cell_type": "markdown",
   "metadata": {},
   "source": [
    "- 编写一个程序, 实现'全部替换'的功能"
   ]
  },
  {
   "cell_type": "code",
   "execution_count": 28,
   "metadata": {},
   "outputs": [
    {
     "name": "stdout",
     "output_type": "stream",
     "text": [
      "请输入需要打开的文件名: text03\n",
      "输入被替换的内容: 111\n",
      "输入新的内容: 000\n",
      "你确定要这样做吗? 请输入YES/NOyes\n"
     ]
    }
   ],
   "source": [
    "file_name = input('请输入需要打开的文件名: ')\n",
    "old_word = input('输入被替换的内容: ')\n",
    "new_word = input('输入新的内容: ')\n",
    "\n",
    "def file_read(file_name, old_word, new_word):\n",
    "    f = open(file_name)\n",
    "    content = []\n",
    "    \n",
    "    for each in f:\n",
    "        if old_word in each:\n",
    "            each = each.replace(old_word, new_word)\n",
    "            \n",
    "        content.append(each)\n",
    "        \n",
    "    why = input(\"你确定要这样做吗? 请输入YES/NO\")\n",
    "    \n",
    "    if why in [\"YES\", \"Yes\", \"yes\"]:\n",
    "        f_file = open(file_name,'w')\n",
    "        f_file.write(\"\".join(content))\n",
    "        f_file.close()\n",
    "     \n",
    "file_read(file_name, old_word, new_word)"
   ]
  },
  {
   "cell_type": "markdown",
   "metadata": {},
   "source": [
    "- 编写一个程序, 统计当前目录下每个文件类型的文件数"
   ]
  },
  {
   "cell_type": "code",
   "execution_count": 32,
   "metadata": {},
   "outputs": [
    {
     "name": "stdout",
     "output_type": "stream",
     "text": [
      "该文件夹下面有类型为文件夹的文件1个\n",
      "该文件夹下面有类型为.json的文件1个\n",
      "该文件夹下面有类型为.ipynb的文件4个\n",
      "该文件夹下面有类型为的文件3个\n"
     ]
    }
   ],
   "source": [
    "# dict.setdefault(key, default=None) 如果字典中包含有给定键，则返回该键对应的值，否则返回为该键设置的值。\n",
    "# os.path.isdir() 用于判断对象是否为一个目录\n",
    "# os.path.isfile() 用于判断对象是否为一个文件\n",
    "# os.path.splitext() 将文件名和扩展名分开(两个参数,前者是文件名,后者是后缀) 可做分片操作 \n",
    "# os.path.split（）返回文件的路径和文件名(两个参数,前者是文件路径,后者是文件名)\n",
    "# os.path.getsize() 返回文件的大小（字节）。\n",
    "# os.pardir 切换到上一级目录\n",
    "\n",
    "import os\n",
    "\n",
    "# 获取当前文件夹下的所有文件\n",
    "all_files = os.listdir(os.curdir)\n",
    "\n",
    "type_dict = dict()\n",
    "\n",
    "for each_file in all_files:\n",
    "    # 如果each_file是文件夹的话\n",
    "    if os.path.isdir(each_file):\n",
    "        \n",
    "        type_dict.setdefault(\"文件夹\",0) # 设定键和值\n",
    "        type_dict[\"文件夹\"] += 1 # 是文件的话每次循环键的值+1\n",
    "        \n",
    "    # 如果不是,则统计文件类型及个数    \n",
    "    else:\n",
    "        ext = os.path.splitext(each_file)[1] # 获取到文件后缀\n",
    "        \n",
    "        type_dict.setdefault(ext,0) # 设定键和值\n",
    "        type_dict[ext] += 1\n",
    "        \n",
    "for each_type in type_dict:\n",
    "    print(\"该文件夹下面有类型为{}的文件{}个\".format(each_type, type_dict[each_type]))\n",
    "        "
   ]
  },
  {
   "cell_type": "markdown",
   "metadata": {},
   "source": [
    "- 编写一个程序, 计算当前文件夹下面所有文件的大小"
   ]
  },
  {
   "cell_type": "code",
   "execution_count": 35,
   "metadata": {},
   "outputs": [
    {
     "name": "stdout",
     "output_type": "stream",
     "text": [
      "1234.json的大小是87\n",
      "2.异常 - 捕获异常练习.ipynb的大小是3294\n",
      "3.常用模块练习.ipynb的大小是7562\n",
      "4.函数式编程练习.ipynb的大小是8955\n",
      "5.文件操作练习.ipynb的大小是10334\n",
      "text01的大小是30\n",
      "text02的大小是30\n",
      "text03的大小是28\n"
     ]
    }
   ],
   "source": [
    "import os \n",
    "\n",
    "all_files = os.listdir(os.curdir)\n",
    "\n",
    "file_dict = dict()\n",
    "\n",
    "for each_file in all_files:\n",
    "    # 如果是文件\n",
    "    if os.path.isfile(each_file):\n",
    "        file_size = os.path.getsize(each_file) # 获取文件大小\n",
    "        file_dict[each_file] = file_size # 设置键值\n",
    "        \n",
    "for each in file_dict.items():\n",
    "    print(\"{}的大小是{}\".format(each[0],each[1]))\n",
    "    \n",
    "    "
   ]
  },
  {
   "cell_type": "markdown",
   "metadata": {},
   "source": [
    "- 编写一个程序,用户输入文件名以及开始搜索的路径, 搜索该文件是否存在, 如果遇到文件夹, 则进入该文件夹继续搜索\n",
    "    "
   ]
  },
  {
   "cell_type": "code",
   "execution_count": 3,
   "metadata": {},
   "outputs": [
    {
     "name": "stdout",
     "output_type": "stream",
     "text": [
      "请输入目录: .\n",
      "请输入文件名: text01\n",
      "C:\\Users\\Administrator\\我的课件\\高级语法\\练习\\text01\n"
     ]
    }
   ],
   "source": [
    "import os \n",
    "\n",
    "start_dir = input(\"请输入目录: \")\n",
    "target = input(\"请输入文件名: \")\n",
    "\n",
    "def search_file(start_dir, target):\n",
    "    os.chdir(start_dir) # 切换目录\n",
    "    \n",
    "    # 获取目录中的所有目录和文件名\n",
    "    for each_file in os.listdir(os.curdir):\n",
    "        if each_file == target:\n",
    "            print(os.getcwd() + \"\\\\\" + each_file)  # os.getcwd 获取当前的目录路径\n",
    "        # 判断是否为目录\n",
    "        if os.path.isdir(each_file):\n",
    "            # 如果是目录 递归调用\n",
    "            search_file(each_file, target)\n",
    "            # os.pardir 切换到上一级目录\n",
    "            os.chdir(os.pardir)\n",
    "            \n",
    "search_file(start_dir, target)"
   ]
  },
  {
   "cell_type": "markdown",
   "metadata": {},
   "source": [
    "- 在上述题目中添加一些需求, 模糊匹配, 判断我们的target是否包含在某一个文件中\n"
   ]
  },
  {
   "cell_type": "code",
   "execution_count": 6,
   "metadata": {},
   "outputs": [
    {
     "name": "stdout",
     "output_type": "stream",
     "text": [
      "please input strat directory: .\n",
      "enter your file name: te\n",
      "C:\\Users\\Administrator\\我的课件\\高级语法\\练习\\text01\n",
      "C:\\Users\\Administrator\\我的课件\\高级语法\\练习\\text02\n",
      "C:\\Users\\Administrator\\我的课件\\高级语法\\练习\\text03\n"
     ]
    }
   ],
   "source": [
    "start_dir = input(\"please input strat directory: \")\n",
    "target = input(\"enter your file name: \")\n",
    "\n",
    "def search_file(start_dir, target):\n",
    "    os.chdir(start_dir)\n",
    "    \n",
    "    for each_file in os.listdir(os.curdir):\n",
    "        if target in each_file:\n",
    "            print(os.getcwd() + os.sep + each_file) # os.sep 等价 \"||\"\n",
    "        if os.path.isdir(each_file):\n",
    "            search_file(each_file, target)\n",
    "            os.chdir(os.pardir)\n",
    "            \n",
    "search_file(start_dir, target)"
   ]
  },
  {
   "cell_type": "markdown",
   "metadata": {},
   "source": [
    "- 在上述题目中再加一个需求, 我们搜索到的文件路径,保存到指定的路径"
   ]
  },
  {
   "cell_type": "code",
   "execution_count": 13,
   "metadata": {},
   "outputs": [
    {
     "name": "stdout",
     "output_type": "stream",
     "text": [
      "请输入目录: .\n",
      "请输入关键字: te\n"
     ]
    }
   ],
   "source": [
    "import os\n",
    "\n",
    "start_dir = input(\"请输入目录: \")\n",
    "target = input(\"请输入关键字: \")\n",
    "backup = []\n",
    "\n",
    "def search_file(start_dir, target):\n",
    "    os.chdir(start_dir)\n",
    "    \n",
    "    for each_file in os.listdir(os.curdir):\n",
    "        if target in each_file:\n",
    "            backup_file = os.getcwd() + os.sep + each_file\n",
    "            backup.append(backup_file)\n",
    "        if os.path.isdir(each_file):\n",
    "            search_file(each_file, target)\n",
    "            os.chdir(os.pardir)\n",
    "    return backup\n",
    "\n",
    "\n",
    "\n",
    "rb = search_file(start_dir, target)\n",
    "# print(rb)\n",
    "f = open(os.getcwd() + os.sep + \"backup.txt\", \"wb\")\n",
    "f.write(\"\\n\".join(rb).encode(\"utf-8\"))\n",
    "f.close()"
   ]
  },
  {
   "cell_type": "code",
   "execution_count": null,
   "metadata": {},
   "outputs": [],
   "source": []
  }
 ],
 "metadata": {
  "kernelspec": {
   "display_name": "Python 3",
   "language": "python",
   "name": "python3"
  }
 },
 "nbformat": 4,
 "nbformat_minor": 2
}
