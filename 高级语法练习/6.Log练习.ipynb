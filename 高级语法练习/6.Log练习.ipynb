{
 "cells": [
  {
   "cell_type": "code",
   "execution_count": 2,
   "metadata": {},
   "outputs": [
    {
     "name": "stderr",
     "output_type": "stream",
     "text": [
      "WARNING:root:this is warning\n",
      "ERROR:root:this is error\n",
      "CRITICAL:root:this is critical\n"
     ]
    }
   ],
   "source": [
    "import logging\n",
    "\n",
    "logging.debug('this is debug')\n",
    "logging.info('this is info')\n",
    "logging.warning('this is warning')\n",
    "logging.error('this is error')\n",
    "logging.critical('this is critical')\n",
    "\n",
    "# 默认级别是warning 所以只打印三行"
   ]
  },
  {
   "cell_type": "code",
   "execution_count": 3,
   "metadata": {},
   "outputs": [],
   "source": [
    "import logging\n",
    "\n",
    "LOG_FORMAT = \"%(asctime)s - %(levelname)s - %(message)s\"\n",
    "\n",
    "# 设定级别 文件名称 format参数\n",
    "logging.basicConfig(level=logging.DEBUG,  filename=\"my.log\", format=LOG_FORMAT)\n",
    "\n",
    "logging.debug(\"this is debug\")\n",
    "logging.info(\"this is info\")\n",
    "logging.warning(\"this is warning\")\n",
    "logging.error(\"this is error\")\n",
    "logging.critical(\"this is critical\")\n",
    "\n",
    "# 此时显示在文件my.log中"
   ]
  },
  {
   "cell_type": "markdown",
   "metadata": {},
   "source": [
    "- 装饰器\n",
    "    - 使用装饰器,打印函数执行的时间"
   ]
  },
  {
   "cell_type": "code",
   "execution_count": 1,
   "metadata": {},
   "outputs": [
    {
     "name": "stderr",
     "output_type": "stream",
     "text": [
      "2019-05-23 03:10:18,502 - ERROR - this is error message\n"
     ]
    },
    {
     "name": "stdout",
     "output_type": "stream",
     "text": [
      "text done\n"
     ]
    }
   ],
   "source": [
    "import logging\n",
    "\n",
    "LOG_FORMAT = \"%(asctime)s - %(levelname)s - %(message)s\"\n",
    "\n",
    "logging.basicConfig(format=LOG_FORMAT)\n",
    "def log(func):\n",
    "    def warpper(*arg, **kw):\n",
    "        logging.error('this is error message')\n",
    "        return func(*arg, **kw)\n",
    "    return warpper\n",
    "\n",
    "@log\n",
    "def text():\n",
    "    print(\"text done\")\n",
    "    \n",
    "text()\n",
    "# 执行前需要重启, 不然日志会在之前定义的文件my.log中"
   ]
  },
  {
   "cell_type": "markdown",
   "metadata": {},
   "source": [
    "- 使用装饰器, 根据不同的函数, 转入的日志不相同\n"
   ]
  },
  {
   "cell_type": "code",
   "execution_count": 1,
   "metadata": {},
   "outputs": [
    {
     "name": "stderr",
     "output_type": "stream",
     "text": [
      "2019-05-23 03:44:18,497 - ERROR - 1\n",
      "2019-05-23 03:44:18,499 - ERROR - 2\n"
     ]
    },
    {
     "name": "stdout",
     "output_type": "stream",
     "text": [
      "text done\n",
      "main done\n"
     ]
    }
   ],
   "source": [
    "import logging\n",
    "\n",
    "LOG_FORMAT = \"%(asctime)s - %(levelname)s - %(message)s\"\n",
    "\n",
    "logging.basicConfig(format=LOG_FORMAT)\n",
    "def log(text):\n",
    "    def decorator(func):\n",
    "        def wrapper(*arg, **kw):\n",
    "            logging.error(text)\n",
    "            return func(*arg, **kw)\n",
    "        return wrapper\n",
    "    return decorator\n",
    "\n",
    "@log(\"1\")\n",
    "def text():\n",
    "    print('text done')\n",
    "    \n",
    "@log(\"2\")\n",
    "def main():\n",
    "    print('main done')\n",
    "    \n",
    "text()\n",
    "main()\n",
    "\n",
    "# 一般是实际工作中比较使用这类代码"
   ]
  },
  {
   "cell_type": "markdown",
   "metadata": {},
   "source": [
    "- 用logging的四大组件来实现日志的功能\n"
   ]
  },
  {
   "cell_type": "code",
   "execution_count": 1,
   "metadata": {},
   "outputs": [
    {
     "name": "stdout",
     "output_type": "stream",
     "text": [
      "text done\n",
      "main done\n"
     ]
    }
   ],
   "source": [
    "import logging\n",
    "\n",
    "\n",
    "logger = logging.getLogger(\"mylogger\")\n",
    "\n",
    "logger.setLevel(logging.DEBUG)\n",
    "\n",
    "debug_handler = logging.FileHandler(\"debug.log\")\n",
    "debug_handler.setLevel(logging.DEBUG)\n",
    "debug_handler.setFormatter(logging.Formatter(\"%(asctime)s - %(levelname)s - %(message)s\"))\n",
    "\n",
    "error_handler = logging.FileHandler(\"error.log\")\n",
    "error_handler.setLevel(logging.ERROR)\n",
    "error_handler.setFormatter(logging.Formatter(\"%(asctime)s - %(levelname)s - %(message)s\"))\n",
    "\n",
    "\n",
    "logger.addHandler(debug_handler)\n",
    "logger.addHandler(error_handler)\n",
    "\n",
    "\n",
    "def log(text):\n",
    "    def decorator(func):\n",
    "        def wrapper(*arg, **kw):\n",
    "            logger.debug(\"this is debug info\")\n",
    "            logger.error(\"this is error info\")\n",
    "            return func(*arg, **kw)\n",
    "        return wrapper\n",
    "    return decorator\n",
    "\n",
    "@log('this is text done')\n",
    "def text():\n",
    "    print(\"text done\")\n",
    "    \n",
    "@log(\"this is main done\")\n",
    "def main():\n",
    "    print(\"main done\")\n",
    "    \n",
    "text()\n",
    "main()\n",
    "\n",
    "# 一般情况在实际工作当中,经常吧logging封装成一个装饰器,并新建一个logger文件,在需要的保存日志的地方,impoer就可以"
   ]
  },
  {
   "cell_type": "code",
   "execution_count": null,
   "metadata": {},
   "outputs": [],
   "source": []
  }
 ],
 "metadata": {
  "kernelspec": {
   "display_name": "Python 3",
   "language": "python",
   "name": "python3"
  },
  "language_info": {
   "codemirror_mode": {
    "name": "ipython",
    "version": 3
   },
   "file_extension": ".py",
   "mimetype": "text/x-python",
   "name": "python",
   "nbconvert_exporter": "python",
   "pygments_lexer": "ipython3",
   "version": "3.7.0"
  }
 },
 "nbformat": 4,
 "nbformat_minor": 2
}
