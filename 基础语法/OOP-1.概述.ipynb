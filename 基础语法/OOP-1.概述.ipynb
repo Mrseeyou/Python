{
 "cells": [
  {
   "cell_type": "markdown",
   "metadata": {},
   "source": [
    "# OOP-Python面向对象\n",
    "- Pythonde的面向对象\n",
    "- 面向对象编程\n",
    "    - 基础   \n",
    "    - 公有私有\n",
    "    - 继承\n",
    "    - 组合,Mixin\n",
    "- 魔法函数\n",
    "    - 魔法函数概述\n",
    "    - 构造类魔法函数\n",
    "    - 运算类魔法函数"
   ]
  },
  {
   "cell_type": "markdown",
   "metadata": {},
   "source": [
    "# 面向对象概述 (OpjectOriented,OO)\n",
    "- OOP思想\n",
    "    - 接触到任意一个任务,首先想到的是 任务是这个世界的构成,是由模型构成的\n",
    "- 几个名词\n",
    "    - OO:面向对象\n",
    "    - OOA:面向对象的分析\n",
    "    - OOD:面向对象的设计\n",
    "    - OOI:xxx的实现\n",
    "    - OOP:xxx的编程\n",
    "    - OOA->OOD->OOI: 面向对象的实现过程"
   ]
  },
  {
   "cell_type": "markdown",
   "metadata": {},
   "source": [
    "### 类和对象的概念\n",
    "    - 类: 抽象名词,代表一个集合,共性的事物\n",
    "    - 对象:具象的事物,单个个体\n",
    "    - 类跟对象的关系\n",
    "        - 一个具象,代表一类事物的某一个个体\n",
    "        - 一个抽象,代表的是一大类事物"
   ]
  },
  {
   "cell_type": "markdown",
   "metadata": {},
   "source": [
    "### 类中的内容,应该具有两个内容\n",
    "    - 表明事物的特征,叫做属性(变量)\n",
    "    - 表明事物功能或动作,称为成员方法(函数)"
   ]
  },
  {
   "cell_type": "markdown",
   "metadata": {},
   "source": [
    "# 类的基本实现\n",
    "- 类的命名\n",
    "    - 遵守变量命名的规范\n",
    "    - 大驼峰(由一个或者多个单词构成,每个单词首字母大写,单词跟单词直接相连)\n",
    "    - 尽量避开跟系统命名相似的命名\n",
    "- 如何声明一个类\n",
    "    - 必须用class关键字\n",
    "    - 类由属性和方法构成,其他不允许出现\n",
    "    - 成员属性定义可以直接使用变量赋值,如果没有值,允许用None\n",
    "- 实例化类\n",
    "          变量 = 类名() \n",
    "          实例化了一个对象\n",
    "- 访问对象成员\n",
    "    - 使用点操作符  \n",
    "        - obj.成员属性名称\n",
    "        - obj.成员方法"
   ]
  },
  {
   "cell_type": "code",
   "execution_count": 1,
   "metadata": {},
   "outputs": [
    {
     "name": "stdout",
     "output_type": "stream",
     "text": [
      "None\n",
      "18\n",
      "我在学习\n"
     ]
    }
   ],
   "source": [
    "# 定义一个类,用来描述听课的学生\n",
    "class PythonStudent():\n",
    "    # 用None 给不确定的值赋值\n",
    "    name = None\n",
    "    age = 18\n",
    "    course = \"Python\"\n",
    "    \n",
    "    def doHomework(self):\n",
    "        print(\"我在学习\")\n",
    "        \n",
    "        return None\n",
    "# 实例化一个人\n",
    "mingming = PythonStudent()\n",
    "print(mingming.name)\n",
    "print(mingming.age)\n",
    "# 成员调用\n",
    "mingming.doHomework()"
   ]
  },
  {
   "cell_type": "markdown",
   "metadata": {},
   "source": [
    "# 类和对象的成员分析\n",
    "- 类和对象都可以存储成员,成员可以归类所有,也可以归对象所有\n",
    "- 类存储成员时使用的是与类关联的一个对象\n",
    "- 独享存储成员是存储在当前对象中\n",
    "- 对象访问一个成员时,如果对象中没有该成员,尝试访问类中的同名成员\n",
    "  如果对象中有此成员,一定使用对象中的成员\n",
    "- 创建对象的时候,类中的成员不会放入对象当中,而是得到一个空对象,没有成员\n",
    "- 通过对象对类中成员重新赋值,或者通过对象添加成员时,对应成员会保存在对象中\n",
    "  ,而不会修改类成员"
   ]
  },
  {
   "cell_type": "code",
   "execution_count": 2,
   "metadata": {},
   "outputs": [
    {
     "name": "stdout",
     "output_type": "stream",
     "text": [
      "mingming\n",
      "18\n",
      "mingming\n",
      "18\n",
      "80046704\n",
      "80046704\n"
     ]
    }
   ],
   "source": [
    "class A():\n",
    "    name = \"mingming\"\n",
    "    age = 18\n",
    "    \n",
    "    def say(self):\n",
    "        self.name = \"ming\"\n",
    "        self.age = 20\n",
    "        \n",
    "# 类实例\n",
    "print(A.name)\n",
    "print(A.age)\n",
    "\n",
    "# 对象实例\n",
    "a = A()\n",
    "print(a.name)\n",
    "print(a.age)\n",
    "\n",
    "# 类实例和对象实例的属性,在不为对象做实例属性赋值的前提下,指向同一变量\n",
    "print(id(A.name))\n",
    "print(id(a.name))"
   ]
  },
  {
   "cell_type": "code",
   "execution_count": 3,
   "metadata": {},
   "outputs": [
    {
     "name": "stdout",
     "output_type": "stream",
     "text": [
      "{'__module__': '__main__', 'name': 'mingming', 'age': 18, 'say': <function A.say at 0x0000000004C79048>, '__dict__': <attribute '__dict__' of 'A' objects>, '__weakref__': <attribute '__weakref__' of 'A' objects>, '__doc__': None}\n"
     ]
    }
   ],
   "source": [
    "# 查看A内的所有属性\n",
    "print(A.__dict__)"
   ]
  },
  {
   "cell_type": "markdown",
   "metadata": {},
   "source": [
    "# 关于self\n",
    "- self在对象的方法中表示当前对象本身,如果通过对象调用一个方法,那么该对象会自动传入到当前方的第一个参数\n",
    "- self并不是关键字,只是一个用于接受对象的普通参数,理论上可以用任何一个普通变量名代替"
   ]
  },
  {
   "cell_type": "code",
   "execution_count": 4,
   "metadata": {},
   "outputs": [
    {
     "name": "stdout",
     "output_type": "stream",
     "text": [
      "My name is ming\n",
      "My age is 20\n"
     ]
    }
   ],
   "source": [
    "class Student():\n",
    "    name = \"mingming\"\n",
    "    age = 18\n",
    "    \n",
    "    def say(self):\n",
    "        self.name = \"ming\"\n",
    "        self.age = 20\n",
    "        \n",
    "        print(\"My name is {}\".format(self.name))\n",
    "        print(\"My age is {}\".format(self.age))\n",
    "        \n",
    "yueyue = Student()\n",
    "yueyue.say()"
   ]
  },
  {
   "cell_type": "markdown",
   "metadata": {},
   "source": [
    "- 方法中有self形参的方法成为非绑定类的方法,可以通过对象访问,没有self的是绑定类的方法,只能通过类访问\n",
    "- 使用类访问绑定类的方法时,如果类方法中需要访问当前类的成员,可以通过\n",
    "(.__class__)成员名来访问"
   ]
  },
  {
   "cell_type": "code",
   "execution_count": 5,
   "metadata": {},
   "outputs": [
    {
     "name": "stdout",
     "output_type": "stream",
     "text": [
      "My name in ming\n",
      "My age in 23\n",
      "Hello, nice to me you\n"
     ]
    }
   ],
   "source": [
    "class Techer():\n",
    "    name = \"xiaoming\"\n",
    "    age = 23\n",
    "    \n",
    "    def say(self):\n",
    "        self.name = \"ming\"\n",
    "        self.age = 20\n",
    "        \n",
    "        print(\"My name in {}\".format(self.name))\n",
    "        # 调用类的成员变量需要用__class__\n",
    "        print(\"My age in {}\".format(__class__.age))\n",
    "\n",
    "    def sayAgain():\n",
    "        print(\"Hello, nice to me you\")\n",
    "t = Techer()\n",
    "t.say()\n",
    "# 调用绑定类函数使用类名\n",
    "Techer.sayAgain()"
   ]
  },
  {
   "cell_type": "code",
   "execution_count": 6,
   "metadata": {},
   "outputs": [
    {
     "name": "stdout",
     "output_type": "stream",
     "text": [
      "mingming\n",
      "18\n",
      "mingming\n",
      "18\n",
      "xiaoming\n",
      "26\n",
      "ming\n",
      "20\n"
     ]
    }
   ],
   "source": [
    "# 关于self的案例\n",
    "class A():\n",
    "    name = \"xiaoming\"\n",
    "    age = 26\n",
    "    \n",
    "    def __init__(self):\n",
    "        self.name = \"mingming\"\n",
    "        self.age = 18\n",
    "        \n",
    "    def say(self):\n",
    "        print(self.name)\n",
    "        print(self.age)\n",
    "        \n",
    "class B():\n",
    "    name = \"ming\"\n",
    "    age = 20\n",
    "    \n",
    "a = A()\n",
    "# 此时,系统默认把a作为第一个参数传入函数\n",
    "a.say()\n",
    "# 此时,self被a替换\n",
    "A.say(a)\n",
    "# 同样可以把A作为参数传入\n",
    "A.say(A)\n",
    "# 此时 ,传入的是类实例B 因为具有name age 属性,所以不报错,\n",
    "A.say(B)\n",
    "# 以上代码利用了鸭子模型"
   ]
  }
 ],
 "metadata": {
  "kernelspec": {
   "display_name": "Python 3",
   "language": "python",
   "name": "python3"
  },
  "language_info": {
   "codemirror_mode": {
    "name": "ipython",
    "version": 3
   },
   "file_extension": ".py",
   "mimetype": "text/x-python",
   "name": "python",
   "nbconvert_exporter": "python",
   "pygments_lexer": "ipython3",
   "version": "3.7.0"
  }
 },
 "nbformat": 4,
 "nbformat_minor": 2
}
