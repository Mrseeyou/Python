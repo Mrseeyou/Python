{
 "cells": [
  {
   "cell_type": "markdown",
   "metadata": {},
   "source": [
    "# 字符串\n",
    " - 转义字符\n",
    " - 格式化"
   ]
  },
  {
   "cell_type": "markdown",
   "metadata": {},
   "source": [
    " ## 转义字符\n",
    "  - 用一个特殊的方法表示出一系列不方便写出的内容,比如回车键,换行健,退格键\n",
    "  - 借助反斜杠字符,一旦字符串中间出现反斜杠,则反斜杠后面一个或几个字符表示已经不是原来的意思了,进行了转义\n",
    "      - 在字符串中,一旦出现反斜杠就要加倍小心,可能有转义字符出现\n",
    "      - 不同系统对换行操作有不同的表示\n",
    "            - windows: \\n 表示换行\n",
    "            - Linyx: \\r\\n 表示换行"
   ]
  },
  {
   "cell_type": "code",
   "execution_count": 2,
   "metadata": {},
   "outputs": [
    {
     "name": "stdout",
     "output_type": "stream",
     "text": [
      "Let's go\n",
      "Let's go\n",
      "c:\\user\n",
      " l \n",
      " like \n",
      " keke\n"
     ]
    }
   ],
   "source": [
    "# 如果想表示出Let`s go\n",
    "# 1.可以使用嵌套引号,即外层使用双引号\n",
    "# 2.转义字符\n",
    "s = \"Let's go\"\n",
    "print(s)\n",
    "# \\' == '\n",
    "ss = 'Let\\'s go'\n",
    "print(ss)\n",
    "# \\\\ = \\\n",
    "sss = \"c:\\\\user\"\n",
    "print(sss)\n",
    "# 回车换行符 \\n\n",
    "s1 = \" l \\n like \\n keke\"\n",
    "print(s1)"
   ]
  },
  {
   "cell_type": "markdown",
   "metadata": {},
   "source": [
    " ## 字符串的格式化\n",
    "  - 把字符串按照一定格式打印或者填充\n",
    "  - 格式化有两种方法\n",
    "     - 利用百分号(%)\n",
    "     - 利用format函数\n",
    "     "
   ]
  },
  {
   "cell_type": "markdown",
   "metadata": {},
   "source": [
    "  ### 利用百分号格式化\n",
    "   - 在字符串中,利用%表示一个特殊的含义,表示对字符进行格式化\n",
    "   - %d: 此处应该放入一个整数     \n",
    "   - %s: 表示此处应该放入一个字符串\n",
    "   - NameError 很大可能表示有变量没有定义"
   ]
  },
  {
   "cell_type": "code",
   "execution_count": 3,
   "metadata": {},
   "outputs": [
    {
     "name": "stdout",
     "output_type": "stream",
     "text": [
      "I am %d years old\n",
      "I am 18 years old\n",
      "l like %s\n",
      "l like you\n",
      "l like you\n",
      "I am %s,I am %d years old\n",
      "I am you,I am 18 years old\n"
     ]
    }
   ],
   "source": [
    "# %后面有值得就有定义,没有值的直接打印%\n",
    "s = \"I am %d years old\"\n",
    "print(s)\n",
    "print(s%18)\n",
    "# 下面打印,直接把%s作为字符串的一个内容打印出来\n",
    "s = \"l like %s\"\n",
    "print(s)\n",
    "# 对字符 %s 进行格式化\n",
    "print(\"l like %s\"%\"you\")\n",
    "# 带入赋值变量 s ,并格式化变量后的字符\n",
    "print(s%\"you\")\n",
    "# 如果字符串中有占位符,则有几个占位符必须用几个实际内容代替.或者一个也不要,否则报错\n",
    "# 如果出现多个占位符,则相应内容需要用括号括起来\n",
    "s = \"I am %s,I am %d years old\"\n",
    "print(s)\n",
    "print(s%('you',18))"
   ]
  },
  {
   "cell_type": "markdown",
   "metadata": {},
   "source": [
    "  ### format函数格式化字符串\n",
    "   - 直接用format函数进行格式化\n",
    "   - 推荐使用这种方法\n",
    "   - 在使用上,以{}和:代替%号,后面用format带参数完成"
   ]
  },
  {
   "cell_type": "code",
   "execution_count": 4,
   "metadata": {},
   "outputs": [
    {
     "name": "stdout",
     "output_type": "stream",
     "text": [
      "l like keke\n",
      "yes, i am 18 years old,l like keke and i am 18 years old\n"
     ]
    }
   ],
   "source": [
    "# format函数实例\n",
    "s = \"l like {}\".format(\"keke\")\n",
    "print(s)\n",
    "# format代替多个值,是以数字的先后顺序替换\n",
    "s = \"yes, i am {0} years old,l like {1} and i am {0} years old\".format(18,\"keke\")\n",
    "print(s)"
   ]
  },
  {
   "cell_type": "markdown",
   "metadata": {},
   "source": [
    " # None\n",
    " - 表示什么都没有\n",
    " - 如果函数没有返回值,可以返回None\n",
    " - 同来占位置\n",
    " - 用来解除变量绑定\n",
    " # 表达式\n",
    " - 由一个或者几个数字或者变量和运算符组合成的一个代码\n",
    " - 通常会返回一个结果"
   ]
  },
  {
   "cell_type": "markdown",
   "metadata": {},
   "source": [
    "## 运算符\n",
    "  - 由一个以上的值经过变化得到新的值的过程叫做运算\n",
    "  - 用于运算的符号叫运算符\n",
    "  - 运算符分类:\n",
    "     - 算数运算符\n",
    "     - 比较or关系运算符\n",
    "     - 赋值运算符\n",
    "     - 逻辑运算符\n",
    "     - 位运算\n",
    "     - 成员运算符 (身份运算符)\n",
    "  ### 算数运算符\n",
    "   - 进行算数运算的符号 + - * / % //\n",
    "   - python中没有自增自减运算符"
   ]
  },
  {
   "cell_type": "code",
   "execution_count": 5,
   "metadata": {},
   "outputs": [
    {
     "name": "stdout",
     "output_type": "stream",
     "text": [
      "8\n",
      "16.0\n",
      "4\n",
      "1\n"
     ]
    }
   ],
   "source": [
    "# + - * / ,代表加减乘除\n",
    "a = 9+7-8\n",
    "print(a)\n",
    "a = 8*6/3\n",
    "print(a)\n",
    "# 取余数运算\n",
    "a = 9 % 5\n",
    "print(a)\n",
    "# 取商运算\n",
    "a = 9 // 5\n",
    "print(a)"
   ]
  },
  {
   "cell_type": "markdown",
   "metadata": {},
   "source": [
    " ### 比较运算符\n",
    "   - 对两个变量或者值进行比较的运算符\n",
    "   - 比较的结果是布尔值,即 True/False\n",
    "   - ==(等于号), !=(不等于号), >(大于号), <(小于号), >=(大于等于号), <=(小于等于号)"
   ]
  },
  {
   "cell_type": "code",
   "execution_count": 6,
   "metadata": {},
   "outputs": [
    {
     "name": "stdout",
     "output_type": "stream",
     "text": [
      "True\n",
      "False\n"
     ]
    }
   ],
   "source": [
    "# 比较运算符,带入结果以True或者False显示\n",
    "a = 2 ** 4\n",
    "b = a == 16\n",
    "print(b)\n",
    "c = 2 ** 5\n",
    "d = c == 30\n",
    "print(d)\n"
   ]
  },
  {
   "cell_type": "markdown",
   "metadata": {},
   "source": [
    "  ### 赋值运算符\n",
    "   - 把右边的值放入左边 = \n",
    "   - 所有的算数运算符都有缩写形式\n",
    "        - =, +=, -=, *=, /=, **=, //=, %="
   ]
  },
  {
   "cell_type": "code",
   "execution_count": 7,
   "metadata": {},
   "outputs": [
    {
     "name": "stdout",
     "output_type": "stream",
     "text": [
      "5 5 5\n",
      "10\n"
     ]
    }
   ],
   "source": [
    "# =, 赋值\n",
    "# 形如+=, 缩写\n",
    "a = b = c = 5\n",
    "print(a,b,c)\n",
    "a *= 2\n",
    "print(a)"
   ]
  },
  {
   "cell_type": "markdown",
   "metadata": {},
   "source": [
    " ### 逻辑运算符\n",
    "   - 对布尔值进行计算的符号\n",
    "   - and 逻辑与\n",
    "   - or 逻辑或\n",
    "   - nor 逻辑非\n",
    "   - python中逻辑运算没有异或运算\n",
    "   - 运算规则:\n",
    "       - and 看做乘法,or 看做加法\n",
    "       - True看做1, False看做0,则逻辑运算就能转换成整数数学运算\n",
    "       - 最后结果如果是0,则为False,否则为True\n",
    "   - 逻辑运算的短路问题\n",
    "       - 逻辑运算式,按照运算顺序计算,一旦能够确定整个式子未来的值,则不再进行计算,直接返回"
   ]
  },
  {
   "cell_type": "code",
   "execution_count": 8,
   "metadata": {},
   "outputs": [
    {
     "name": "stdout",
     "output_type": "stream",
     "text": [
      "True\n",
      "True\n"
     ]
    }
   ],
   "source": [
    "# 逻辑运算符案例\n",
    "a = True\n",
    "b = False\n",
    "c = True\n",
    "# 以下式子可以看成a乘以b加上c(1*0+1)\n",
    "d = a and b or c\n",
    "print(d)\n",
    "# 以下式子看成a加b乘以c(1+0*1)\n",
    "d = a or b and c\n",
    "print(d)"
   ]
  },
  {
   "cell_type": "markdown",
   "metadata": {},
   "source": [
    " ### 成员运算符\n",
    "   - 用来检测某一个变量是否是另一个变量的成员\n",
    "   - in (在里面)\n",
    "   - not in (不在里面)"
   ]
  },
  {
   "cell_type": "code",
   "execution_count": 9,
   "metadata": {},
   "outputs": [
    {
     "name": "stdout",
     "output_type": "stream",
     "text": [
      "False\n"
     ]
    }
   ],
   "source": [
    "# 成员检测案例\n",
    "s = [1,2,3,4,5]\n",
    "a = 6\n",
    "b = a in s\n",
    "print(b)"
   ]
  },
  {
   "cell_type": "markdown",
   "metadata": {},
   "source": [
    "  ### 身份运算\n",
    "   -  is: 用来检测两个变量是否是同一个变量(同一个变量不代表值相等,值相等不代表同一个变量)\n",
    "        - 语法就是 var1 is var2 "
   ]
  },
  {
   "cell_type": "code",
   "execution_count": 10,
   "metadata": {},
   "outputs": [
    {
     "name": "stdout",
     "output_type": "stream",
     "text": [
      "False\n"
     ]
    }
   ],
   "source": [
    "a = 4\n",
    "b = a not in s\n",
    "print(b)"
   ]
  },
  {
   "cell_type": "markdown",
   "metadata": {},
   "source": [
    " ### 运算符的优先级问题\n",
    "   - 永远记住,括号具有最高级优先级\n",
    "   - 优先级表格\n",
    "       - ** 指数 (最高优先级)\n",
    "       - ~ + - 按位翻转,一元加号和减号 (最好两个的方法位 +@和-@)\n",
    "       - * / % // 乘,除.取摸和取整除余\n",
    "       - + - 加法减法\n",
    "       - >>  << 右移,左移运算符\n",
    "       - & 位 'AND'\n",
    "       - ^ | 位运算符\n",
    "       - <= < > >= 比较运算符\n",
    "       - <> == != 等于运算符\n",
    "       - = %= /= //= -= += *= **= 赋值运算符\n",
    "       - is, is not 身份运算符\n",
    "       - in, nor in 成员运算符\n",
    "       - not or  and 逻辑运算符 \n"
   ]
  }
 ],
 "metadata": {
  "kernelspec": {
   "display_name": "Python 3",
   "language": "python",
   "name": "python3"
  },
  "language_info": {
   "codemirror_mode": {
    "name": "ipython",
    "version": 3
   },
   "file_extension": ".py",
   "mimetype": "text/x-python",
   "name": "python",
   "nbconvert_exporter": "python",
   "pygments_lexer": "ipython3",
   "version": "3.7.0"
  }
 },
 "nbformat": 4,
 "nbformat_minor": 2
}
