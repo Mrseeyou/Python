{
 "cells": [
  {
   "cell_type": "markdown",
   "metadata": {},
   "source": [
    "# 四类参数\n",
    " - 普通参数\n",
    " - 默认参数\n",
    " - 关键字参数\n",
    " - 收集参数"
   ]
  },
  {
   "cell_type": "markdown",
   "metadata": {},
   "source": [
    "## 关键字参数\n",
    " - 语法\n",
    "    def func(p1=v1,p2=v2,...)\n",
    "        func_body\n",
    "    #### 调用参数\n",
    "    func(p1=value1,p2=value2,...)\n",
    " - 用于函数调用,通过\"键-值\"形式加以指定,可以让函数更加清晰,容易使用,也消除了参数的顺序要求\n",
    " - 一般实参和形参要按照位置一一对应,容易出错\n",
    " "
   ]
  },
  {
   "cell_type": "code",
   "execution_count": 6,
   "metadata": {},
   "outputs": [
    {
     "name": "stdout",
     "output_type": "stream",
     "text": [
      "I am student\n",
      "我叫23,今年海南岁,家住you\n"
     ]
    }
   ],
   "source": [
    "# 关键字参数案例\n",
    "def stu(name,age,addr):\n",
    "    print(\"I am student\")\n",
    "    print(\"我叫{0},今年{1}岁,家住{2}\".format(name,age,addr))\n",
    "a = \"you\"\n",
    "b = 23\n",
    "c = \"海南\"\n",
    "stu(b,c,a)\n",
    "# 以上例子说明,普通参数只按位置传递,容易出错\n",
    "# 对比下面例子,以\"键值\"的形式传入\n"
   ]
  },
  {
   "cell_type": "code",
   "execution_count": 7,
   "metadata": {},
   "outputs": [
    {
     "name": "stdout",
     "output_type": "stream",
     "text": [
      "I am student\n",
      "我叫you,今年23岁,家住海南\n"
     ]
    }
   ],
   "source": [
    "def stu(name,age,addr):\n",
    "    print(\"I am student\")\n",
    "    print(\"我叫{0},今年{1}岁,家住{2}\".format(name,age,addr))\n",
    "a = \"you\"\n",
    "b = 23\n",
    "c = \"海南\"\n",
    "stu(addr=c,name=a,age=b)"
   ]
  },
  {
   "cell_type": "markdown",
   "metadata": {},
   "source": [
    "## 收集参数\n",
    " - 定义函数时,有时候我们不确定调用的时候会传递多少个参数(不穿也可以),此时可以放入一个特定的数据结构中\n",
    " - 语法      \n",
    "            def func(*args)\n",
    "                func_body\n",
    "            #### 调用\n",
    "            func(p1,p2,p3,...)\n",
    " - 参数名args不是必须这么写,但是,推荐直接用args,预定俗成\n",
    " - 参数名args前需要有星号\n",
    " - 收集参数可以和其他参数共存\n",
    " - args是元组类型"
   ]
  },
  {
   "cell_type": "code",
   "execution_count": 5,
   "metadata": {},
   "outputs": [
    {
     "name": "stdout",
     "output_type": "stream",
     "text": [
      "大家好,我是新同学,下面进行自我介绍:\n",
      "我叫you\n",
      "今年23岁\n",
      "来自海南\n",
      "我的爱好是听歌\n",
      "大家好,我是新同学,下面进行自我介绍:\n",
      "我叫小明\n",
      "大家好,我是新同学,下面进行自我介绍:\n"
     ]
    }
   ],
   "source": [
    "# 收集参数案例\n",
    "# 一个学生进行自我介绍,但具体内容不清楚\n",
    "def stu(*args):\n",
    "    print(\"大家好,我是新同学,下面进行自我介绍:\")\n",
    "    for i in args:\n",
    "        print(i)\n",
    "stu(\"我叫you\",\"今年23岁\",\"来自海南\",\"我的爱好是听歌\")\n",
    "stu(\"我叫小明\")\n",
    "# 可以不带参数\n",
    "stu()"
   ]
  },
  {
   "cell_type": "markdown",
   "metadata": {},
   "source": [
    "### 收集参数之关键字收集参数\n",
    " - 把关键字参数按照字典格式存入收集参数\n",
    " - 语法 \n",
    "            def func( **kwargs)\n",
    "                func_body\n",
    "            #### 调用\n",
    "            func(p1=v1,p2=v2,p3=v3,...)\n",
    "            \n",
    "       - kwargs一般约定俗成\n",
    "       - 调用的时候,把多余的关键字参数放入kwargs\n",
    "       - 访问kwargs需要按字典格式访问"
   ]
  },
  {
   "cell_type": "code",
   "execution_count": 8,
   "metadata": {},
   "outputs": [
    {
     "name": "stdout",
     "output_type": "stream",
     "text": [
      "Hello,大家好\n",
      "我叫you,今年23.\n",
      "我的爱好是听歌\n",
      "我来自海南\n",
      "喜欢交新朋友\n",
      "hobby1 -- 看书\n",
      "hobby2 -- 运动\n"
     ]
    }
   ],
   "source": [
    "# 收集参数混合调用案例\n",
    "def stu(name,age,*args,hobby=\"没有\", **kwargs):\n",
    "    print(\"Hello,大家好\")\n",
    "    print(\"我叫{0},今年{1}.\".format(name,age))\n",
    "    if hobby == \"没有\":\n",
    "        print(\"暂时没有特别喜欢做的事情.\")\n",
    "    else:\n",
    "        print(\"我的爱好是{0}\".format(hobby))\n",
    "    for i in args:\n",
    "        print(i)\n",
    "    for k,v in kwargs.items():\n",
    "        print(k,\"--\",v)\n",
    "a = \"you\"\n",
    "b = 23\n",
    "# args参数列要在kwargs前面,否则报错\n",
    "stu(a,b,\"我来自海南\",\"喜欢交新朋友\",hobby=\"听歌\",hobby1=\"看书\",hobby2=\"运动\")"
   ]
  },
  {
   "cell_type": "markdown",
   "metadata": {},
   "source": [
    "### 收集参数混合调用的顺序问题\n",
    " - 收集参数,关键字参数,普通参数可以混合使用\n",
    " - 使用规则就是,普通参数和关键字参数优先\n",
    " - 定义的时候一般找普通参数,关键字参数,收集参数tuple,收集参数dict"
   ]
  },
  {
   "cell_type": "markdown",
   "metadata": {},
   "source": [
    "### 收集参数的解包问题\n",
    " - 把参数放入list或者字典中,直接把list/dict中的值放入收集参数中\n",
    " - * 在调用函数的时候使用,称之为解包\n",
    " - 参看案例\n",
    " "
   ]
  },
  {
   "cell_type": "code",
   "execution_count": 12,
   "metadata": {},
   "outputs": [
    {
     "name": "stdout",
     "output_type": "stream",
     "text": [
      "大家好\n",
      "you\n",
      "23\n",
      "听歌\n",
      "海南\n"
     ]
    }
   ],
   "source": [
    "# 收集参数解包案例\n",
    "def stu(*args):\n",
    "    print(\"大家好\")\n",
    "    for i in args:\n",
    "        print(i)\n",
    "l = [\"you\",23,\"听歌\",\"海南\"]\n",
    "stu(*l)\n"
   ]
  },
  {
   "cell_type": "code",
   "execution_count": 16,
   "metadata": {},
   "outputs": [
    {
     "name": "stdout",
     "output_type": "stream",
     "text": [
      "you 23\n"
     ]
    }
   ],
   "source": [
    "# 案例2\n",
    "def stu(name,age):\n",
    "    print(name,age)\n",
    "args = (\"you\",23)\n",
    "stu(*args)\n"
   ]
  },
  {
   "cell_type": "markdown",
   "metadata": {},
   "source": [
    " ### dict收集参数解包\n",
    " - 对dict类型进行解包,需要用到两个**"
   ]
  },
  {
   "cell_type": "code",
   "execution_count": 15,
   "metadata": {},
   "outputs": [
    {
     "name": "stdout",
     "output_type": "stream",
     "text": [
      "{'name': 'you', 'age': 23}\n"
     ]
    }
   ],
   "source": [
    "# dict类型收集参数解包\n",
    "def stu(**kwargs):\n",
    "    print(kwargs)\n",
    "kwargs = {'name':'you','age':23}\n",
    "stu( **kwargs)"
   ]
  },
  {
   "cell_type": "markdown",
   "metadata": {},
   "source": [
    "## 返回值\n",
    " - 函数和过程的区别\n",
    "    - 有无返回值\n",
    " - 需要用return显示返回内容\n",
    " - 如果没有返回,则默认返回None\n",
    " - 推荐写法,无论有无返回值,最后都要以return结束"
   ]
  },
  {
   "cell_type": "code",
   "execution_count": 17,
   "metadata": {},
   "outputs": [
    {
     "name": "stdout",
     "output_type": "stream",
     "text": [
      "有返回值\n",
      "123\n",
      "没有返回值\n",
      "None\n"
     ]
    }
   ],
   "source": [
    "# 返回值案例\n",
    "def stu_1():\n",
    "    print(\"有返回值\")\n",
    "    return 123\n",
    "def stu_2():\n",
    "    print(\"没有返回值\")\n",
    "s1 = stu_1()\n",
    "print(s1)\n",
    "s2 = stu_2()\n",
    "print(s2)"
   ]
  },
  {
   "cell_type": "markdown",
   "metadata": {},
   "source": [
    "## 函数文档\n",
    " - 函数文档的作用是:对当前函数提供使用相关的参考信息\n",
    " - 文档的写法:\n",
    "    - 在函数内部开始的第一行引用三引号字符串定义符\n",
    "    - 一般具有特定格式\n",
    "        - 参看案例\n",
    "        - 文档查看\n",
    "        - 使用help函数,形如 help(func)\n",
    "        - 使用__doc__,形如func.__doc__"
   ]
  },
  {
   "cell_type": "code",
   "execution_count": 18,
   "metadata": {},
   "outputs": [
    {
     "name": "stdout",
     "output_type": "stream",
     "text": [
      "Help on function stu in module __main__:\n",
      "\n",
      "stu(name, age, *args)\n",
      "    这里是对文档的概述\n",
      "    :param name: 对参数name的说明\n",
      "    :param age:对参数age的说明\n",
      "    :param args:对参数args的说明\n",
      "    :return:没有返回值\n",
      "\n",
      "None\n",
      "********************\n",
      "\n",
      "    这里是对文档的概述\n",
      "    :param name: 对参数name的说明\n",
      "    :param age:对参数age的说明\n",
      "    :param args:对参数args的说明\n",
      "    :return:没有返回值\n",
      "    \n"
     ]
    }
   ],
   "source": [
    "# 函数文档\n",
    "def stu(name,age,*args):\n",
    "    \"\"\"\n",
    "    这里是对文档的概述\n",
    "    :param name: 对参数name的说明\n",
    "    :param age:对参数age的说明\n",
    "    :param args:对参数args的说明\n",
    "    :return:没有返回值\n",
    "    \"\"\"\n",
    "print(help(stu))\n",
    "print(\"*\"*20)\n",
    "print(stu.__doc__)"
   ]
  }
 ],
 "metadata": {
  "kernelspec": {
   "display_name": "Python 3",
   "language": "python",
   "name": "python3"
  },
  "language_info": {
   "codemirror_mode": {
    "name": "ipython",
    "version": 3
   },
   "file_extension": ".py",
   "mimetype": "text/x-python",
   "name": "python",
   "nbconvert_exporter": "python",
   "pygments_lexer": "ipython3",
   "version": "3.7.0"
  }
 },
 "nbformat": 4,
 "nbformat_minor": 2
}
