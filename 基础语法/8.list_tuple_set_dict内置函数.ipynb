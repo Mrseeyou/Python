{
 "cells": [
  {
   "cell_type": "markdown",
   "metadata": {},
   "source": [
    "# 关于列表的函数\n",
    " - append 插入一个内容,在末尾追加\n",
    " - insert 指定位置插入\n",
    "    - insert(index,data) 插入位置是index前面\n",
    " - del 原地删除\n",
    " - pop 把最后一个元素拿出来\n",
    " - remove 在列表中删除指定的值 元素\n",
    "    - 输出两个值id一样,说明remove操作是在原来的list上直接操作\n",
    " - clear 清空\n",
    "    - 清空的操作是在原来的list上操作的\n",
    " - reverse 地翻翻转列表内容,原转id一样\n",
    " - extend 扩展列表,两个列表,把一个直接拼接在另一个上,id一样\n",
    " - cound 查找列表中指定的值或元素的个数\n",
    " - copy 拷贝,浅拷贝\n",
    " - len 求列表长度\n",
    " - max 求列表中的最大值\n",
    " - min 求列表中的最小值\n",
    " - list 转换成list类型\n",
    " - index 求指定元素在列表中的索引位置,出现多个则仅指向第一个"
   ]
  },
  {
   "cell_type": "code",
   "execution_count": 1,
   "metadata": {},
   "outputs": [
    {
     "name": "stdout",
     "output_type": "stream",
     "text": [
      "[1, 2, 3, 4]\n",
      "[1, 2, 3, 4, 10]\n"
     ]
    }
   ],
   "source": [
    "# 插入一个内容在末尾\n",
    "a = [i for i in range(1,5)]\n",
    "print(a)\n",
    "a.append(10)\n",
    "print(a)"
   ]
  },
  {
   "cell_type": "code",
   "execution_count": 3,
   "metadata": {},
   "outputs": [
    {
     "name": "stdout",
     "output_type": "stream",
     "text": [
      "[7, 100, 8, 9]\n"
     ]
    }
   ],
   "source": [
    "# 指定位置插入\n",
    "a = [7,8,9]\n",
    "a.insert(1,100)\n",
    "print(a)"
   ]
  },
  {
   "cell_type": "code",
   "execution_count": 9,
   "metadata": {},
   "outputs": [
    {
     "name": "stdout",
     "output_type": "stream",
     "text": [
      "[8, 9]\n"
     ]
    }
   ],
   "source": [
    "# 删除指定下标元素\n",
    "a = [8,9,10]\n",
    "del a[2]\n",
    "print(a)"
   ]
  },
  {
   "cell_type": "code",
   "execution_count": 10,
   "metadata": {},
   "outputs": [
    {
     "name": "stdout",
     "output_type": "stream",
     "text": [
      "[1, 2, 3, 4]\n",
      "5\n"
     ]
    }
   ],
   "source": [
    "# 拿出后一个数\n",
    "a = [1,2,3,4,5]\n",
    "b = a.pop()\n",
    "print(a)\n",
    "print(b)"
   ]
  },
  {
   "cell_type": "code",
   "execution_count": 12,
   "metadata": {},
   "outputs": [
    {
     "name": "stdout",
     "output_type": "stream",
     "text": [
      "[100, 300]\n"
     ]
    }
   ],
   "source": [
    "# 删除列表中指定的元素\n",
    "a = [100,200,300]\n",
    "a.remove(200)\n",
    "print(a)"
   ]
  },
  {
   "cell_type": "code",
   "execution_count": 14,
   "metadata": {},
   "outputs": [
    {
     "name": "stdout",
     "output_type": "stream",
     "text": [
      "[]\n"
     ]
    }
   ],
   "source": [
    "# 清空列表\n",
    "a = [1,2,3,4,5,6,7,8,9]\n",
    "a.clear()\n",
    "print(a)"
   ]
  },
  {
   "cell_type": "code",
   "execution_count": 15,
   "metadata": {},
   "outputs": [
    {
     "name": "stdout",
     "output_type": "stream",
     "text": [
      "[8, 7, 6, 5, 4]\n"
     ]
    }
   ],
   "source": [
    "# 翻转列表内容\n",
    "a = [4,5,6,7,8]\n",
    "a.reverse()\n",
    "print(a)"
   ]
  },
  {
   "cell_type": "code",
   "execution_count": 17,
   "metadata": {},
   "outputs": [
    {
     "name": "stdout",
     "output_type": "stream",
     "text": [
      "[1, 2, 3, 4, 5, 6]\n"
     ]
    }
   ],
   "source": [
    "# 扩展列表(拼接列表)\n",
    "a = [1,2,3]\n",
    "b = [4,5,6]\n",
    "a.extend(b)\n",
    "print(a)"
   ]
  },
  {
   "cell_type": "code",
   "execution_count": 18,
   "metadata": {},
   "outputs": [
    {
     "name": "stdout",
     "output_type": "stream",
     "text": [
      "3\n"
     ]
    }
   ],
   "source": [
    "# 查找列表中指定元素的个数\n",
    "a = [1,2,4,5,6,2,1,5,4,6,3,4]\n",
    "b = a.count(4)\n",
    "print(b)"
   ]
  },
  {
   "cell_type": "code",
   "execution_count": 25,
   "metadata": {},
   "outputs": [
    {
     "name": "stdout",
     "output_type": "stream",
     "text": [
      "[5, 6, 7, 8, 9, [1, 2, 3]]\n",
      "79708616\n",
      "79711496\n",
      "[5, 6, 7, 8, 9, [1, 999, 3]]\n",
      "[5, 6, 7, 8, 9, [1, 999, 3]]\n",
      "79708616\n",
      "79711496\n"
     ]
    }
   ],
   "source": [
    "# 牵拷贝 只拷贝一层内容\n",
    "a = [5,6,7,8,9,[1,2,3]]\n",
    "b = a.copy()\n",
    "print(b)\n",
    "print(id(a))\n",
    "print(id(b))\n",
    "\n",
    "a[5][1] = 999\n",
    "print(a)\n",
    "print(b)\n",
    "print(id(a))\n",
    "print(id(b))"
   ]
  },
  {
   "cell_type": "code",
   "execution_count": 3,
   "metadata": {},
   "outputs": [
    {
     "name": "stdout",
     "output_type": "stream",
     "text": [
      "6\n"
     ]
    }
   ],
   "source": [
    "# 列表长度\n",
    "a = [1,2,4,6,7,8]\n",
    "print(len(a))"
   ]
  },
  {
   "cell_type": "code",
   "execution_count": 4,
   "metadata": {},
   "outputs": [
    {
     "name": "stdout",
     "output_type": "stream",
     "text": [
      "8\n",
      "4\n"
     ]
    }
   ],
   "source": [
    "# 最大值 最小值\n",
    "a = [4,5,6,7,8]\n",
    "print(max(a))\n",
    "print(min(a))"
   ]
  },
  {
   "cell_type": "code",
   "execution_count": 5,
   "metadata": {},
   "outputs": [
    {
     "name": "stdout",
     "output_type": "stream",
     "text": [
      "['i', ' ', 'l', 'i', 'k', 'e', ' ', 'y', 'o', 'u']\n"
     ]
    }
   ],
   "source": [
    "# 转换成list\n",
    "a = \"i like you\"\n",
    "print(list(a))"
   ]
  },
  {
   "cell_type": "code",
   "execution_count": 13,
   "metadata": {},
   "outputs": [
    {
     "name": "stdout",
     "output_type": "stream",
     "text": [
      "2\n"
     ]
    }
   ],
   "source": [
    "# 索引位置\n",
    "a = [4,5,6,7,8,9]\n",
    "print(a.index(6))\n"
   ]
  },
  {
   "cell_type": "markdown",
   "metadata": {},
   "source": [
    "# 元组 - tuple\n",
    "- 元组可以看成是 一个不可更改的list\n",
    "    - 元组的创建\n",
    "    "
   ]
  },
  {
   "cell_type": "code",
   "execution_count": 18,
   "metadata": {},
   "outputs": [
    {
     "name": "stdout",
     "output_type": "stream",
     "text": [
      "<class 'tuple'>\n",
      "<class 'tuple'>\n",
      "<class 'tuple'>\n",
      "<class 'tuple'>\n"
     ]
    }
   ],
   "source": [
    "# 创建元祖\n",
    "s = ()\n",
    "print(type(s))\n",
    "s1 = 1,\n",
    "print(type(s1))\n",
    "s2 = (1,2,3,4,5)\n",
    "print(type(s2))\n",
    "w = [1,2,3,4,5]\n",
    "s = tuple(w)\n",
    "print(type(s))"
   ]
  },
  {
   "cell_type": "markdown",
   "metadata": {},
   "source": [
    "## 元组的特性\n",
    " - 是序列表,有序\n",
    " - 元组数据值可以访问,不能修改\n",
    " - 元组数据可以是任意类型\n",
    " - list所有特性,除了可修改之外,元组都具有"
   ]
  },
  {
   "cell_type": "markdown",
   "metadata": {},
   "source": [
    "# 集合 - set\n",
    " - 集合是高中数学的一个概念\n",
    " - 由唯一的,无序的元素组成"
   ]
  },
  {
   "cell_type": "code",
   "execution_count": 19,
   "metadata": {},
   "outputs": [
    {
     "name": "stdout",
     "output_type": "stream",
     "text": [
      "<class 'dict'>\n",
      "<class 'set'>\n"
     ]
    }
   ],
   "source": [
    "# 集合定义: 如果只是一个大括号,则定义的是dict类型\n",
    "a = {}\n",
    "a1 = {1,2,3}\n",
    "print(type(a))\n",
    "print(type(a1))"
   ]
  },
  {
   "cell_type": "markdown",
   "metadata": {},
   "source": [
    "## 集合特性\n",
    " - 集合内数据无序,即无法使用索引和分片\n",
    " - 集合内部数据元素具有唯一性,可以用来排除重复数据\n",
    " - 集合内的数据, str, int, float, tuple, 冰冻集合等,即内部只能放置可哈希数据"
   ]
  },
  {
   "cell_type": "markdown",
   "metadata": {},
   "source": [
    "### 关于集合的函数\n",
    " - 普通的集合函数\n",
    " - add 向集合内添加元素\n",
    " - discard 移除集合中指定的值,如果要删除的值不存在,不报错\n",
    " - pop 随机移除一个元素\n",
    " - intersection 交集\n",
    " - difference 差集\n",
    " - union 并集\n",
    " - issubset 检查一个集合是否为另一个子集\n",
    " - issuperset 检查一个集合是否为另一个超集\n",
    " - frozenset 冰冻集合,不可以进行任何修改的集合"
   ]
  },
  {
   "cell_type": "code",
   "execution_count": 20,
   "metadata": {},
   "outputs": [
    {
     "name": "stdout",
     "output_type": "stream",
     "text": [
      "{2, 3, 4, 5, 7}\n"
     ]
    }
   ],
   "source": [
    "# 向集合添加元素\n",
    "s = {2,3,4,5}\n",
    "s.add(7)\n",
    "print(s)"
   ]
  },
  {
   "cell_type": "code",
   "execution_count": 21,
   "metadata": {},
   "outputs": [
    {
     "name": "stdout",
     "output_type": "stream",
     "text": [
      "{3, 4, 6, 7}\n"
     ]
    }
   ],
   "source": [
    "# 移除指定的值\n",
    "s = {3,4,5,6,7}\n",
    "s.discard(5)\n",
    "print(s)"
   ]
  },
  {
   "cell_type": "code",
   "execution_count": 23,
   "metadata": {},
   "outputs": [
    {
     "name": "stdout",
     "output_type": "stream",
     "text": [
      "{3, 4, 5, 6, 7}\n"
     ]
    }
   ],
   "source": [
    "# 随机移除一个元素\n",
    "s = {2,3,4,5,6,7}\n",
    "s.pop()\n",
    "print(s)\n",
    "# 因为集合是无序的,所以是随机"
   ]
  },
  {
   "cell_type": "code",
   "execution_count": 24,
   "metadata": {},
   "outputs": [
    {
     "name": "stdout",
     "output_type": "stream",
     "text": [
      "{3, 4, 5}\n"
     ]
    }
   ],
   "source": [
    "# 交集\n",
    "s1 = {1,2,3,4,5}\n",
    "s2 = {3,4,5,6,7}\n",
    "a = s1.intersection(s2)\n",
    "print(a)"
   ]
  },
  {
   "cell_type": "code",
   "execution_count": 27,
   "metadata": {},
   "outputs": [
    {
     "name": "stdout",
     "output_type": "stream",
     "text": [
      "{1, 2}\n"
     ]
    }
   ],
   "source": [
    "# 差集\n",
    "s1 = {1,2,3,4,5}\n",
    "s2 = {3,4,5,6,7}\n",
    "a = s1.difference(s2)\n",
    "print(a)"
   ]
  },
  {
   "cell_type": "code",
   "execution_count": 28,
   "metadata": {},
   "outputs": [
    {
     "name": "stdout",
     "output_type": "stream",
     "text": [
      "{1, 2, 3, 4, 5, 6, 7}\n"
     ]
    }
   ],
   "source": [
    "# 并集\n",
    "s1 = {1,2,3,4,5}\n",
    "s2 = {3,4,5,6,7}\n",
    "a = s1.union(s2)\n",
    "print(a)"
   ]
  },
  {
   "cell_type": "code",
   "execution_count": 29,
   "metadata": {},
   "outputs": [
    {
     "name": "stdout",
     "output_type": "stream",
     "text": [
      "False\n"
     ]
    }
   ],
   "source": [
    "# 判断是否为子集(返回布尔值)\n",
    "s1 = {1,2,3,4,5}\n",
    "s2 = {3,4,5,6,7}\n",
    "a = s1.issubset(s2)\n",
    "print(a)"
   ]
  },
  {
   "cell_type": "code",
   "execution_count": 30,
   "metadata": {},
   "outputs": [
    {
     "name": "stdout",
     "output_type": "stream",
     "text": [
      "False\n"
     ]
    }
   ],
   "source": [
    "# 判断是否为超集(返回布尔值)\n",
    "s1 = {1,2,3,4,5}\n",
    "s2 = {3,4,5,6,7}\n",
    "a = s1.issuperset(s2)\n",
    "print(a)"
   ]
  },
  {
   "cell_type": "code",
   "execution_count": 31,
   "metadata": {},
   "outputs": [
    {
     "name": "stdout",
     "output_type": "stream",
     "text": [
      "<class 'frozenset'>\n"
     ]
    }
   ],
   "source": [
    "# 冰冻集合\n",
    "s3 = frozenset()\n",
    "print(type(s3))"
   ]
  },
  {
   "cell_type": "markdown",
   "metadata": {},
   "source": [
    "# 字典 - dict\n",
    " - 字典是一种组合数据,没有顺序的组合数据,数据以键值对的形式出现\n",
    " - 创建字典\n",
    "    - 字典中,每一组数据用冒号隔开,每一个键值对用逗号隔开"
   ]
  },
  {
   "cell_type": "code",
   "execution_count": 33,
   "metadata": {},
   "outputs": [
    {
     "name": "stdout",
     "output_type": "stream",
     "text": [
      "<class 'dict'>\n",
      "<class 'dict'>\n",
      "<class 'dict'>\n"
     ]
    }
   ],
   "source": [
    "# 创建字典\n",
    "d = {}\n",
    "d1 = dict()\n",
    "d2 = {\"a\":1,\"b\":2,\"c\":3}\n",
    "print(type(d))\n",
    "print(type(d1))\n",
    "print(type(d2))\n"
   ]
  },
  {
   "cell_type": "code",
   "execution_count": 34,
   "metadata": {},
   "outputs": [
    {
     "name": "stdout",
     "output_type": "stream",
     "text": [
      "{'a': 1, 'b': 2, 'c': 3}\n"
     ]
    }
   ],
   "source": [
    "# 用dict创建有内容的字典,利用关键字参数\n",
    "d3 = dict(a=1,b=2,c=3)\n",
    "print(d3)"
   ]
  },
  {
   "cell_type": "markdown",
   "metadata": {},
   "source": [
    "## 字典的特征\n",
    " - 字典是序列类型,但是是无序序列,所以没有分片和索引\n",
    " - 字典的数据每个都有键值对组成,即kv对\n",
    "    - key:必须是可哈希的值,比如int, string, float, tuple,但是list,set,dict不行\n",
    "        - 什么是哈希:http://www.sohu.com/a/259942674_100236960\n",
    "    - value:任何值\n",
    "  "
   ]
  },
  {
   "cell_type": "markdown",
   "metadata": {},
   "source": [
    "### 字典常见操作\n",
    " - 访问\n",
    " - 赋值\n",
    " - 删除(删除 键 即删除了键值对)\n",
    " - 成员检测(检测的是 键)\n",
    " - 遍历\n",
    " - 字典生成式"
   ]
  },
  {
   "cell_type": "code",
   "execution_count": 36,
   "metadata": {},
   "outputs": [
    {
     "name": "stdout",
     "output_type": "stream",
     "text": [
      "2\n"
     ]
    }
   ],
   "source": [
    "# 访问数据\n",
    "d = {\"a\":1,\"b\":2,\"c\":3}\n",
    "print(d[\"b\"])"
   ]
  },
  {
   "cell_type": "code",
   "execution_count": 38,
   "metadata": {},
   "outputs": [
    {
     "name": "stdout",
     "output_type": "stream",
     "text": [
      "{'a': 1, 'b': 20, 'c': 3}\n"
     ]
    }
   ],
   "source": [
    "# 赋值\n",
    "d = {\"a\":1,\"b\":2,\"c\":3}\n",
    "d[\"b\"] = 20\n",
    "print(d)"
   ]
  },
  {
   "cell_type": "code",
   "execution_count": 40,
   "metadata": {},
   "outputs": [
    {
     "name": "stdout",
     "output_type": "stream",
     "text": [
      "{'a': 1, 'b': 2}\n"
     ]
    }
   ],
   "source": [
    "# 删除\n",
    "d = {\"a\":1,\"b\":2,\"c\":3}\n",
    "del d[\"c\"]\n",
    "print(d)"
   ]
  },
  {
   "cell_type": "code",
   "execution_count": 41,
   "metadata": {},
   "outputs": [
    {
     "name": "stdout",
     "output_type": "stream",
     "text": [
      "yes\n"
     ]
    }
   ],
   "source": [
    "# 成员检测\n",
    "d = {\"a\":1,\"b\":2,\"c\":3}\n",
    "if \"a\" in d:\n",
    "    print(\"yes\")"
   ]
  },
  {
   "cell_type": "code",
   "execution_count": 56,
   "metadata": {},
   "outputs": [
    {
     "name": "stdout",
     "output_type": "stream",
     "text": [
      "a b c \n",
      "1 2 3 \n",
      "a 1\n",
      "b 2\n",
      "c 3\n",
      "a -- 1\n",
      "b -- 2\n",
      "c -- 3\n"
     ]
    }
   ],
   "source": [
    "# 遍历\n",
    "d = {\"a\":1,\"b\":2,\"c\":3}\n",
    "# 访问 键\n",
    "for i in d:\n",
    "    print(i,end=\" \")\n",
    "print()\n",
    "# 访问 值\n",
    "for i in d:\n",
    "    print(d[i],end=\" \")\n",
    "print()\n",
    "# 访问 键 值\n",
    "for i in d:\n",
    "    print(i,d[i])\n",
    "for k,v in d.items():\n",
    "    print(k,\"--\",v)"
   ]
  },
  {
   "cell_type": "code",
   "execution_count": 57,
   "metadata": {},
   "outputs": [
    {
     "name": "stdout",
     "output_type": "stream",
     "text": [
      "{'a': 1, 'b': 2, 'c': 3}\n"
     ]
    }
   ],
   "source": [
    "# 字典生成\n",
    "d = {\"a\":1,\"b\":2,\"c\":3}\n",
    "d1 = {k:v for k,v in d.items()}\n",
    "print(d1)"
   ]
  },
  {
   "cell_type": "code",
   "execution_count": 58,
   "metadata": {},
   "outputs": [
    {
     "name": "stdout",
     "output_type": "stream",
     "text": [
      "{'b': 2}\n"
     ]
    }
   ],
   "source": [
    "# 加条件表达式的字典生成\n",
    "d = {\"a\":1,\"b\":2,\"c\":3}\n",
    "d1 = {k:v for k,v in d.items() if v % 2 ==0}\n",
    "print(d1)\n"
   ]
  },
  {
   "cell_type": "markdown",
   "metadata": {},
   "source": [
    "### 字典相关函数\n",
    " - items 返回字典 键值对 组成的元组格式\n",
    " - keys 返回字典 键 组成的一个结构\n",
    " - values 返回字典 值 组成的一个结构\n",
    " - get 根据指定键 返回相对的值,可以设置默认值\n",
    " - formkeys 使用指定的序列作为键,使用一个值 作为字典内所有键的值"
   ]
  },
  {
   "cell_type": "code",
   "execution_count": 60,
   "metadata": {},
   "outputs": [
    {
     "name": "stdout",
     "output_type": "stream",
     "text": [
      "dict_items([('a', 1), ('b', 2), ('c', 3)])\n",
      "<class 'dict_items'>\n"
     ]
    }
   ],
   "source": [
    "# 返回元祖格式的键值对\n",
    "d = {\"a\":1,\"b\":2,\"c\":3}\n",
    "d1 = d.items()\n",
    "print(d1)\n",
    "print(type(d1))\n"
   ]
  },
  {
   "cell_type": "code",
   "execution_count": 62,
   "metadata": {},
   "outputs": [
    {
     "name": "stdout",
     "output_type": "stream",
     "text": [
      "dict_keys(['a', 'b', 'c'])\n",
      "<class 'dict_keys'>\n"
     ]
    }
   ],
   "source": [
    "# 返回 键\n",
    "d = {\"a\":1,\"b\":2,\"c\":3}\n",
    "d1 = d.keys()\n",
    "print(d1)\n",
    "print(type(d1))"
   ]
  },
  {
   "cell_type": "code",
   "execution_count": 63,
   "metadata": {},
   "outputs": [
    {
     "name": "stdout",
     "output_type": "stream",
     "text": [
      "dict_values([1, 2, 3])\n",
      "<class 'dict_values'>\n"
     ]
    }
   ],
   "source": [
    "# 返回 值\n",
    "d = {\"a\":1,\"b\":2,\"c\":3}\n",
    "d1 = d.values()\n",
    "print(d1)\n",
    "print(type(d1))"
   ]
  },
  {
   "cell_type": "code",
   "execution_count": 64,
   "metadata": {},
   "outputs": [
    {
     "name": "stdout",
     "output_type": "stream",
     "text": [
      "None\n",
      "5\n"
     ]
    }
   ],
   "source": [
    "# 返回键对应的值, 键不存在返回None 值没有可以设定\n",
    "d = {\"a\":1,\"b\":2,\"c\":3}\n",
    "d1 = d.get(\"d\")\n",
    "d2 = d.get(\"e\",5)\n",
    "print(d1)\n",
    "print(d2)"
   ]
  },
  {
   "cell_type": "code",
   "execution_count": 66,
   "metadata": {},
   "outputs": [
    {
     "name": "stdout",
     "output_type": "stream",
     "text": [
      "{'a': 123, 'b': 123, 'c': 123}\n"
     ]
    }
   ],
   "source": [
    "# 使用指定的序列作为键 统一设定一个值\n",
    "f = [\"a\",\"b\",\"c\"]\n",
    "d = dict.fromkeys(f,123)\n",
    "print(d)\n"
   ]
  }
 ],
 "metadata": {
  "kernelspec": {
   "display_name": "Python 3",
   "language": "python",
   "name": "python3"
  },
  "language_info": {
   "codemirror_mode": {
    "name": "ipython",
    "version": 3
   },
   "file_extension": ".py",
   "mimetype": "text/x-python",
   "name": "python",
   "nbconvert_exporter": "python",
   "pygments_lexer": "ipython3",
   "version": "3.7.0"
  }
 },
 "nbformat": 4,
 "nbformat_minor": 2
}
