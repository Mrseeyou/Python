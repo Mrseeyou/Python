{
 "cells": [
  {
   "cell_type": "markdown",
   "metadata": {},
   "source": [
    "## 继承\n",
    "- 继承就是一个类可以获得另外一个类中的成员属性和成员方法\n",
    "- 作用: 减少代码,增加代码的复用功能,同时可以设置类与类之间的关系\n",
    "- 继承与被继承的概念:\n",
    "    - 被继承的类叫父类,也叫基类,也叫超类\n",
    "    - 用于继承的类,叫子类,也叫派生类\n",
    "    - 继承与被继承一定存在一个 is - a 关系\n",
    "- 继承的特征\n",
    "    - 所有的类都继承自object类,即所有的类都是object类的子类\n",
    "    - 子类一旦继承父类,则可以使用父类中除私有成员外的所有内容\n",
    "    - 子类继承父类后并没有将父类成员完全赋值到子类中,而是通过引用关系访问调用\n",
    "    - 子类中可以定义独有的成员属性和方法"
   ]
  },
  {
   "cell_type": "code",
   "execution_count": 12,
   "metadata": {},
   "outputs": [
    {
     "name": "stdout",
     "output_type": "stream",
     "text": [
      "18\n",
      "ming\n",
      "sleeping......\n",
      "atten class\n",
      "9527\n",
      "18\n",
      "ming\n"
     ]
    }
   ],
   "source": [
    "# 继承语法\n",
    "class Person():\n",
    "    age = 18\n",
    "    __score = 0 # 私有\n",
    "    _petname = \"ming\" # 受保护的\n",
    "    \n",
    "    def sleep(self):\n",
    "        print(\"sleeping......\")\n",
    "        \n",
    "# 父类写在括号里\n",
    "class Techer(Person):\n",
    "    techer_id = \"9527\"\n",
    "    def make_test(self):\n",
    "        print(\"atten class\")\n",
    "        \n",
    "t = Techer()\n",
    "print(t.age)\n",
    "print(t._petname)\n",
    "# print(t.__score) 报错\n",
    "\n",
    "t.sleep()\n",
    "t.make_test()\n",
    "print(t.techer_id)\n",
    "\n",
    "# 因为继承 所以Techer 含有Person 的属性\n",
    "print(Techer.age)\n",
    "print(Techer._petname)\n",
    "# print(Techer.__score) 报错"
   ]
  },
  {
   "cell_type": "markdown",
   "metadata": {},
   "source": [
    "   - 子类中定义的成员和父类成员如果相同,则优先使用子类成员"
   ]
  },
  {
   "cell_type": "code",
   "execution_count": 13,
   "metadata": {},
   "outputs": [
    {
     "name": "stdout",
     "output_type": "stream",
     "text": [
      "ming\n"
     ]
    }
   ],
   "source": [
    "class Person():\n",
    "    name = \"xiaoming\"\n",
    "        \n",
    "class Techer(Person):\n",
    "    name = \"ming\"\n",
    "\n",
    "t = Techer()\n",
    "print(t.name)"
   ]
  },
  {
   "cell_type": "markdown",
   "metadata": {},
   "source": [
    "- 子类如果想扩充父类的方法,可以在定义新方法的同时访问父类成员来进行代码重用,可以使用 \n",
    "    - [父类名.父类成员] 的格式来调用父类成员,也可以使用[super().父类成员]的格式来调用\n",
    "- 子类如果想调用父类的构造函数,可以使用\n",
    "    - [父类名.构造函数]或者是[super(class,self).构造函数]"
   ]
  },
  {
   "cell_type": "code",
   "execution_count": 19,
   "metadata": {},
   "outputs": [
    {
     "name": "stdout",
     "output_type": "stream",
     "text": [
      "make some money\n",
      "atten class\n"
     ]
    }
   ],
   "source": [
    "class Person():\n",
    "    def work(self):\n",
    "        print(\"make some money\")\n",
    "        \n",
    "class Techer(Person): \n",
    "    def make_test(self):\n",
    "        print(\"atten class\")\n",
    "        \n",
    "    def work(self):\n",
    "        # 调用父类的方法\n",
    "        super().work()\n",
    "        self.make_test()\n",
    "        \n",
    "\n",
    "t = Techer()\n",
    "t.work()"
   ]
  },
  {
   "cell_type": "code",
   "execution_count": 21,
   "metadata": {},
   "outputs": [
    {
     "name": "stdout",
     "output_type": "stream",
     "text": [
      "A\n",
      "哈哈\n",
      "我是自己添加的功能\n"
     ]
    }
   ],
   "source": [
    "class A():\n",
    "    def __init__(self,name):\n",
    "        print(\"A\")\n",
    "        print(name)\n",
    "        \n",
    "class B(A):\n",
    "    def __init__(self,name):\n",
    "        # 调用父类的构造函数\n",
    "        super(B,self).__init__(name)\n",
    "        print(\"我是自己添加的功能\")\n",
    "        \n",
    "b = B(\"哈哈\")  "
   ]
  },
  {
   "cell_type": "markdown",
   "metadata": {},
   "source": [
    "- 继承变量函数的查找顺序问题\n",
    "    - 优先查找自己的变量\n",
    "    - 没有则查找父类\n",
    "    - 构造函数如果本类中没有定义,则自动查找调用父类结构函数\n",
    "    - 如果本类有定义,则不再继续向上查找"
   ]
  },
  {
   "cell_type": "markdown",
   "metadata": {},
   "source": [
    "- 构造函数\n",
    "    - 是一类特殊的函数,在类进行实例化之前进行调用\n",
    "    - 如果定义了构造函数,则实例化时使用构造函数,不查找父类构造函数\n",
    "    - 如果没定义,则自动查找父类构造函数\n",
    "    - 如果子类没定义,父类的构造函数带参数,则构造对象时的参数应该按父类参数构造\n",
    "    - 在对象进行实例化的时候,系统自动调用一个函数叫构造函数,通常此函数用来对实例对象进行初始化,顾名思义\n",
    "    - 构造函数一定要有,如果没有,则自动向上查找,按照MRO顺序,直到找到为止"
   ]
  },
  {
   "cell_type": "code",
   "execution_count": 16,
   "metadata": {},
   "outputs": [
    {
     "name": "stdout",
     "output_type": "stream",
     "text": [
      "I am init in dog\n"
     ]
    }
   ],
   "source": [
    "class Dog():\n",
    "    # __init__ 就是构造函数\n",
    "    def __init__(self):\n",
    "        print(\"I am init in dog\")\n",
    "        \n",
    "# 实例化的时候,括号内的参数需要跟构造函数参数相匹配\n",
    "qiuqiu = Dog()"
   ]
  },
  {
   "cell_type": "code",
   "execution_count": 17,
   "metadata": {},
   "outputs": [
    {
     "name": "stdout",
     "output_type": "stream",
     "text": [
      "I am dog\n",
      "I am dog\n",
      "The qiuqiu is an animel\n"
     ]
    }
   ],
   "source": [
    "# 继承中的构造函数\n",
    "class Animel():\n",
    "    def __init__(self,name):\n",
    "        print(\"The {} is an animel\".format(name))\n",
    "\n",
    "class Suckler(Animel):\n",
    "    def __init__(self):\n",
    "        print(\"I am dog\")\n",
    "\n",
    "class Dog(Suckler):\n",
    "    pass\n",
    "        \n",
    "# 在Suckler中查找到构造函数,不在向上查找        \n",
    "s = Suckler()\n",
    "\n",
    "# 在Dog中没有构造函数,向上查找\n",
    "d = Dog()\n",
    "    \n",
    "# Animel中需要传入一个参数,如果不传报错\n",
    "a = Animel(\"qiuqiu\")"
   ]
  },
  {
   "cell_type": "markdown",
   "metadata": {},
   "source": [
    "- super\n",
    "    - super不是关键字,而是一个类\n",
    "    - super的作用是获取MRO (MethodResolustionOrder)列表的第一个类\n",
    "    - super于父类之间没有任何实质性关系,但通过super可以调用到父类\n",
    "    - super使用两个方法,参见在构造函数中调用父类的构造函数`"
   ]
  },
  {
   "cell_type": "markdown",
   "metadata": {},
   "source": [
    "- 单继承和多继承\n",
    "    - 单继承: 每个类只能继承一个类\n",
    "    - 多继承: 每个类允许继承多个类\n",
    "        - 单继承\n",
    "            - 优点和缺点\n",
    "                - 继承有序,逻辑清晰,语法简单,隐患少\n",
    "                - 功能不能无限扩展,只能在当前唯一的继承链中扩展\n",
    "        - 多继承\n",
    "            - 优点和缺点\n",
    "                - 类的功能扩展方便\n",
    "                - 继承关系混乱"
   ]
  },
  {
   "cell_type": "code",
   "execution_count": 4,
   "metadata": {},
   "outputs": [
    {
     "name": "stdout",
     "output_type": "stream",
     "text": [
      "(<class '__main__.A'>, <class 'object'>)\n",
      "(<class '__main__.B'>, <class 'object'>)\n",
      "(<class '__main__.C'>, <class '__main__.A'>, <class '__main__.B'>, <class 'object'>)\n"
     ]
    }
   ],
   "source": [
    "class A():\n",
    "    pass\n",
    "class B():\n",
    "    pass\n",
    "class C(A,B):\n",
    "    pass\n",
    "\n",
    "print(A.__mro__)\n",
    "print(B.__mro__)\n",
    "print(C.__mro__)\n",
    "\n",
    "    "
   ]
  },
  {
   "cell_type": "code",
   "execution_count": 5,
   "metadata": {},
   "outputs": [],
   "source": [
    "class Fish():\n",
    "    def __init__(self,name):\n",
    "        self.name = name\n",
    "    def swim(self):\n",
    "        print(\"i am swimming\")\n",
    "        \n",
    "class Bird():\n",
    "    def __init__(self,name):\n",
    "        self.name = name\n",
    "    def fly(self):\n",
    "        print(\"i an flying\")\n",
    "\n",
    "class Person():\n",
    "    def __init__(self,name):\n",
    "        self.name = name\n",
    "    def work(self):\n",
    "        print(\"i am working\")"
   ]
  },
  {
   "cell_type": "code",
   "execution_count": 7,
   "metadata": {},
   "outputs": [
    {
     "name": "stdout",
     "output_type": "stream",
     "text": [
      "i am working\n"
     ]
    }
   ],
   "source": [
    "# 单继承\n",
    "class Student(Person):\n",
    "    def __init__(self,name):\n",
    "        self.name = name \n",
    "s = Student(\"xiaoming\")\n",
    "s.work()"
   ]
  },
  {
   "cell_type": "code",
   "execution_count": 9,
   "metadata": {},
   "outputs": [
    {
     "name": "stdout",
     "output_type": "stream",
     "text": [
      "i am swimming\n",
      "i an flying\n",
      "i am working\n"
     ]
    }
   ],
   "source": [
    "# 多继承\n",
    "class Superman(Fish,Bird,Person):\n",
    "    def __init__(self,name):\n",
    "        self.name = name\n",
    "\n",
    "s = Superman(\"xiaoming\")\n",
    "s.swim()\n",
    "s.fly()\n",
    "s.work()"
   ]
  },
  {
   "cell_type": "markdown",
   "metadata": {},
   "source": [
    "- 菱形继承/钻石继承问题\n",
    "    - 多个子类继承自同一个父类,这些子类又被同一个类继承,于是继承关系图形成一个菱形图谱\n",
    "    - https://www.cnblogs.com/whatisfantasy/p/6046991.html\n",
    "    - 关于多继承的MRO\n",
    "        - MRO就是多继承中,用于保存继承顺序的一个列表\n",
    "        - python本身采用C3算法来多继承的菱形继承进行计算的结果\n",
    "        - MRO列表的计算原则:\n",
    "            - 子类永远在父类前面\n",
    "            - 如果多个父类,则根据继承语法中括号内类的书写顺序存放\n",
    "            - 如果多个类继承了同一个父类,孙子类中只会选取继承语法括号中第一个父类的父类"
   ]
  }
 ],
 "metadata": {
  "kernelspec": {
   "display_name": "Python 3",
   "language": "python",
   "name": "python3"
  },
  "language_info": {
   "codemirror_mode": {
    "name": "ipython",
    "version": 3
   },
   "file_extension": ".py",
   "mimetype": "text/x-python",
   "name": "python",
   "nbconvert_exporter": "python",
   "pygments_lexer": "ipython3",
   "version": "3.7.0"
  }
 },
 "nbformat": 4,
 "nbformat_minor": 2
}
