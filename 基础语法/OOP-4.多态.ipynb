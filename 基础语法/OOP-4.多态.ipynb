{
 "cells": [
  {
   "cell_type": "markdown",
   "metadata": {},
   "source": [
    "## 多态\n",
    "- 多态就是同一个对象在不同情况下有不同的状态出现\n",
    "- 多态不是一种语法,是一种设计思想\n",
    "- 多态: 同一事物的多种心态,动物分为人类,犬类,猫科类\n",
    "- 多态性: 一种调用方式,不同的执行效果\n",
    "- https://www.cnblogs.com/luchuangao/p/6739557.html"
   ]
  },
  {
   "cell_type": "markdown",
   "metadata": {},
   "source": [
    "- Mixin设计模式\n",
    "    - 主要采用多继承方式对类的功能进行扩展\n",
    "    - 使用Mixin实现多继承的时候要非常小心\n",
    "        - 首先他必须表示某一单一功能,而不是某个物品\n",
    "        - 职责必须单一,如果有多个功能,则写多个Mixin\n",
    "        - Mixin不能依赖于子类的实现\n",
    "        - 子类即使没有继承这个Mixin类,也照样工作,只是缺少了某个功能\n",
    "    - 优点:\n",
    "        - 使用Mixin可以在不对类进行任何修改的情况下,扩充功能\n",
    "        - 可以方便的组织和维护不同功能组件的划分\n",
    "        - 可以根据需要任意调整功能类的组合\n",
    "        - 可以避免创建很多新的类,导致类的继承混乱"
   ]
  },
  {
   "cell_type": "code",
   "execution_count": 2,
   "metadata": {},
   "outputs": [
    {
     "name": "stdout",
     "output_type": "stream",
     "text": [
      "(<class '__main__.TutorMixin'>, <class '__main__.Person'>, <class '__main__.TeacherMixin'>, <class '__main__.StudentMixin'>, <class 'object'>)\n",
      "{}\n",
      "{'__module__': '__main__', '__doc__': None}\n"
     ]
    }
   ],
   "source": [
    "# Mixin案例\n",
    "class Person():\n",
    "    name = \"like\"\n",
    "    age = 18\n",
    "    def eat(self):\n",
    "        print(\"EAT...\")\n",
    "    def drink(self):\n",
    "        print(\"DRINK\")\n",
    "    def sleep(self):\n",
    "        print(\"SLEEP\")\n",
    "\n",
    "class TeacherMixin():\n",
    "    def work(self):\n",
    "        print(\"work\")\n",
    "\n",
    "class StudentMixin():\n",
    "    def study(self):\n",
    "        print(\"study\")\n",
    "\n",
    "class TutorMixin(Person, TeacherMixin, StudentMixin):\n",
    "    pass\n",
    "t = TutorMixin()\n",
    "print(TutorMixin.__mro__)\n",
    "print(t.__dict__)\n",
    "print(TutorMixin.__dict__)"
   ]
  }
 ],
 "metadata": {
  "kernelspec": {
   "display_name": "Python 3",
   "language": "python",
   "name": "python3"
  },
  "language_info": {
   "codemirror_mode": {
    "name": "ipython",
    "version": 3
   },
   "file_extension": ".py",
   "mimetype": "text/x-python",
   "name": "python",
   "nbconvert_exporter": "python",
   "pygments_lexer": "ipython3",
   "version": "3.7.0"
  }
 },
 "nbformat": 4,
 "nbformat_minor": 2
}
