{
 "cells": [
  {
   "cell_type": "markdown",
   "metadata": {},
   "source": [
    "# while循环\n",
    " - 一个循环语句\n",
    " - 表示当某条件成立的时候,就循环\n",
    " - 不知道具体循环次数,但能确定循环的成立条件的时候用whlie循环\n",
    " - while语法\n",
    "        while 条件表达式:\n",
    "            语句块\n",
    "        (另外一种表达方式)\n",
    "        while 条件表达式:\n",
    "            语句块1\n",
    "        else:\n",
    "            语句块2"
   ]
  },
  {
   "cell_type": "code",
   "execution_count": 2,
   "metadata": {},
   "outputs": [
    {
     "name": "stdout",
     "output_type": "stream",
     "text": [
      "第1年拿到了105600.0块钱\n",
      "第2年拿到了111513.6块钱\n",
      "第3年拿到了117758.36160000002块钱\n",
      "第4年拿到了124352.82984960002块钱\n",
      "第5年拿到了131316.58832117764块钱\n",
      "第6年拿到了138670.3172671636块钱\n",
      "第7年拿到了146435.85503412478块钱\n",
      "第8年拿到了154636.26291603578块钱\n",
      "第9年拿到了163295.89363933378块钱\n",
      "第10年拿到了172440.46368313648块钱\n",
      "第11年拿到了182097.12964939213块钱\n",
      "第12年拿到了192294.5689097581块钱\n",
      "第13年拿到了203063.06476870456块钱\n"
     ]
    }
   ],
   "source": [
    "# 如果说年利率是5.6%,本利是每年翻滚,则多少年后本钱会翻倍\n",
    "benqian = 100000\n",
    "year = 0\n",
    "while benqian  < 200000:\n",
    "    benqian = benqian * (1+0.056)\n",
    "    year += 1\n",
    "    print(\"第{0}年拿到了{1}块钱\".format(year,benqian))\n"
   ]
  },
  {
   "cell_type": "markdown",
   "metadata": {},
   "source": [
    "# 函数\n",
    " - 代码的一种组织形式\n",
    " - 一个函数一般完成一项特定的功能\n",
    " - 函数使用\n",
    "    - 函数需要先定义\n",
    "    - 使用函数,俗称调用"
   ]
  },
  {
   "cell_type": "code",
   "execution_count": 3,
   "metadata": {},
   "outputs": [
    {
     "name": "stdout",
     "output_type": "stream",
     "text": [
      "********************\n",
      "我是一个函数\n",
      "我们同一个缩进\n",
      "不带入不会执行\n"
     ]
    }
   ],
   "source": [
    "# 定义一个函数,只是定义的话不会执行\n",
    "'''\n",
    "1. def关键字,后跟一个空格\n",
    "2. 函数名,自己定义,起名需要遵循命名规则\n",
    "3. 后面的括号和冒号不能省略,括号可以有参数也可以没有\n",
    "4. 函数内所有代码同一缩进\n",
    "'''\n",
    "def func():\n",
    "    print(\"我是一个函数\")\n",
    "    print(\"我们同一个缩进\")\n",
    "    print(\"不带入不会执行\")\n",
    "print(\"*\" * 20)\n",
    "# 函数的调用\n",
    "# 直接函数后面跟括号\n",
    "func()"
   ]
  },
  {
   "cell_type": "markdown",
   "metadata": {},
   "source": [
    "# 函数的参数和返回值\n",
    " - 参数: 负责给函数传递一些必要的数据或者信息\n",
    "    - 形参: (形式参数) 在函数定义的时候用到的参数没有具体值,只是一个占位的符号,成为形参\n",
    "    - 实参: (实际参数) 在调用函数的时候输入的值\n",
    " - 返回值: 函数的执行结果\n",
    "    - 使用return关键字\n",
    "    - 如果没有return, 默认返回一个None\n",
    "    - 函数一旦执行return语句,则无条件返回,即结束函数执行"
   ]
  },
  {
   "cell_type": "markdown",
   "metadata": {},
   "source": [
    " # 参数详解\n",
    "    - 参数分类\n",
    "    - 普通参数\n",
    "    - 默认参数\n",
    "    - 关键字参数\n",
    "    - 收集参数"
   ]
  },
  {
   "cell_type": "markdown",
   "metadata": {},
   "source": [
    "\n",
    " ## 普通参数\n",
    "  - 定义的时候直接定义变量名\n",
    "  - 调用的时候直接把变量或者值放入指定位置\n",
    "     def 函数名(参数1,参数2,...):\n",
    "        函数体\n",
    "     ### 调用\n",
    "     函数名(value1,value2,...):\n",
    "     调用的时候,具体值参考的是位置,按位置赋值\n",
    "     "
   ]
  },
  {
   "cell_type": "code",
   "execution_count": 14,
   "metadata": {},
   "outputs": [
    {
     "name": "stdout",
     "output_type": "stream",
     "text": [
      "you,你怎么了?\n",
      "不理我,我睡觉了.\n",
      "you,你怎么了?\n",
      "不理我,我睡觉了.\n",
      "you,你怎么了?\n",
      "不理我,我睡觉了.\n",
      "我找you,但是you似乎没有心思跟我聊天\n",
      "1 \n",
      "2 4 \n",
      "3 6 9 \n",
      "4 8 12 16 \n",
      "5 10 15 20 25 \n",
      "6 12 18 24 30 36 \n",
      "7 14 21 28 35 42 49 \n",
      "8 16 24 32 40 48 56 64 \n",
      "9 18 27 36 45 54 63 72 81 \n"
     ]
    }
   ],
   "source": [
    "# 参数的定义和使用\n",
    "# 参数person只是一个符号,代表的是调用的时候的某一个数据\n",
    "def hello(person):\n",
    "    print(\"{0},你怎么了?\".format(person))\n",
    "    print(\"不理我,我睡觉了.\")\n",
    "i = \"you\"\n",
    "hello(i)\n",
    "# return语句的基本使用\n",
    "# 把函数赋值给s,执行s后返回一句话,没由return返回None\n",
    "def hello(person):\n",
    "    print(\"{0},你怎么了?\".format(person))\n",
    "    print(\"不理我,我睡觉了.\")\n",
    "    return \"我找{0},但是{1}似乎没有心思跟我聊天\".format(person,person)\n",
    "i = \"you\"\n",
    "hello(i)\n",
    "s = hello(i)\n",
    "print(s)\n",
    "\n",
    "# 定义一个函数,打印乘法表\n",
    "\n",
    "def func(A):\n",
    "    \n",
    "    for i in range(1,A+1):\n",
    "        print(i * A , end=\" \")\n",
    "    print()\n",
    "    \n",
    "for A in range(1,10):\n",
    "    func(A)\n"
   ]
  },
  {
   "cell_type": "markdown",
   "metadata": {},
   "source": [
    "## 默认参数\n",
    "  - 形参带有默认值\n",
    "  - 调用的时候,如果没有对应形参赋值,则使用默认值\n",
    "  - 所有普通参数必须出现在默认参数前,包括函数定义和调用\n",
    "    def func_name(p1=v1,p2=v2,...):\n",
    "        函数体\n",
    "     ### 调用1\n",
    "        func_name()\n",
    "     ### 调用2\n",
    "        v1 = 100\n",
    "        v2 = 200\n",
    "        ...\n",
    "        func_name(v1,v2,...)"
   ]
  },
  {
   "cell_type": "code",
   "execution_count": 4,
   "metadata": {},
   "outputs": [
    {
     "name": "stdout",
     "output_type": "stream",
     "text": [
      "my name in xiaoming 1i am 26 years old, and he in a good student\n",
      "my name in keke 1i am 24 years old, and she in a good student\n"
     ]
    }
   ],
   "source": [
    "# 默认参数示例\n",
    "# 报名函数,需要知道学生性别\n",
    "# 如果没有指定说明,我们默认为男生\n",
    "def reg(name,age,gender=\"man\"):\n",
    "    if gender == \"man\":\n",
    "        print(\"my name in {0} 1i am {1} years old, and he in a good student\".format(name, age))\n",
    "    else:\n",
    "        print(\"my name in {0} 1i am {1} years old, and she in a good student\".format(name, age))\n",
    "# 调用默认参数函数\n",
    "reg(\"xiaoming\",26)\n",
    "reg(\"keke\",24,\"women\")"
   ]
  }
 ],
 "metadata": {
  "kernelspec": {
   "display_name": "Python 3",
   "language": "python",
   "name": "python3"
  },
  "language_info": {
   "codemirror_mode": {
    "name": "ipython",
    "version": 3
   },
   "file_extension": ".py",
   "mimetype": "text/x-python",
   "name": "python",
   "nbconvert_exporter": "python",
   "pygments_lexer": "ipython3",
   "version": "3.7.0"
  }
 },
 "nbformat": 4,
 "nbformat_minor": 2
}
