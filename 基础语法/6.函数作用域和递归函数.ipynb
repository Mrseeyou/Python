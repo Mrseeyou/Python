{
 "cells": [
  {
   "cell_type": "markdown",
   "metadata": {},
   "source": [
    "# 变量作用域\n",
    " - 变量由作用范围限制\n",
    " - 分类:按照作用范围分类\n",
    "    - 全局(global):在函数外部定义\n",
    "    - 局部(local):在函数内部定义\n",
    " - 变量的作用范围:\n",
    "    - 全局变量:在整个全局范围都有效\n",
    "    - 全局变量在局部可以使用(函数内部可以访问函数外部定义的变量)\n",
    "    - 局部变量在局部范围可以使用\n",
    "    - 局部变量在全局范围无法使用\n",
    " - LEGB原则\n",
    "    - L(Local)局部作用域\n",
    "    - E(Enlosing function locale)外部嵌套函数作用域\n",
    "    - G(Global nodule)函数定义所在模块作用域\n",
    "    - B(Buildin) python内置模块的作用域\n",
    " ## 提升局部变量为全局变量\n",
    "  - 使用global,形如global s  "
   ]
  },
  {
   "cell_type": "code",
   "execution_count": 1,
   "metadata": {},
   "outputs": [
    {
     "name": "stdout",
     "output_type": "stream",
     "text": [
      "100\n",
      "100\n",
      "I like keke\n"
     ]
    }
   ],
   "source": [
    "# a1是全局的,a2是局部的,执行a2就会报错\n",
    "a1 = 100\n",
    "def func():\n",
    "    print(a1)\n",
    "    print(\"I like you\")\n",
    "    a2 = 90\n",
    "print(a1)\n",
    "func()\n",
    "#print(a2)"
   ]
  },
  {
   "cell_type": "code",
   "execution_count": 2,
   "metadata": {},
   "outputs": [
    {
     "name": "stdout",
     "output_type": "stream",
     "text": [
      "100\n",
      "100\n",
      "哈哈哈\n",
      "90\n"
     ]
    }
   ],
   "source": [
    "# 提升局部变量为全局变量\n",
    "s1 = 100\n",
    "def func():\n",
    "    print(s1)\n",
    "    print(\"哈哈哈\")\n",
    "    global s2\n",
    "    s2 = 90\n",
    "print(s1)\n",
    "func()\n",
    "print(s2)"
   ]
  },
  {
   "cell_type": "code",
   "execution_count": 3,
   "metadata": {},
   "outputs": [
    {
     "name": "stdout",
     "output_type": "stream",
     "text": [
      "locals={'b1': 90}\n",
      "globals={'__name__': '__main__', '__doc__': 'Automatically created module for IPython interactive environment', '__package__': None, '__loader__': None, '__spec__': None, '__builtin__': <module 'builtins' (built-in)>, '__builtins__': <module 'builtins' (built-in)>, '_ih': ['', '# a1是全局的,a2是局部的,执行a2就会报错\\na1 = 100\\ndef func():\\n    print(a1)\\n    print(\"I like keke\")\\n    a2 = 90\\nprint(a1)\\nfunc()\\n#print(a2)', '# 提升局部变量为全局变量\\ns1 = 100\\ndef func():\\n    print(s1)\\n    print(\"哈哈哈\")\\n    global s2\\n    s2 = 90\\nprint(s1)\\nfunc()\\nprint(s2)', '# 查看全局变量和局部变量\\nb = 100\\ndef func():\\n    b1 = 90\\n    print(\"locals={0}\".format(locals()))\\n    print(\"globals={0}\".format(globals()))\\nfunc()'], '_oh': {}, '_dh': ['C:\\\\Users\\\\Administrator\\\\我的课件'], 'In': ['', '# a1是全局的,a2是局部的,执行a2就会报错\\na1 = 100\\ndef func():\\n    print(a1)\\n    print(\"I like keke\")\\n    a2 = 90\\nprint(a1)\\nfunc()\\n#print(a2)', '# 提升局部变量为全局变量\\ns1 = 100\\ndef func():\\n    print(s1)\\n    print(\"哈哈哈\")\\n    global s2\\n    s2 = 90\\nprint(s1)\\nfunc()\\nprint(s2)', '# 查看全局变量和局部变量\\nb = 100\\ndef func():\\n    b1 = 90\\n    print(\"locals={0}\".format(locals()))\\n    print(\"globals={0}\".format(globals()))\\nfunc()'], 'Out': {}, 'get_ipython': <bound method InteractiveShell.get_ipython of <ipykernel.zmqshell.ZMQInteractiveShell object at 0x00000000038750B8>>, 'exit': <IPython.core.autocall.ZMQExitAutocall object at 0x0000000004BFC6A0>, 'quit': <IPython.core.autocall.ZMQExitAutocall object at 0x0000000004BFC6A0>, '_': '', '__': '', '___': '', '_i': '# 提升局部变量为全局变量\\ns1 = 100\\ndef func():\\n    print(s1)\\n    print(\"哈哈哈\")\\n    global s2\\n    s2 = 90\\nprint(s1)\\nfunc()\\nprint(s2)', '_ii': '# a1是全局的,a2是局部的,执行a2就会报错\\na1 = 100\\ndef func():\\n    print(a1)\\n    print(\"I like keke\")\\n    a2 = 90\\nprint(a1)\\nfunc()\\n#print(a2)', '_iii': '', '_i1': '# a1是全局的,a2是局部的,执行a2就会报错\\na1 = 100\\ndef func():\\n    print(a1)\\n    print(\"I like keke\")\\n    a2 = 90\\nprint(a1)\\nfunc()\\n#print(a2)', 'a1': 100, 'func': <function func at 0x0000000004C30D90>, '_i2': '# 提升局部变量为全局变量\\ns1 = 100\\ndef func():\\n    print(s1)\\n    print(\"哈哈哈\")\\n    global s2\\n    s2 = 90\\nprint(s1)\\nfunc()\\nprint(s2)', 's1': 100, 's2': 90, '_i3': '# 查看全局变量和局部变量\\nb = 100\\ndef func():\\n    b1 = 90\\n    print(\"locals={0}\".format(locals()))\\n    print(\"globals={0}\".format(globals()))\\nfunc()', 'b': 100}\n"
     ]
    }
   ],
   "source": [
    "# 查看全局变量和局部变量\n",
    "b = 100\n",
    "def func():\n",
    "    b1 = 90\n",
    "    print(\"locals={0}\".format(locals()))\n",
    "    print(\"globals={0}\".format(globals()))\n",
    "func()"
   ]
  },
  {
   "cell_type": "markdown",
   "metadata": {},
   "source": [
    "# eval()函数\n",
    " - 把一个字符串当成一个代表式来执行,返回表达式执行后的结果\n",
    " - 语法:\n",
    "        eval(string_code,globals=None,locals=None)\n",
    "        \n",
    "# exec()函数\n",
    " - 跟eval功能类似,但是不返回结果\n",
    " - 语法:\n",
    "        exec(string=code,globals=None,locals=None)"
   ]
  },
  {
   "cell_type": "code",
   "execution_count": 4,
   "metadata": {},
   "outputs": [
    {
     "name": "stdout",
     "output_type": "stream",
     "text": [
      "100\n",
      "None\n"
     ]
    }
   ],
   "source": [
    "# eval()函数和exec()函数例子\n",
    "x = 50\n",
    "y = 50 \n",
    "z1 = eval(\"x + y\")\n",
    "z2 = exec(\"x + y\")\n",
    "print(z1)\n",
    "print(z2)"
   ]
  },
  {
   "cell_type": "markdown",
   "metadata": {},
   "source": [
    "# 递归函数\n",
    " - 函数调用自己或者间接调用自己\n",
    " - 优点:简洁,容易理解\n",
    " - 缺点:对递归深度有限制,消耗资源大\n",
    " - python对递归深度有限制,超过限制报错\n",
    " - 在写递归程序的时候,一定要注意结束"
   ]
  },
  {
   "cell_type": "code",
   "execution_count": 5,
   "metadata": {},
   "outputs": [
    {
     "name": "stdout",
     "output_type": "stream",
     "text": [
      "1\n"
     ]
    }
   ],
   "source": [
    "# 递归调用 深度限制代码\n",
    "x = 0\n",
    "def func():\n",
    "    global x\n",
    "    x += 1\n",
    "    print(x)\n",
    "    #函数自己调用自己,执行下面的代码,执行到调用递归最大深度报错\n",
    "    #func()\n",
    "func()"
   ]
  },
  {
   "cell_type": "markdown",
   "metadata": {},
   "source": [
    "# 斐波那契额数列\n",
    " - 一列数字,第一个是1,第二个也是1,第三个开始,等于前面两个数字值的和\n",
    " - 数学公式:\n",
    "            f(n) = f(n-1) + f(n-2)"
   ]
  },
  {
   "cell_type": "code",
   "execution_count": 8,
   "metadata": {},
   "outputs": [
    {
     "name": "stdout",
     "output_type": "stream",
     "text": [
      "5\n",
      "需要输出多少项?4\n",
      "斐波那契数列:\n",
      "1\n",
      "1\n",
      "2\n",
      "3\n"
     ]
    }
   ],
   "source": [
    "# n表示第n个数字的斐波那契额数列的值\n",
    "def fib(n):\n",
    "    if n == 1:\n",
    "        return 1\n",
    "    if n == 2:\n",
    "        return 1\n",
    "    return fib(n-1) + fib(n-2)\n",
    "print(fib(5))\n",
    "# 这样写可以防止比1小的数出现,输入结果也比较详细\n",
    "def func(n):\n",
    "    if n <=1:\n",
    "        return n\n",
    "    else:\n",
    "        return(func(n-1) + func(n-2))\n",
    "l = int(input(\"需要输出多少项?\"))\n",
    "if l <= 0:\n",
    "    print(\"请输入正数\")\n",
    "else:\n",
    "    print(\"斐波那契数列:\")\n",
    "    for i in range(1,l+1):\n",
    "        print(func(i))"
   ]
  },
  {
   "cell_type": "markdown",
   "metadata": {},
   "source": [
    "# 汉诺塔问题\n",
    " - 汉诺塔规则:\n",
    "    - 1.每次只能移动一个盘子\n",
    "    - 2.任何一次移动,塔的状态必须是小在上,大在下\n",
    " - 方法:\n",
    "    - 1. n=1: 直接把A移动到C上, A->C\n",
    "    - 2. n=2: (借助B,实现A移动到C,并且符合小在上,大在下的规则.)\n",
    "          - 1.把小的从A放到B上: A->B\n",
    "          - 2.把大的从A放到C上: A->C\n",
    "          - 3.把小的从B放到C上: B->C\n",
    "    - 3. n=3: \n",
    "          - 1.把A上的两个塔,通过C移动到B上去,调用递归(n=2时的方法)\n",
    "          - 2.把A上最大的放到C上: A->C\n",
    "          - 3.把B上刚才A移动过来的两个塔通过A移动到C上,调用递归\n",
    "    - 4. n=n:\n",
    "          - 1.把A上的n-1个塔 通过C移动到B上去,调用递归\n",
    "          - 2.把A上最大的放到C上: A->C\n",
    "          - 3.把B上n-1个塔通过A移动到C上,调用递归  "
   ]
  },
  {
   "cell_type": "code",
   "execution_count": 9,
   "metadata": {},
   "outputs": [
    {
     "name": "stdout",
     "output_type": "stream",
     "text": [
      "A  >  C\n",
      "A  >  B\n",
      "C  >  B\n",
      "A  >  C\n",
      "B  >  A\n",
      "B  >  C\n",
      "A  >  C\n"
     ]
    }
   ],
   "source": [
    "# 汉诺塔函数\n",
    "def hano(n,a,b,c):\n",
    "    if n == 1:\n",
    "        print(a,\" > \",c)\n",
    "        return None\n",
    "    else:\n",
    "        hano(n-1,a,c,b)\n",
    "        hano(1,a,b,c)\n",
    "        hano(n-1,b,a,c)\n",
    "a = \"A\"\n",
    "b = \"B\"\n",
    "c = \"C\"\n",
    "n = 1\n",
    "hano(3,a,b,c)\n"
   ]
  }
 ],
 "metadata": {
  "kernelspec": {
   "display_name": "Python 3",
   "language": "python",
   "name": "python3"
  },
  "language_info": {
   "codemirror_mode": {
    "name": "ipython",
    "version": 3
   },
   "file_extension": ".py",
   "mimetype": "text/x-python",
   "name": "python",
   "nbconvert_exporter": "python",
   "pygments_lexer": "ipython3",
   "version": "3.7.0"
  }
 },
 "nbformat": 4,
 "nbformat_minor": 2
}
