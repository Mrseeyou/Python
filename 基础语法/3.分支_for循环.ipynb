{
 "cells": [
  {
   "cell_type": "markdown",
   "metadata": {},
   "source": [
    "# 三大结构\n",
    " - 顺序\n",
    " - 分支\n",
    " - 循环\n",
    " \n",
    " ## 分支\n",
    "  - 分支的基本语法\n",
    "       - if 条件表达式:\n",
    "            语句1\n",
    "            语句2\n",
    "            语句3\n",
    "            ......\n",
    "  - 条件表达式就是计算机必须为布尔值的表达式\n",
    "  - 表达式后面的冒号不能少\n",
    "  - 注意if 后面出现的语句,如果属于if 语句块,则必须同一个缩进等级\n",
    "  - 条件表达式结果为True 执行if 后面缩进的语句块\n",
    "  "
   ]
  },
  {
   "cell_type": "code",
   "execution_count": 4,
   "metadata": {},
   "outputs": [
    {
     "name": "stdout",
     "output_type": "stream",
     "text": [
      "sorry,你还没成年\n",
      "去别的地方玩吧\n",
      "welcome\n",
      "现在开始上课\n",
      "考试得分:78\n",
      "C\n"
     ]
    }
   ],
   "source": [
    "# if语句练习\n",
    "# 如果age小于18岁为True,则打印if语句块\n",
    "age = 17\n",
    "if age < 18:\n",
    "    print(\"sorry,你还没成年\")\n",
    "    print(\"去别的地方玩吧\")\n",
    "# 如果age大于18岁为False,则不打印语句块\n",
    "age = 19\n",
    "if age < 18:\n",
    "    print(\"sorry,你还没成年\")\n",
    "    print(\"去别的地方玩吧\")\n",
    "print(\"welcome\")\n",
    "# 如果gender为男则开始上课,为女先开party\n",
    "print(\"现在开始上课\")\n",
    "gender = \"女\"\n",
    "if gender == \"男\":\n",
    "    print(\"不过上课前我们开始party\")\n",
    "    \n",
    "# 考试成绩\n",
    "# score存放学生成绩\n",
    "# 注意input的返回值类型(必须是字符串)\n",
    "score = input(\"考试得分:\")\n",
    "# 需要把str转换成int,否则数字类型跟字符串类型比较会报错\n",
    "score = int(score)\n",
    "if score >= 90:\n",
    "    print(\"A\")\n",
    "if score >= 80 and score < 90:\n",
    "    print(\"B\")\n",
    "if score >= 70 and score < 80:\n",
    "    print(\"C\")\n",
    "if score >= 60 and score < 70:\n",
    "    print(\"D\")\n",
    "if score < 60:\n",
    "    print(\"不及格\")"
   ]
  },
  {
   "cell_type": "markdown",
   "metadata": {},
   "source": [
    "  ### 双向分支\n",
    "   - if...else...语句\n",
    "        if 条件表达式:\n",
    "            语句1\n",
    "            语句2\n",
    "            ...\n",
    "        else:\n",
    "            语句1\n",
    "            语句2\n",
    "            ...\n",
    "   - 双向分支有两个分支. 当程序执行到if...else...语句的时候,一定会执行else中的一个,也仅仅执行其中的一个\n",
    "   - 缩进问题,if和else一个层级,其余语句一个层级"
   ]
  },
  {
   "cell_type": "code",
   "execution_count": 3,
   "metadata": {},
   "outputs": [
    {
     "name": "stdout",
     "output_type": "stream",
     "text": [
      "请输入你的性别:男\n",
      "你输入的性别是:男\n",
      "现在开始上课\n"
     ]
    }
   ],
   "source": [
    "# 双向分支案例\n",
    "# input的作用是\n",
    "# 1.在屏幕上输出括号内的字符串\n",
    "# 2.接受用户输入的内容并返回到程序\n",
    "# 3.input返回的内容一定是字符串类型\n",
    "gender = input(\"请输入你的性别:\")\n",
    "print(\"你输入的性别是:{0}\".format(gender))\n",
    "if gender == \"男\":\n",
    "    print(\"现在开始上课\")\n",
    "else:\n",
    "    print(\"今天自习\")"
   ]
  },
  {
   "cell_type": "markdown",
   "metadata": {},
   "source": [
    " ### 多路分支\n",
    "  - 很多分支的情况,简称多路分支\n",
    "        - if 条件表达式:\n",
    "            语句1\n",
    "            ...\n",
    "        - elif 条件表达式:\n",
    "            语句1\n",
    "            ...\n",
    "        ......\n",
    "        ......\n",
    "        ......\n",
    "        - else:\n",
    "            语句1\n",
    "            ...\n",
    "  - elif 可以有很多个\n",
    "  - else 可选\n",
    "  - 多路分支只会选一个执行"
   ]
  },
  {
   "cell_type": "code",
   "execution_count": 5,
   "metadata": {},
   "outputs": [
    {
     "name": "stdout",
     "output_type": "stream",
     "text": [
      "考试得分:59\n",
      "我没有你这样的学生\n"
     ]
    }
   ],
   "source": [
    "# 多路分支案例\n",
    "score = input(\"考试得分:\")\n",
    "score = int(score)\n",
    "if score >= 90 :\n",
    "    print(\"优秀\")\n",
    "elif score >= 80:\n",
    "    print(\"良好\")\n",
    "elif score >= 60:\n",
    "    print(\"及格\")\n",
    "elif score < 60:\n",
    "    print(\"我没有你这样的学生\")"
   ]
  },
  {
   "cell_type": "markdown",
   "metadata": {},
   "source": [
    "  ### if语句其他:\n",
    "   - if 语句可以嵌套使用,但是不推荐\n",
    "   - Python 没有weitch-ease语句"
   ]
  },
  {
   "cell_type": "markdown",
   "metadata": {},
   "source": [
    " ## 循环\n",
    "  - 重复执行某些固定动作或者处理基本固定的实物\n",
    "  - 分类\n",
    "    - for 循环\n",
    "    - while循环\n",
    " \n",
    "  ### for循环 \n",
    "   - for 变量 in 序列:\n",
    "        - 语句1\n",
    "        - 语句2\n",
    "        -  ..."
   ]
  },
  {
   "cell_type": "code",
   "execution_count": 6,
   "metadata": {},
   "outputs": [
    {
     "name": "stdout",
     "output_type": "stream",
     "text": [
      "keke\n",
      "mingming\n",
      "zhangsan\n",
      "lisi\n",
      "zhaowu\n"
     ]
    }
   ],
   "source": [
    "# for 循环案例\n",
    "for name in [\"keke\",\"mingming\",\"zhangsan\",\"lisi\",\"zhaowu\"]:\n",
    "    print(name)"
   ]
  },
  {
   "cell_type": "markdown",
   "metadata": {},
   "source": [
    "   #### range介绍\n",
    "    - 生成一个数字序列\n",
    "    - 具体范围可以设定"
   ]
  },
  {
   "cell_type": "code",
   "execution_count": 7,
   "metadata": {},
   "outputs": [
    {
     "name": "stdout",
     "output_type": "stream",
     "text": [
      "1\n",
      "2\n",
      "3\n",
      "4\n",
      "5\n",
      "6\n",
      "7\n",
      "8\n",
      "9\n",
      "10\n"
     ]
    }
   ],
   "source": [
    "# range练习\n",
    "# 一般在python中,如果有表示数字外围的两个数,一般是包含左边的数字,不包含右边的数字\n",
    "# randint是特例,左右都包含\n",
    "for i in range(1,11):  # 如果左边不设定,默认为0开始\n",
    "    print(i)"
   ]
  },
  {
   "cell_type": "markdown",
   "metadata": {},
   "source": [
    "   #### for-else语句\n",
    "    - 当for循环循环结束的时候,会执行else语句\n",
    "    - else语句是可选语句"
   ]
  },
  {
   "cell_type": "code",
   "execution_count": 8,
   "metadata": {},
   "outputs": [
    {
     "name": "stdout",
     "output_type": "stream",
     "text": [
      "keke\n",
      "原来是keke,我们一起去玩吧!\n",
      "mingming\n",
      "开始上课\n",
      "zhangsan\n",
      "开始上课\n",
      "lisi\n",
      "开始上课\n",
      "zhaowu\n",
      "开始上课\n"
     ]
    }
   ],
   "source": [
    "# for-else语句案例\n",
    "for name in [\"keke\",\"mingming\",\"zhangsan\",\"lisi\",\"zhaowu\"]:\n",
    "    print(name)\n",
    "    if name == \"keke\":\n",
    "        print(\"原来是{0},我们一起去玩吧!\".format(name))\n",
    "    else:\n",
    "        print(\"开始上课\")"
   ]
  },
  {
   "cell_type": "markdown",
   "metadata": {},
   "source": [
    "   #### 循环值break, continue, pass\n",
    "    - break: 无条件结束整个循环,简称循环中断\n",
    "    - continue: 无条件结束本次循环,从新进入下一个循环\n",
    "    - pass: 表示路过\n",
    "  "
   ]
  },
  {
   "cell_type": "code",
   "execution_count": 13,
   "metadata": {},
   "outputs": [
    {
     "name": "stdout",
     "output_type": "stream",
     "text": [
      "1\n",
      "2\n",
      "3\n",
      "4\n",
      "5\n",
      "6\n",
      "7\n"
     ]
    }
   ],
   "source": [
    "# break案例\n",
    "# 以下式子表示:在1-10数字中,寻找8,找到后打印出来,其余不要了\n",
    "for i in range(1,10):\n",
    "    if i == 8:\n",
    "        break\n",
    "    else:\n",
    "        print(i)\n"
   ]
  },
  {
   "cell_type": "code",
   "execution_count": 10,
   "metadata": {},
   "outputs": [
    {
     "name": "stdout",
     "output_type": "stream",
     "text": [
      "2\n",
      "4\n",
      "6\n",
      "8\n",
      "10\n"
     ]
    }
   ],
   "source": [
    "# continue语句练习1\n",
    "# 在1-10的数字中,寻找偶数,一旦找到,打印出来,其他不要\n",
    "for k in range(1,11):\n",
    "    if k % 2 == 1:\n",
    "        continue\n",
    "    else:\n",
    "        print(k)"
   ]
  },
  {
   "cell_type": "code",
   "execution_count": 11,
   "metadata": {},
   "outputs": [
    {
     "name": "stdout",
     "output_type": "stream",
     "text": [
      "2\n",
      "4\n",
      "6\n",
      "8\n",
      "10\n"
     ]
    }
   ],
   "source": [
    "# continue语句练习2\n",
    "for k in range(1,11):\n",
    "    if k % 2 == 0:\n",
    "        print(k)"
   ]
  },
  {
   "cell_type": "code",
   "execution_count": 12,
   "metadata": {},
   "outputs": [
    {
     "name": "stdout",
     "output_type": "stream",
     "text": [
      "2\n",
      "4\n",
      "6\n",
      "8\n",
      "10\n"
     ]
    }
   ],
   "source": [
    "# continue语句练习3\n",
    "for k in range(1,11):\n",
    "    if k % 2 == 0:\n",
    "        print(\"{0}\".format(k))"
   ]
  },
  {
   "cell_type": "code",
   "execution_count": null,
   "metadata": {},
   "outputs": [],
   "source": [
    "# pass例子,一般用于站位\n",
    "# 无法实现活在暂时中断时,可以使用\n",
    "# 不会影响实际需要的执行\n",
    "for i in range(1,11):\n",
    "    pass"
   ]
  }
 ],
 "metadata": {
  "kernelspec": {
   "display_name": "Python 3",
   "language": "python",
   "name": "python3"
  },
  "language_info": {
   "codemirror_mode": {
    "name": "ipython",
    "version": 3
   },
   "file_extension": ".py",
   "mimetype": "text/x-python",
   "name": "python",
   "nbconvert_exporter": "python",
   "pygments_lexer": "ipython3",
   "version": "3.7.0"
  }
 },
 "nbformat": 4,
 "nbformat_minor": 2
}
