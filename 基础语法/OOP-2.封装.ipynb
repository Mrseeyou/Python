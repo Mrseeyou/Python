{
 "cells": [
  {
   "cell_type": "markdown",
   "metadata": {},
   "source": [
    "# 面向对象的三大特性\n",
    "- 封装\n",
    "- 继承\n",
    "- 多态"
   ]
  },
  {
   "cell_type": "markdown",
   "metadata": {},
   "source": [
    "## 封装\n",
    "- 封装就是对对象的成员进行访问限制\n",
    "- 封装的三个级别:\n",
    "    - 公开 public\n",
    "    - 受保护的 protected\n",
    "    - 私有的 private\n",
    "    - public, protected, private不是关键字\n",
    "- 判别对象的位置\n",
    "    - 对象内部\n",
    "    - 对象外部\n",
    "    - 子类中\n",
    " - 私有\n",
    "    - 私有成员是最高级别的封装,只能在当前类或对象中访问\n",
    "    - 在成员前面添加两个连续的下划线即可   "
   ]
  },
  {
   "cell_type": "code",
   "execution_count": 62,
   "metadata": {},
   "outputs": [
    {
     "name": "stdout",
     "output_type": "stream",
     "text": [
      "xiaoming\n",
      "student\n"
     ]
    }
   ],
   "source": [
    "class Person():\n",
    "    # name 公有的成员\n",
    "    name = \"xiaoming\"\n",
    "    # __age 私有成员\n",
    "    __age = 26\n",
    "    # sex 受保护成员\n",
    "    _sex = \"student\"\n",
    "    \n",
    "p = Person()\n",
    "# 共有变量\n",
    "print(p.name)\n",
    "\n",
    "print(p._sex)\n",
    "\n",
    "# 私有变量 报错\n",
    "# print(p.__age)"
   ]
  },
  {
   "cell_type": "markdown",
   "metadata": {},
   "source": [
    " - Python的私有不是真的私有,是一种成为name mangling的改名策略"
   ]
  },
  {
   "cell_type": "code",
   "execution_count": 9,
   "metadata": {},
   "outputs": [
    {
     "name": "stdout",
     "output_type": "stream",
     "text": [
      "18\n"
     ]
    }
   ],
   "source": [
    "# 可以使用对象 ._classname_attributename访问 \n",
    "class Person():\n",
    "    name = \"aa\"\n",
    "    __age = 18\n",
    "\n",
    "p = Person()\n",
    "print(p._Person__age)"
   ]
  },
  {
   "cell_type": "markdown",
   "metadata": {},
   "source": [
    "- 受保护的封装 protected\n",
    "    - 受保护的封装是将对象成员进行一定级别的封装,然后,在类中或者子类中都可以\n",
    "      进行访问,但是在外部不可以 \n",
    "    - 封装方法: 在成员名称前添加一个下划线即可\n",
    "- 公开的,公共的 public\n",
    "    - 公共的封装实际对成员没有任何操作,任何地方都可以访问  "
   ]
  }
 ],
 "metadata": {
  "kernelspec": {
   "display_name": "Python 3",
   "language": "python",
   "name": "python3"
  },
  "language_info": {
   "codemirror_mode": {
    "name": "ipython",
    "version": 3
   },
   "file_extension": ".py",
   "mimetype": "text/x-python",
   "name": "python",
   "nbconvert_exporter": "python",
   "pygments_lexer": "ipython3",
   "version": "3.7.0"
  }
 },
 "nbformat": 4,
 "nbformat_minor": 2
}
