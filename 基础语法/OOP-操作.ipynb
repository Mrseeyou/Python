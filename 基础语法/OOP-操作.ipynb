{
 "cells": [
  {
   "cell_type": "markdown",
   "metadata": {},
   "source": [
    "# 类的相关函数\n",
    " - issuoclass: 检测一个类是否是另一个类的子类\n",
    " - isinstance: 检测一个对象是否是一个类的实例\n",
    " - hasattr: 检测一个对象是否有成员 xxx\n",
    " - getattr: get attribute 获取对象的属性或者方法,如果存在打印出来,如果不存报错,设置默认值则返回默认值\n",
    "     - 如果返回对象的方法是内存地址,则可以在方法后面加个括号\n",
    " - setarrt: set attribute 给对象的属性赋值,若属性不存在,先创建再赋值\n",
    " - delattr: delete attribute 删除属性,不能删除方法\n",
    " - dir: 获取对象的成员列表\n"
   ]
  },
  {
   "cell_type": "code",
   "execution_count": 27,
   "metadata": {},
   "outputs": [
    {
     "name": "stdout",
     "output_type": "stream",
     "text": [
      "True\n",
      "True\n",
      "True\n"
     ]
    }
   ],
   "source": [
    "# issuclass()\n",
    "class A():\n",
    "    pass\n",
    "class B(A):\n",
    "    pass\n",
    "class C():\n",
    "    name = \"xiaoming\"\n",
    "    \n",
    "print(issubclass(B,A))\n",
    "\n",
    "# isinstance()\n",
    "a = A()\n",
    "print(isinstance(a,A))\n",
    "\n",
    "# hasattr()\n",
    "c = C()\n",
    "print(hasattr(c,\"name\"))"
   ]
  },
  {
   "cell_type": "code",
   "execution_count": 35,
   "metadata": {},
   "outputs": [
    {
     "name": "stdout",
     "output_type": "stream",
     "text": [
      "xiaoming\n",
      "18\n",
      "<bound method Person.run of <__main__.Person object at 0x000000000512CC50>>\n",
      "哈哈\n"
     ]
    }
   ],
   "source": [
    "class Person():\n",
    "    name = \"xiaoming\"\n",
    "    def run(self):\n",
    "        return \"哈哈\"\n",
    "        \n",
    "p = Person()\n",
    "\n",
    "# 属性存在打印出来\n",
    "print(getattr(p,\"name\"))\n",
    "\n",
    "# 属性不存在,报错  设置默认值则返回默认值\n",
    "print(getattr(p,\"age\",18))\n",
    "\n",
    "# 获取方法\n",
    "print(getattr(p,\"run\"))\n",
    "# 加括号\n",
    "print(getattr(p,\"run\")())"
   ]
  },
  {
   "cell_type": "code",
   "execution_count": 58,
   "metadata": {},
   "outputs": [
    {
     "name": "stdout",
     "output_type": "stream",
     "text": [
      "['__class__', '__delattr__', '__dict__', '__dir__', '__doc__', '__eq__', '__format__', '__ge__', '__getattribute__', '__gt__', '__hash__', '__init__', '__init_subclass__', '__le__', '__lt__', '__module__', '__ne__', '__new__', '__reduce__', '__reduce_ex__', '__repr__', '__setattr__', '__sizeof__', '__str__', '__subclasshook__', '__weakref__']\n"
     ]
    }
   ],
   "source": [
    "class A():\n",
    "    pass\n",
    "\n",
    "a = A()\n",
    "print(dir(a))"
   ]
  },
  {
   "cell_type": "markdown",
   "metadata": {},
   "source": [
    " # 类的成员描述符(属性)\n",
    "- 类的成员描述符是为了在类中对类的成员属性进行相关操作而创建的一种方式\n",
    "    - get: 获取属性的操作\n",
    "    - set: 修改或者添加属性操作\n",
    "    - delete: 删除属性的操作\n"
   ]
  },
  {
   "cell_type": "markdown",
   "metadata": {},
   "source": [
    "- 如果想使用了的成员描述符,大概有三种方法\n",
    "    - 使用类实现描述符\n",
    "    - 使用属性修饰符\n",
    "    - 使用property函数\n",
    "        - property函数\n",
    "        - property(fun1,fun2 ,fun3 ,......)"
   ]
  },
  {
   "cell_type": "code",
   "execution_count": 6,
   "metadata": {},
   "outputs": [
    {
     "name": "stdout",
     "output_type": "stream",
     "text": [
      "MINGMING\n"
     ]
    }
   ],
   "source": [
    "# property 案例\n",
    "class Person():\n",
    "    def fget(self):\n",
    "        return self._name * 2\n",
    "    \n",
    "    def fset(self,name):\n",
    "        self._name = name.upper()\n",
    "        \n",
    "    def fdel(self):\n",
    "        self._name = \"不删除\"\n",
    "        \n",
    "    name = property(fget,fset,fdel) # 对name进行三个方法\n",
    "    \n",
    "p = Person()\n",
    "p.name = \"ming\"\n",
    "print(p.name)"
   ]
  },
  {
   "cell_type": "markdown",
   "metadata": {},
   "source": [
    "- 无论哪种修饰符都是为了对成员属性进行相应的控制\n",
    "    - 类的方式: 适合多个类中的多个属性公用一个描述符\n",
    "    - property: 适用当前类中使用,可以控制一个类中多个属性\n",
    "    - 属性修饰符: 适用于当前类中使用,控制一个类中的一个属性"
   ]
  },
  {
   "cell_type": "markdown",
   "metadata": {},
   "source": [
    "# 类的内置属性\n",
    "        __dict__: 以字典的方式显示类的成员组成\n",
    "        __doc__: 获取类的文档信息\n",
    "        __name__: 获取类的名称,如果在模块中使用,获取模块的名称\n",
    "        __bases__: 获取某个类的所有父类,以元祖的方式显示"
   ]
  },
  {
   "cell_type": "code",
   "execution_count": 14,
   "metadata": {},
   "outputs": [
    {
     "name": "stdout",
     "output_type": "stream",
     "text": [
      "{'__module__': '__main__', '__doc__': '\\n    这里是注释的地方\\n    显示的注释\\n    对你的类进行描述\\n    ', 'swim': <function Fish.swim at 0x0000000004CBEE18>, '__dict__': <attribute '__dict__' of 'Fish' objects>, '__weakref__': <attribute '__weakref__' of 'Fish' objects>}\n",
      "\n",
      "    这里是注释的地方\n",
      "    显示的注释\n",
      "    对你的类进行描述\n",
      "    \n",
      "Fish\n",
      "(<class 'object'>,)\n"
     ]
    }
   ],
   "source": [
    "class Fish():\n",
    "    '''\n",
    "    这里是注释的地方\n",
    "    显示的注释\n",
    "    对你的类进行描述\n",
    "    '''\n",
    "    def swim(self):\n",
    "        print(\"我会游泳...\")\n",
    "        \n",
    "f = Fish()\n",
    "\n",
    "print(Fish.__dict__)\n",
    "print(Fish.__doc__)\n",
    "print(Fish.__name__)\n",
    "print(Fish.__bases__)"
   ]
  },
  {
   "cell_type": "markdown",
   "metadata": {},
   "source": [
    "# 类的常用魔术方法\n",
    " - 魔术方法就是不需要人为调用的方法,基本是在特定的时刻自动触发\n",
    " - 魔术方法的统一特征,方法名被前后各两个下划线包裹\n",
    " - 参见https://github.com/Mrseeyou/study/tree/master/%E9%AD%94%E6%9C%AF%E6%96%B9%E6%B3%95"
   ]
  },
  {
   "cell_type": "markdown",
   "metadata": {},
   "source": [
    "# 类和对象的三种方法\n",
    "- 实例方法\n",
    "    - 需要实例化对象才能使用的方法,使用过程中可能需要截止对象的其他对象的方法完成\n",
    "- 静态方法\n",
    "    - 不需要实例化,通过类直接访问\n",
    "- 类方法\n",
    "    - 不需要实例化"
   ]
  },
  {
   "cell_type": "code",
   "execution_count": 21,
   "metadata": {},
   "outputs": [
    {
     "name": "stdout",
     "output_type": "stream",
     "text": [
      "<__main__.Person object at 0x0000000004C3FB70>\n",
      "Eating...\n",
      "<class '__main__.Person'>\n",
      "Playing...\n",
      "Saying...\n",
      "<class '__main__.Person'>\n",
      "Playing...\n",
      "Saying...\n"
     ]
    }
   ],
   "source": [
    "class Person():\n",
    "    # 实例方法\n",
    "    def eat(self):\n",
    "        print(self)\n",
    "        print(\"Eating...\")\n",
    "        \n",
    "    # 类方法 第一个参数一般命名为cls 区别于self\n",
    "    @classmethod\n",
    "    def paly(cls):\n",
    "        print(cls)\n",
    "        print(\"Playing...\")\n",
    "        \n",
    "    # 静态方法 不需要第一个来参数代表本身\n",
    "    @staticmethod\n",
    "    def say():\n",
    "        print(\"Saying...\")\n",
    "        \n",
    "xiaoming = Person()\n",
    "# 实例方法\n",
    "xiaoming.eat()\n",
    "\n",
    "# 类方法\n",
    "xiaoming.paly()\n",
    "\n",
    "# 静态方法\n",
    "xiaoming.say()\n",
    "\n",
    "Person.paly()\n",
    "Person.say()"
   ]
  },
  {
   "cell_type": "markdown",
   "metadata": {},
   "source": [
    "# 抽象类\n",
    "- 抽象方法: 没有具体实现内容的方法称为抽象方法\n",
    "- 抽象方法的主要意义是规范子类的行为和接口\n",
    "- 抽象类的使用需要借助abc模块\n",
    "            import abc\n",
    "- 抽象类: 包含抽象方法的类叫抽象类,通常称为ABC类\n",
    "- 抽象类的使用\n",
    "    - 抽象类可以包含抽象方法,也可以包含具体方法\n",
    "    - 抽象类中可以有方法也可以有属性\n",
    "    - 抽象类不允许直接实例化\n",
    "    - 必须继承才可以使用,且继承的子类必须实现所有继承来的抽象方法\n",
    "    - 子类如果没有实现所有继承的抽象方法,则子类也不能实例化\n",
    "    - 抽象类的主要作用是设定类的标准,以便于开发的时候具有统一的规范"
   ]
  },
  {
   "cell_type": "code",
   "execution_count": 22,
   "metadata": {},
   "outputs": [],
   "source": [
    "import abc\n",
    "\n",
    "# 声明一个类 并且制定当前类的元类\n",
    "class Human(metaclass=abc.ABCMeta):\n",
    "    \n",
    "    #定义 抽象方法\n",
    "    @abc.abstractmethod\n",
    "    def smoking(self):\n",
    "        pass\n",
    "    \n",
    "    # 定义 类抽象方法\n",
    "    @abc.abstractstatictmethod\n",
    "    def drink():\n",
    "        pass\n",
    "    \n",
    "    # 定义 静态抽象方法\n",
    "    @abc.abstractstaticmethod\n",
    "    def paly():\n",
    "        pass\n",
    "    \n",
    "    def sleep(self):\n",
    "        print(\"Sleep.....\")"
   ]
  },
  {
   "cell_type": "markdown",
   "metadata": {},
   "source": [
    "# 自定义类\n",
    "- 类其实是一个类定义和各种方法的自由组合\n",
    "- 可以定义类和函数,然后自己通过类直接赋值"
   ]
  },
  {
   "cell_type": "code",
   "execution_count": 58,
   "metadata": {},
   "outputs": [
    {
     "name": "stdout",
     "output_type": "stream",
     "text": [
      "Saying....\n",
      "Saying....\n"
     ]
    }
   ],
   "source": [
    "class A():\n",
    "    pass\n",
    "\n",
    "def say(self):\n",
    "    print(\"Saying....\")\n",
    "\n",
    "# 此时函数可以直接调用\n",
    "say(9)\n",
    "\n",
    "# 函数可以当变量用,把 say函数当成变量 给 A.say 赋值\n",
    "A.say = say\n",
    "\n",
    "a = A() # 实例化\n",
    "a.say()"
   ]
  },
  {
   "cell_type": "markdown",
   "metadata": {},
   "source": [
    "- 可以借助于MethodType实现"
   ]
  },
  {
   "cell_type": "code",
   "execution_count": 63,
   "metadata": {},
   "outputs": [
    {
     "name": "stdout",
     "output_type": "stream",
     "text": [
      "haha\n"
     ]
    }
   ],
   "source": [
    "from types import MethodType\n",
    "\n",
    "class B():\n",
    "    pass\n",
    "\n",
    "def func(self):\n",
    "    print(\"haha\")\n",
    "    \n",
    "b = B()\n",
    "b.func = MethodType(func,B)\n",
    "b.func()"
   ]
  },
  {
   "cell_type": "markdown",
   "metadata": {},
   "source": [
    "- 借助于type实现"
   ]
  },
  {
   "cell_type": "code",
   "execution_count": 66,
   "metadata": {},
   "outputs": [
    {
     "name": "stdout",
     "output_type": "stream",
     "text": [
      "Saying...\n",
      "Talk....\n"
     ]
    }
   ],
   "source": [
    "def say(self):\n",
    "    print(\"Saying...\")\n",
    "    \n",
    "def talk(self):\n",
    "    print(\"Talk....\")\n",
    "    \n",
    "# 用type创建一个类\n",
    "A = type(\"Name\",(object, ),{\"class_say\":say,\"class_talk\":talk})\n",
    "\n",
    "# 可以正常使用\n",
    "a = A()\n",
    "a.class_say()\n",
    "a.class_talk()"
   ]
  },
  {
   "cell_type": "markdown",
   "metadata": {},
   "source": [
    "- 利用元类实现 MetaClass\n",
    "    - 元类是类,必须继承自type\n",
    "    - 被用来创造别的类\n",
    "    - 一般命名以MetaClass结尾"
   ]
  },
  {
   "cell_type": "code",
   "execution_count": 71,
   "metadata": {},
   "outputs": [
    {
     "name": "stdout",
     "output_type": "stream",
     "text": [
      "xixi\n",
      "52\n",
      "不告诉你\n"
     ]
    }
   ],
   "source": [
    "# 写法固定\n",
    "class ChenMetaClass(type):\n",
    "    \n",
    "    # 写法\n",
    "    def __new__(cls,name,bases,attrs):\n",
    "        # 自定义代码\n",
    "        print(\"xixi\")\n",
    "        attrs[\"id\"] = \"52\"\n",
    "        attrs[\"ip\"] = \"不告诉你\"\n",
    "        # 写法\n",
    "        return type.__new__(cls,name,bases,attrs)\n",
    "\n",
    "# 定义元类写法\n",
    "class Student(object,metaclass=ChenMetaClass):\n",
    "    pass\n",
    "\n",
    "s = Student()\n",
    "print(s.id)\n",
    "print(s.ip)"
   ]
  }
 ],
 "metadata": {
  "kernelspec": {
   "display_name": "Python 3",
   "language": "python",
   "name": "python3"
  },
  "language_info": {
   "codemirror_mode": {
    "name": "ipython",
    "version": 3
   },
   "file_extension": ".py",
   "mimetype": "text/x-python",
   "name": "python",
   "nbconvert_exporter": "python",
   "pygments_lexer": "ipython3",
   "version": "3.7.0"
  }
 },
 "nbformat": 4,
 "nbformat_minor": 2
}
