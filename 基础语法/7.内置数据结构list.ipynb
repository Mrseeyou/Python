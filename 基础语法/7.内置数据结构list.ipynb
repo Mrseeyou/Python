{
 "cells": [
  {
   "cell_type": "markdown",
   "metadata": {},
   "source": [
    "## list(列表)\n",
    " - 一组有顺序的数据的组合\n",
    " - 创建列表\n",
    "    - 空列表"
   ]
  },
  {
   "cell_type": "code",
   "execution_count": 2,
   "metadata": {},
   "outputs": [
    {
     "name": "stdout",
     "output_type": "stream",
     "text": [
      "<class 'list'>\n",
      "[]\n"
     ]
    }
   ],
   "source": [
    "# 1.创建空列表\n",
    "l1 = []\n",
    "# type是内置函数,负责打印出变量的类型\n",
    "print(type(l1))\n",
    "print(l1)"
   ]
  },
  {
   "cell_type": "code",
   "execution_count": 3,
   "metadata": {},
   "outputs": [
    {
     "name": "stdout",
     "output_type": "stream",
     "text": [
      "<class 'list'>\n",
      "[100]\n"
     ]
    }
   ],
   "source": [
    "# 2.创建带值的列表\n",
    "l2 = [100]\n",
    "print(type(l2))\n",
    "print(l2)"
   ]
  },
  {
   "cell_type": "code",
   "execution_count": 4,
   "metadata": {},
   "outputs": [
    {
     "name": "stdout",
     "output_type": "stream",
     "text": [
      "<class 'list'>\n",
      "[1, 2, 3, 4, 5]\n",
      "[]\n"
     ]
    }
   ],
   "source": [
    "# 3.创建列表,带多个值\n",
    "l3 = [1,2,3,4,5]\n",
    "print(type(l3))\n",
    "print(l3)\n",
    "# 使用list()\n",
    "l4 = list()\n",
    "print(l4)"
   ]
  },
  {
   "cell_type": "markdown",
   "metadata": {},
   "source": [
    "### 列表常用操作\n",
    " - 访问\n",
    "    - 使用下标操作(索引)\n",
    "    - 列表的位置是从0开始\n",
    " - 分片操作\n",
    "    - 对列表进行任意一段的截取\n",
    "    - |[:]  (包含左边的下标值,不包含右边的下标值)"
   ]
  },
  {
   "cell_type": "code",
   "execution_count": 5,
   "metadata": {},
   "outputs": [
    {
     "name": "stdout",
     "output_type": "stream",
     "text": [
      "1\n",
      "3\n"
     ]
    }
   ],
   "source": [
    "# 下标访问列表\n",
    "l = [1,2,3,4]\n",
    "print(l[0])\n",
    "print(l[2])"
   ]
  },
  {
   "cell_type": "markdown",
   "metadata": {},
   "source": [
    "### 分片操作是生成一个新的list\n",
    " - 内置函数id,负责显示一个变量或者数据的唯一确定编号"
   ]
  },
  {
   "cell_type": "code",
   "execution_count": 8,
   "metadata": {},
   "outputs": [
    {
     "name": "stdout",
     "output_type": "stream",
     "text": [
      "[2, 3]\n",
      "[1, 2, 3, 4]\n",
      "[1, 3]\n"
     ]
    }
   ],
   "source": [
    "# 分片操作\n",
    "print(l[1:3])\n",
    "# 下标可以为空,如果不写,左边下标默认为0,右边下标值的最大数加1,即表示截取到最后一个数据\n",
    "print(l[:])\n",
    "# 分片可以控制长度,默认增长幅度为1\n",
    "print(l[0:5:2])\n",
    "# 下标可以超出范围,超出范围后不在考虑多余下标内容\n"
   ]
  },
  {
   "cell_type": "code",
   "execution_count": 11,
   "metadata": {},
   "outputs": [
    {
     "name": "stdout",
     "output_type": "stream",
     "text": [
      "[3, 4]\n",
      "[]\n"
     ]
    }
   ],
   "source": [
    "print(l[2:10])\n",
    "# 下标值,增长幅度可以为负数\n",
    "# 为负数,表面顺序是从右往左\n",
    "#print(l[::-1])\n",
    "# 正常情况下,分片左边的值一定大于右边的值,否则幅度为负数截取时为空\n",
    "s = [5,4,3,2,1,6,7,8,9]\n",
    "print(s[2:6:-1])\n"
   ]
  },
  {
   "cell_type": "code",
   "execution_count": 10,
   "metadata": {},
   "outputs": [
    {
     "name": "stdout",
     "output_type": "stream",
     "text": [
      "[5, 4, 3, 2, 1]\n",
      "[5, 4, 3, 2, 1]\n",
      "[1, 2, 3, 4, 5]\n",
      "[1, 2, 3, 4]\n",
      "[1, 2, 3, 4, 5]\n"
     ]
    }
   ],
   "source": [
    "# 多种截取方法\n",
    "print(s[-9:-4])\n",
    "print(s[0:5])\n",
    "print(s[-5:-10:-1])\n",
    "print(s[4:0:-1])\n",
    "a = s[0:5]\n",
    "print(a[::-1])"
   ]
  },
  {
   "cell_type": "code",
   "execution_count": 12,
   "metadata": {},
   "outputs": [
    {
     "name": "stdout",
     "output_type": "stream",
     "text": [
      "79651272\n",
      "79651272\n",
      "79372424\n"
     ]
    }
   ],
   "source": [
    "# 通过id可以直接判断出,分片是重新生成一份数据还是使用同一份数据\n",
    "l1 = [4,5,6,7,8]\n",
    "l2 = l1\n",
    "l3 = l1[:]\n",
    "print(id(l1))\n",
    "print(id(l2))\n",
    "print(id(l3))\n",
    "# 通过id可以知道,l1和l2是同一份数据,l3是新生成的一份数据"
   ]
  },
  {
   "cell_type": "markdown",
   "metadata": {},
   "source": [
    "### 列表 运算符\n",
    " - 使用加号链接两个列表\n",
    " - 使用乘号\n",
    " - 成员资格运算"
   ]
  },
  {
   "cell_type": "code",
   "execution_count": 13,
   "metadata": {},
   "outputs": [
    {
     "name": "stdout",
     "output_type": "stream",
     "text": [
      "[1, 2, 3, 3, 4, 5]\n",
      "[1, 2, 3, 1, 2, 3, 1, 2, 3]\n",
      "True\n",
      "False\n"
     ]
    }
   ],
   "source": [
    "# 使用加号链接列表\n",
    "a = [1,2,3]\n",
    "b = [3,4,5]\n",
    "c = a + b\n",
    "print(c)\n",
    "# 相当于n个a列表接在一起\n",
    "d = a * 3\n",
    "print(d)\n",
    "# 成员运算资格\n",
    "# 即判断一个元素是否在列表里面,返回结果是布尔值\n",
    "a = [1,2,3,4,5,6,7,8]\n",
    "b = 3\n",
    "b = b in a\n",
    "print(b)\n",
    "b = b not in a\n",
    "print(b)"
   ]
  },
  {
   "cell_type": "markdown",
   "metadata": {},
   "source": [
    "### 列表的遍历\n",
    " - for\n",
    " - while"
   ]
  },
  {
   "cell_type": "code",
   "execution_count": 14,
   "metadata": {},
   "outputs": [
    {
     "name": "stdout",
     "output_type": "stream",
     "text": [
      "5\n",
      "6\n",
      "7\n",
      "8\n",
      "9\n"
     ]
    }
   ],
   "source": [
    "# 列表遍历\n",
    "# for\n",
    "a = [5,6,7,8,9]\n",
    "for i in a:\n",
    "    print(i)"
   ]
  },
  {
   "cell_type": "code",
   "execution_count": 16,
   "metadata": {},
   "outputs": [
    {
     "name": "stdout",
     "output_type": "stream",
     "text": [
      "5\n",
      "6\n",
      "7\n",
      "8\n",
      "9\n"
     ]
    }
   ],
   "source": [
    "# while 一般不用此方法遍历list\n",
    "a = [5,6,7,8,9]\n",
    "length = len(a)\n",
    "# indx表示list下标\n",
    "indx = 0\n",
    "while indx < length:\n",
    "    print(a[indx])\n",
    "    indx += 1"
   ]
  },
  {
   "cell_type": "code",
   "execution_count": 17,
   "metadata": {},
   "outputs": [
    {
     "name": "stdout",
     "output_type": "stream",
     "text": [
      "one -- 1\n",
      "two -- 2\n",
      "three -- 3\n"
     ]
    }
   ],
   "source": [
    "# 双层列表循环(嵌套列表)\n",
    "a = [[\"one\",1],[\"two\",2],[\"three\",3]]\n",
    "for k,v in a:\n",
    "    print(k,\"--\",v)"
   ]
  },
  {
   "cell_type": "code",
   "execution_count": 18,
   "metadata": {},
   "outputs": [
    {
     "name": "stdout",
     "output_type": "stream",
     "text": [
      "one -- 1 -- 旺\n",
      "two -- 2 -- 兔\n",
      "three -- 3 -- 睡\n"
     ]
    }
   ],
   "source": [
    "# 双层列表循环变异(嵌套列表)\n",
    "a = [[\"one\",1,\"旺\"],[\"two\",2,\"兔\"],[\"three\",3,\"睡\"]]\n",
    "for k,v,w in a:\n",
    "    print(k,\"--\",v,\"--\",w)"
   ]
  },
  {
   "cell_type": "markdown",
   "metadata": {},
   "source": [
    "### 列表内涵\n",
    " - 通过简单的方法创作列表\n",
    " "
   ]
  },
  {
   "cell_type": "code",
   "execution_count": 21,
   "metadata": {},
   "outputs": [
    {
     "name": "stdout",
     "output_type": "stream",
     "text": [
      "[4, 5, 6, 7, 8]\n",
      "[40, 50, 60, 70, 80]\n",
      "[4, 6, 8]\n",
      "[404, 504, 604, 704, 804, 405, 505, 605, 705, 805, 406, 506, 606, 706, 806, 407, 507, 607, 707, 807, 408, 508, 608, 708, 808]\n"
     ]
    }
   ],
   "source": [
    "# for 创建\n",
    "a = [4,5,6,7,8]\n",
    "# 下面代码含义:把于a中的所有元素,逐个放入新的列表b中\n",
    "b = [i for i in a]\n",
    "print(b)\n",
    "# 下面代码含义:把a中所有元素乘以10,再放入b中\n",
    "b = [i*10 for i in a]\n",
    "print(b)\n",
    "# 下面代码含义:把a中所有偶数,放入b中\n",
    "b = [i for i in a if i % 2 == 0] # 加入条件 if i % 2 == 0\n",
    "print(b)\n",
    "# 列表生成可以嵌套\n",
    "l = [400, 500, 600, 700, 800]\n",
    "b = [m + n for m in a for n in l]  # 表示生成一个a列表与l列表内所有元素互相相加和 的新列表\n",
    "print(b)"
   ]
  },
  {
   "cell_type": "code",
   "execution_count": 22,
   "metadata": {},
   "outputs": [
    {
     "name": "stdout",
     "output_type": "stream",
     "text": [
      "404 504 604 704 804 405 505 605 705 805 406 506 606 706 806 407 507 607 707 807 408 508 608 708 808 \n",
      "[404, 504, 405, 505, 406, 506, 407, 507, 408, 508]\n"
     ]
    }
   ],
   "source": [
    "# 跟上面代码等价\n",
    "for m in a:\n",
    "    for n in l:\n",
    "        print(m+n,end=\" \")# end=\" \" 表示不换行,否则一个数字打一行\n",
    "print()\n",
    "# 嵌套列表生成时 加条件表达式\n",
    "b = [m+n for m in a for n in l if m+n < 600]\n",
    "print(b)"
   ]
  }
 ],
 "metadata": {
  "kernelspec": {
   "display_name": "Python 3",
   "language": "python",
   "name": "python3"
  },
  "language_info": {
   "codemirror_mode": {
    "name": "ipython",
    "version": 3
   },
   "file_extension": ".py",
   "mimetype": "text/x-python",
   "name": "python",
   "nbconvert_exporter": "python",
   "pygments_lexer": "ipython3",
   "version": "3.7.0"
  }
 },
 "nbformat": 4,
 "nbformat_minor": 2
}
