{
 "cells": [
  {
   "cell_type": "markdown",
   "metadata": {},
   "source": [
    "- 共享变量\n",
    "    - 当多个线程同时访问一个变量的时候,会产生共享变量的问题\n",
    "    "
   ]
  },
  {
   "cell_type": "code",
   "execution_count": 1,
   "metadata": {},
   "outputs": [
    {
     "name": "stdout",
     "output_type": "stream",
     "text": [
      "-22619\n"
     ]
    }
   ],
   "source": [
    "import threading\n",
    "\n",
    "sum = 0\n",
    "loopSun = 1000000\n",
    "\n",
    "# 从0加到1000000\n",
    "def myAdd():\n",
    "    global sum,loopSun\n",
    "    for i in range(loopSun):\n",
    "        sum+= 1\n",
    "\n",
    "# 从1000000减到0\n",
    "def myMinu():\n",
    "    global sum, loopSun\n",
    "    for i in range(loopSun):\n",
    "        sum -= 1\n",
    "def main():\n",
    "    t1 = threading.Thread(target=myAdd, args=())\n",
    "    t2 = threading.Thread(target=myMinu, args=())\n",
    "    \n",
    "    t1.start()\n",
    "    t2.start()\n",
    "    \n",
    "    t1.join()\n",
    "    t2.join()\n",
    "    \n",
    "if __name__ == '__main__': \n",
    "    main()\n",
    "    print(sum)\n",
    "    \n",
    "# 我们预期结果应该是0 但是每次执行结果都不一样 这就是共享变量问题"
   ]
  },
  {
   "cell_type": "markdown",
   "metadata": {},
   "source": [
    "- 解决变量问题: 锁 , 信号灯\n",
    "- 锁(Lock):\n",
    "    - 是一个标志, 表示一个线程在占用一些资源\n",
    "    - 使用方法\n",
    "        - 上锁\n",
    "        - 使用共享资源, 放心使用\n",
    "        - 取消锁, 释放锁"
   ]
  },
  {
   "cell_type": "code",
   "execution_count": 2,
   "metadata": {},
   "outputs": [
    {
     "name": "stdout",
     "output_type": "stream",
     "text": [
      "0\n"
     ]
    }
   ],
   "source": [
    "import threading\n",
    "\n",
    "sum = 0\n",
    "loopSum = 1000000\n",
    "\n",
    "lock = threading.Lock()\n",
    "\n",
    "def myAdd():\n",
    "    global sum , loopSum\n",
    "    for i in range(loopSum):\n",
    "        # 上锁, 申请锁\n",
    "        lock.acquire()\n",
    "        sum += 1\n",
    "        # 释放锁\n",
    "        lock.release()\n",
    "    \n",
    "def myMinu():\n",
    "    global sum, loopSum\n",
    "    for i in range(loopSum):\n",
    "        # 上锁\n",
    "        lock.acquire()\n",
    "        sum -= 1\n",
    "        # 释放锁\n",
    "        lock.release()\n",
    "        \n",
    "if __name__ == '__main__':\n",
    "    t1 = threading.Thread(target=myAdd, args=())\n",
    "    t2 = threading.Thread(target=myMinu, args=())\n",
    "    \n",
    "    t1.start()\n",
    "    t2.start()\n",
    "    \n",
    "    t1.join()\n",
    "    t2.join()\n",
    "    \n",
    "    print(sum)\n",
    "# 此时就不会产生变量问题       "
   ]
  },
  {
   "cell_type": "markdown",
   "metadata": {},
   "source": [
    "- 线程安全问题:\n",
    "    - 如果一个资源/变量, 他对于多线程来讲, 不用加锁也不会引起任何问题, 则称为线程安全\n",
    "    - 线程安全变量: queue\n",
    "    - 线程不安全变量: list, set, dict\n",
    "- 生产者消费者问题:\n",
    "    - 一个模型,可以用来搭建消息队列\n",
    "    - queue是一个用来存放变量的数据结构,特点是先进先出,内部元素排队, 可以理解成一个特殊的list\n",
    "    "
   ]
  },
  {
   "cell_type": "code",
   "execution_count": null,
   "metadata": {},
   "outputs": [],
   "source": [
    "import threading\n",
    "import time\n",
    "import queue\n",
    "\n",
    "class Producer(threading.Thread):\n",
    "    def run(self):\n",
    "        global queue\n",
    "        count = 0\n",
    "        while True:\n",
    "            # qsize返回queue内容长度\n",
    "            if queue.qsize() < 1000:\n",
    "                for i in range(100):\n",
    "                    count = count +1\n",
    "                    msg = '生成产品'+str(count)\n",
    "                    # put是往queue中放入消息\n",
    "                    queue.put(msg)\n",
    "                    print(msg)                 \n",
    "            time.sleep(0.5)\n",
    "# 以上代码 当queue的长度小于1000的时候,每0.5秒生产(放入)一个产品\n",
    "                \n",
    "class Consumer(threading.Thread):\n",
    "    def run(self):\n",
    "        global queue\n",
    "        while True:\n",
    "            if queue.qsize() > 100:\n",
    "                for i in range(3):\n",
    "                    # get是从queue中取出一个值\n",
    "                    msg = self.name + '消费了' + queue.get()\n",
    "                    print(msg)\n",
    "            time.sleep(1)\n",
    "# 以上代码 当queue的长度大于100的时候,每1秒消费(取出)一个产品\n",
    "            \n",
    "if __name__ == '__main__':\n",
    "    queue = queue.Queue()\n",
    "    \n",
    "    for i in range(500):\n",
    "        queue.put('初始产品'+str(i))\n",
    "        \n",
    "    for i in range(2):\n",
    "        p = Producer()\n",
    "        p.start()\n",
    "        \n",
    "    for i in range(5):\n",
    "        c = Consumer()\n",
    "        c.start()\n",
    "# 以上代码 往queue中放入500个初始化产品\n",
    "# 生成两个Producer和生成5个Consumer"
   ]
  },
  {
   "cell_type": "markdown",
   "metadata": {},
   "source": [
    "- 死锁问题"
   ]
  },
  {
   "cell_type": "code",
   "execution_count": null,
   "metadata": {},
   "outputs": [
    {
     "name": "stdout",
     "output_type": "stream",
     "text": [
      "主程序启动....\n",
      "func_1 starting...\n",
      "func_1 申请了 lock_1\n",
      "func_2 starting...\n",
      "func_2 申请了 lock_2\n"
     ]
    }
   ],
   "source": [
    "import threading\n",
    "import time\n",
    "\n",
    "lock_1 = threading.Lock()\n",
    "lock_2 = threading.Lock()\n",
    "\n",
    "def func_1():\n",
    "    print(\"func_1 starting...\")\n",
    "    \n",
    "    lock_1.acquire()\n",
    "    print(\"func_1 申请了 lock_1\")\n",
    "    time.sleep(2)\n",
    "    \n",
    "    lock_2.acquire()\n",
    "    print(\"func_1 申请了 lock_2\")\n",
    "\n",
    "    lock_2.release()\n",
    "    print(\"func_1 释放了 lock_2\")\n",
    "    \n",
    "    lock_1.release()\n",
    "    print(\"func_1 释放了 lock_1\")\n",
    "    \n",
    "    print(\"func_1 done...\")\n",
    "# 申请的顺序跟释放的顺序是相反的\n",
    "\n",
    "def func_2():\n",
    "    print(\"func_2 starting...\")\n",
    "    \n",
    "    lock_2.acquire()\n",
    "    print(\"func_2 申请了 lock_2\")\n",
    "    time.sleep(4)\n",
    "    \n",
    "    lock_1.acquire()\n",
    "    print(\"func_2 申请了 lock_1\")\n",
    "    \n",
    "    lock_1.release()\n",
    "    print(\"func_2 释放了 lock_1\")\n",
    "    \n",
    "    lock_2.release()\n",
    "    print(\"func_2 释放了 lock_2\")\n",
    "    \n",
    "    print(\"func_2 done...\")\n",
    "    \n",
    "if __name__ == \"__main__\":\n",
    "    print(\"主程序启动....\")\n",
    "    t1 = threading.Thread(target=func_1, args=())\n",
    "    t2 = threading.Thread(target=func_2, args=())\n",
    "    \n",
    "    t1.start()\n",
    "    t2.start()\n",
    "    \n",
    "    t1.join()\n",
    "    t2.join()\n",
    " \n",
    "'''\n",
    "由于一开始fun_1申请了lock_1 和 func_2申请了lock_2  \n",
    "两秒后func_1申请不到lock_2  四秒后fun_2也申请不到lock_1\n",
    "所以成了死锁,程序死等\n",
    "'''"
   ]
  },
  {
   "cell_type": "markdown",
   "metadata": {},
   "source": [
    "- 锁的等待时间问题"
   ]
  },
  {
   "cell_type": "code",
   "execution_count": 2,
   "metadata": {},
   "outputs": [
    {
     "name": "stdout",
     "output_type": "stream",
     "text": [
      "主程序启动了...\n",
      "fun_1 starting...\n",
      "func_1 申请了 lock_1\n",
      "func_2 starting...\n",
      "func_2 申请了 lcok_2\n",
      "func_1 没有申请到 lcok_2\n",
      "fun_1 释放了 lock_1\n",
      "func_1 done...\n",
      "func_2 申请到了 lock_1\n",
      "func_2 释放了 lock_1\n",
      "func_2 释放了 lcok_2\n",
      "func_2 done...\n"
     ]
    }
   ],
   "source": [
    "import time\n",
    "import threading\n",
    "\n",
    "lock_1 = threading.Lock()\n",
    "lock_2 = threading.Lock()\n",
    "\n",
    "def func_1():\n",
    "    print(\"fun_1 starting...\")\n",
    "    \n",
    "    lock_1.acquire(timeout=4)\n",
    "    print(\"func_1 申请了 lock_1\")\n",
    "    time.sleep(2)\n",
    "    \n",
    "    rst = lock_2.acquire(timeout=2)\n",
    "    if rst:\n",
    "        prin(\"func_1 申请到了 lock_2\")\n",
    "        lock_2.release()\n",
    "        print(\"func_1 释放了 lock_2\")\n",
    "    else:\n",
    "        print(\"func_1 没有申请到 lcok_2\")\n",
    "    \n",
    "    lock_1.release()\n",
    "    print(\"fun_1 释放了 lock_1\")\n",
    "    \n",
    "    print(\"func_1 done...\")\n",
    "    \n",
    "def func_2():\n",
    "    print(\"func_2 starting...\")\n",
    "    \n",
    "    lock_2.acquire(timeout=4)\n",
    "    print(\"func_2 申请了 lcok_2\")\n",
    "    time.sleep(4)\n",
    "    \n",
    "    rst = lock_1.acquire(timeout=2)\n",
    "    if rst:\n",
    "        print(\"func_2 申请到了 lock_1\")\n",
    "        lock_1.release()\n",
    "        print(\"func_2 释放了 lock_1\")\n",
    "    else:\n",
    "        print(\"func_2 没有申请到 lcok_1\")\n",
    "    \n",
    "    lock_2.release()\n",
    "    print(\"func_2 释放了 lcok_2\")\n",
    "    \n",
    "    print(\"func_2 done...\")\n",
    "    \n",
    "if __name__ == \"__main__\":\n",
    "    print(\"主程序启动了...\")\n",
    "    \n",
    "    t1 = threading.Thread(target=func_1, args=())\n",
    "    t2 = threading.Thread(target=func_2, args=())\n",
    "    \n",
    "    t1.start()\n",
    "    t2.start()\n",
    "    \n",
    "    t1.join()\n",
    "    t2.join()\n",
    "\n",
    "# 此代码就有效解决了死锁问题"
   ]
  },
  {
   "cell_type": "markdown",
   "metadata": {},
   "source": [
    "- semaphore\n",
    "    - 允许一个资源最多有几个线程同时使用\n",
    "    "
   ]
  },
  {
   "cell_type": "code",
   "execution_count": 11,
   "metadata": {},
   "outputs": [
    {
     "name": "stdout",
     "output_type": "stream",
     "text": [
      " Thread-56 get semaphore\n",
      " Thread-56 get semaphore\n",
      " Thread-57 get semaphore\n",
      " Thread-57 get semaphore\n",
      " Thread-56 release semaphore Thread-58 get semaphore\n",
      " Thread-58 get semaphore\n",
      " Thread-57 release semaphore\n",
      " Thread-59 get semaphore\n",
      " Thread-59 get semaphore\n",
      "\n",
      " Thread-58 release semaphore Thread-60 get semaphore Thread-59 release semaphore\n",
      "\n",
      " Thread-60 get semaphore\n",
      "\n",
      " Thread-60 release semaphore\n"
     ]
    }
   ],
   "source": [
    "import threading\n",
    "import time\n",
    "\n",
    "# 参数定义最多几个线程同时使用资源\n",
    "semaphore = threading.Semaphore(2)\n",
    "\n",
    "def func():\n",
    "    if semaphore.acquire():\n",
    "        # 打印2遍\n",
    "        for i in range(2):\n",
    "            # 获取当前线程的名称+ \n",
    "            print(' ' + threading.currentThread().getName() + ' get semaphore')\n",
    "        time.sleep(3)\n",
    "        semaphore.release()\n",
    "        print(' ' + threading.currentThread().getName() + ' release semaphore')\n",
    "\n",
    "# 执行5次func()\n",
    "for i in range(5):\n",
    "    t1 = threading.Thread(target=func, args=())\n",
    "    t1.start()\n",
    "    \n",
    "# 以下运行结果显示 最多运行两个线程,当第一个启动的semaphore被释放后 才继续启动下一个线程"
   ]
  },
  {
   "cell_type": "markdown",
   "metadata": {},
   "source": [
    "- threading.Timer"
   ]
  },
  {
   "cell_type": "code",
   "execution_count": 17,
   "metadata": {},
   "outputs": [
    {
     "name": "stdout",
     "output_type": "stream",
     "text": [
      " 0**************\n",
      " 1**************\n",
      "I am running 2**************\n",
      "\n",
      " 3**************\n",
      "I am done 4**************\n",
      "\n",
      " 5**************\n",
      " 6**************\n",
      " 7**************\n",
      " 8**************\n",
      " 9**************\n"
     ]
    }
   ],
   "source": [
    "# 参数定义 多少秒后执行什么函数\n",
    "\n",
    "import time\n",
    "import threading\n",
    "\n",
    "def func():\n",
    "    print(\"I am running\")\n",
    "    time.sleep(2)\n",
    "    print(\"I am done\")\n",
    "    \n",
    "if __name__ == \"__main__\":\n",
    "    t = threading.Timer(3, func)\n",
    "    t.start()\n",
    "    \n",
    "    for i in range(10):\n",
    "        time.sleep(1)\n",
    "        print(\" {0}**************\".format(i))\n",
    "         "
   ]
  },
  {
   "cell_type": "markdown",
   "metadata": {},
   "source": [
    "- 可重入锁\n",
    "    - 一个锁, 可以被一个线程多次申请\n",
    "    - 主要解决递归调用的时候,需要申请锁的情况\n",
    "    "
   ]
  },
  {
   "cell_type": "code",
   "execution_count": 32,
   "metadata": {},
   "outputs": [
    {
     "name": "stdout",
     "output_type": "stream",
     "text": [
      "Thread-82set num to 1\n"
     ]
    }
   ],
   "source": [
    "# 一般的锁 此代码执行后死锁\n",
    "import time\n",
    "import threading\n",
    "\n",
    "num = 0\n",
    "lock = threading.Lock()\n",
    "\n",
    "class MyThread(threading.Thread):\n",
    "    def run(self):\n",
    "        global num \n",
    "        time.sleep(1)\n",
    "        \n",
    "        if lock.acquire(1):\n",
    "            num += 1\n",
    "            msg = self.name + 'set num to ' + str(num)\n",
    "            print(msg)\n",
    "            lock.acquire()\n",
    "            \n",
    "            lock.release()\n",
    "            lock.release()\n",
    "\n",
    "def func():\n",
    "    for i in range(5):\n",
    "        t = MyThread()\n",
    "        t.start()\n",
    "        \n",
    "if __name__ == \"__main__\":\n",
    "    func()"
   ]
  },
  {
   "cell_type": "code",
   "execution_count": 34,
   "metadata": {},
   "outputs": [
    {
     "name": "stdout",
     "output_type": "stream",
     "text": [
      "Thread-92set num to 1\n",
      "Thread-95set num to 2\n",
      "Thread-94set num to 3\n",
      "Thread-93set num to 4\n",
      "Thread-96set num to 5\n"
     ]
    }
   ],
   "source": [
    "# 用 可重入锁,就能执行以上代码\n",
    "import time\n",
    "import threading\n",
    "\n",
    "num = 0\n",
    "lock = threading.RLock()\n",
    "\n",
    "class MyThread(threading.Thread):\n",
    "    def run(self):\n",
    "        global num \n",
    "        time.sleep(1)\n",
    "        \n",
    "        if lock.acquire():\n",
    "            num += 1\n",
    "            msg = self.name + 'set num to ' + str(num)\n",
    "            print(msg)\n",
    "            lock.acquire()\n",
    "\n",
    "            lock.release()\n",
    "            lock.release()\n",
    "        \n",
    "def func():\n",
    "    for i in range(5):\n",
    "        t = MyThread()\n",
    "        t.start()\n",
    "        \n",
    "if __name__ == \"__main__\":\n",
    "    func()"
   ]
  }
 ],
 "metadata": {
  "kernelspec": {
   "display_name": "Python 3",
   "language": "python",
   "name": "python3"
  },
  "language_info": {
   "codemirror_mode": {
    "name": "ipython",
    "version": 3
   },
   "file_extension": ".py",
   "mimetype": "text/x-python",
   "name": "python",
   "nbconvert_exporter": "python",
   "pygments_lexer": "ipython3",
   "version": "3.7.0"
  }
 },
 "nbformat": 4,
 "nbformat_minor": 2
}
