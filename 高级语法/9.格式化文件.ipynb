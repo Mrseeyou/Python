{
 "cells": [
  {
   "cell_type": "markdown",
   "metadata": {},
   "source": [
    "# 结构化文件存储\n",
    "- xml, json\n",
    "- 为了解决不同设备之间信息交换\n",
    "# XML文件 \n",
    "- 参考资料\n",
    "    - https://docs.python.org/3/library/xml.etree.elementtree.html\n",
    "    - http://www.runoob.com/python/python-xml.html\n",
    "    - https://blog.csdn.net/seetheworld518/article/details/49535285\n",
    "    \n"
   ]
  },
  {
   "cell_type": "markdown",
   "metadata": {},
   "source": [
    "- XML(eXtensibleMarkupLanguage), 可扩展标记语言\n",
    "    - 标记语言: 语言中使用尖括号括起来的文本字符串标记\n",
    "    - 可扩展: 用户可以自己定义需要的标记\n",
    "    - 例如:\n",
    "    \n",
    "            <Teacher>\n",
    "                自定义标记Teacher\n",
    "                在两个标记之间任何内容都应该跟Teacher相关\n",
    "            <Teacher>\n",
    "    - 是w3c组织制定的一个标准\n",
    "    - XML描述的是数据本身, 即数据的结构和语义\n",
    "    - HTML侧重于任何显示web页面中的数据\n"
   ]
  },
  {
   "cell_type": "markdown",
   "metadata": {},
   "source": [
    "- XML文档的构成\n",
    "    - 处理指令(可以认为一个文件内只有一个处理指令)\n",
    "        - 最多只有一行,且必须在第一行\n",
    "        - 以xml关键字开头\n",
    "        - 一般用于声明xml的版本和采用的编码\n",
    "        - version  属性是必须的\n",
    "        - encoding 属性用来支出xml解释器使用的编码\n",
    "    - 根元素(一个文件内只有一个根元素)\n",
    "        - 在整个xml文件中, 可以把他看作一个树形结构\n",
    "        - 只能有一个\n",
    "    - 子元素\n",
    "    - 属性\n",
    "    - 内容\n",
    "        - 表明标签所存储的信息\n",
    "    - 注释\n",
    "        - 起说明作用的信息\n",
    "        - 注释不能嵌套的标签里\n",
    "        - 只有在注释的开始和结尾使用双短横线\n",
    "        - 三短横线只能出现在注释的开头而不能用在结尾\n",
    "        \n",
    "                \n",
    "        <name> <!-- wangdapeng --> </name> 可以\n",
    "        <name> <!-- wangdapeng -->> </name> 不可以\n",
    "\n",
    "        <!-- my - name - by - wang --> 可以,注释内容可以有一个短横线\n",
    "        <!-- my -- name -- by -- wang --> 不可以, 双短横线只能出现在开头或者结尾\n",
    "\n",
    "        <!--- my - name --> 可以,三短横线可以出现在开头\n",
    "        <!--- my - name ---> 不可以,三短横线不能出现在结尾"
   ]
  },
  {
   "cell_type": "markdown",
   "metadata": {},
   "source": [
    "- 保留字符的处理\n",
    "    - XML中使用的符号可能跟实际符号想冲突, 典型的就是左右尖括号\n",
    "    - 使用实体引用(EntiyReference)来表示保留字符\n",
    "    - 把包含保留字符的部分放在CDATA块内部, CDATA块吧内部信息视为不需要转义\n",
    "    \n",
    "        <![CDATA[\n",
    "            select name,age\n",
    "            from Stydent\n",
    "            where score>80\n",
    "            ]]>\n",
    "    - 常用的需要转义的保留字符和对应实体引用\n",
    "        \n",
    "            & : &amp;\n",
    "            < : &lt;\n",
    "            > : &gt;\n",
    "            ' : &apos;\n",
    "            \" : &quot;\n",
    "            一共五个,分别以&开头 以;结尾\n",
    "        "
   ]
  },
  {
   "cell_type": "markdown",
   "metadata": {},
   "source": [
    "- XML命名规则\n",
    "    - Pascal命名法\n",
    "    - 用单词表示, 第一个字母大写\n",
    "    - 大小写严格区分\n",
    "    - 配对的标签必须一致"
   ]
  },
  {
   "cell_type": "markdown",
   "metadata": {},
   "source": [
    "- 命名空间\n",
    "    - 为了防止命名冲突而进行声明\n",
    "    - xmlns: xml name space 的缩写\n",
    "        - 两个name信息,会产生冲突\n",
    "            \n",
    "                <Schooler>\n",
    "                    <Name>MingMing</Name>\n",
    "                        <Age>26</Age>\n",
    "                     <Name>2014</Name>\n",
    "                        <Location>1-26-1</Location>\n",
    "                <Schooler/>\n",
    "         - 需要给可能冲突的元素添加命名空间\n",
    "         \n",
    "                 <Schooler xmlns:student=\"http://my_student\" xmlns:room=\"thhp://my_room>\n",
    "                    <student:Name>MingMing</student:Name>\n",
    "                        <Age>26</Age>\n",
    "                     <room:Name>2014</room:Name>\n",
    "                        <Location>1-26-1</Location>\n",
    "                <Schooler/>\n",
    "                "
   ]
  },
  {
   "cell_type": "markdown",
   "metadata": {},
   "source": [
    "# XML访问\n",
    " \n",
    "## 读取\n",
    "- XML读取分两个主要技术,SAX, DOM\n",
    "- SAX(Simple API for XML):\n",
    "    - 基于事件驱动的API\n",
    "    - 利用SAX解析文档设计的解析器和事件处理两部分\n",
    "    - 特点:\n",
    "        - 快\n",
    "        - 流式读取\n",
    "- DOM\n",
    "    - 是w3c规定的XML编程接口\n",
    "    - 一个XML文件再缓存中以树形结构保存,读取\n",
    "    - 用途\n",
    "        - 定位浏览XML任何一个节点信息\n",
    "        - 添加删除相应内容\n",
    "    - minidom\n",
    "        - minidom.parse(filename): 加载读取的xml文件, filename也可以是xml代码\n",
    "        - doc.documentElement: 获取xml文档对象, 一个xml文件只有一个对应的文档对象\n",
    "        - node.getAttribute(attr_name): 获取xml节点的属性值\n",
    "        - node.getElementByTagName(tage_name): 得到一个节点对象集合\n",
    "        - node.childNodes: 得到所有子节点\n",
    "        - node.childNodes[index].nodeValue: 获取单个节点值\n",
    "        - node.firstNode: 得到第一个节点, 等价于node.childNodes[0]\n",
    "        - node.attributes[tage_name]: 得到所有属性"
   ]
  },
  {
   "cell_type": "code",
   "execution_count": 6,
   "metadata": {},
   "outputs": [
    {
     "name": "stdout",
     "output_type": "stream",
     "text": [
      "---Node:Teacher---\n",
      "Name:MingMing\n",
      "Age:26\n",
      "Age-detail:Age for year 2010\n",
      "Mobile:15501900190\n"
     ]
    }
   ],
   "source": [
    "# minidom案例\n",
    "import xml.dom.minidom\n",
    "# 负责解析xml文件\n",
    "from xml.dom.minidom import parse\n",
    "\n",
    "# 使用minidom打开xml文件\n",
    "DOMTree = xml.dom.minidom.parse(\"student.xml\")\n",
    "\n",
    "# 得到文档对象\n",
    "doc = DOMTree.documentElement\n",
    "\n",
    "# 显示元素\n",
    "for  ele in doc.childNodes:\n",
    "    if ele.nodeName == \"Teacher\":\n",
    "        print(\"---Node:{}---\".format(ele.nodeName))\n",
    "        childs = ele.childNodes\n",
    "        for child in childs:\n",
    "            if child.nodeName == \"Name\":\n",
    "                # data是文本节点的一个属性,表示他的值\n",
    "                print(\"Name:{}\".format(child.childNodes[0].data))\n",
    "            if child.nodeName == \"Mobile\":\n",
    "                print(\"Mobile:{}\".format(child.childNodes[0].data))\n",
    "            if child.nodeName == \"Age\":\n",
    "                print(\"Age:{}\".format(child.childNodes[0].data))\n",
    "                if child.hasAttribute(\"detail\"):\n",
    "                    print(\"Age-detail:{}\".format(child.getAttribute(\"detail\")))\n"
   ]
  },
  {
   "cell_type": "markdown",
   "metadata": {},
   "source": [
    "- etree\n",
    "    - parse: 以树形结构来表示xml\n",
    "    - tree.getroot(): 获取根元素\n",
    "    - root.getiterator: 得到相应的可迭代的node集合\n",
    "        - for child in root  迭代获得子元素(嵌套使用,获得下一层)\n",
    "    - Element.get()  获得属性值\n",
    "    - root.getchildren()  获得直接子元素\n",
    "    - root[0][1]  根据索引查找子元素\n",
    "    - root.find(match)　查找第一个匹配的子元素， match可以时tag或是xpaht路径\n",
    "    - root.findall(match)   返回所有匹配的子元素， match可以时tag或是xpaht路径\n",
    "    - root.iter(tag=None): 以当前元素为根节点 创建树迭代器,如果tag不为None,则以tag进行过滤\n",
    "    - root.iterfind()   根据tag查找直接子元素，返回查到的所有元素的生成器\n",
    "    - node.tag: node对应的tagename\n",
    "    - node.text: node的文本值\n",
    "    - node.attrid: 是node的属性的字典类型的内容"
   ]
  },
  {
   "cell_type": "code",
   "execution_count": 7,
   "metadata": {},
   "outputs": [
    {
     "name": "stdout",
     "output_type": "stream",
     "text": [
      "利用getiterator访问: \n",
      "School--\n",
      "    \n",
      "Teacher--\n",
      "        \n",
      "Name--MingMing\n",
      "Age--26\n",
      "Mobile--15501900190\n",
      "Student--\n",
      "        \n",
      "Name--ZhanSan\n",
      "Age--24\n",
      "Student--\n",
      "        \n",
      "Name--LiSi\n",
      "Age--22\n",
      "Mobile--13112320303\n",
      "利用find和dindall方法: \n",
      "<class 'xml.etree.ElementTree.Element'>\n",
      "Teacher--\n",
      "        \n",
      "<class 'list'>\n",
      "Student--\n",
      "        \n",
      "他是班长\n",
      "Student--\n",
      "        \n"
     ]
    }
   ],
   "source": [
    "# etree案例\n",
    "import xml.etree.ElementTree # 用于解析和构建XML文件\n",
    "\n",
    "root = xml.etree.ElementTree.parse(\"student.xml\")\n",
    "print(\"利用getiterator访问: \")\n",
    "nodes = root.getiterator()\n",
    "\n",
    "for node in nodes:\n",
    "    print(\"{0}--{1}\".format(node.tag, node.text))\n",
    "    \n",
    "print(\"利用find和dindall方法: \")\n",
    "ele_teacher = root.find(\"Teacher\")\n",
    "print(type(ele_teacher))\n",
    "print(\"{0}--{1}\".format(ele_teacher.tag, ele_teacher.text))\n",
    "\n",
    "ele_stus = root.findall(\"Student\")\n",
    "print(type(ele_stus))\n",
    "for ele in ele_stus:\n",
    "    print(\"{0}--{1}\".format(ele.tag, ele.text))\n",
    "    for sub in ele.getiterator():\n",
    "        if sub.tag == \"Name\":\n",
    "            if \"Other\" in sub.attrib.keys():\n",
    "                print(sub.attrib[\"Other\"])"
   ]
  },
  {
   "cell_type": "markdown",
   "metadata": {},
   "source": [
    "- xml文件写入\n",
    "    - 更改\n",
    "        - ele.set(key, value): 修改属性\n",
    "        - ele.append: 添加子元素\n",
    "        - ele.remove: 删除         \n",
    "        - del xxx.attrib[key]      删除对应的属性"
   ]
  },
  {
   "cell_type": "code",
   "execution_count": 6,
   "metadata": {},
   "outputs": [
    {
     "name": "stdout",
     "output_type": "stream",
     "text": [
      "MingMing\n",
      "ZhanSan\n",
      "LiSi\n"
     ]
    }
   ],
   "source": [
    "import xml.etree.ElementTree as et\n",
    "\n",
    "tree = et.parse(r\"to_edit.xml\")\n",
    "\n",
    "# 得到根元素\n",
    "root = tree.getroot()\n",
    "\n",
    "# 打印name里面的值\n",
    "for e in root.iter(\"Name\"):\n",
    "    print(e.text)\n",
    "    \n",
    "for stu in root.iter(\"Student\"):\n",
    "    name = stu.find(\"Name\")\n",
    "\n",
    "    if name != None:\n",
    "        name.set(\"text\", name.text * 2)\n",
    "            \n",
    "stu = root.find(\"Student\")\n",
    "\n",
    "# 生成一个新的元素\n",
    "e = et.Element(\"ADDer\")\n",
    "e.attrib = { \"a\" :\"b\"}\n",
    "e.text = '我加的'\n",
    "\n",
    "stu.append(e)\n",
    "\n",
    "# 把修改的内容写回文件,否则修改无效\n",
    "tree.write('to_edit.xml')"
   ]
  },
  {
   "cell_type": "markdown",
   "metadata": {},
   "source": [
    "- 生成创建\n",
    "    - SuElement \n",
    "        - 01\n",
    "    - minidom \n",
    "        - 02\n",
    "    - etree \n",
    "        - 03"
   ]
  },
  {
   "cell_type": "code",
   "execution_count": 2,
   "metadata": {},
   "outputs": [
    {
     "name": "stdout",
     "output_type": "stream",
     "text": [
      "<student01><Name lang=\"en\">hahaha</Name><Age>18</Age></student01>\n"
     ]
    }
   ],
   "source": [
    "# 01\n",
    "import xml.etree.ElementTree as et\n",
    "\n",
    "stu = et.Element(\"student01\")\n",
    "\n",
    "# 创建一个子元素\n",
    "name = et.SubElement(stu, \"Name\")\n",
    "# 设置属性\n",
    "name.attrib = {\"lang\": \"en\"}\n",
    "# 文本值\n",
    "name.text = \"hahaha\"\n",
    "\n",
    "age = et.SubElement(stu, \"Age\")\n",
    "age.text = \"18\"\n",
    "\n",
    "et.dump(stu)"
   ]
  },
  {
   "cell_type": "code",
   "execution_count": null,
   "metadata": {},
   "outputs": [],
   "source": [
    "# 02\n",
    "import xml.dom.minidom\n",
    "\n",
    "# 在内存中创建一个空的文档\n",
    "doc = xml.dom.minidom.Document()\n",
    "\n",
    "# 创建一个根节点Managers对象\n",
    "root = doc.createElement(\"Managers\")\n",
    "\n",
    "# 设置根节点的属性\n",
    "root.setAttribute('company', '科技')\n",
    "root.setAttribute('address', '科技园')\n",
    "\n",
    "# 将根节点添加到文件对象中\n",
    "doc.appendChild(root)\n",
    "\n",
    "managerList = [{'name':'joy', 'age':26, 'sex':'男'},{'name':'tom', 'age':30, 'sex':'男'},{'name':'ruby', 'age':24, \"sex\":\"女\"}]\n",
    "\n",
    "for i in managerList:\n",
    "    nodeManager = doc.createElement('Manager')\n",
    "    \n",
    "    nodeName = doc.createElement(\"name\") \n",
    "    # 给叶子节点NAME设置一个文本加点,用于显示文本内容\n",
    "    nodeName.appendChild(doc.createTextNode(str(i[\"name\"])))\n",
    "    \n",
    "    nodeAge = doc.createElement(\"age\")\n",
    "    nodeAge.appendChild(doc.createTextNode(str(i[\"age\"])))\n",
    "    \n",
    "    nodeSex = doc.createElement(\"sex\")\n",
    "    nodeSex.appendChild(doc.createTextNode(str(i[\"sex\"])))\n",
    "    \n",
    "    # 将各叶子节点添加到父节点Manager中\n",
    "    # 最后将Manager添加到根节点Managers中\n",
    "    nodeManager.appendChild(nodeName)\n",
    "    nodeManager.appendChild(nodeAge)\n",
    "    nodeManager.appendChild(nodeSex)\n",
    "    \n",
    "# 开始写xml文档\n",
    "fb = open(\"Manager.xml\",\"w\")\n",
    "doc.writexml(fb, indent=\"\\t\", addindent=\"\\t\", newl=\"\\n\", encoding='utf-8')"
   ]
  },
  {
   "cell_type": "code",
   "execution_count": 7,
   "metadata": {},
   "outputs": [],
   "source": [
    "# 03\n",
    "import xml.etree.ElementTree as et\n",
    "\n",
    "# 在内存中创建一个空的文档\n",
    "etree = et.ElementTree()\n",
    "\n",
    "# 创建一个元素\n",
    "e = et.Element('Student')\n",
    "\n",
    "# 将元素设置为根\n",
    "etree._setroot(e)\n",
    "\n",
    "e_name =  et.SubElement(e, \"Name\")\n",
    "e_name.text = \"hahaha\"\n",
    "\n",
    "etree.write(\"student02.xml\")"
   ]
  }
 ],
 "metadata": {
  "kernelspec": {
   "display_name": "Python 3",
   "language": "python",
   "name": "python3"
  },
  "language_info": {
   "codemirror_mode": {
    "name": "ipython",
    "version": 3
   },
   "file_extension": ".py",
   "mimetype": "text/x-python",
   "name": "python",
   "nbconvert_exporter": "python",
   "pygments_lexer": "ipython3",
   "version": "3.7.0"
  }
 },
 "nbformat": 4,
 "nbformat_minor": 2
}
