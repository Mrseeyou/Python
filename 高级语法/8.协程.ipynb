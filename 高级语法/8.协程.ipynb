{
 "cells": [
  {
   "cell_type": "markdown",
   "metadata": {},
   "source": [
    "# 协程\n",
    "- 参考资料\n",
    "    - http://python.jobbole.com/86481/\n",
    "    - http://python.jobbole.com/87310/\n",
    "    - https://segmentfault.com/a/1190000009781688\n",
    "    \n",
    "# 迭代器\n",
    "- 可迭代(Iterable): 直接作用于for循环的变量\n",
    "- 迭代器(Iterator): 不但可以作用于for循环, 还可以被next调用\n",
    "- list 是典型的可迭代对象, 但不是迭代器\n",
    "- 通过isinstance判断\n",
    "- iterable和iterator可以转换\n",
    "    - 通过iter函数\n"
   ]
  },
  {
   "cell_type": "code",
   "execution_count": 2,
   "metadata": {},
   "outputs": [
    {
     "name": "stdout",
     "output_type": "stream",
     "text": [
      "0\n",
      "1\n",
      "2\n",
      "3\n",
      "4\n",
      "0\n",
      "1\n",
      "2\n",
      "3\n",
      "4\n"
     ]
    }
   ],
   "source": [
    "# 可迭代\n",
    "l = [ i for i in range(5)]\n",
    "\n",
    "# l 是可迭代的, 但不是迭代器\n",
    "for index in l:\n",
    "    print(index)\n",
    "    \n",
    "# range 是个迭代器\n",
    "for i in range(5):\n",
    "    print(i)"
   ]
  },
  {
   "cell_type": "code",
   "execution_count": 5,
   "metadata": {},
   "outputs": [
    {
     "name": "stdout",
     "output_type": "stream",
     "text": [
      "True\n",
      "False\n"
     ]
    }
   ],
   "source": [
    "# isinstance 判断某个变量是否是一个实例\n",
    "from collections import Iterable ,Iterator\n",
    "\n",
    "l1 = [1,2,3,4,5]\n",
    "\n",
    "print(isinstance(l1, Iterable)) # 是否可迭代\n",
    "print(isinstance(l1, Iterator)) # 是否迭代器"
   ]
  },
  {
   "cell_type": "code",
   "execution_count": 7,
   "metadata": {},
   "outputs": [
    {
     "name": "stdout",
     "output_type": "stream",
     "text": [
      "True\n",
      "False\n",
      "True\n",
      "True\n"
     ]
    }
   ],
   "source": [
    "# iter 函数\n",
    "from collections import Iterable ,Iterator\n",
    "\n",
    "s = \"i like you\"\n",
    "\n",
    "print(isinstance(s, Iterable))\n",
    "print(isinstance(s, Iterator))\n",
    "\n",
    "s_iter = iter(s)\n",
    "\n",
    "print(isinstance(s_iter, Iterable))\n",
    "print(isinstance(s_iter, Iterator))"
   ]
  },
  {
   "cell_type": "markdown",
   "metadata": {},
   "source": [
    "# 生成器\n",
    "- generator: 一边循环一边计算下一个元素的机制/算法\n",
    "- 需要满足三个条件:\n",
    "    - 每次调用都生产出for循环需要的下一个元素\n",
    "    - 如果达到最后一个后,报出Stoplteration异常\n",
    "    - 可以被next函数调用\n",
    "- 如何生成一个生成器\n",
    "    - 直接使用\n",
    "    - 如果函数中包含yield, 则这个函数就叫生成器\n",
    "    - next调用函数, 遇到yield返回"
   ]
  },
  {
   "cell_type": "code",
   "execution_count": 8,
   "metadata": {},
   "outputs": [
    {
     "name": "stdout",
     "output_type": "stream",
     "text": [
      "<class 'list'>\n",
      "<class 'generator'>\n"
     ]
    }
   ],
   "source": [
    "# 直接使用生成器\n",
    "\n",
    "L = [x*x for x in range(5)] # 放在中括号中的是列表生成器\n",
    "G = (x*x for x in range(5)) # 放在小括号中就是生成器\n",
    "\n",
    "print(type(L))\n",
    "print(type(G))"
   ]
  },
  {
   "cell_type": "code",
   "execution_count": null,
   "metadata": {},
   "outputs": [],
   "source": [
    "# "
   ]
  },
  {
   "cell_type": "code",
   "execution_count": 9,
   "metadata": {},
   "outputs": [
    {
     "name": "stdout",
     "output_type": "stream",
     "text": [
      "Step 1\n",
      "Step 2\n",
      "Step 3\n"
     ]
    }
   ],
   "source": [
    "# 一般函数的案例\n",
    "\n",
    "def odd():\n",
    "    print(\"Step 1\")\n",
    "    print(\"Step 2\")\n",
    "    print(\"Step 3\")\n",
    "    return None\n",
    "\n",
    "odd()"
   ]
  },
  {
   "cell_type": "code",
   "execution_count": 13,
   "metadata": {},
   "outputs": [
    {
     "data": {
      "text/plain": [
       "<generator object odd at 0x0000000004BC1DE0>"
      ]
     },
     "execution_count": 13,
     "metadata": {},
     "output_type": "execute_result"
    }
   ],
   "source": [
    "# 生成器的案例\n",
    "def odd():\n",
    "    print(\"Step 1\")\n",
    "    yield 1\n",
    "    print(\"Step 2\")\n",
    "    yield 2\n",
    "    print(\"Step 3\")\n",
    "    yield 3\n",
    "    \n",
    "odd()\n",
    "# 不能直接调用"
   ]
  },
  {
   "cell_type": "code",
   "execution_count": 14,
   "metadata": {},
   "outputs": [
    {
     "name": "stdout",
     "output_type": "stream",
     "text": [
      "Step 1\n",
      "1\n"
     ]
    }
   ],
   "source": [
    "# 生成器的案例\n",
    "def odd():\n",
    "    print(\"Step 1\")\n",
    "    yield 1\n",
    "    print(\"Step 2\")\n",
    "    yield 2\n",
    "    print(\"Step 3\")\n",
    "    yield 3\n",
    " \n",
    "# 此时 odd() 是调用生成器\n",
    "one = next(odd())\n",
    "print(one)\n",
    "# 只执行一次 因为遇到yield"
   ]
  },
  {
   "cell_type": "code",
   "execution_count": 15,
   "metadata": {},
   "outputs": [
    {
     "name": "stdout",
     "output_type": "stream",
     "text": [
      "Step 1\n",
      "1\n",
      "Step 2\n",
      "2\n",
      "Step 3\n",
      "3\n"
     ]
    }
   ],
   "source": [
    "# 生成器的案例\n",
    "def odd():\n",
    "    print(\"Step 1\")\n",
    "    yield 1\n",
    "    print(\"Step 2\")\n",
    "    yield 2\n",
    "    print(\"Step 3\")\n",
    "    yield 3\n",
    "\n",
    "# 如果直接传入odd() 则系统默认为 每个函数都调用了一个生成器 而不是同一个生成器\n",
    "g = odd()\n",
    "\n",
    "one = next(g)\n",
    "print(one)\n",
    "\n",
    "two = next(g)\n",
    "print(two)\n",
    "\n",
    "three = next(g)\n",
    "print(three)"
   ]
  },
  {
   "cell_type": "code",
   "execution_count": 16,
   "metadata": {},
   "outputs": [
    {
     "name": "stdout",
     "output_type": "stream",
     "text": [
      "1\n",
      "1\n",
      "2\n",
      "3\n",
      "5\n"
     ]
    },
    {
     "data": {
      "text/plain": [
       "'Done'"
      ]
     },
     "execution_count": 16,
     "metadata": {},
     "output_type": "execute_result"
    }
   ],
   "source": [
    "# for循环调用生成器\n",
    "def fib(num):\n",
    "    n, a, b = 0, 0, 1\n",
    "    while n < num:\n",
    "        print(b)\n",
    "        a,b = b, a+b\n",
    "        n += 1\n",
    "    return 'Done'\n",
    "\n",
    "fib(5)\n",
    "    "
   ]
  },
  {
   "cell_type": "code",
   "execution_count": 19,
   "metadata": {},
   "outputs": [
    {
     "name": "stdout",
     "output_type": "stream",
     "text": [
      "1\n",
      "1\n",
      "2\n",
      "3\n",
      "5\n"
     ]
    },
    {
     "ename": "StopIteration",
     "evalue": "Done",
     "output_type": "error",
     "traceback": [
      "\u001b[1;31m---------------------------------------------------------------------------\u001b[0m",
      "\u001b[1;31mStopIteration\u001b[0m                             Traceback (most recent call last)",
      "\u001b[1;32m<ipython-input-19-31bd04d7036e>\u001b[0m in \u001b[0;36m<module>\u001b[1;34m()\u001b[0m\n\u001b[0;32m     12\u001b[0m \u001b[1;32mfor\u001b[0m \u001b[0mi\u001b[0m \u001b[1;32min\u001b[0m \u001b[0mrange\u001b[0m\u001b[1;33m(\u001b[0m\u001b[1;36m6\u001b[0m\u001b[1;33m)\u001b[0m\u001b[1;33m:\u001b[0m\u001b[1;33m\u001b[0m\u001b[0m\n\u001b[0;32m     13\u001b[0m     \u001b[1;31m# 按循环的次数调用生成器\u001b[0m\u001b[1;33m\u001b[0m\u001b[1;33m\u001b[0m\u001b[0m\n\u001b[1;32m---> 14\u001b[1;33m     \u001b[0mrst\u001b[0m \u001b[1;33m=\u001b[0m \u001b[0mnext\u001b[0m\u001b[1;33m(\u001b[0m\u001b[0mg\u001b[0m\u001b[1;33m)\u001b[0m\u001b[1;33m\u001b[0m\u001b[0m\n\u001b[0m\u001b[0;32m     15\u001b[0m     \u001b[0mprint\u001b[0m\u001b[1;33m(\u001b[0m\u001b[0mrst\u001b[0m\u001b[1;33m)\u001b[0m\u001b[1;33m\u001b[0m\u001b[0m\n",
      "\u001b[1;31mStopIteration\u001b[0m: Done"
     ]
    }
   ],
   "source": [
    "# 斐波那契额数列的生成写法\n",
    "def fib(num):\n",
    "    n, a, b = 0, 0, 1\n",
    "    while n < num:\n",
    "        yield b\n",
    "        a,b = b, a+b\n",
    "        n += 1\n",
    "    return 'Done'\n",
    "    \n",
    "g = fib(5) # 生成一个生成器\n",
    "\n",
    "for i in range(6):\n",
    "    # 按循环的次数调用生成器\n",
    "    rst = next(g) \n",
    "    print(rst)"
   ]
  },
  {
   "cell_type": "code",
   "execution_count": 20,
   "metadata": {},
   "outputs": [
    {
     "name": "stdout",
     "output_type": "stream",
     "text": [
      "1\n",
      "1\n",
      "2\n",
      "3\n",
      "5\n",
      "8\n",
      "13\n",
      "21\n",
      "34\n",
      "55\n"
     ]
    }
   ],
   "source": [
    "# 生成器的典型用法是在for寻循中使用\n",
    "# 比较常用的典型生成器就是range\n",
    "\n",
    "ge = fib(10)\n",
    "\n",
    "for i in ge: # 在for循环中使用生成器\n",
    "    print(i)"
   ]
  },
  {
   "cell_type": "markdown",
   "metadata": {},
   "source": [
    "# 协程\n",
    "- 历史历程\n",
    "    - 3.4引入协程, 用yield实现\n",
    "    - 3.5引入协程语法\n",
    "    - 实现的协程比较好的包有asyncio, tornado, gevent\n",
    "- 定义: 协程是为非抢占式多任务产生子程序的计算机程序组件,协程允许不同入口点在不用位置暂停或开始执行程序.\n",
    "- 从技术角度讲: 协程就是一个你可以暂停执行的函数, 或者干脆把协程理解成 生成器\n",
    "- 协程的实现:\n",
    "    - yield返回\n",
    "    - send调用\n",
    "    \n",
    "- 协程的四个状态\n",
    "    - inspect.getgeneratorstate(...)函数确定, 该函数会返回下述字符串中的一个:\n",
    "        - GEN_CREATED: 等待开始执行\n",
    "        - GEN_RUNNING: 解释器正在执行\n",
    "        - GEN_SUSPENED: 在yield表达式出暂停\n",
    "        - GEN_CLOSED: 执行结束\n",
    "        - next预激(prime)\n",
    "        \n",
    "- 协程终止\n",
    "    - 协程中未处理的异常会向上冒泡, 传给 next函数或 send方法的调用方 (即触发协程的对象)\n",
    "    - 终止协程的一种方式: 发送某个哨符值, 让协程退出. 内置 None和 Ellipsis等常亮经常用作哨符值==.\n",
    "    "
   ]
  },
  {
   "cell_type": "code",
   "execution_count": 27,
   "metadata": {},
   "outputs": [
    {
     "name": "stdout",
     "output_type": "stream",
     "text": [
      "111\n",
      "- > start\n",
      "222\n",
      "- > recived hahaha\n"
     ]
    },
    {
     "ename": "StopIteration",
     "evalue": "",
     "output_type": "error",
     "traceback": [
      "\u001b[1;31m---------------------------------------------------------------------------\u001b[0m",
      "\u001b[1;31mStopIteration\u001b[0m                             Traceback (most recent call last)",
      "\u001b[1;32m<ipython-input-27-d2a5d4185196>\u001b[0m in \u001b[0;36m<module>\u001b[1;34m()\u001b[0m\n\u001b[0;32m     11\u001b[0m \u001b[1;33m\u001b[0m\u001b[0m\n\u001b[0;32m     12\u001b[0m \u001b[0mprint\u001b[0m\u001b[1;33m(\u001b[0m\u001b[1;36m222\u001b[0m\u001b[1;33m)\u001b[0m\u001b[1;33m\u001b[0m\u001b[0m\n\u001b[1;32m---> 13\u001b[1;33m \u001b[0msc\u001b[0m\u001b[1;33m.\u001b[0m\u001b[0msend\u001b[0m\u001b[1;33m(\u001b[0m\u001b[1;34m'hahaha'\u001b[0m\u001b[1;33m)\u001b[0m\u001b[1;33m\u001b[0m\u001b[0m\n\u001b[0m",
      "\u001b[1;31mStopIteration\u001b[0m: "
     ]
    }
   ],
   "source": [
    "# 协程代码案例1\n",
    "\n",
    "def simple_coroutine():\n",
    "    print('- > start')\n",
    "    x = yield\n",
    "    print('- > recived', x)\n",
    "    \n",
    "# 主线程\n",
    "sc = simple_coroutine()\n",
    "print(111)\n",
    "sc.send(None) # 预激 也可以用 next(sc)\n",
    "\n",
    "print(222)\n",
    "sc.send('hahaha')"
   ]
  },
  {
   "cell_type": "code",
   "execution_count": 28,
   "metadata": {},
   "outputs": [
    {
     "name": "stdout",
     "output_type": "stream",
     "text": [
      "- > start\n",
      "5\n",
      "- > recived 5 6\n",
      "11\n",
      "- > recived 5 6 7\n"
     ]
    },
    {
     "ename": "StopIteration",
     "evalue": "",
     "output_type": "error",
     "traceback": [
      "\u001b[1;31m---------------------------------------------------------------------------\u001b[0m",
      "\u001b[1;31mStopIteration\u001b[0m                             Traceback (most recent call last)",
      "\u001b[1;32m<ipython-input-28-d59d2b801148>\u001b[0m in \u001b[0;36m<module>\u001b[1;34m()\u001b[0m\n\u001b[0;32m     18\u001b[0m \u001b[0mprint\u001b[0m\u001b[1;33m(\u001b[0m\u001b[0mbb\u001b[0m\u001b[1;33m)\u001b[0m\u001b[1;33m\u001b[0m\u001b[0m\n\u001b[0;32m     19\u001b[0m \u001b[1;33m\u001b[0m\u001b[0m\n\u001b[1;32m---> 20\u001b[1;33m \u001b[0mcc\u001b[0m \u001b[1;33m=\u001b[0m \u001b[0msc\u001b[0m\u001b[1;33m.\u001b[0m\u001b[0msend\u001b[0m\u001b[1;33m(\u001b[0m\u001b[1;36m7\u001b[0m\u001b[1;33m)\u001b[0m\u001b[1;33m\u001b[0m\u001b[0m\n\u001b[0m\u001b[0;32m     21\u001b[0m \u001b[0mprint\u001b[0m\u001b[1;33m(\u001b[0m\u001b[0mcc\u001b[0m\u001b[1;33m)\u001b[0m\u001b[1;33m\u001b[0m\u001b[0m\n",
      "\u001b[1;31mStopIteration\u001b[0m: "
     ]
    }
   ],
   "source": [
    "# 协程代码案例2\n",
    "\n",
    "def simple_coroutine(a):\n",
    "    print('- > start')\n",
    "    \n",
    "    b = yield a\n",
    "    print('- > recived', a, b)\n",
    "    \n",
    "    c = yield a+ b\n",
    "    print('- > recived',a, b, c)\n",
    "    \n",
    "sc = simple_coroutine(5)\n",
    "\n",
    "aa = next(sc)\n",
    "print(aa)\n",
    "\n",
    "bb = sc.send(6)\n",
    "print(bb)\n",
    "\n",
    "cc = sc.send(7)\n",
    "print(cc)\n"
   ]
  },
  {
   "cell_type": "markdown",
   "metadata": {},
   "source": [
    "- yield from\n",
    "    - 调用协程为了得到返回值,协程必须正常终止\n",
    "    - 生成器正常终止会发出 StopIteration异常, 异常对象的 value属性保存返回值\n",
    "    - yield from从内部捕获 StopIteration异常"
   ]
  },
  {
   "cell_type": "code",
   "execution_count": 29,
   "metadata": {},
   "outputs": [
    {
     "name": "stdout",
     "output_type": "stream",
     "text": [
      "['A', 'B']\n",
      "['A', 'B']\n"
     ]
    }
   ],
   "source": [
    "def gen():\n",
    "    for c in \"AB\":\n",
    "        yield c\n",
    "        \n",
    "# list直接用生成器作为参数\n",
    "print(list(gen()))\n",
    "\n",
    "def gen_new():\n",
    "    yield from \"AB\"\n",
    "print(list(gen_new()))"
   ]
  },
  {
   "cell_type": "markdown",
   "metadata": {},
   "source": [
    "- 委派生成器\n",
    "    - 包含 yield from 表达式的生成器函数\n",
    "    - 委派生成器在 yield from 表达式处暂停, 调用方可以直接吧数据发给子生成器\n",
    "    - 子生成器在把产生的值发给调用方\n",
    "    - 子生成器在最后, 解释器会抛出 StopIteration, 并且把返回值附加到异常对象上"
   ]
  },
  {
   "cell_type": "code",
   "execution_count": 38,
   "metadata": {},
   "outputs": [
    {
     "name": "stdout",
     "output_type": "stream",
     "text": [
      "{'boys_2': Res(count=9, average=40.422222222222224), 'boys_1': Res(count=9, average=1.3888888888888888)}\n"
     ]
    }
   ],
   "source": [
    "# 委派生成器\n",
    "from collections import namedtuple\n",
    "\n",
    "'''\n",
    "解释:\n",
    "    1. 外层for循环每次迭代会新建一个grouper实例, 赋值给coroutine变量, grouper是委派生成器\n",
    "    2. 调用next(coroutine),预激委派生成器 grouper, 此时传入 while True循环, 调用子生成器\n",
    "    3. 内层for循环调用coroutine.send(value), 直接把值传给子生成器 averager.同时, 当前的\n",
    "    4. 内层循环结束后, grouper实例依旧在yield from表达式处暂停, 因此, grouper函数定义体中\n",
    "    5. coroutine.send(None) 终止 averager 子生成器, 子生成器抛出 Stopteration异常并返回的\n",
    "'''\n",
    "\n",
    "ResClass = namedtuple('Res', 'count average')\n",
    "\n",
    "# 子生成器\n",
    "def averager():\n",
    "    total = 0.0 \n",
    "    count = 0\n",
    "    average = None\n",
    "    \n",
    "    while True:\n",
    "        term = yield\n",
    "        if term is None:\n",
    "            break\n",
    "        total += term\n",
    "        count += 1\n",
    "        average = total / count\n",
    "    return ResClass(count, average)\n",
    "\n",
    "# 委派生成器\n",
    "def grouper(storages, key):\n",
    "    while True:\n",
    "        # 获取averager()返回值\n",
    "        storages[key] = yield from averager()\n",
    "        \n",
    "# 客户端代码\n",
    "def client():\n",
    "    process_data = {\n",
    "        'boys_2': [39.0, 40.8, 43.2, 40.8, 43.1, 38.6, 41.4, 40.6, 36.3],\n",
    "        'boys_1': [1.38, 1.5, 1.32, 1.25, 1.37, 1.48, 1.25, 1.49, 1.46]\n",
    "        \n",
    "    }\n",
    "    \n",
    "    storages = {}\n",
    "    for k, v in process_data.items():# 因为process_data是字典, 所以k代表boys_2 v代表[.....]\n",
    "        # 获得协程\n",
    "        coroutine = grouper(storages, k) # 每迭代一次 新建一个委派生成器 并赋值给变量 cooroutine \n",
    "                                         # 每次传入的参数是键 'boys_2' , 'boys_1'\n",
    "                                         # 由于grouper委派生成器是storget参数的键接受 averager()的返回值\n",
    "                                                # 顾传入的参数是键 保持不变\n",
    "        \n",
    "        # 预激函数\n",
    "        next(coroutine)\n",
    "        \n",
    "        # 发送数据到协程\n",
    "        for dt in v:           # 每次迭代 传入键的值 调用委派生成器 获取averget()的返回值 得到次数和平均值\n",
    "            coroutine.send(dt)\n",
    "            \n",
    "        # 终止协程\n",
    "        coroutine.send(None)\n",
    "        \n",
    "    print(storages)\n",
    "    # 由于storages定义为字典 最终打印出来的是字典\n",
    "    \n",
    "client()"
   ]
  },
  {
   "cell_type": "markdown",
   "metadata": {},
   "source": [
    "#### asyncio\n",
    "    - python3.4 开始引入标准库当中, 内置对异步io的支持\n",
    "    - asyncio本身是一个消息循环\n",
    "    - 步骤:\n",
    "        - 创建消息队列\n",
    "        - 把协程导入\n",
    "        - 关闭\n",
    "    "
   ]
  },
  {
   "cell_type": "code",
   "execution_count": 1,
   "metadata": {},
   "outputs": [
    {
     "ename": "RuntimeError",
     "evalue": "This event loop is already running",
     "output_type": "error",
     "traceback": [
      "\u001b[1;31m---------------------------------------------------------------------------\u001b[0m",
      "\u001b[1;31mRuntimeError\u001b[0m                              Traceback (most recent call last)",
      "\u001b[1;32m<ipython-input-1-1e4c8ba96433>\u001b[0m in \u001b[0;36m<module>\u001b[1;34m()\u001b[0m\n\u001b[0;32m     20\u001b[0m \u001b[1;33m\u001b[0m\u001b[0m\n\u001b[0;32m     21\u001b[0m \u001b[1;31m# asyncio使用wait等待tasks执行完毕\u001b[0m\u001b[1;33m\u001b[0m\u001b[1;33m\u001b[0m\u001b[0m\n\u001b[1;32m---> 22\u001b[1;33m \u001b[0mloop\u001b[0m\u001b[1;33m.\u001b[0m\u001b[0mrun_until_complete\u001b[0m\u001b[1;33m(\u001b[0m\u001b[0masyncio\u001b[0m\u001b[1;33m.\u001b[0m\u001b[0mwait\u001b[0m\u001b[1;33m(\u001b[0m\u001b[0mtasks\u001b[0m\u001b[1;33m)\u001b[0m\u001b[1;33m)\u001b[0m\u001b[1;33m\u001b[0m\u001b[0m\n\u001b[0m\u001b[0;32m     23\u001b[0m \u001b[1;33m\u001b[0m\u001b[0m\n\u001b[0;32m     24\u001b[0m \u001b[1;31m# 关闭消息循环\u001b[0m\u001b[1;33m\u001b[0m\u001b[1;33m\u001b[0m\u001b[0m\n",
      "\u001b[1;32mE:\\ANACONDA\\lib\\asyncio\\base_events.py\u001b[0m in \u001b[0;36mrun_until_complete\u001b[1;34m(self, future)\u001b[0m\n\u001b[0;32m    553\u001b[0m         \u001b[0mfuture\u001b[0m\u001b[1;33m.\u001b[0m\u001b[0madd_done_callback\u001b[0m\u001b[1;33m(\u001b[0m\u001b[0m_run_until_complete_cb\u001b[0m\u001b[1;33m)\u001b[0m\u001b[1;33m\u001b[0m\u001b[0m\n\u001b[0;32m    554\u001b[0m         \u001b[1;32mtry\u001b[0m\u001b[1;33m:\u001b[0m\u001b[1;33m\u001b[0m\u001b[0m\n\u001b[1;32m--> 555\u001b[1;33m             \u001b[0mself\u001b[0m\u001b[1;33m.\u001b[0m\u001b[0mrun_forever\u001b[0m\u001b[1;33m(\u001b[0m\u001b[1;33m)\u001b[0m\u001b[1;33m\u001b[0m\u001b[0m\n\u001b[0m\u001b[0;32m    556\u001b[0m         \u001b[1;32mexcept\u001b[0m\u001b[1;33m:\u001b[0m\u001b[1;33m\u001b[0m\u001b[0m\n\u001b[0;32m    557\u001b[0m             \u001b[1;32mif\u001b[0m \u001b[0mnew_task\u001b[0m \u001b[1;32mand\u001b[0m \u001b[0mfuture\u001b[0m\u001b[1;33m.\u001b[0m\u001b[0mdone\u001b[0m\u001b[1;33m(\u001b[0m\u001b[1;33m)\u001b[0m \u001b[1;32mand\u001b[0m \u001b[1;32mnot\u001b[0m \u001b[0mfuture\u001b[0m\u001b[1;33m.\u001b[0m\u001b[0mcancelled\u001b[0m\u001b[1;33m(\u001b[0m\u001b[1;33m)\u001b[0m\u001b[1;33m:\u001b[0m\u001b[1;33m\u001b[0m\u001b[0m\n",
      "\u001b[1;32mE:\\ANACONDA\\lib\\asyncio\\base_events.py\u001b[0m in \u001b[0;36mrun_forever\u001b[1;34m(self)\u001b[0m\n\u001b[0;32m    508\u001b[0m         \u001b[0mself\u001b[0m\u001b[1;33m.\u001b[0m\u001b[0m_check_closed\u001b[0m\u001b[1;33m(\u001b[0m\u001b[1;33m)\u001b[0m\u001b[1;33m\u001b[0m\u001b[0m\n\u001b[0;32m    509\u001b[0m         \u001b[1;32mif\u001b[0m \u001b[0mself\u001b[0m\u001b[1;33m.\u001b[0m\u001b[0mis_running\u001b[0m\u001b[1;33m(\u001b[0m\u001b[1;33m)\u001b[0m\u001b[1;33m:\u001b[0m\u001b[1;33m\u001b[0m\u001b[0m\n\u001b[1;32m--> 510\u001b[1;33m             \u001b[1;32mraise\u001b[0m \u001b[0mRuntimeError\u001b[0m\u001b[1;33m(\u001b[0m\u001b[1;34m'This event loop is already running'\u001b[0m\u001b[1;33m)\u001b[0m\u001b[1;33m\u001b[0m\u001b[0m\n\u001b[0m\u001b[0;32m    511\u001b[0m         \u001b[1;32mif\u001b[0m \u001b[0mevents\u001b[0m\u001b[1;33m.\u001b[0m\u001b[0m_get_running_loop\u001b[0m\u001b[1;33m(\u001b[0m\u001b[1;33m)\u001b[0m \u001b[1;32mis\u001b[0m \u001b[1;32mnot\u001b[0m \u001b[1;32mNone\u001b[0m\u001b[1;33m:\u001b[0m\u001b[1;33m\u001b[0m\u001b[0m\n\u001b[0;32m    512\u001b[0m             raise RuntimeError(\n",
      "\u001b[1;31mRuntimeError\u001b[0m: This event loop is already running"
     ]
    },
    {
     "name": "stdout",
     "output_type": "stream",
     "text": [
      "Hello world (<_MainThread(MainThread, started 8396)>)\n",
      "Start......(<_MainThread(MainThread, started 8396)>)\n",
      "Hello world (<_MainThread(MainThread, started 8396)>)\n",
      "Start......(<_MainThread(MainThread, started 8396)>)\n",
      "Done......(<_MainThread(MainThread, started 8396)>)\n",
      "Hello again! (<_MainThread(MainThread, started 8396)>)\n",
      "Done......(<_MainThread(MainThread, started 8396)>)\n",
      "Hello again! (<_MainThread(MainThread, started 8396)>)\n"
     ]
    }
   ],
   "source": [
    "import threading\n",
    "import asyncio\n",
    "\n",
    "\n",
    "# 使用协程\n",
    "@asyncio.coroutine\n",
    "def hello():\n",
    "    print(\"Hello world (%s)\" % threading.currentThread())\n",
    "    print(\"Start......(%s)\" % threading.currentThread())\n",
    "    yield from asyncio.sleep(2)\n",
    "    print(\"Done......(%s)\" % threading.currentThread())\n",
    "    print(\"Hello again! (%s)\" % threading.currentThread())\n",
    "\n",
    "\n",
    "# 启动消息循环\n",
    "loop = asyncio.get_event_loop()\n",
    "\n",
    "# 定义任务\n",
    "tasks = [hello(), hello()]\n",
    "\n",
    "# asyncio使用wait等待tasks执行完毕\n",
    "loop.run_until_complete(asyncio.wait(tasks))\n",
    "\n",
    "# 关闭消息循环\n",
    "loop.close()"
   ]
  },
  {
   "cell_type": "code",
   "execution_count": 4,
   "metadata": {},
   "outputs": [
    {
     "ename": "RuntimeError",
     "evalue": "This event loop is already running",
     "output_type": "error",
     "traceback": [
      "\u001b[1;31m---------------------------------------------------------------------------\u001b[0m",
      "\u001b[1;31mRuntimeError\u001b[0m                              Traceback (most recent call last)",
      "\u001b[1;32m<ipython-input-4-b887e0e15392>\u001b[0m in \u001b[0;36m<module>\u001b[1;34m()\u001b[0m\n\u001b[0;32m     22\u001b[0m \u001b[0mloop\u001b[0m \u001b[1;33m=\u001b[0m \u001b[0masyncio\u001b[0m\u001b[1;33m.\u001b[0m\u001b[0mget_event_loop\u001b[0m\u001b[1;33m(\u001b[0m\u001b[1;33m)\u001b[0m\u001b[1;33m\u001b[0m\u001b[0m\n\u001b[0;32m     23\u001b[0m \u001b[0mtasks\u001b[0m \u001b[1;33m=\u001b[0m \u001b[1;33m[\u001b[0m\u001b[0mwget\u001b[0m\u001b[1;33m(\u001b[0m\u001b[0mhost\u001b[0m\u001b[1;33m)\u001b[0m \u001b[1;32mfor\u001b[0m \u001b[0mhost\u001b[0m \u001b[1;32min\u001b[0m \u001b[1;33m[\u001b[0m\u001b[1;34m'www.sina.com.cn'\u001b[0m\u001b[1;33m,\u001b[0m \u001b[1;34m'www.sohu.com'\u001b[0m\u001b[1;33m,\u001b[0m \u001b[1;34m'www.163.com'\u001b[0m\u001b[1;33m]\u001b[0m\u001b[1;33m]\u001b[0m\u001b[1;33m\u001b[0m\u001b[0m\n\u001b[1;32m---> 24\u001b[1;33m \u001b[0mloop\u001b[0m\u001b[1;33m.\u001b[0m\u001b[0mrun_until_complete\u001b[0m\u001b[1;33m(\u001b[0m\u001b[0masyncio\u001b[0m\u001b[1;33m.\u001b[0m\u001b[0mwait\u001b[0m\u001b[1;33m(\u001b[0m\u001b[0mtasks\u001b[0m\u001b[1;33m)\u001b[0m\u001b[1;33m)\u001b[0m\u001b[1;33m\u001b[0m\u001b[0m\n\u001b[0m\u001b[0;32m     25\u001b[0m \u001b[0mloop\u001b[0m\u001b[1;33m.\u001b[0m\u001b[0mclose\u001b[0m\u001b[1;33m(\u001b[0m\u001b[1;33m)\u001b[0m\u001b[1;33m\u001b[0m\u001b[0m\n",
      "\u001b[1;32mE:\\ANACONDA\\lib\\asyncio\\base_events.py\u001b[0m in \u001b[0;36mrun_until_complete\u001b[1;34m(self, future)\u001b[0m\n\u001b[0;32m    553\u001b[0m         \u001b[0mfuture\u001b[0m\u001b[1;33m.\u001b[0m\u001b[0madd_done_callback\u001b[0m\u001b[1;33m(\u001b[0m\u001b[0m_run_until_complete_cb\u001b[0m\u001b[1;33m)\u001b[0m\u001b[1;33m\u001b[0m\u001b[0m\n\u001b[0;32m    554\u001b[0m         \u001b[1;32mtry\u001b[0m\u001b[1;33m:\u001b[0m\u001b[1;33m\u001b[0m\u001b[0m\n\u001b[1;32m--> 555\u001b[1;33m             \u001b[0mself\u001b[0m\u001b[1;33m.\u001b[0m\u001b[0mrun_forever\u001b[0m\u001b[1;33m(\u001b[0m\u001b[1;33m)\u001b[0m\u001b[1;33m\u001b[0m\u001b[0m\n\u001b[0m\u001b[0;32m    556\u001b[0m         \u001b[1;32mexcept\u001b[0m\u001b[1;33m:\u001b[0m\u001b[1;33m\u001b[0m\u001b[0m\n\u001b[0;32m    557\u001b[0m             \u001b[1;32mif\u001b[0m \u001b[0mnew_task\u001b[0m \u001b[1;32mand\u001b[0m \u001b[0mfuture\u001b[0m\u001b[1;33m.\u001b[0m\u001b[0mdone\u001b[0m\u001b[1;33m(\u001b[0m\u001b[1;33m)\u001b[0m \u001b[1;32mand\u001b[0m \u001b[1;32mnot\u001b[0m \u001b[0mfuture\u001b[0m\u001b[1;33m.\u001b[0m\u001b[0mcancelled\u001b[0m\u001b[1;33m(\u001b[0m\u001b[1;33m)\u001b[0m\u001b[1;33m:\u001b[0m\u001b[1;33m\u001b[0m\u001b[0m\n",
      "\u001b[1;32mE:\\ANACONDA\\lib\\asyncio\\base_events.py\u001b[0m in \u001b[0;36mrun_forever\u001b[1;34m(self)\u001b[0m\n\u001b[0;32m    508\u001b[0m         \u001b[0mself\u001b[0m\u001b[1;33m.\u001b[0m\u001b[0m_check_closed\u001b[0m\u001b[1;33m(\u001b[0m\u001b[1;33m)\u001b[0m\u001b[1;33m\u001b[0m\u001b[0m\n\u001b[0;32m    509\u001b[0m         \u001b[1;32mif\u001b[0m \u001b[0mself\u001b[0m\u001b[1;33m.\u001b[0m\u001b[0mis_running\u001b[0m\u001b[1;33m(\u001b[0m\u001b[1;33m)\u001b[0m\u001b[1;33m:\u001b[0m\u001b[1;33m\u001b[0m\u001b[0m\n\u001b[1;32m--> 510\u001b[1;33m             \u001b[1;32mraise\u001b[0m \u001b[0mRuntimeError\u001b[0m\u001b[1;33m(\u001b[0m\u001b[1;34m'This event loop is already running'\u001b[0m\u001b[1;33m)\u001b[0m\u001b[1;33m\u001b[0m\u001b[0m\n\u001b[0m\u001b[0;32m    511\u001b[0m         \u001b[1;32mif\u001b[0m \u001b[0mevents\u001b[0m\u001b[1;33m.\u001b[0m\u001b[0m_get_running_loop\u001b[0m\u001b[1;33m(\u001b[0m\u001b[1;33m)\u001b[0m \u001b[1;32mis\u001b[0m \u001b[1;32mnot\u001b[0m \u001b[1;32mNone\u001b[0m\u001b[1;33m:\u001b[0m\u001b[1;33m\u001b[0m\u001b[0m\n\u001b[0;32m    512\u001b[0m             raise RuntimeError(\n",
      "\u001b[1;31mRuntimeError\u001b[0m: This event loop is already running"
     ]
    },
    {
     "name": "stdout",
     "output_type": "stream",
     "text": [
      "wget www.163.com...\n",
      "wget www.sohu.com...\n",
      "wget www.sina.com.cn...\n",
      "www.163.com header > HTTP/1.1 302 Moved Temporarily\n",
      "www.163.com header > Date: Mon, 27 May 2019 14:03:07 GMT\n",
      "www.163.com header > Content-Length: 0\n",
      "www.163.com header > Connection: close\n",
      "www.163.com header > Server: Cdn Cache Server V2.0\n",
      "www.163.com header > Location: http://www.163.com/special/0077jt/error_isp.html\n",
      "www.163.com header > X-Via: 1.0 PShndx3ql121:9 (Cdn Cache Server V2.0)\n",
      "www.sohu.com header > HTTP/1.1 200 OK\n",
      "www.sohu.com header > Content-Type: text/html;charset=UTF-8\n",
      "www.sohu.com header > Connection: close\n",
      "www.sohu.com header > Server: nginx\n",
      "www.sohu.com header > Date: Mon, 27 May 2019 14:02:39 GMT\n",
      "www.sohu.com header > Cache-Control: max-age=60\n",
      "www.sohu.com header > X-From-Sohu: X-SRC-Cached\n",
      "www.sohu.com header > Content-Encoding: gzip\n",
      "www.sohu.com header > FSS-Cache: HIT from 4029071.6060697.5365934\n",
      "www.sohu.com header > FSS-Proxy: Powered by 4291219.6584989.5628086\n",
      "www.sina.com.cn header > HTTP/1.1 302 Moved Temporarily\n",
      "www.sina.com.cn header > Server: nginx\n",
      "www.sina.com.cn header > Date: Mon, 27 May 2019 14:03:07 GMT\n",
      "www.sina.com.cn header > Content-Type: text/html\n",
      "www.sina.com.cn header > Content-Length: 154\n",
      "www.sina.com.cn header > Connection: close\n",
      "www.sina.com.cn header > Location: https://www.sina.com.cn/\n",
      "www.sina.com.cn header > X-Via-CDN: f=edge,s=ctc.guizhou.ha2ts4.142.nb.sinaedge.com,c=223.198.144.69;\n",
      "www.sina.com.cn header > X-Via-Edge: 15589657875944590c6dfa31b97db0e478066\n"
     ]
    }
   ],
   "source": [
    "import asyncio\n",
    "\n",
    "@asyncio.coroutine\n",
    "def wget(host):\n",
    "    print('wget %s...' % host)\n",
    "    # 异步请求网络地址\n",
    "    connect = asyncio.open_connection(host, 80)\n",
    "    reader, writer = yield from connect\n",
    "    \n",
    "    header = 'GET / HTTP/1.0\\r\\nHost: %s\\r\\n\\r\\n' % host\n",
    "    writer.write(header.encode('utf-8'))\n",
    "    yield from writer.drain()\n",
    "    \n",
    "    while True:\n",
    "        line = yield from reader.readline()\n",
    "        # http协议的换行使用\\r\\n\n",
    "        if line == b'\\r\\n':\n",
    "            break\n",
    "        print('%s header > %s' % (host, line.decode('utf-8').rstrip()))\n",
    "    writer.close()\n",
    "    \n",
    "loop = asyncio.get_event_loop()\n",
    "tasks = [wget(host) for host in ['www.sina.com.cn', 'www.sohu.com', 'www.163.com']]\n",
    "loop.run_until_complete(asyncio.wait(tasks))\n",
    "loop.close()\n"
   ]
  },
  {
   "cell_type": "markdown",
   "metadata": {},
   "source": [
    "# async and await\n",
    "- 为了更好的表示异步io\n",
    "- python3.5引入\n",
    "- 让协程代码更简洁\n",
    "- 使用上, 可以简单的进行替换\n",
    "    - 用 async 替换 @asyncio.coroutine\n",
    "    - 用 await 替换 yield from "
   ]
  },
  {
   "cell_type": "markdown",
   "metadata": {},
   "source": [
    "# aiohttp\n",
    "- asyncio 实现单线程的并发io, 在客户端用处不大\n",
    "- 在服务器可以asyncio+coroutine配合, 因为http是io操作\n",
    "- asyncio实现了tcp, udp, ssl等协议\n",
    "- aiohttp是给予asyncio实现了http框架\n",
    "- pip install aiohttp 安装"
   ]
  },
  {
   "cell_type": "code",
   "execution_count": 10,
   "metadata": {},
   "outputs": [
    {
     "ename": "RuntimeError",
     "evalue": "This event loop is already running",
     "output_type": "error",
     "traceback": [
      "\u001b[1;31m---------------------------------------------------------------------------\u001b[0m",
      "\u001b[1;31mRuntimeError\u001b[0m                              Traceback (most recent call last)",
      "\u001b[1;32m<ipython-input-10-d24c912e8c14>\u001b[0m in \u001b[0;36m<module>\u001b[1;34m()\u001b[0m\n\u001b[0;32m     23\u001b[0m \u001b[1;33m\u001b[0m\u001b[0m\n\u001b[0;32m     24\u001b[0m \u001b[0mloop\u001b[0m \u001b[1;33m=\u001b[0m \u001b[0masyncio\u001b[0m\u001b[1;33m.\u001b[0m\u001b[0mget_event_loop\u001b[0m\u001b[1;33m(\u001b[0m\u001b[1;33m)\u001b[0m\u001b[1;33m\u001b[0m\u001b[0m\n\u001b[1;32m---> 25\u001b[1;33m \u001b[0mloop\u001b[0m\u001b[1;33m.\u001b[0m\u001b[0mrun_until_complete\u001b[0m\u001b[1;33m(\u001b[0m\u001b[0minit\u001b[0m\u001b[1;33m(\u001b[0m\u001b[0mloop\u001b[0m\u001b[1;33m)\u001b[0m\u001b[1;33m)\u001b[0m\u001b[1;33m\u001b[0m\u001b[0m\n\u001b[0m\u001b[0;32m     26\u001b[0m \u001b[0mloop\u001b[0m\u001b[1;33m.\u001b[0m\u001b[0mrun_forever\u001b[0m\u001b[1;33m(\u001b[0m\u001b[1;33m)\u001b[0m\u001b[1;33m\u001b[0m\u001b[0m\n",
      "\u001b[1;32mE:\\ANACONDA\\lib\\asyncio\\base_events.py\u001b[0m in \u001b[0;36mrun_until_complete\u001b[1;34m(self, future)\u001b[0m\n\u001b[0;32m    553\u001b[0m         \u001b[0mfuture\u001b[0m\u001b[1;33m.\u001b[0m\u001b[0madd_done_callback\u001b[0m\u001b[1;33m(\u001b[0m\u001b[0m_run_until_complete_cb\u001b[0m\u001b[1;33m)\u001b[0m\u001b[1;33m\u001b[0m\u001b[0m\n\u001b[0;32m    554\u001b[0m         \u001b[1;32mtry\u001b[0m\u001b[1;33m:\u001b[0m\u001b[1;33m\u001b[0m\u001b[0m\n\u001b[1;32m--> 555\u001b[1;33m             \u001b[0mself\u001b[0m\u001b[1;33m.\u001b[0m\u001b[0mrun_forever\u001b[0m\u001b[1;33m(\u001b[0m\u001b[1;33m)\u001b[0m\u001b[1;33m\u001b[0m\u001b[0m\n\u001b[0m\u001b[0;32m    556\u001b[0m         \u001b[1;32mexcept\u001b[0m\u001b[1;33m:\u001b[0m\u001b[1;33m\u001b[0m\u001b[0m\n\u001b[0;32m    557\u001b[0m             \u001b[1;32mif\u001b[0m \u001b[0mnew_task\u001b[0m \u001b[1;32mand\u001b[0m \u001b[0mfuture\u001b[0m\u001b[1;33m.\u001b[0m\u001b[0mdone\u001b[0m\u001b[1;33m(\u001b[0m\u001b[1;33m)\u001b[0m \u001b[1;32mand\u001b[0m \u001b[1;32mnot\u001b[0m \u001b[0mfuture\u001b[0m\u001b[1;33m.\u001b[0m\u001b[0mcancelled\u001b[0m\u001b[1;33m(\u001b[0m\u001b[1;33m)\u001b[0m\u001b[1;33m:\u001b[0m\u001b[1;33m\u001b[0m\u001b[0m\n",
      "\u001b[1;32mE:\\ANACONDA\\lib\\asyncio\\base_events.py\u001b[0m in \u001b[0;36mrun_forever\u001b[1;34m(self)\u001b[0m\n\u001b[0;32m    508\u001b[0m         \u001b[0mself\u001b[0m\u001b[1;33m.\u001b[0m\u001b[0m_check_closed\u001b[0m\u001b[1;33m(\u001b[0m\u001b[1;33m)\u001b[0m\u001b[1;33m\u001b[0m\u001b[0m\n\u001b[0;32m    509\u001b[0m         \u001b[1;32mif\u001b[0m \u001b[0mself\u001b[0m\u001b[1;33m.\u001b[0m\u001b[0mis_running\u001b[0m\u001b[1;33m(\u001b[0m\u001b[1;33m)\u001b[0m\u001b[1;33m:\u001b[0m\u001b[1;33m\u001b[0m\u001b[0m\n\u001b[1;32m--> 510\u001b[1;33m             \u001b[1;32mraise\u001b[0m \u001b[0mRuntimeError\u001b[0m\u001b[1;33m(\u001b[0m\u001b[1;34m'This event loop is already running'\u001b[0m\u001b[1;33m)\u001b[0m\u001b[1;33m\u001b[0m\u001b[0m\n\u001b[0m\u001b[0;32m    511\u001b[0m         \u001b[1;32mif\u001b[0m \u001b[0mevents\u001b[0m\u001b[1;33m.\u001b[0m\u001b[0m_get_running_loop\u001b[0m\u001b[1;33m(\u001b[0m\u001b[1;33m)\u001b[0m \u001b[1;32mis\u001b[0m \u001b[1;32mnot\u001b[0m \u001b[1;32mNone\u001b[0m\u001b[1;33m:\u001b[0m\u001b[1;33m\u001b[0m\u001b[0m\n\u001b[0;32m    512\u001b[0m             raise RuntimeError(\n",
      "\u001b[1;31mRuntimeError\u001b[0m: This event loop is already running"
     ]
    },
    {
     "name": "stderr",
     "output_type": "stream",
     "text": [
      "E:\\ANACONDA\\lib\\site-packages\\ipykernel_launcher.py:17: DeprecationWarning: loop argument is deprecated\n",
      "E:\\ANACONDA\\lib\\site-packages\\ipykernel_launcher.py:20: DeprecationWarning: Application.make_handler(...) is deprecated, use AppRunner API instead\n"
     ]
    }
   ],
   "source": [
    "# aiohttp案例\n",
    "\n",
    "import asyncio\n",
    "\n",
    "from aiohttp import web\n",
    "\n",
    "async def index(request):\n",
    "    await asyncio.sleep(0.5)\n",
    "    return web.Response(bos=b'<h1>Index</h1>')\n",
    "\n",
    "async def hello(request):\n",
    "    await asyncio.sleep(0.5)\n",
    "    text = '<h1>hello, %s!</h1>' % request.match_info[\"name\"]\n",
    "    return web.Response(body=text.encode('utf-8'))\n",
    "\n",
    "async def init(loop):\n",
    "    app = web.Application(loop=loop)\n",
    "    app.router.add_route(\"GET\", \"/\", index)\n",
    "    app.router.add_route(\"GET\", \"/hello/{name}\", hello)\n",
    "    srv = await loop.create_server(app.make_handler(),\"127.0.0.1\", 8000)\n",
    "    print(\"Server started at http://127.0.0.1:8000...\")\n",
    "    return srv\n",
    "\n",
    "loop = asyncio.get_event_loop()\n",
    "loop.run_until_complete(init(loop))\n",
    "loop.run_forever()"
   ]
  },
  {
   "cell_type": "markdown",
   "metadata": {},
   "source": [
    "# concurrent.futures\n",
    "- python3新增的库\n",
    "- 类似其他语言的线程池的 概念\n",
    "- 利用multiprocessing实现真正的并行计算\n",
    "- 核心原理: 以进制的形式, 并行运行多个python解释器, 从而令python程序可以利用多核CPU来提升执行速度\n",
    "    - 由于子进程与主解释器相分离, 所以他们的全局解释器锁也是相互独立的\n",
    "    - 每个子进程都能够完整的使用一个CPU内核\n",
    "    - concorrent.fitures.Executor\n",
    "        - ThreadPoolExecutor\n",
    "        - ProcessPoolExecutor\n",
    "        - 执行的时候需要自行选择\n",
    "    - submit(fn, args, kwargs)\n",
    "        - fn: 异步执行的函数\n",
    "        - args, kwargs 传入参数"
   ]
  },
  {
   "cell_type": "code",
   "execution_count": 5,
   "metadata": {},
   "outputs": [
    {
     "name": "stdout",
     "output_type": "stream",
     "text": [
      "False\n",
      "False\n",
      "hello\n",
      "world\n"
     ]
    }
   ],
   "source": [
    "from concurrent.futures import ThreadPoolExecutor\n",
    "import time\n",
    "\n",
    "def return_future(msg):\n",
    "    time.sleep(3)\n",
    "    return msg\n",
    "\n",
    "# 创建一个线程池\n",
    "pool = ThreadPoolExecutor(max_workers=2)\n",
    "\n",
    "# 往线程池加入2个task\n",
    "f1 = pool.submit(return_future, \"hello\")\n",
    "f2 = pool.submit(return_future, \"world\")\n",
    "\n",
    "# done() 等待执行结束\n",
    "print(f1.done())\n",
    "time.sleep(3)\n",
    "print(f2.done())\n",
    "\n",
    "# 结果\n",
    "print(f1.result())\n",
    "print(f2.result())"
   ]
  },
  {
   "cell_type": "markdown",
   "metadata": {},
   "source": [
    "# current中map函数\n",
    "- map(fn, \\*iterables, timeout=None)\n",
    "    - 跟map函数类似\n",
    "    - 函数需要异步执行\n",
    "    - timeout: 超时时间\n",
    "    - map跟submit使用一个就行了"
   ]
  },
  {
   "cell_type": "code",
   "execution_count": 7,
   "metadata": {},
   "outputs": [
    {
     "name": "stdout",
     "output_type": "stream",
     "text": [
      "1\n",
      "2\n",
      "OK\n",
      "OK\n"
     ]
    }
   ],
   "source": [
    "# map案例\n",
    "import time,re\n",
    "import os, datetime\n",
    "from concurrent import futures\n",
    "\n",
    "data = [\"1\", \"2\"]\n",
    "\n",
    "def wait_on(argument):\n",
    "    print(argument)\n",
    "    time.sleep(2)\n",
    "    return \"OK\"\n",
    "\n",
    "ex = futures.ThreadPoolExecutor(max_workers=2)\n",
    "for i in ex.map(wait_on, data):\n",
    "    print(i)"
   ]
  },
  {
   "cell_type": "markdown",
   "metadata": {},
   "source": [
    "# Future\n",
    "-  代表将来执行或没有执行的任务的结果。它和task上没有本质的区别\n",
    "    - 协程对象不能直接运行，在注册事件循环的时候，其实是run_until_complete方法将协程包装成为了一个任务（task）对象。所谓task对象是Future类的子类。保存了协程运行后的状态，用于未来获取协程的结果。"
   ]
  }
 ],
 "metadata": {
  "kernelspec": {
   "display_name": "Python 3",
   "language": "python",
   "name": "python3"
  },
  "language_info": {
   "codemirror_mode": {
    "name": "ipython",
    "version": 3
   },
   "file_extension": ".py",
   "mimetype": "text/x-python",
   "name": "python",
   "nbconvert_exporter": "python",
   "pygments_lexer": "ipython3",
   "version": "3.7.0"
  }
 },
 "nbformat": 4,
 "nbformat_minor": 2
}
