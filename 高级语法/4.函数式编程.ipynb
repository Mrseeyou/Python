{
 "cells": [
  {
   "cell_type": "markdown",
   "metadata": {},
   "source": [
    "# Log 模块资料\n",
    "- http://www.cnblogs.com/yyds/p/6901864.html"
   ]
  },
  {
   "cell_type": "markdown",
   "metadata": {},
   "source": [
    "# Python 语言的高级特性\n",
    "- 基于lambda演算的一种编程方式\n",
    "    - 程序中只有函数\n",
    "    - 函数可以作为参数,同样可以作为返回值\n",
    "    - 纯函数式编程语言: LISP, Haskell\n",
    " \n",
    "- Python函数式编程只是借鉴函数式编程的一些特点,可以理解成一半函数式一半Python\n",
    "    - 匿名函数\n",
    "    - 高阶函数\n",
    "    - 返回函数   \n",
    "    - 装饰器\n",
    "    - 偏函数"
   ]
  },
  {
   "cell_type": "markdown",
   "metadata": {},
   "source": [
    "# lambda - 匿名函数\n",
    "- 函数: 最大程度复用代码\n",
    "    - 存在问题: 如果函数很小,很短,则会造成复杂化\n",
    "    - 如果函数被调用次数少,造成浪费\n",
    "    - 对于读者来说,造成阅读流程被迫中断\n",
    "- lambda表达式(匿名函数):\n",
    "    - 一个表达式,函数体相对简单\n",
    "    - 不是一个代码块.仅仅是一个表达式\n",
    "    - 可以有参数,多个参数,用逗号隔开\n",
    "    - 用法:\n",
    "        - 以lambda开头\n",
    "        - 紧跟一定的参数(如果有的话)\n",
    "        - 参数后用冒号和表达式主体隔开\n",
    "        - 只是一个表达式,所以没有return"
   ]
  },
  {
   "cell_type": "code",
   "execution_count": 4,
   "metadata": {},
   "outputs": [
    {
     "name": "stdout",
     "output_type": "stream",
     "text": [
      "5200\n",
      "60\n"
     ]
    }
   ],
   "source": [
    "# 单个参数\n",
    "stm = lambda x: 100 * x\n",
    "print(stm(52))\n",
    "\n",
    "# 多个参数\n",
    "stm2 = lambda x,y,z: x * 10 + y * 2 + z * 3\n",
    "print(stm2(5,2,2))"
   ]
  },
  {
   "cell_type": "markdown",
   "metadata": {},
   "source": [
    "# 高阶函数\n",
    "- 把函数作为参数使用的函数,叫高阶函数\n"
   ]
  },
  {
   "cell_type": "code",
   "execution_count": 6,
   "metadata": {},
   "outputs": [
    {
     "name": "stdout",
     "output_type": "stream",
     "text": [
      "My name funA\n"
     ]
    }
   ],
   "source": [
    "# 变量可以赋值 综上述 函数作为变量\n",
    "\n",
    "def funA():\n",
    "    print(\"My name funA\")\n",
    "\n",
    "funB = funA\n",
    "funB()"
   ]
  },
  {
   "cell_type": "markdown",
   "metadata": {},
   "source": [
    "### 以上代码得出结论\n",
    "- 既然函数名称是变量,则应该可以被当做参数传入另一个函数"
   ]
  },
  {
   "cell_type": "code",
   "execution_count": 14,
   "metadata": {},
   "outputs": [
    {
     "name": "stdout",
     "output_type": "stream",
     "text": [
      "2700\n",
      "2700\n",
      "270\n"
     ]
    }
   ],
   "source": [
    "# funA 是个普通函数,返回传入数字的100倍\n",
    "\n",
    "def funA(n):\n",
    "    return n * 100\n",
    "\n",
    "\n",
    "# funB 也是一个普通函数,调用funA,把传入的数字放大300倍\n",
    "\n",
    "def funB(n):\n",
    "    return funA(n) * 3\n",
    "\n",
    "print(funB(9))\n",
    "\n",
    "\n",
    "# funC 高阶函数 把函数作为参数舒勇 实现把传入的数字放大300倍\n",
    "\n",
    "def funC(n,f):\n",
    "    return f(n) * 3\n",
    "\n",
    "print(funC(9,funA))\n",
    "\n",
    "\n",
    "# 假如需要把传入的数放大30倍,funB就需要改写代码\n",
    "def funD(n):\n",
    "    return n * 10\n",
    "\n",
    "print(funC(9,funD))\n",
    "\n",
    "# 综上举例,高阶函数更实用更灵活"
   ]
  },
  {
   "cell_type": "markdown",
   "metadata": {},
   "source": [
    "### map - 映射\n",
    "- 原意就是映射,即把集合或列表的元素,每一个元素都按照一定规则进行操作,生成一个新的列表或集合\n",
    "- map函数是系统提供的具有映射功能的函数,返回值是一个迭代对象"
   ]
  },
  {
   "cell_type": "code",
   "execution_count": 26,
   "metadata": {},
   "outputs": [
    {
     "name": "stdout",
     "output_type": "stream",
     "text": [
      "[1, 2, 3, 4, 5, 6]\n",
      "[10, 20, 30, 40, 50, 60]\n",
      "10 20 30 40 50 60 "
     ]
    }
   ],
   "source": [
    "# 有一个列表,想对列表里的每一元素乘以10,并得到一个新的列表\n",
    "l1 = [1,2,3,4,5,6]\n",
    "print(l1)\n",
    "\n",
    "l2 = []\n",
    "for i in l1:\n",
    "    l2.append(i*10)\n",
    "print(l2)\n",
    "\n",
    "# 利用map实现\n",
    "def mulTen(n):\n",
    "    return n*10\n",
    "\n",
    "l3 = map(mulTen,l1)\n",
    "# 因为是map类型(可迭代) 所以需要转换才能打印出来\n",
    "# l4 = list(l3)\n",
    "# print(l4)\n",
    "# 或者for循环\n",
    "for i in l3:\n",
    "    print(i,end=\" \")\n"
   ]
  },
  {
   "cell_type": "markdown",
   "metadata": {},
   "source": [
    "### reduce - 归并\n",
    "- 原意是归并,缩减\n",
    "- 把一个可迭代对象最后归并成一个结果\n",
    "- 对于作为参数的函数有要求: 必须有两个参数,必须有返回结果\n",
    "- reduce([1,2,3,4,5]}) == f(f((f(f(1,2),3),4),5)\n",
    "- reduce 需要导入functools包"
   ]
  },
  {
   "cell_type": "code",
   "execution_count": 27,
   "metadata": {},
   "outputs": [
    {
     "name": "stdout",
     "output_type": "stream",
     "text": [
      "15\n"
     ]
    }
   ],
   "source": [
    "from functools import reduce\n",
    "\n",
    "# 定义一个操作函\n",
    "# 加入操作函数只是相加\n",
    "def myAdd(x,y):\n",
    "    return x + y\n",
    "\n",
    "# 对列表 执行myAdd的 reduce 操作\n",
    "rst = reduce(myAdd,[1,2,3,4,5])\n",
    "print(rst)"
   ]
  },
  {
   "cell_type": "markdown",
   "metadata": {},
   "source": [
    "### filter - 过滤\n",
    "- 过滤函数: 对一组数据进行过滤,符合条件的数据会生成一个新的列表并返回\n",
    "- 跟map相比较:\n",
    "    - 相同: 会对列表的每一个元素逐一进行操作\n",
    "    - 不同:\n",
    "        - map会生成一个跟原来数据相对应的新队列\n",
    "        - filter不一定,只有符合条件的才会进入新的数据集合\n",
    "    - filter函数怎么写:\n",
    "        - 利用给定函数进行判断\n",
    "        - 返回值一定是个布尔值\n",
    "        - 调用格式: filter(f, data),  f是过滤函数, data是数据"
   ]
  },
  {
   "cell_type": "code",
   "execution_count": 1,
   "metadata": {},
   "outputs": [
    {
     "name": "stdout",
     "output_type": "stream",
     "text": [
      "[1, 3, 5, 7, 9]\n"
     ]
    }
   ],
   "source": [
    "# 定义过滤函数\n",
    "def isEven(a):\n",
    "    return a % 2 == 1\n",
    "\n",
    "l = [1,2,3,4,5,6,7,8,9]\n",
    "\n",
    "rst = filter(isEven,l)\n",
    "# filter是可迭代类型\n",
    "print([i for i in rst])"
   ]
  },
  {
   "cell_type": "markdown",
   "metadata": {},
   "source": [
    "### sorted - 排序\n",
    "- 把一个序列按照给定算法进行排序\n",
    "- key: 在排序前对每一个元素进行key函数运算,可以理解成按照key函数定义的逻辑进行排序\n",
    "- reverse: 默认是False 可以设置True "
   ]
  },
  {
   "cell_type": "code",
   "execution_count": 7,
   "metadata": {},
   "outputs": [
    {
     "name": "stdout",
     "output_type": "stream",
     "text": [
      "[-91, -14, -1, 7, 8, 14, 23, 45, 48, 456]\n",
      "[-1, 7, 8, -14, 14, 23, 45, 48, -91, 456]\n",
      "[456, 48, 45, 23, 14, 8, 7, -1, -14, -91]\n"
     ]
    }
   ],
   "source": [
    "# 简单排序\n",
    "\n",
    "li = [456,8,-1,23,7,-14,48,14,-91,45]\n",
    "\n",
    "li1 = sorted(li)\n",
    "li2 = sorted(li, key=abs) # abs绝对值\n",
    "li3 = sorted(li, reverse=True)\n",
    "\n",
    "print(li1)\n",
    "print(li2)\n",
    "print(li3)"
   ]
  },
  {
   "cell_type": "markdown",
   "metadata": {},
   "source": [
    "# 返回函数\n",
    "- 函数可以返回具体的值\n",
    "- 也可以返回一个函数作为结果\n"
   ]
  },
  {
   "cell_type": "code",
   "execution_count": 16,
   "metadata": {},
   "outputs": [
    {
     "name": "stdout",
     "output_type": "stream",
     "text": [
      "In myF\n",
      "None\n"
     ]
    }
   ],
   "source": [
    "# 定义个一个普通函数\n",
    "\n",
    "def maF(a):\n",
    "    print('In myF')\n",
    "    return None\n",
    "\n",
    "f = maF(1)\n",
    "print(f)"
   ]
  },
  {
   "cell_type": "code",
   "execution_count": 15,
   "metadata": {},
   "outputs": [
    {
     "name": "stdout",
     "output_type": "stream",
     "text": [
      "In maF3\n",
      "123\n"
     ]
    }
   ],
   "source": [
    "# 函数作为返回值返回, 被返回的函数在函数体内定义\n",
    "def myF2():\n",
    "    \n",
    "    def myF3():\n",
    "        print('In maF3')\n",
    "        return 123\n",
    "    return myF3\n",
    "\n",
    "f1 = myF2()\n",
    "print(f1())"
   ]
  },
  {
   "cell_type": "code",
   "execution_count": 18,
   "metadata": {},
   "outputs": [
    {
     "name": "stdout",
     "output_type": "stream",
     "text": [
      "15\n"
     ]
    }
   ],
   "source": [
    "#  args:参数列表\n",
    "#  myF4定义函数,返回内部定义的函数myF5\n",
    "#  myF5使用了外部变量,这个变量是myF4的参数\n",
    "\n",
    "def myF4( *args):\n",
    "    def myF5():\n",
    "        rst = 0\n",
    "        for i in args:\n",
    "            rst += i\n",
    "        return rst\n",
    "    return myF5\n",
    "    \n",
    "f2 = myF4(1,2,3,4,5)\n",
    "print(f2())"
   ]
  },
  {
   "cell_type": "markdown",
   "metadata": {},
   "source": [
    "### closure - 闭包\n",
    "- 当一个函数在内部定义函数,并且内部的函数应用外部函数的参数或者局部变量\n",
    "- 当内部函数被当做返回值的时候,相关参数和变量保存在返回的函数中,这种结果,叫闭包\n",
    "- 上面定义的myF4函数就是一个闭包结构"
   ]
  },
  {
   "cell_type": "code",
   "execution_count": 20,
   "metadata": {},
   "outputs": [
    {
     "name": "stdout",
     "output_type": "stream",
     "text": [
      "9\n",
      "9\n",
      "9\n"
     ]
    }
   ],
   "source": [
    "# 闭包常见问题\n",
    "def count1():\n",
    "    fs = []\n",
    "    for i in range(1,4):\n",
    "        # 定义一个闭包函数f\n",
    "        def f():\n",
    "            return i*i\n",
    "        fs.append(f)\n",
    "    return fs\n",
    "\n",
    "f1,f2,f3 = count1()\n",
    "print(f1())\n",
    "print(f2())\n",
    "print(f3())\n",
    "\n",
    "# 期望的是1*1 2*2 3*3 后的结果,但是   "
   ]
  },
  {
   "cell_type": "markdown",
   "metadata": {},
   "source": [
    "- 出现的问题:\n",
    "    - 造成上述状况的原因是,返回函数引用了变量 i, i并非立即执行,而是等到三个函数都\n",
    "    返回的时候才统一使用,此时i 已经变成了3, 最终调用的时候,都返回的是 3*3\n",
    "    - 次问题描述成: 返回闭包时,返回函数不能引用任何循环变量\n",
    "    - 解决方案: 再创建一个函数,用该函数的参数绑定循环变量的当前值,无论该循环变量\n",
    "    以后如何改变,已经绑定的函数参数值不再改变"
   ]
  },
  {
   "cell_type": "code",
   "execution_count": 27,
   "metadata": {},
   "outputs": [
    {
     "name": "stdout",
     "output_type": "stream",
     "text": [
      "1\n",
      "4\n",
      "9\n"
     ]
    }
   ],
   "source": [
    "# 修改上诉函数\n",
    "def count2():\n",
    "    def f(j):\n",
    "        def g():\n",
    "            return j*j\n",
    "        return g\n",
    "    fs = []\n",
    "    for i in range(1,4):\n",
    "        fs.append(f(i))\n",
    "    return fs\n",
    "\n",
    "f1, f2, f3 = count2()\n",
    "print(f1())\n",
    "print(f2())\n",
    "print(f3())"
   ]
  },
  {
   "cell_type": "markdown",
   "metadata": {},
   "source": [
    "# Decrator - 装饰器\n",
    "- 在不改动函数代码的基础上 无限制扩展函数功能的一种机制,本质上讲,装饰器是一个返回函数的高阶函数\n",
    "- 装饰器的使用:\n",
    "    - 使用@语法,即在每次要扩展到函数定义前使用@+函数名\n",
    "- 装饰器的好处:\n",
    "    - 一旦定义,则可以装饰任意函数\n",
    "    - 一旦被其装饰,则把装饰器的功能直接添加到定义函数的功能上"
   ]
  },
  {
   "cell_type": "code",
   "execution_count": 29,
   "metadata": {},
   "outputs": [
    {
     "name": "stdout",
     "output_type": "stream",
     "text": [
      "hello world\n"
     ]
    }
   ],
   "source": [
    "def hello():\n",
    "    print(\"hello world\")\n",
    "    \n",
    "f = hello\n",
    "f()"
   ]
  },
  {
   "cell_type": "code",
   "execution_count": 3,
   "metadata": {},
   "outputs": [],
   "source": [
    "# 对hello函数进行功能扩展,每次执行hello前 打印当前时间\n",
    "\n",
    "import time \n",
    "\n",
    "# 高阶函数\n",
    "def printTime(f):\n",
    "    def wrapper(*args, **kwargs):\n",
    "        print(\"Time:\",time.ctime())\n",
    "        return f(*args, **kwargs)\n",
    "    return wrapper"
   ]
  },
  {
   "cell_type": "code",
   "execution_count": 36,
   "metadata": {},
   "outputs": [
    {
     "name": "stdout",
     "output_type": "stream",
     "text": [
      "Time: Thu Mar 28 03:06:10 2019\n",
      "hello world\n"
     ]
    }
   ],
   "source": [
    "# 上诉代码就是定义了装饰器, 使用的时候需要用到@, 此符号是python的语法糖\n",
    "@printTime\n",
    "def hello():\n",
    "    print(\"hello world\")\n",
    "    \n",
    "hello()"
   ]
  },
  {
   "cell_type": "code",
   "execution_count": 6,
   "metadata": {},
   "outputs": [
    {
     "name": "stdout",
     "output_type": "stream",
     "text": [
      "Time: Thu May 23 02:38:29 2019\n",
      "手动执行\n"
     ]
    }
   ],
   "source": [
    "# 手动执行装饰器\n",
    "def hello1():\n",
    "    print(\"手动执行\")\n",
    "    \n",
    "# 以下代码执行结果相同    \n",
    "# hello1 = printTime(hello1)\n",
    "# hello1()\n",
    "\n",
    "h = printTime(hello1)\n",
    "h()"
   ]
  },
  {
   "cell_type": "markdown",
   "metadata": {},
   "source": [
    "# partial - 偏函数 \n",
    "- 参数固定的函数,相当于一个 有特定参数的函数体\n",
    "- functols.partial的作用是, 把一个函数的某些功能固定,返回一个新函数"
   ]
  },
  {
   "cell_type": "code",
   "execution_count": 43,
   "metadata": {},
   "outputs": [
    {
     "name": "stdout",
     "output_type": "stream",
     "text": [
      "12345\n",
      "5349\n"
     ]
    }
   ],
   "source": [
    "# 把12345转化成十进制的数字\n",
    "print(int(\"12345\"))\n",
    "\n",
    "# 把12345转化成八进制的数字\n",
    "print(int(\"12345\",base=8))"
   ]
  },
  {
   "cell_type": "code",
   "execution_count": 47,
   "metadata": {},
   "outputs": [
    {
     "name": "stdout",
     "output_type": "stream",
     "text": [
      "5349\n"
     ]
    }
   ],
   "source": [
    "# 定义一个函数,默认转化成八进制\n",
    "def int8(f, base=8):\n",
    "    return print(int(f, base))\n",
    "\n",
    "int8(\"12345\")    "
   ]
  },
  {
   "cell_type": "code",
   "execution_count": 49,
   "metadata": {},
   "outputs": [
    {
     "name": "stdout",
     "output_type": "stream",
     "text": [
      "74565\n"
     ]
    }
   ],
   "source": [
    "# 偏函数使用 定义一个默认转化成十六进制\n",
    "\n",
    "import functools\n",
    "int16 = functools.partial(int, base=16)\n",
    "\n",
    "print(int16(\"12345\"))"
   ]
  }
 ],
 "metadata": {
  "kernelspec": {
   "display_name": "Python 3",
   "language": "python",
   "name": "python3"
  },
  "language_info": {
   "codemirror_mode": {
    "name": "ipython",
    "version": 3
   },
   "file_extension": ".py",
   "mimetype": "text/x-python",
   "name": "python",
   "nbconvert_exporter": "python",
   "pygments_lexer": "ipython3",
   "version": "3.7.0"
  }
 },
 "nbformat": 4,
 "nbformat_minor": 2
}
