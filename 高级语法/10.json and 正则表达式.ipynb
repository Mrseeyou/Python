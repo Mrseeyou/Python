{
 "cells": [
  {
   "cell_type": "markdown",
   "metadata": {},
   "source": [
    "# Json\n",
    "- 在线工具\n",
    "    - https://www.sojson.com/\n",
    "    - http://www.w3school.com.cn/json/index.asp\n",
    "    - http://www.runoob.com/json/json-tutorial.html\n",
    "- JSON(JavaScript Object Notation) JavaScript 对象表式法\n",
    "- 轻量级的数据交换格式, 基于ECMAScript\n",
    "- Json格式是一个键值对形式的数据集\n",
    "    - key: 字符串\n",
    "    - value: 字符串, 数字, 列表, json\n",
    "    - json使用大括号包裹\n",
    "    - 键值对直接用逗号隔开\n",
    "        \n",
    "            student={\n",
    "                \"name\":\"wangdapeng\",\n",
    "                \"age\":18,\n",
    "                \"mobile\":\"15501900190\"\n",
    "                }\n",
    "- json和python格式的对应\n",
    "    - 字符串 : 字符串\n",
    "    - 数字 : 数字\n",
    "    - 队列 : list\n",
    "    - 对象 : dict\n",
    "    - 布尔值 : 布尔值\n",
    "- python for json\n",
    "    - json包\n",
    "    - json和python对象的转换\n",
    "        - json.dumps(): 对数据编码, 把python格式表示成json格式\n",
    "        - json.loads(): 对数据解码, 把json格式转换成python\n",
    "    - python读取json文件\n",
    "        - json.dump(content, file): 把内容写入文件\n",
    "        - json.load(): 把json文件内容读入python"
   ]
  },
  {
   "cell_type": "code",
   "execution_count": 6,
   "metadata": {},
   "outputs": [
    {
     "name": "stdout",
     "output_type": "stream",
     "text": [
      "<class 'dict'>\n",
      "<class 'str'>\n",
      "JSON对象:{\"name\": \"mingming\", \"age\": 26, \"mobile\": \"15501900190\"}\n",
      "<class 'dict'>\n",
      "{\"name\": \"mingming\", \"age\": 26, \"mobile\": \"15501900190\"}\n"
     ]
    }
   ],
   "source": [
    "import json\n",
    "\n",
    "# 此时,student是一个dict格式内容,不是json\n",
    "student = {\"name\":\"mingming\", \"age\":26, \"mobile\":\"15501900190\"}\n",
    "print(type(student))\n",
    "\n",
    "stu_json = json.dumps(student)\n",
    "print(type(stu_json))\n",
    "print('JSON对象:{}'.format(stu_json))\n",
    "\n",
    "stu_dict = json.loads(stu_json)\n",
    "print(type(stu_dict))\n",
    "print(stu_json)"
   ]
  },
  {
   "cell_type": "code",
   "execution_count": 8,
   "metadata": {},
   "outputs": [
    {
     "name": "stdout",
     "output_type": "stream",
     "text": [
      "{'name': 'mingming', 'age': 26}\n"
     ]
    }
   ],
   "source": [
    "import json\n",
    "\n",
    "data = {\"name\":\"mingming\", \"age\":26}\n",
    "\n",
    "with open(\"01.json\", \"w\") as f:\n",
    "    json.dump(data, f)\n",
    "    \n",
    "with open(\"01.json\", \"r\") as f:\n",
    "    d = json.load(f)\n",
    "    print(d)"
   ]
  },
  {
   "cell_type": "markdown",
   "metadata": {},
   "source": [
    "# 正则表达式(RegularExpression,re)\n",
    "- 是一个计算机科学概念\n",
    "- 用于使用单个字符串来描述, 匹配符合每个规则的字符串\n",
    "- 尝尝用来检测, 替换某些模式的文本 \n",
    "\n",
    "# 正则的写法\n",
    "\n",
    "         . : 表示人一个字符, 除了\\n , 比如查找所有的一个字符 \\.\n",
    "         [] : 匹配中括号中列举的任意字符, 比如[L,Y,O] LLY, YO 可以, LIU 不可以\n",
    "         \\d : 任意一个数字\n",
    "         \\D : 除了数字都可以\n",
    "         \\s : 表示空格, Tab键\n",
    "         \\S : 除了空白符号\n",
    "         \\w : 单词字符, 就是a-z, A-Z, 0-9, _\n",
    "         \\W : 除了\\w所说的\n",
    "         * : 表示前面内容重复零次或者多次\n",
    "         + : 表示前面的内容至少出现一次\n",
    "         ? : 前面出现的内容零次或者一次\n",
    "         {m,n} : 允许前面内容出现最少m次, 最多n次\n",
    "         ^ : 匹配字符串的开始\n",
    "         $ : 匹配字符串的结束\n",
    "         \\b : 匹配单词的边界\n",
    "         () : 对正则表达式内容进行分组, 从第一个括号开始, 编号逐渐增大\n",
    "        \n",
    "                    验证一个数字: ^\\d$\n",
    "                    必须有一个数字,且最少一位: ^\\d+$\n",
    "                    只能出现数字,且位数为5-10位: ^\\d{5,10}$\n",
    "                    注册者输入年龄,要求16岁以上,99岁以下: ^[16-99]$\n",
    "                    只能输入英文字符和数字: ^[A-Za-z0-9]$\n",
    "                    验证QQ号码: [0-9]{5,12}\n",
    "                    \n",
    "         \\A : 只能匹配字符串开头, \\Aabcd, 则abcd \n",
    "         \\Z : 仅匹配字符串末尾, abcd\\Z, abcd\n",
    "         | : 左右任意一个\n",
    "         (?P<name>...) : 分组, 出了原来的编码再指定一个别名\n",
    "         (?P=name) : 引用分组\n"
   ]
  },
  {
   "cell_type": "markdown",
   "metadata": {},
   "source": [
    "# RE使用大致步骤\n",
    "- 1.使用compilc将表示正则的字符串编译为一个pattern对象\n",
    "- 2.通过pattern对象提供一系列方法对文本进行查找匹配, 获取匹配结果, 一个Match对象\n",
    "- 最后使用Match对象提供的属性和方法获得信息, 根据需要进行操作\n",
    "\n",
    "# RE常用函数\n",
    "- group(): 获得一个或者多个分组匹配的字符串, 当要获得匹配子串时, 直接使用gourp或者group()\n",
    "- start: 获得分组匹配的子串在整个字符串中的起始位置, 参数默认为0\n",
    "- end: 获得分组匹配的子串在整个字符串中的结束位置, 默认为0\n",
    "- span: 返回的结构技术(start(gourp), end(group)"
   ]
  },
  {
   "cell_type": "code",
   "execution_count": 39,
   "metadata": {},
   "outputs": [
    {
     "name": "stdout",
     "output_type": "stream",
     "text": [
      "None\n"
     ]
    }
   ],
   "source": [
    "# 导入相关包\n",
    "import re\n",
    "\n",
    "# 查找数字\n",
    "# r表示不转义\n",
    "p = re.compile(r'\\d+')\n",
    "\n",
    "# 在字符串中 按照规则p制定的正则进行查找\n",
    "m = p.match(\"one12two34three456fort789\")\n",
    "\n",
    "# 返回结果是None表示没有找到\n",
    "print(m)"
   ]
  },
  {
   "cell_type": "code",
   "execution_count": 20,
   "metadata": {},
   "outputs": [
    {
     "name": "stdout",
     "output_type": "stream",
     "text": [
      "<re.Match object; span=(3, 5), match='12'>\n"
     ]
    }
   ],
   "source": [
    "import re\n",
    "\n",
    "p = re.compile(r'\\d+')\n",
    "\n",
    "# 参数3,12 表示字符串中查找的范围\n",
    "m = p.match(\"one12two34three456fort789\",3,16)\n",
    "\n",
    "# 返回结果是None表示没有找到\n",
    "print(m)"
   ]
  },
  {
   "cell_type": "code",
   "execution_count": 25,
   "metadata": {},
   "outputs": [
    {
     "name": "stdout",
     "output_type": "stream",
     "text": [
      "12\n",
      "3\n",
      "5\n"
     ]
    }
   ],
   "source": [
    "# 把列表里 下标为0的打印出来\n",
    "print(m[0])\n",
    "\n",
    "# 匹配的子串在整个字符串中的下标位置\n",
    "print(m.start(0))\n",
    "\n",
    "# 匹配的子串在整个字符串中的下标位置\n",
    "print(m.end(0))"
   ]
  },
  {
   "cell_type": "code",
   "execution_count": 27,
   "metadata": {},
   "outputs": [
    {
     "name": "stdout",
     "output_type": "stream",
     "text": [
      "<re.Match object; span=(0, 4), match='I am'>\n"
     ]
    }
   ],
   "source": [
    "import re\n",
    "\n",
    "# re.l 表示忽略大小写字母\n",
    "\n",
    "p = re.compile(r'([a-z]+) ([a-z]+)', re.I)\n",
    "\n",
    "m = p.match(\"I am really like you\")\n",
    "\n",
    "print(m)"
   ]
  },
  {
   "cell_type": "code",
   "execution_count": 34,
   "metadata": {},
   "outputs": [
    {
     "name": "stdout",
     "output_type": "stream",
     "text": [
      "I am\n",
      "I\n",
      "am\n",
      "0\n"
     ]
    }
   ],
   "source": [
    "# 0 表示所有 1 表示第一个 2 表示第二个\n",
    "print(m.group(0))\n",
    "print(m.group(1))\n",
    "print(m.group(2))\n",
    "# 同理 start函数很end函数也是一样"
   ]
  },
  {
   "cell_type": "code",
   "execution_count": 36,
   "metadata": {},
   "outputs": [
    {
     "name": "stdout",
     "output_type": "stream",
     "text": [
      "('I', 'am')\n"
     ]
    }
   ],
   "source": [
    "print(m.groups())"
   ]
  },
  {
   "cell_type": "markdown",
   "metadata": {},
   "source": [
    "# 查找\n",
    "- search(str, [,pos [endpos]]: 在字符串中查找匹配, pos和endpos表示 起 始 位置\n",
    "- findall: 查找所有\n",
    "- finditer: 查找, 返回一个iter结果\n"
   ]
  },
  {
   "cell_type": "code",
   "execution_count": 46,
   "metadata": {},
   "outputs": [
    {
     "name": "stdout",
     "output_type": "stream",
     "text": [
      "<re.Match object; span=(3, 5), match='12'>\n",
      "['12', '34', '456', '789']\n",
      "<re.Match object; span=(3, 5), match='12'>\n",
      "<re.Match object; span=(8, 10), match='34'>\n",
      "<re.Match object; span=(15, 18), match='456'>\n",
      "<re.Match object; span=(22, 25), match='789'>\n"
     ]
    }
   ],
   "source": [
    "import re\n",
    "\n",
    "p = re.compile(r\"\\d+\")\n",
    "\n",
    "m = p.search(\"one12two34three456fort789\")\n",
    "print(m)\n",
    "\n",
    "# 返回的是一个list\n",
    "dall = p.findall(\"one12two34three456fort789\")\n",
    "print(dall)\n",
    "\n",
    "ter = p.finditer(\"one12two34three456fort789\")\n",
    "for i in ter:\n",
    "    print(i)"
   ]
  },
  {
   "cell_type": "markdown",
   "metadata": {},
   "source": [
    "# 替换\n",
    "- sub(rep1, str[,count])"
   ]
  },
  {
   "cell_type": "code",
   "execution_count": 47,
   "metadata": {},
   "outputs": [
    {
     "name": "stdout",
     "output_type": "stream",
     "text": [
      "Hello World Hello World Hello World is, Hello World ha\n"
     ]
    }
   ],
   "source": [
    "import re\n",
    "\n",
    "p = re.compile(r'(\\w+) (\\w+)')\n",
    "\n",
    "s = \"hello 123 my 456 name 789 is, ha ha ha\"\n",
    "\n",
    "rst = p.sub(r'Hello World', s)\n",
    "print(rst)\n",
    "\n",
    "# 因为 hello 123, my 456, name 789, ha ha, 符合正则制定的条件,所以替换了 其余的照旧打印出来 "
   ]
  },
  {
   "cell_type": "markdown",
   "metadata": {},
   "source": [
    "# 匹配中文\n",
    "- 大部分中文内容表示范围是[u4e00-u9fa5], 不包括全角标点\n"
   ]
  },
  {
   "cell_type": "code",
   "execution_count": 49,
   "metadata": {},
   "outputs": [
    {
     "name": "stdout",
     "output_type": "stream",
     "text": [
      "['世界', '你好']\n"
     ]
    }
   ],
   "source": [
    "import re\n",
    "\n",
    "p = re.compile(r'[\\u4e00-\\u9fa5]+')\n",
    "\n",
    "title = u\"世界 你好, hello world\"\n",
    "\n",
    "rst = p.findall(title)\n",
    "print(rst)"
   ]
  },
  {
   "cell_type": "markdown",
   "metadata": {},
   "source": [
    "# 贪婪和非贪婪\n",
    "- 贪婪: 尽可能多的匹配, (*) 表示贪婪匹配\n",
    "- 非贪婪: 找到符合条件的最小内容即可, (?) 表示非贪婪匹配\n",
    "- 正则默认使用贪婪匹配"
   ]
  },
  {
   "cell_type": "code",
   "execution_count": 73,
   "metadata": {},
   "outputs": [
    {
     "name": "stdout",
     "output_type": "stream",
     "text": [
      "<div>name</div><div>age</div>\n",
      "<div>name</div><div>age</div>\n",
      "<div>name</div>\n"
     ]
    }
   ],
   "source": [
    "import re\n",
    "\n",
    "title = u\"<div>name</div><div>age</div>\"\n",
    "\n",
    "p1 = re.compile(r\"<div>.+</div>\")\n",
    "p2 = re.compile(r\"<div>.*</div>\")\n",
    "p3 = re.compile(r\"<div>.*?</div>\")\n",
    "\n",
    "\n",
    "m1 = p1.search(title)\n",
    "print(m1.group())\n",
    "\n",
    "m2 = p2.search(title)\n",
    "print(m2.group())\n",
    "\n",
    "m3 = p3.search(title)\n",
    "print(m3.group())"
   ]
  }
 ],
 "metadata": {
  "kernelspec": {
   "display_name": "Python 3",
   "language": "python",
   "name": "python3"
  },
  "language_info": {
   "codemirror_mode": {
    "name": "ipython",
    "version": 3
   },
   "file_extension": ".py",
   "mimetype": "text/x-python",
   "name": "python",
   "nbconvert_exporter": "python",
   "pygments_lexer": "ipython3",
   "version": "3.7.0"
  }
 },
 "nbformat": 4,
 "nbformat_minor": 2
}
