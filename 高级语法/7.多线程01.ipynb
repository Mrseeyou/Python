{
 "cells": [
  {
   "cell_type": "markdown",
   "metadata": {},
   "source": [
    "# 多线程 VS 多进程\n",
    "- 程序: 一堆代码以文本形式存入一个文档\n",
    "- 进程: 程序运行的一个状态\n",
    "    - 包含地址空间, 内存, 数据栈等\n",
    "    - 每个进程由自己完全独立的运行环境, 多进程共享数据是一个问题\n",
    "\n",
    "- 线程: \n",
    "    - 一个进程的独立运行片段, 一个进程可以有多个线程\n",
    "    - 轻量化的进程\n",
    "    - 一个进程的多个线程间共享数据和上下文运行环境\n",
    "    - 共享互斥问题\n",
    "\n",
    "- 全局解释器所(GIL)\n",
    "    - Python代码的执行是由python虚拟机进行控制\n",
    "    - 在主循环中只能够有一个控制线程在执行\n",
    "   \n",
    "- Python包\n",
    "    - thread: 有问题, 不好用, python3改成 _thread\n",
    "    - threading: 通用的包"
   ]
  },
  {
   "cell_type": "code",
   "execution_count": 1,
   "metadata": {},
   "outputs": [
    {
     "name": "stdout",
     "output_type": "stream",
     "text": [
      "Starting at: Mon May  6 22:43:16 2019\n",
      "Start loop 1 at: Mon May  6 22:43:16 2019\n",
      "End loop 1 at: Mon May  6 22:43:20 2019\n",
      "Start loop 2 at: Mon May  6 22:43:20 2019\n",
      "End loop 2 at: Mon May  6 22:43:22 2019\n",
      "All done at: Mon May  6 22:43:22 2019\n"
     ]
    }
   ],
   "source": [
    "# 利用time函数, 生成两个函数 顺序调用 计算总的运行时间\n",
    "\n",
    "import time\n",
    "\n",
    "def loop1():\n",
    "    # ctime 得到当前时间\n",
    "    print('Start loop 1 at:', time.ctime())\n",
    "    # 睡眠多长时间,单位是秒\n",
    "    time.sleep(4)\n",
    "    print('End loop 1 at:',time.ctime())\n",
    "\n",
    "def loop2():\n",
    "    # ctime 得到当前时间\n",
    "    print('Start loop 2 at:', time.ctime())\n",
    "    # 睡眠多长时间,单位是秒\n",
    "    time.sleep(2)\n",
    "    print('End loop 2 at:',time.ctime())\n",
    "    \n",
    "def main():\n",
    "    print('Starting at:',time.ctime())\n",
    "    loop1()\n",
    "    loop2()\n",
    "    print('All done at:',time.ctime())\n",
    "    \n",
    "if __name__ == '__main__':\n",
    "    main()\n",
    "    "
   ]
  },
  {
   "cell_type": "code",
   "execution_count": null,
   "metadata": {},
   "outputs": [
    {
     "name": "stdout",
     "output_type": "stream",
     "text": [
      "Starting at: Mon May  6 22:43:22 2019\n",
      "All done at: Mon May  6 22:43:22 2019\n",
      "Start loop 1 at:Start loop 2 at: Mon May  6 22:43:22 2019\n",
      " Mon May  6 22:43:22 2019\n",
      "End loop 2 at: Mon May  6 22:43:24 2019\n",
      "End loop 1 at: Mon May  6 22:43:26 2019\n"
     ]
    }
   ],
   "source": [
    "# 上述代码可以看出两个代码总耗时6S 如果使用多线程, 则只需要4S 有效缩短总时间\n",
    "import time\n",
    "import _thread as thread\n",
    "\n",
    "def loop1():\n",
    "    print('Start loop 1 at:', time.ctime())\n",
    "    time.sleep(4)\n",
    "    print('End loop 1 at:', time.ctime())\n",
    "    \n",
    "def loop2():\n",
    "    print('Start loop 2 at:', time.ctime())\n",
    "    time.sleep(2)\n",
    "    print('End loop 2 at:', time.ctime())\n",
    "    \n",
    "def main():\n",
    "    print('Starting at:', time.ctime())\n",
    "    # 启动多线程的意思是用多线程去执行某个函数\n",
    "    # 启动多线程函数为start_new_thead\n",
    "    # 参数两个，一个是需要运行的函数名，第二是函数的参数作为元祖使用，为空则使用空元祖\n",
    "    # 注意：如果函数只有一个参数，需要参数后由一个逗号\n",
    "    thread.start_new_thread(loop1, ())\n",
    "    thread.start_new_thread(loop2, ())\n",
    "    print('All done at:', time.ctime())\n",
    "    \n",
    "if __name__ == '__main__':\n",
    "    main()\n",
    "    # 如果在别的运行环境程序不执行完毕就结束,可以加入while循环\n",
    "    while True:\n",
    "        time.sleep(1)"
   ]
  },
  {
   "cell_type": "code",
   "execution_count": 1,
   "metadata": {},
   "outputs": [
    {
     "name": "stdout",
     "output_type": "stream",
     "text": [
      "Starting at: Mon May  6 22:43:44 2019\n",
      "All done at:Start loop 2 at: Mon May  6 22:43:44 2019\n",
      "我是参数: 王小明 和参数: 王晓明\n",
      "Start loop 1 at: Mon May  6 22:43:44 2019\n",
      " Mon May  6 22:43:44 2019\n",
      "我是参数: 王小明\n"
     ]
    }
   ],
   "source": [
    "# 带参数的多线程启动方法\n",
    "import time\n",
    "import _thread as thread\n",
    "\n",
    "def loop1(in1):\n",
    "    print('Start loop 1 at:', time.ctime())\n",
    "    print('我是参数:',in1)\n",
    "    time.sleep(4)\n",
    "    print('End loop 1 at:', time.ctime())\n",
    "\n",
    "def loop2(in1,in2):\n",
    "    print('Start loop 2 at:', time.ctime())\n",
    "    print('我是参数:',in1,'和参数:',in2)\n",
    "    time.sleep(2)\n",
    "    print('End loop 2 at:',time.ctime())\n",
    "    \n",
    "def main():\n",
    "    print('Starting at:', time.ctime())\n",
    "    # 如果函数只有一个参数, 需要参数后面加一个逗号(元祖)\n",
    "    thread.start_new_thread(loop1,('王小明',))\n",
    "    thread.start_new_thread(loop2,('王小明', '王晓明'))\n",
    "    print('All done at:', time.ctime())\n",
    "    \n",
    "if __name__ == '__main__':\n",
    "    main()\n",
    "    "
   ]
  },
  {
   "cell_type": "markdown",
   "metadata": {},
   "source": [
    "- threading的使用\n",
    "    - 1. t = thredaing.Thread(target=xxx, args=(xxx,))\n",
    "    - 2. t.start():启动多线程\n",
    "    - 3. t.join(): 等待多线程执行完成 \n",
    "        - 参看案例1\n",
    "    - 守护线程 - daemon\n",
    "        - 如果在程序中将子线程设置成守护线程,则子线程会在主线程结束的时候自动退出\n",
    "        - 一般认为,守护线程不重要或者不允许离开主线程独立运行\n",
    "        - 守护能否有效跟环境相关\n",
    "        - 参看案例2"
   ]
  },
  {
   "cell_type": "code",
   "execution_count": 2,
   "metadata": {},
   "outputs": [
    {
     "name": "stdout",
     "output_type": "stream",
     "text": [
      "Starting at: Mon May  6 22:43:49 2019\n",
      "Start loop 1 at:Start loop 2 at: Mon May  6 22:43:49 2019\n",
      "我是参数: 王小明\n",
      " Mon May  6 22:43:49 2019\n",
      "我是参数: 王小明 和参数: 王晓明\n",
      "End loop 2 at: Mon May  6 22:43:51 2019\n",
      "End loop 1 at: Mon May  6 22:43:53 2019\n",
      "All done at: Mon May  6 22:43:53 2019\n"
     ]
    }
   ],
   "source": [
    "# 案例1\n",
    "import time\n",
    "import threading\n",
    "\n",
    "def loop1(in1):\n",
    "    print('Start loop 1 at:', time.ctime())\n",
    "    print('我是参数:',in1)\n",
    "    time.sleep(4)\n",
    "    print('End loop 1 at:', time.ctime())\n",
    "\n",
    "def loop2(in1,in2):\n",
    "    print('Start loop 2 at:', time.ctime())\n",
    "    print('我是参数:',in1,'和参数:',in2)\n",
    "    time.sleep(2)\n",
    "    print('End loop 2 at:',time.ctime())\n",
    "    \n",
    "def main():\n",
    "    print('Starting at:', time.ctime())\n",
    "    # 如果函数只有一个参数, 需要参数后面加一个逗号(元祖)\n",
    "    t1 = threading.Thread(target=loop1,args=('王小明',))\n",
    "    t1.start()\n",
    "    \n",
    "    t2 = threading.Thread(target=loop2,args=('王小明','王晓明'))\n",
    "    t2.start()\n",
    "\n",
    "    # 等待t1 t2 运行完毕 再执行下面的语句\n",
    "    t1.join()\n",
    "    t2.join()    \n",
    "    \n",
    "    print('All done at:', time.ctime())\n",
    "    \n",
    "if __name__ == '__main__':\n",
    "    main()"
   ]
  },
  {
   "cell_type": "code",
   "execution_count": 3,
   "metadata": {},
   "outputs": [
    {
     "name": "stdout",
     "output_type": "stream",
     "text": [
      "Main thread\n",
      "Start fun\n",
      "Main thread end\n",
      "End fun\n"
     ]
    }
   ],
   "source": [
    "# 案例2\n",
    "import time \n",
    "import threading\n",
    "\n",
    "def fun():\n",
    "    print('Start fun')\n",
    "    time.sleep(2)\n",
    "    print('End fun')\n",
    "    \n",
    "print('Main thread')\n",
    "\n",
    "t1 = threading.Thread(target=fun, args=())\n",
    "t1.start()\n",
    "\n",
    "time.sleep(1)\n",
    "print('Main thread end')"
   ]
  },
  {
   "cell_type": "code",
   "execution_count": 4,
   "metadata": {},
   "outputs": [
    {
     "name": "stdout",
     "output_type": "stream",
     "text": [
      "Main thread\n",
      "Start fun\n",
      "Main thread end\n",
      "End fun\n"
     ]
    }
   ],
   "source": [
    "# 案例2\n",
    "import time\n",
    "import threading\n",
    "\n",
    "def fun():\n",
    "    print(\"Start fun\")\n",
    "    time.sleep(2)\n",
    "    print(\"End fun\")\n",
    "    \n",
    "print(\"Main thread\")\n",
    "\n",
    "t1 = threading.Thread(target=fun, args=())\n",
    "# 设置守护线程的方法, 必须在start之前,否则无效\n",
    "t1.setDaemon(True)# 或者 t1.daemon = True\n",
    "t1.start()\n",
    "\n",
    "time.sleep(1)\n",
    "print('Main thread end')\n",
    "# 结果显示在python环境中不支持守护线程"
   ]
  },
  {
   "cell_type": "markdown",
   "metadata": {},
   "source": [
    "- 线程常用属性\n",
    "    - threading.currentThread: 返回当前线程变量\n",
    "    - threading.enumerate: 返回一个包含正在运行的线程的list, 正在运行的线程指的是线程启动后,结束前的状态\n",
    "    - threading.activeCount: 返回正在运行的线程数量, 效果跟 len(threading.enumerate)相同\n",
    "    - threading.setName: 给线程设置名字\n",
    "    - threading.getName: 得到线程的名字"
   ]
  },
  {
   "cell_type": "code",
   "execution_count": 8,
   "metadata": {},
   "outputs": [
    {
     "name": "stdout",
     "output_type": "stream",
     "text": [
      "Starting at: Mon May  6 22:45:37 2019\n",
      "Start loop 1 at: Mon May  6 22:45:37 2019\n",
      "Start loop 2 at: Mon May  6 22:45:37 2019\n",
      "Start loop 3 at: Mon May  6 22:45:37 2019\n",
      "End loop 2 at: Mon May  6 22:45:39 2019\n",
      "正在运行的线程名字是:MainThread\n",
      "正在运行的线程名字是:Thread-4\n",
      "正在运行的线程名字是:Thread-5\n",
      "正在运行的线程名字是:IPythonHistorySavingThread\n",
      "正在运行的线程名字是:THR_1\n",
      "正在运行的线程名字是:THR_3\n",
      "正在运行的子线程数量为:6\n",
      "All done at: Mon May  6 22:45:40 2019\n",
      "End loop 1 at: Mon May  6 22:45:42 2019\n",
      "End loop 3 at: Mon May  6 22:45:43 2019\n"
     ]
    }
   ],
   "source": [
    "import time\n",
    "import threading\n",
    "\n",
    "def loop1():\n",
    "    print('Start loop 1 at:', time.ctime())\n",
    "    time.sleep(5)\n",
    "    print(\"End loop 1 at:\",time.ctime())\n",
    "    \n",
    "def loop2():\n",
    "    print('Start loop 2 at:', time.ctime())\n",
    "    time.sleep(2)\n",
    "    print('End loop 2 at:', time.ctime())\n",
    "    \n",
    "def loop3():\n",
    "    print('Start loop 3 at:', time.ctime())\n",
    "    time.sleep(6)\n",
    "    print('End loop 3 at:', time.ctime())\n",
    "    \n",
    "def main():\n",
    "    print('Starting at:', time.ctime())\n",
    "    t1 = threading.Thread(target=loop1, args=())\n",
    "    # 给子线程设置名字\n",
    "    t1.setName('THR_1')\n",
    "    t1.start()\n",
    "    \n",
    "    t2 = threading.Thread(target=loop2, args=())\n",
    "    t2.setName('THR_2')\n",
    "    t2.start()\n",
    "    \n",
    "    t3 = threading.Thread(target=loop3, args=())\n",
    "    t3.setName('THR_3')\n",
    "    t3.start()\n",
    "    \n",
    "    time.sleep(3)\n",
    "    for thr in threading.enumerate():\n",
    "        print('正在运行的线程名字是:{0}'.format(thr.getName()))\n",
    "        \n",
    "    print('正在运行的子线程数量为:{0}'.format(threading.activeCount()))\n",
    "    \n",
    "    print('All done at:',time.ctime())\n",
    "\n",
    "if __name__ == '__main__':\n",
    "    main()"
   ]
  },
  {
   "cell_type": "markdown",
   "metadata": {},
   "source": [
    "- 直接继承自threading.Thread\n",
    "    - 直接继承Thread\n",
    "    - 重写run函数\n",
    "    - 类案例可以直接运行\n",
    "        - 案例3 案例4"
   ]
  },
  {
   "cell_type": "code",
   "execution_count": 4,
   "metadata": {},
   "outputs": [
    {
     "name": "stdout",
     "output_type": "stream",
     "text": [
      "The args for this class is 0\n",
      "The args for this class is 1\n",
      "The args for this class is 2\n",
      "The args for this class is 3\n",
      "The args for this class is 4\n",
      "Main thread is done!!!\n"
     ]
    }
   ],
   "source": [
    "# 案例3\n",
    "import time\n",
    "import threading\n",
    "\n",
    "# 类需要继承自threading.Thread\n",
    "class MyThread(threading.Thread):\n",
    "    def __init__(self,arg):\n",
    "        super().__init__()\n",
    "        self.arg = arg\n",
    "        \n",
    "        # 必须重写run函数, run函数代表的是真正执行的功能\n",
    "    def run(self):\n",
    "        time.sleep(2)\n",
    "        print('The args for this class is {0}'.format(self.arg))\n",
    "            \n",
    "for i in range(5):\n",
    "    t = MyThread(i)\n",
    "    t.start()\n",
    "    t.join()\n",
    "    \n",
    "print('Main thread is done!!!')"
   ]
  },
  {
   "cell_type": "code",
   "execution_count": 7,
   "metadata": {},
   "outputs": [
    {
     "name": "stdout",
     "output_type": "stream",
     "text": [
      "Starting at: Mon May  6 23:21:46 2019\n",
      "Start loop LOOP1 at Mon May  6 23:21:46 2019\n",
      "Start loop LOOP2 at Mon May  6 23:21:46 2019\n",
      "Done loop LOOP2 at Mon May  6 23:21:48 2019\n",
      "Done loop LOOP1 at Mon May  6 23:21:50 2019\n",
      "All done at: Mon May  6 23:21:50 2019\n"
     ]
    }
   ],
   "source": [
    "# 案例4\n",
    "import threading\n",
    "from time import sleep, ctime\n",
    "\n",
    "loop = [4,2]\n",
    "\n",
    "class  ThreadFunc:\n",
    "    def __init__(self,name):\n",
    "        self.name = name\n",
    "    \n",
    "    def loop(self, nloop, nsec):\n",
    "        \n",
    "        '''\n",
    "        param nloop: loop函数的名称\n",
    "        param nsec: 系统休眠时间\n",
    "        \n",
    "        '''\n",
    "        print('Start loop', nloop, 'at', ctime())\n",
    "        sleep(nsec)\n",
    "        print('Done loop', nloop, 'at', ctime())\n",
    "        \n",
    "def main():\n",
    "    print('Starting at:',ctime())\n",
    "    '''\n",
    "    ThreadFunc('loop').loop 跟以下t.loop相等:\n",
    "    t = ThreadFunc('loop')\n",
    "    t.loop\n",
    "    以下ti 和 t2 的定义方式相等\n",
    "    '''\n",
    "    t = ThreadFunc('loop')\n",
    "    t1 = threading.Thread(target = t.loop, args=('LOOP1', 4))\n",
    "    t2 = threading.Thread(target = ThreadFunc('loop').loop, args=('LOOP2',2))\n",
    "    # 常见错误写法\n",
    "    # ti = threading.Thread(target=ThreadFunc('loop').loop(100,4))\n",
    "    # t2 = threading.Thread(target=ThreadFunc('loop').loop(100,2))\n",
    "    \n",
    "    t1.start()\n",
    "    t2.start()\n",
    "    \n",
    "    t1.join()\n",
    "    t2.join()\n",
    "    \n",
    "    print('All done at:', ctime())\n",
    "    \n",
    "if __name__ == '__main__':\n",
    "    main()"
   ]
  }
 ],
 "metadata": {
  "kernelspec": {
   "display_name": "Python 3",
   "language": "python",
   "name": "python3"
  },
  "language_info": {
   "codemirror_mode": {
    "name": "ipython",
    "version": 3
   },
   "file_extension": ".py",
   "mimetype": "text/x-python",
   "name": "python",
   "nbconvert_exporter": "python",
   "pygments_lexer": "ipython3",
   "version": "3.7.0"
  }
 },
 "nbformat": 4,
 "nbformat_minor": 2
}
