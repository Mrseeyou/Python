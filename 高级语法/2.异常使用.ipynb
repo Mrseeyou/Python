{
 "cells": [
  {
   "cell_type": "markdown",
   "metadata": {},
   "source": [
    "# 异常\n",
    "- 广义上的错误分为错误和异常\n",
    "-  错误指的是可以人为避免\n",
    "- 异常是指在语法逻辑正确的前提下,出现的问题\n",
    "- 在Python里,异常是一个类,可以处理和使用"
   ]
  },
  {
   "cell_type": "markdown",
   "metadata": {},
   "source": [
    "# 异常的分类\n",
    "- AsserError 断言语句(assert) 失败\n",
    "- AttributeError 尝试访问未知的对象属性\n",
    "- EOFError 用户输入文件末尾标志EOF (ctrl+d)\n",
    "- FloatingPointError 浮点计算错误\n",
    "- GeneratorExit generator.close() 方法被调用的时候\n",
    "- ImportError 索引超出序列的范围\n",
    "- IndexError 索引超出序列的范围\n",
    "- KeyError 字典中查找一个不存在的关键字\n",
    "- KeyboardInterrupt 用户输入中断键(ctrl+c)\n",
    "- MemorError 内存溢出 (可以通过删除对象释放内存)\n",
    "- NameError 尝试访问一个不存在的变量\n",
    "- NotImplementedError 尚未实现的方法\n",
    "- OSError 操作系统产生的异常 (例如打开一个不存在的文件)\n",
    "- OverflowError 数值运算超出最大限制\n",
    "- ReferenceError 弱引用 (weak reference) 试图访问一个已经被垃圾回收机制回收了的对象\n",
    "- RuntimeError 一般的运行时错误\n",
    "- StopOteration 迭代器没有更多的值\n",
    "- SyntaxError Python的语法错误\n",
    "- IndentationError 缩进错误\n",
    "- TabError Tab和空格混合使用\n",
    "- SystemError Python编译器系统错误\n",
    "- SystemExit Python编译器进程被关闭\n",
    "- TypeError 不用类型间的无效操作\n",
    "- UnboundLocalError 访问一个未初始化的本地变量 (NameError的子类)\n",
    "- UnicodeError Unicode相关的错误 (ValueError的子类)\n",
    "- UnicodeEncodeError Unicode编码时的错误 (UnicodeError的子类)\n",
    "- UnicodeDecodeError Unicode解码时的错误 (UnicodeError的子类)\n",
    "- UnicodeTranslateError Unicode转换时的错误 (UnicodeError的子类)\n",
    "- ValueError 传入无效的参数\n",
    "- ZeroDivisionError 除数为零\n"
   ]
  },
  {
   "cell_type": "markdown",
   "metadata": {},
   "source": [
    "# 异常处理\n",
    "- 不能保证程序永远正确运行\n",
    "- 但是,必须保证程序在最坏的情况下得到的问题被妥善处理\n",
    "- Python的异常处理模块全部语法为:\n",
    "     - try:\n",
    "        - 尝试实现某个操作\n",
    "        - 如果没出现异常,任务就可以完成\n",
    "        - 如果出现异常,将异常从当前代码块扔出去,尝试解决异常\n",
    "          \n",
    "     - exceot 异常类型1:\n",
    "         - 解决方案1:用于尝试在此处处理异常解决问题\n",
    "\n",
    "     - exceot 异常类型2:\n",
    "         - 解决方案2:用于尝试在此处处理异常解决问题\n",
    "\n",
    "     - exceot (异常类型1, 异常类型2, .....):\n",
    "         - 解决方案3:针对多个异常使用相同的处理方式\n",
    "          \n",
    "     - exceot:\n",
    "         - 解决方案:所有异常的解决方案\n",
    "          \n",
    "     - else:\n",
    "         - 如果没有出现任何异常,将会执行此处代码\n",
    "          \n",
    "     - finally:\n",
    "         - 不管有没有异常都会执行的代码\n",
    "          \n",
    "- 流程\n",
    "    - 1. 执行try下面的语句\n",
    "    - 2. 如果出现异常,则在except语句里查找对应异常并进行处理\n",
    "    - 3. 如果没有出现异常,则执行else语句内容\n",
    "    - 4. 最后,不管是否出现异常,都要执行finally语句\n",
    "    \n",
    "- 除 except(最少一个)以外, else和finally可写可不写\n",
    "    \n",
    "    \n",
    "            "
   ]
  },
  {
   "cell_type": "code",
   "execution_count": 15,
   "metadata": {},
   "outputs": [
    {
     "name": "stdout",
     "output_type": "stream",
     "text": [
      "请输入除0以的整数20\n",
      "计算结果是:5.0\n",
      "没毛病啊\n"
     ]
    }
   ],
   "source": [
    "# 简单异常案例\n",
    "try:\n",
    "    number = int(input(\"请输入除0以的整数\"))\n",
    "    num = 100/number\n",
    "    print(\"计算结果是:{}\".format(num))\n",
    "except:\n",
    "    print(\"你输入不正确!\")\n",
    "else:\n",
    "    print(\"没毛病啊\")\n",
    "    "
   ]
  },
  {
   "cell_type": "code",
   "execution_count": 5,
   "metadata": {},
   "outputs": [
    {
     "name": "stdout",
     "output_type": "stream",
     "text": [
      "请输入除0以的整数0\n",
      "你的输入不正确!\n",
      "division by zero\n"
     ]
    }
   ],
   "source": [
    "# 给出异常提示\n",
    "try:\n",
    "    number = int(input(\"请输入除0以的整数\"))\n",
    "    num = 100/number\n",
    "    print(\"计算结果是:{}\".format(num))\n",
    "# 捕获异常后,把异常实例化,会出现在信息里\n",
    "except ZeroDivisionError as a:\n",
    "    print(\"你的输入不正确!\")\n",
    "    print(a)"
   ]
  },
  {
   "cell_type": "code",
   "execution_count": 8,
   "metadata": {},
   "outputs": [
    {
     "name": "stdout",
     "output_type": "stream",
     "text": [
      "请输入除0以的整数0\n",
      "好像是名字出错了\n",
      "name 'numer' is not defined\n",
      "出不出错我都打印出来\n"
     ]
    }
   ],
   "source": [
    "# 如果是多种error的情况,越是具体的错误,越往前放\n",
    "try:\n",
    "    number = int(input(\"请输入除0以的整数\"))\n",
    "    num = 100/numer\n",
    "    print(\"计算结果是:{}\".format(num))\n",
    "# 捕获异常后,把异常实例化,会出现在信息里\n",
    "# 一旦拦截某个异常,其他异常处理内容不查看,执行下一个代码,有finally则执行,否则执行下一个语句\n",
    "except ZeroDivisionError as a:\n",
    "    print(\"你的输入不正确!\")\n",
    "    print(a)\n",
    "except NameError as a:\n",
    "    print(\"好像是名字出错了\")\n",
    "    print(a)\n",
    "except ArrribututeError as a:\n",
    "    print(\"好像是属性有问题\")\n",
    "    print(a)\n",
    "\n",
    "# 所有异常都继承自 Exception\n",
    "except Exeption as a:\n",
    "    print(\"我也不知哪里出错了\")\n",
    "    print(a)\n",
    "    \n",
    "print(\"出不出错我都打印出来\")"
   ]
  },
  {
   "cell_type": "markdown",
   "metadata": {},
   "source": [
    "# 用户手动引发异常\n",
    "- 当某些情况下,用户希望希望自己引发一个异常的额时候,可以使用\n",
    "- raise 关键字引发异常\n",
    "    "
   ]
  },
  {
   "cell_type": "code",
   "execution_count": 13,
   "metadata": {},
   "outputs": [
    {
     "name": "stdout",
     "output_type": "stream",
     "text": [
      "呵呵\n",
      "2459\n",
      "好像是值有问题\n",
      "肯定要执行我\n"
     ]
    }
   ],
   "source": [
    "# raise案例\n",
    "try:\n",
    "    print(\"呵呵\")\n",
    "    print(2459)\n",
    "    # 手动引发异常\n",
    "    raise ValueError\n",
    "    \n",
    "    print(\"不会执行我了\")\n",
    "except NameError as a:\n",
    "    print(\"好像是名字出错了\")\n",
    "except ValueError as a:\n",
    "    print(\"好像是值有问题\")\n",
    "except Exception as a:\n",
    "    print(\"有异常\")\n",
    "finally:\n",
    "    print(\"肯定要执行我\")"
   ]
  },
  {
   "cell_type": "markdown",
   "metadata": {},
   "source": [
    "- 自定义异常必须是系统异常的子类"
   ]
  },
  {
   "cell_type": "code",
   "execution_count": 14,
   "metadata": {},
   "outputs": [
    {
     "name": "stdout",
     "output_type": "stream",
     "text": [
      "呵呵\n",
      "2459\n",
      "好像是值有问题\n",
      "肯定要执行我\n"
     ]
    }
   ],
   "source": [
    "class XiaomingError(ValueError):\n",
    "    pass\n",
    "\n",
    "try:\n",
    "    print(\"呵呵\")\n",
    "    print(2459)\n",
    "    \n",
    "    raise XiaomingError    \n",
    "    print(\"不会执行我了\")\n",
    "except NameError as a:\n",
    "    print(\"好像是名字出错了\")\n",
    "except ValueError as a:\n",
    "    print(\"好像是值有问题\")\n",
    "except Exception as a:\n",
    "    print(\"有异常\")\n",
    "finally:\n",
    "    print(\"肯定要执行我\")"
   ]
  },
  {
   "cell_type": "markdown",
   "metadata": {},
   "source": [
    "# 关于自定义异常\n",
    "- 只要是raise异常,则推荐自定义异常\n",
    "- 在自定义异常的时候,一般包含以下内容\n",
    "    - 自定义发生异常的异常代码\n",
    "    - 自定义发生异常后的问题提示\n",
    "    - 自定义发生异常的行数\n",
    "- 最终的目的是,一旦发生异常,方便程序员快速定位错位位置"
   ]
  }
 ],
 "metadata": {
  "kernelspec": {
   "display_name": "Python 3",
   "language": "python",
   "name": "python3"
  },
  "language_info": {
   "codemirror_mode": {
    "name": "ipython",
    "version": 3
   },
   "file_extension": ".py",
   "mimetype": "text/x-python",
   "name": "python",
   "nbconvert_exporter": "python",
   "pygments_lexer": "ipython3",
   "version": "3.7.0"
  }
 },
 "nbformat": 4,
 "nbformat_minor": 2
}
