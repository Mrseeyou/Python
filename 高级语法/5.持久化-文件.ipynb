{
 "cells": [
  {
   "cell_type": "markdown",
   "metadata": {},
   "source": [
    "# 文件\n",
    "- 长久保存信息的一种数据信息集合\n",
    "- 常用操作\n",
    "    - 打开关闭(文件一旦打开,需要关闭操作)\n",
    "    - 读写内容\n",
    "    - 查找\n",
    "# open函数\n",
    "- open函数负责打开文件,带有很多参数\n",
    "- 第一个参数:必须有,文件的路径和名称\n",
    "- mode:表明文件用什么方式打开\n",
    "    - r: 以只读方式打开\n",
    "    - w: 写方式打开,如文件已经存在,报错\n",
    "    - x: 创建方式打开,以追加的方式对文件内容进行写入\n",
    "    - a: append方式,以追加的方式对文件内容进行写入\n",
    "    - b: binary方式,二进制方式写入\n",
    "    - t:文本方式打开\n",
    "    - +: 可读写"
   ]
  },
  {
   "cell_type": "code",
   "execution_count": 8,
   "metadata": {},
   "outputs": [],
   "source": [
    "# 打开文件,用写的方式\n",
    "\n",
    "# f称之为文件句柄\n",
    "# r表示后面字符串的内容不需要转义\n",
    "\n",
    "f = open(r\"test001.txt\",'w')\n",
    "\n",
    "# 文件打开后需要关闭\n",
    "f.close()\n",
    "# 此案例说明, 以写的方式打开文件, 默认是如果没有这个文件, 则创建文件"
   ]
  },
  {
   "cell_type": "markdown",
   "metadata": {},
   "source": [
    "# with语句\n",
    "- with语句使用的技术是一种成为上下文管理协议的技术(ContexManagementProtocal)\n",
    "- 自动判断文件的作用域,自动关闭不在使用的打开的文件句柄"
   ]
  },
  {
   "cell_type": "code",
   "execution_count": 2,
   "metadata": {},
   "outputs": [],
   "source": [
    "# with语句案例\n",
    "\n",
    "with open(r\"test001.txt\",'r') as f:\n",
    "    pass\n",
    "    # 下面语句块开始对文件f进行操作\n",
    "    # 在本模块中不需要在使用close关闭文件f\n"
   ]
  },
  {
   "cell_type": "code",
   "execution_count": 7,
   "metadata": {},
   "outputs": [
    {
     "name": "stdout",
     "output_type": "stream",
     "text": [
      "向晚意不适\n",
      "\n",
      "驱车登古原\n",
      "\n",
      "夕阳无限好\n",
      "\n",
      "只是近黄昏\n",
      "\n"
     ]
    }
   ],
   "source": [
    "# 读文章的时候 encoding=\"utf-8\"\n",
    "# 写入的时候 encode('utf-8')\n",
    "\n",
    "with open(r\"test001.txt\", 'r', encoding=\"utf-8\") as f:\n",
    "    # 按行读取内容\n",
    "    strline = f.readline()\n",
    "    \n",
    "    # 此结构能够保证完整读取文件直到结束\n",
    "    while strline:\n",
    "        print(strline)\n",
    "        strline = f.readline()"
   ]
  },
  {
   "cell_type": "code",
   "execution_count": 7,
   "metadata": {},
   "outputs": [
    {
     "name": "stdout",
     "output_type": "stream",
     "text": [
      "向晚意不适\n",
      "\n",
      "驱车登古原\n",
      "\n",
      "夕阳无限好\n",
      "\n",
      "只是近黄昏\n"
     ]
    }
   ],
   "source": [
    "# list 能用打开的文件作为参数,把文件内每一行内容作为一个元素\n",
    "\n",
    "with open(r\"test001.txt\", 'r', encoding=\"utf-8\") as f:\n",
    "    # 以打开的文件f作为参数, 创建列表\n",
    "    l = list(f)\n",
    "    for line in l:\n",
    "        print(line)"
   ]
  },
  {
   "cell_type": "code",
   "execution_count": 70,
   "metadata": {},
   "outputs": [
    {
     "name": "stdout",
     "output_type": "stream",
     "text": [
      "5\n",
      "向晚意不适\n",
      "********************\n",
      "向晚意不适\n",
      "\n",
      "驱车登古原\n",
      "\n",
      "夕阳无限好\n",
      "\n",
      "只是近黄昏\n"
     ]
    }
   ],
   "source": [
    "# read是按字符串读取文件内容\n",
    "# 允许输入参数决定读取几个字符,如果没有指定,从当前位置读取到结尾\n",
    "# 否则,从当前位置读取指定个数的字符\n",
    "\n",
    "with open(r\"test001.txt\", 'r', encoding=\"utf-8\") as f:\n",
    "    strChar = f.read(5)\n",
    "    print(len(strChar))\n",
    "    print(strChar)\n",
    "    \n",
    "    print(\"*\" * 20)   \n",
    "    \n",
    "    while strChar:\n",
    "        print(strChar)\n",
    "        strChar = f.read(6)\n",
    "          "
   ]
  },
  {
   "cell_type": "code",
   "execution_count": 4,
   "metadata": {},
   "outputs": [
    {
     "name": "stdout",
     "output_type": "stream",
     "text": [
      "向晚意不适\n",
      "驱车登古原\n",
      "夕阳无限好\n",
      "只是近黄昏"
     ]
    }
   ],
   "source": [
    "# 利用循环,1次读一个,保持诗的格式\n",
    "\n",
    "import time\n",
    "\n",
    "with open(r\"test001.txt\", 'r', encoding=\"utf-8\") as f:\n",
    "    strChar = f.read(1)\n",
    "    \n",
    "    while strChar:\n",
    "        print(strChar,end=\"\")\n",
    "        time.sleep(0.5)\n",
    "        strChar = f.read(1)\n",
    "        "
   ]
  },
  {
   "cell_type": "markdown",
   "metadata": {},
   "source": [
    "# seek (offset, from)\n",
    "- 移动文件的读取位置,也叫读取指针\n",
    "- from的取值范围:\n",
    "    - 0: 从文件头开始偏移\n",
    "    - 1: 从文件当前位置开始偏移\n",
    "    - 2: 从文件末尾开始偏移\n",
    "- 移动的单位是字节(byte)\n",
    "- 一个汉字是由若干个字节构成\n",
    "- 返回文件 只针对当前位置"
   ]
  },
  {
   "cell_type": "code",
   "execution_count": 3,
   "metadata": {},
   "outputs": [
    {
     "name": "stdout",
     "output_type": "stream",
     "text": [
      "晚意不适\n",
      "驱车登古原\n",
      "夕阳无限好\n",
      "只是近黄昏\n"
     ]
    }
   ],
   "source": [
    "# seek 案例\n",
    "# 打开文件后, 从第5个字节处开始读取\n",
    "\n",
    "# 打开读写指针在0处, 即文件开头\n",
    "\n",
    "with open(r\"test001.txt\", 'r', encoding=\"utf-8\") as f:\n",
    "    # seek 移动单位是字节\n",
    "    f.seek(3, 0)\n",
    "    strChar = f.read()\n",
    "    print(strChar)"
   ]
  },
  {
   "cell_type": "code",
   "execution_count": 9,
   "metadata": {},
   "outputs": [
    {
     "name": "stdout",
     "output_type": "stream",
     "text": [
      "向晚意不适\n",
      "驱车登古原\n",
      "夕阳无限好\n",
      "只是近黄昏"
     ]
    }
   ],
   "source": [
    "# 打开文件, 三个字符一组读出内容,然后显示在屏幕上\n",
    "# 每读一次,休息一秒钟\n",
    "\n",
    "import time\n",
    "\n",
    "with open(r\"test001.txt\", 'r', encoding=\"utf-8\") as f:\n",
    "    #  read 参数的单位是字符, 可以理解成一个汉字就是一个字符\n",
    "    strChar = f.read(3)\n",
    "    while strChar:\n",
    "        print(strChar,end=\"\")\n",
    "        time.sleep(1)\n",
    "        strChar = f.read(3)\n",
    "\n",
    "# 以下显示结果说明,换行也是一个字符,所有能够保持格式"
   ]
  },
  {
   "cell_type": "code",
   "execution_count": 4,
   "metadata": {},
   "outputs": [
    {
     "name": "stdout",
     "output_type": "stream",
     "text": [
      "9\n",
      "向晚意\n",
      "16\n",
      "不适\n",
      "\n",
      "25\n",
      "驱车登\n",
      "32\n",
      "古原\n",
      "\n",
      "41\n",
      "夕阳无\n",
      "48\n",
      "限好\n",
      "\n",
      "57\n",
      "只是近\n",
      "63\n",
      "黄昏\n"
     ]
    }
   ],
   "source": [
    "# tell 函数: 用来显示文件读写指针的当前位置\n",
    "\n",
    "with open(r'test001.txt', 'r', encoding='utf-8') as f:\n",
    "    strChar = f.read(3)\n",
    "    pos = f.tell()\n",
    "    \n",
    "    while strChar:\n",
    "        print(pos)\n",
    "        print(strChar)\n",
    "        \n",
    "        strChar = f.read(3)\n",
    "        pos = f.tell()\n",
    "# 以下结果说明: tell返回数字的单位是byte, 换行也是一个字节, read是以字符为单位"
   ]
  },
  {
   "cell_type": "markdown",
   "metadata": {},
   "source": [
    "# 文件的写操作-write\n",
    "- write(str): 把字符串写入文件\n",
    "- writelines(sequence): 既可以传入字符串又可以传入一个字符序列,并将该字符序列写入文件\n",
    "- 区别: \n",
    "    - write函数参数只能是字符串\n",
    "    - writelines参数可以是字符串,也可以是字符序列"
   ]
  },
  {
   "cell_type": "code",
   "execution_count": 7,
   "metadata": {},
   "outputs": [],
   "source": [
    "# write 案例\n",
    "# 向文件追加一句诗\n",
    "# a 代表追加方式打开\n",
    "\n",
    "with open(r'test001.txt', 'a', encoding='utf-8') as f:\n",
    "    # 用换行符隔开\n",
    "    f.write(\"\\n踏破铁鞋无觅处\\n得来全不费工夫\")"
   ]
  },
  {
   "cell_type": "code",
   "execution_count": 12,
   "metadata": {},
   "outputs": [],
   "source": [
    "# 可以直接写字符序列, 用writelines\n",
    "\n",
    "with open(r'test001.txt', 'a', encoding='utf-8') as f:\n",
    "    \n",
    "    # 把可迭代的变量s 传入\n",
    "    s = (\"\\n你若安好\",\"\\n便是晴天\")\n",
    "    f.writelines(s)\n"
   ]
  },
  {
   "cell_type": "markdown",
   "metadata": {},
   "source": [
    "# 持久化-pickle\n",
    "- 序列化(持久化, 落地): 把程序运行中的信息保存在磁盘上\n",
    "- 反序列化: 序列化的逆过程\n",
    "- pickle: python提供的序列化模块\n",
    "- pickle.dump: 序列化\n",
    "- pickle.load: 反序列化"
   ]
  },
  {
   "cell_type": "code",
   "execution_count": 13,
   "metadata": {},
   "outputs": [],
   "source": [
    "import pickle\n",
    "\n",
    "# 序列化\n",
    "\n",
    "age = 19\n",
    "\n",
    "with open(r\"test002.txt\", 'wb') as f:\n",
    "    pickle.dump(age, f)"
   ]
  },
  {
   "cell_type": "code",
   "execution_count": 14,
   "metadata": {},
   "outputs": [
    {
     "name": "stdout",
     "output_type": "stream",
     "text": [
      "19\n"
     ]
    }
   ],
   "source": [
    "# 反序列化\n",
    "\n",
    "with open(r\"test002.txt\", 'rb') as f:\n",
    "    pickle.load(f)\n",
    "    print(age)"
   ]
  },
  {
   "cell_type": "code",
   "execution_count": 15,
   "metadata": {},
   "outputs": [],
   "source": [
    "a = [26, \"L like you haha\", [175,60]]\n",
    "with open(r\"test002.txt\", 'wb') as f:\n",
    "    pickle.dump(a, f)\n"
   ]
  },
  {
   "cell_type": "code",
   "execution_count": 16,
   "metadata": {},
   "outputs": [
    {
     "name": "stdout",
     "output_type": "stream",
     "text": [
      "[26, 'L like you haha', [175, 60]]\n"
     ]
    }
   ],
   "source": [
    "with open(r\"test002.txt\", 'rb') as f:\n",
    "    pickle.load(f)\n",
    "    print(a)"
   ]
  },
  {
   "cell_type": "markdown",
   "metadata": {},
   "source": [
    "# 持久化-shelve\n",
    "- 持久化工具\n",
    "- 类似字典,用kv对保存数据,存取方式跟字典类似\n",
    "- open, close.\n",
    "- 特性:\n",
    "    - 不支持多个应用并行写入\n",
    "        - 但是可以多个读, open的时候使用flag=r\n",
    "    - 写回问题\n",
    "        - shelve模式情况下不会对持久化对象进行任何修改\n",
    "        - 解决方法: 强制写回 writeback=True"
   ]
  },
  {
   "cell_type": "code",
   "execution_count": 20,
   "metadata": {},
   "outputs": [],
   "source": [
    "# 使用shelve创建文件并使用\n",
    "import shelve\n",
    "\n",
    "# 打开文件\n",
    "# shv相当于一个字典\n",
    "shv = shelve.open(r\"shv.db\")\n",
    "\n",
    "shv['one'] = 1\n",
    "shv['two'] = 2\n",
    "shv['three'] = 3\n",
    "\n",
    "shv.close()\n",
    "\n",
    "# shelve自动创建的不仅仅是一个shv.db文件,还包含其他文件"
   ]
  },
  {
   "cell_type": "code",
   "execution_count": 25,
   "metadata": {},
   "outputs": [
    {
     "name": "stdout",
     "output_type": "stream",
     "text": [
      "1\n",
      "没有这个值\n"
     ]
    }
   ],
   "source": [
    "# shelve读取\n",
    "shv = shelve.open(r'shv.db')\n",
    "\n",
    "# 如果读取不存在的值 会报错,导致程序无法关闭,所以使用try\n",
    "try:\n",
    "    print(shv[\"one\"])\n",
    "    print(shv[\"twoo\"])\n",
    "except Exception as e:\n",
    "    print(\"没有这个值\")\n",
    "finally:\n",
    "    shv.close()"
   ]
  },
  {
   "cell_type": "code",
   "execution_count": 36,
   "metadata": {},
   "outputs": [
    {
     "name": "stdout",
     "output_type": "stream",
     "text": [
      "{'eins': 1, 'zwei': 2, 'drei': 3}\n"
     ]
    }
   ],
   "source": [
    "# 正常读写\n",
    "\n",
    "import shelve\n",
    "\n",
    "shv = shelve.open(r'shv.db')\n",
    "try:\n",
    "    shv['one'] = {'eins':1, 'zwei':2, 'drei':3}\n",
    "finally:\n",
    "    shv.close()\n",
    "    \n",
    "    \n",
    "shv = shelve.open(r'shv.db')\n",
    "try:\n",
    "    one = shv[\"one\"]\n",
    "    print(one)\n",
    "finally:\n",
    "    shv.close()    "
   ]
  },
  {
   "cell_type": "code",
   "execution_count": 38,
   "metadata": {},
   "outputs": [
    {
     "name": "stdout",
     "output_type": "stream",
     "text": [
      "{'eins': 1, 'zwei': 2, 'drei': 3}\n",
      "{'eins': 100, 'zwei': 2, 'drei': 3}\n"
     ]
    }
   ],
   "source": [
    "# 写回模式\n",
    "\n",
    "import shelve\n",
    "\n",
    "# 如果不加writeback参数,则内容还是存在于内存中,没有写回数据库\n",
    "shv = shelve.open(r'shv.db', writeback=True)\n",
    "try:\n",
    "    k1 = shv['one']\n",
    "    print(k1)\n",
    "    k1['eins'] =100\n",
    "finally:\n",
    "    shv.close()\n",
    "    \n",
    "    \n",
    "shv = shelve.open(r'shv.db')\n",
    "try:\n",
    "    k1 = shv[\"one\"]\n",
    "    print(k1)\n",
    "finally:\n",
    "    shv.close()  "
   ]
  },
  {
   "cell_type": "code",
   "execution_count": 32,
   "metadata": {},
   "outputs": [
    {
     "name": "stdout",
     "output_type": "stream",
     "text": [
      "{'eins': 100, 'zwei': 2, 'drei': 3}\n",
      "{'eins': 1000, 'zwei': 2, 'drei': 3}\n"
     ]
    }
   ],
   "source": [
    "# shelve 使用with管理上下文环境\n",
    "\n",
    "import shelve\n",
    "\n",
    "# 如果不加writeback参数,则内容还是存在于内存中,没有写回数据库\n",
    "with shelve.open(r'shv.db', writeback=True) as shv:\n",
    "    k1 = shv['one']\n",
    "    print(k1)\n",
    "    k1['eins'] =1000\n",
    "\n",
    "    \n",
    "with shelve.open(r'shv.db') as shv:\n",
    "    ki = shv[\"one\"]\n",
    "    print(k1)"
   ]
  }
 ],
 "metadata": {
  "kernelspec": {
   "display_name": "Python 3",
   "language": "python",
   "name": "python3"
  },
  "language_info": {
   "codemirror_mode": {
    "name": "ipython",
    "version": 3
   },
   "file_extension": ".py",
   "mimetype": "text/x-python",
   "name": "python",
   "nbconvert_exporter": "python",
   "pygments_lexer": "ipython3",
   "version": "3.7.0"
  }
 },
 "nbformat": 4,
 "nbformat_minor": 2
}
