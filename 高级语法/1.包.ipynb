{
 "cells": [
  {
   "cell_type": "markdown",
   "metadata": {},
   "source": [
    "# 模块\n",
    "- 一个模块就是一个包含Python代码的文件, 后缀名是 .py就可以,模块就是个Python文件\n",
    "- 模块的作用\n",
    "    - 程序太大,编写维护不方便,需要拆分\n",
    "    - 模块可以增加代码重复利用的方式\n",
    "    - 当做命名空间使用,避免命名冲突\n",
    "    \n",
    "- 如何定义模块\n",
    "    - 模块就是一个普通文件, 所以任何代码可以直接书写\n",
    "    - 根据模块的规范,要在模块中编写以下内容\n",
    "        - 函数 (单一功能)\n",
    "        - 类 (相似功能的组合,或者类似业务模块)\n",
    "        - 测试代码"
   ]
  },
  {
   "cell_type": "code",
   "execution_count": 2,
   "metadata": {},
   "outputs": [],
   "source": [
    "# 以下代码为mk.py的内容\n",
    "# class Student():\n",
    "#     def __init__(self,name=\"Noname\",age=18):\n",
    "#         self.name = name\n",
    "#         self.age = age\n",
    "    \n",
    "#     def say(self):\n",
    "#         print(\"My name is {}\".format(self.name))\n",
    "        \n",
    "# def saying():\n",
    "#     print(\"我是一个函数\")\n",
    "    \n",
    "# if __name__ == \"__main__\":\n",
    "#     print(\"我是一个模块\")"
   ]
  },
  {
   "cell_type": "markdown",
   "metadata": {},
   "source": [
    "- 如何使用模块\n",
    "    - 模块直接导入\n",
    "        - 语法\n",
    "            - import module_name (导入模块名)\n",
    "            - module_name.function_name\n",
    "            - module_name.class_name\n",
    "            "
   ]
  },
  {
   "cell_type": "code",
   "execution_count": 2,
   "metadata": {},
   "outputs": [
    {
     "name": "stdout",
     "output_type": "stream",
     "text": [
      "我是一个函数\n",
      "My name is xiaoming\n"
     ]
    }
   ],
   "source": [
    "import mk\n",
    "\n",
    "# 调用函数\n",
    "mk.saying()\n",
    "\n",
    "# 实例化类\n",
    "s = mk.Student(\"xiaoming\")\n",
    "s.say()"
   ]
  },
  {
   "cell_type": "markdown",
   "metadata": {},
   "source": [
    "- import 模块 as 别名\n",
    "    - 导入的同时给模块起一个别名\n",
    "    - 其余的用法相同"
   ]
  },
  {
   "cell_type": "code",
   "execution_count": 3,
   "metadata": {},
   "outputs": [
    {
     "name": "stdout",
     "output_type": "stream",
     "text": [
      "我是一个函数\n"
     ]
    }
   ],
   "source": [
    "import mk as b\n",
    "\n",
    "# b的用法同bao01\n",
    "b.saying()"
   ]
  },
  {
   "cell_type": "markdown",
   "metadata": {},
   "source": [
    "- 假如模块名称直接以数字命名,需要借助 importlib帮助,否则导入后使用报错\n",
    "    - 语法\n",
    "        - import importlib\n",
    "        - 自定义模块名称 = importlib.import_mudile(\"number\") "
   ]
  },
  {
   "cell_type": "code",
   "execution_count": 4,
   "metadata": {},
   "outputs": [
    {
     "name": "stdout",
     "output_type": "stream",
     "text": [
      "我是一个函数\n"
     ]
    }
   ],
   "source": [
    "# 模块 52 与模块 bao01 代码一致\n",
    "import importlib\n",
    "b1 = importlib.import_module(\"52\")\n",
    "\n",
    "# b1等价于模块52\n",
    "b1.saying()"
   ]
  },
  {
   "cell_type": "markdown",
   "metadata": {},
   "source": [
    "- 选择性导入模块内容\n",
    "    - 语法\n",
    "        - from mpdule_name import class_name, func_name\n",
    "        - 此方法导入后不需要前缀,直接使用\n",
    "        - 选择所有内容即 * 号,使用模块内所有内容不需要前缀(注意命名冲突)\n",
    "        - from module_name import *"
   ]
  },
  {
   "cell_type": "code",
   "execution_count": 7,
   "metadata": {},
   "outputs": [
    {
     "name": "stdout",
     "output_type": "stream",
     "text": [
      "我是一个函数\n"
     ]
    }
   ],
   "source": [
    "# 只导入saying函数\n",
    "from mk import saying\n",
    "\n",
    "saying()\n",
    "# 没有导入,调用报错\n",
    "\n",
    "# 导入包内的所有内容\n",
    "from mk import *"
   ]
  },
  {
   "cell_type": "markdown",
   "metadata": {},
   "source": [
    "- if __ name __ == \"__ main __\"的使用\n",
    "    - 可以有效避免模块代码被导入的时候会被动执行的问题\n",
    "    - 建议所有程序的入口都以此代码为入口"
   ]
  },
  {
   "cell_type": "markdown",
   "metadata": {},
   "source": [
    "# 模块的搜索路径和存储\n",
    "- 什么是模块的搜索路径\n",
    "    - 加载模块的时候,系统会在那些地方寻找此模块\n",
    "- 系统默认的模块搜索路径\n",
    "    - import syx\n",
    "    - syx.path 获取路径列表(自定义模块需要放入此路径里,否则搜索不到)\n",
    "- 添加搜索路径\n",
    "    - syx.path.append(dir)\n",
    "    - 通过此方法 自定义模块放入自定义路径后 仍然能够搜索到\n",
    "- 模块的加载顺序\n",
    "    - 1.搜索内存中已经加载好的模块\n",
    "    - 2.搜索Python的内置模块\n",
    "    - 3.搜索sys.path路径\n",
    "    "
   ]
  },
  {
   "cell_type": "markdown",
   "metadata": {},
   "source": [
    "# 包\n",
    "- 包是一种组织管理代码的方式,包里面存放的是模块\n",
    "- 用于将模块包含在一起的文件夹就是包\n",
    "- 自定义包的结构\n",
    "    \n",
    "    - /---包\n",
    "    - /---/---__ init __.py 包的标志文件\n",
    "    - /---/--- 模块1\n",
    "    - /---/--- 模块2\n",
    "    - /---/--- 子包(子文件夹)\n",
    "    - /---/---/--- __ init __.py 包的标志文件\n",
    "    - /---/---/--- 子包模块1\n",
    "    - /---/---/--- 子包模块2"
   ]
  },
  {
   "cell_type": "markdown",
   "metadata": {},
   "source": [
    "- 包的导入操作\n",
    "    - import package_name\n",
    "        - 直接导入一个包,可以使用 __ init __.py中的内容\n",
    "        - 使用方式:\n",
    "            - package_name.func_name\n",
    "            - package_name.class_name.func_name()\n",
    "    - import 包 as 别名\n",
    "        - import package_name as name\n",
    "        - 其余用法不变\n",
    "    \n",
    "    - 导入包中的某一个模块\n",
    "        - import package.module\n",
    "        - 使用方法\n",
    "            - package.module.func_name\n",
    "            - package.module.class.func()\n",
    "            - package.module.class.var\n",
    "        - 也能使用别名\n",
    "            - import package.module as name\n",
    "    - 选择性导入\n",
    "        - from package_name import module1,module2,module3....\n",
    "        - 此方法导入不执行 '__ init __' 内容\n",
    "            - from package_name import module\n",
    "            - module.func()\n",
    "        - from package import *\n",
    "            - 导入当前包 '__ init __.py'文件所有的函数和类       \n",
    "                - func_name()\n",
    "                - class_name.func_name()\n",
    "                - class_name.var\n",
    "    - 导入包中指定模块的所有内容\n",
    "        - from package.module import *\n",
    "            - func_name()\n",
    "            - class_name.func_name()"
   ]
  },
  {
   "cell_type": "markdown",
   "metadata": {},
   "source": [
    "- 在开发环境中经常会引用其他模块,可以在当前包中直接导入其他模块中的内容\n",
    "    - impoer 完整的包或者模块的路径"
   ]
  },
  {
   "cell_type": "markdown",
   "metadata": {},
   "source": [
    "- '__ all __'用法\n",
    "    - 在使用from package import * 的时候, * 可以导入内容\n",
    "    - '__ init__.py'中如果文件为空,或者没有'__ all__'那么只可以把'__ init__.py'中的内容导入\n",
    "    - '__ init__.py'如果设置了'__ all__'的值,那么按'__ all__'指定的值或者模块进行导入\n",
    "        - 此时则不会载入'__ init__'中的内容\n",
    "        - '__ all__ = ['module1', 'module2', 'module3', .....]'"
   ]
  },
  {
   "cell_type": "markdown",
   "metadata": {},
   "source": [
    "# 命名空间\n",
    "- 用于区分不同位置不同功能但是名称相同的函数或者变量的一个特定的前缀\n",
    "- 作用是防止命名冲突\n",
    "    - 例如 func()\n",
    "        - Student.func()\n",
    "        - Techer.func()\n",
    "        - Dog.func()"
   ]
  }
 ],
 "metadata": {
  "kernelspec": {
   "display_name": "Python 3",
   "language": "python",
   "name": "python3"
  },
  "language_info": {
   "codemirror_mode": {
    "name": "ipython",
    "version": 3
   },
   "file_extension": ".py",
   "mimetype": "text/x-python",
   "name": "python",
   "nbconvert_exporter": "python",
   "pygments_lexer": "ipython3",
   "version": "3.7.0"
  }
 },
 "nbformat": 4,
 "nbformat_minor": 2
}
