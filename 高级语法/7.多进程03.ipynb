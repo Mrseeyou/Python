{
 "cells": [
  {
   "cell_type": "markdown",
   "metadata": {},
   "source": [
    "# 线程替代方案\n",
    "- subprocess\n",
    "    - 完全跳过线程,使用进程\n",
    "    - 是派生进程的主要替代方案\n",
    "- multiprocessing\n",
    "    - 使用threading接口派生,使用子进程\n",
    "    - 允许为多核或者多cpu派生进程,接口跟threading非常相似\n",
    "- concurrent.futures\n",
    "    - 新的异步执行模块\n",
    "    - 任务级别的操作\n",
    "    \n",
    "# 多进程\n",
    "- 进程间通讯(InterprocessCommunication, IPC)\n",
    "- 进程之间无任何共享状态\n",
    "- 进程的创建\n",
    "    - 直接生成Prcess实例对象, 案例01.py"
   ]
  },
  {
   "cell_type": "code",
   "execution_count": null,
   "metadata": {},
   "outputs": [],
   "source": [
    "import multiprocessing\n",
    "from time import sleep, ctime\n",
    "\n",
    "# interval 是传入的参数 睡眠多少时间\n",
    "def clock(interval):\n",
    "    while True:\n",
    "        print(\"The time is %s\" % ctime())\n",
    "        sleep(interval)\n",
    "        \n",
    "if __name__ == \"__main__\":\n",
    "    p = multiprocessing.Process(target = clock, args=(3,))\n",
    "    p.start()\n",
    "    \n",
    "    while True:\n",
    "        print(\"*********\")\n",
    "        sleep(1)"
   ]
  },
  {
   "cell_type": "markdown",
   "metadata": {},
   "source": [
    "- 派生类, 案例02.py"
   ]
  },
  {
   "cell_type": "code",
   "execution_count": null,
   "metadata": {},
   "outputs": [],
   "source": [
    "import multiprocessing\n",
    "from time import sleep, ctime\n",
    "\n",
    "class ClockPrcess(multiprocessing.Process):\n",
    "    # 两个重要的函数 构造函数和run函数\n",
    "    \n",
    "    def __init__(self, interval):\n",
    "        super().__init__()\n",
    "        self.interval = interval\n",
    "        \n",
    "    def run(self):\n",
    "        while True:\n",
    "            print(\"The time is %s\" % ctime())\n",
    "            sleep(self.interval)\n",
    "            \n",
    "if __name__ == \"__main__\":\n",
    "    p = ClockPrcess(3)\n",
    "    p.start()\n",
    "    \n",
    "    while True:\n",
    "        print(\"**********\")\n",
    "        sleep(1)"
   ]
  },
  {
   "cell_type": "markdown",
   "metadata": {},
   "source": [
    "- 在os中查看pid, ppid以及他们的关系,案例03.py"
   ]
  },
  {
   "cell_type": "code",
   "execution_count": 6,
   "metadata": {},
   "outputs": [],
   "source": [
    "from multiprocessing import Process\n",
    "import os\n",
    "\n",
    "def info(title):\n",
    "    print(title)\n",
    "    print(\"module name:\", __name__)\n",
    "    # 得到父亲进程的id\n",
    "    print(\"parent process:\", os.getppid())\n",
    "    # 得到本身的进程id\n",
    "    print(\"process id:\", os.getpid())\n",
    "    \n",
    "def f(name):\n",
    "    info(\"function f\")\n",
    "    print(\"hello\", name)\n",
    "    \n",
    "if __name__ == \"__main__\":\n",
    "    info (\"main line\")\n",
    "    p = Process(target = f, args=(\"bob\",))\n",
    "    p.start()\n",
    "    p.join()\n",
    "# 代码结果可以知道 在函数执行的时候 哪个是父类进程 哪个是本身进程"
   ]
  },
  {
   "cell_type": "markdown",
   "metadata": {},
   "source": [
    "- 生产者消费者模型\n",
    "    - JoinableQueue,参看案例04.py"
   ]
  },
  {
   "cell_type": "code",
   "execution_count": 14,
   "metadata": {},
   "outputs": [],
   "source": [
    "import multiprocessing\n",
    "from time import ctime\n",
    "\n",
    "# 消费者\n",
    "def consumer(input_q):\n",
    "    print(\"Into consumer:\", ctime())\n",
    "    while True:\n",
    "        item = input_q.get() # 消费一个(取出一个)\n",
    "        print(\"pull\", item, \"out of q\")\n",
    "        input_q.task_done() # 发出完成任务的信号\n",
    "        \n",
    "    #此句未执行，因为q.join()收集到四个task_done()信号后，主进程启动，未等到print此句完成，程序就结束    \n",
    "    print(\"Out of consumer:\", ctime())\n",
    "    了\n",
    "# 生产者\n",
    "def producer(sequence, output_q):\n",
    "    print(\"Into procuder:\", ctime())\n",
    "    # 以下循环,是把sequence一个个拿出来\n",
    "    for item in sequence:\n",
    "        # 把sequence里的东西一次次放入output_q里\n",
    "        output_q.put(item)\n",
    "        print(\"put\", item, \"into q\")\n",
    "    # 提示生产完了(放入完了)\n",
    "    print(\"Out of producer:\", ctime())\n",
    "    \n",
    "# 建立进程\n",
    "if __name__ == \"__main__\":\n",
    "    q = multiprocessing.JoinableQueue()\n",
    "    # 运行消费者\n",
    "    cons_p = multiprocessing.Process(target = consumer, args = (q,))\n",
    "    cons_p.daemon = True\n",
    "    cons_p.start()\n",
    "    \n",
    "    # 生产多个项, sequence代表要发送给消费者的项序列\n",
    "    # 在实践中, 这可能是生成器的输出或通过一些其他方式生产出来\n",
    "    sequence = [1,2,3,4]\n",
    "    producer(sequence, q)\n",
    "    \n",
    "    cons_p.join()"
   ]
  },
  {
   "cell_type": "markdown",
   "metadata": {},
   "source": [
    "- 队列中哨兵的使用,案例05.py"
   ]
  },
  {
   "cell_type": "code",
   "execution_count": null,
   "metadata": {},
   "outputs": [],
   "source": [
    "import multiprocessing\n",
    "from time import ctime\n",
    "\n",
    "def consumer(input_q):\n",
    "    print(\"Into consumer:\", ctime())\n",
    "    # 区别\n",
    "    while True:\n",
    "        item = input_q.get()\n",
    "        if item is None:\n",
    "            break\n",
    "        print(\"pull\", item, \"out of q\")\n",
    "    print(\"Out of consumer:\", ctime())\n",
    "    \n",
    "def producer(sequence, output_q):\n",
    "    print(\"Into producer:\", ctime())\n",
    "    for item in sequence:\n",
    "        output_q.put(item)\n",
    "        print(\"put\", item, \"into q\")\n",
    "    print(\"Out of producer:\", ctime())\n",
    "    \n",
    "if __name__ == \"__main__\":\n",
    "    q = multiprocessing.Queue()\n",
    "    \n",
    "    con_p = multiprocessing.Process(target = consumer, args=(q,))\n",
    "    con_p.start()\n",
    "    \n",
    "    sequence = [1,2,3,4]\n",
    "    producer(sequence, q)\n",
    "    \n",
    "    q.put(None)\n",
    "    con_p.join()"
   ]
  }
 ],
 "metadata": {
  "kernelspec": {
   "display_name": "Python 3",
   "language": "python",
   "name": "python3"
  },
  "language_info": {
   "codemirror_mode": {
    "name": "ipython",
    "version": 3
   },
   "file_extension": ".py",
   "mimetype": "text/x-python",
   "name": "python",
   "nbconvert_exporter": "python",
   "pygments_lexer": "ipython3",
   "version": "3.7.0"
  }
 },
 "nbformat": 4,
 "nbformat_minor": 2
}
