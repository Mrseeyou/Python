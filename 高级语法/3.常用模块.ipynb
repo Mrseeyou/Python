{
 "cells": [
  {
   "cell_type": "markdown",
   "metadata": {},
   "source": [
    "# 常用模块\n",
    "- calendar\n",
    "- time\n",
    "- datetime\n",
    "- timeit\n",
    "- os\n",
    "- shutil\n",
    "- zip\n",
    "- math"
   ]
  },
  {
   "cell_type": "markdown",
   "metadata": {},
   "source": [
    "# calendar 模块\n",
    "- 跟日历相关的模块\n",
    "    - calendar 获取一年的日历字符串\n",
    "    - isleap 判断某一年是否闰年\n",
    "    - leapdays 获取指定年份之间的闰年的个数,包含左边不包含右边\n",
    "    - month 获取某个月的日历字符串\n",
    "    - monthrange 获取一个月是周几开始的,一共多少天,0~6 表示周一~周日\n",
    "    - monthcalendar 返回一个月每天的矩阵列表\n",
    "    - prcal 直接打印日历\n",
    "    - prmonth 直接打印某一个月份的日历\n",
    "    - weekday 获取某天是周几 0~6 代表周一~周日"
   ]
  },
  {
   "cell_type": "code",
   "execution_count": 37,
   "metadata": {},
   "outputs": [
    {
     "name": "stdout",
     "output_type": "stream",
     "text": [
      "                                  2018\n",
      "\n",
      "      January                   February                   March\n",
      "Mo Tu We Th Fr Sa Su      Mo Tu We Th Fr Sa Su      Mo Tu We Th Fr Sa Su\n",
      " 1  2  3  4  5  6  7                1  2  3  4                1  2  3  4\n",
      " 8  9 10 11 12 13 14       5  6  7  8  9 10 11       5  6  7  8  9 10 11\n",
      "15 16 17 18 19 20 21      12 13 14 15 16 17 18      12 13 14 15 16 17 18\n",
      "22 23 24 25 26 27 28      19 20 21 22 23 24 25      19 20 21 22 23 24 25\n",
      "29 30 31                  26 27 28                  26 27 28 29 30 31\n",
      "\n",
      "       April                      May                       June\n",
      "Mo Tu We Th Fr Sa Su      Mo Tu We Th Fr Sa Su      Mo Tu We Th Fr Sa Su\n",
      "                   1          1  2  3  4  5  6                   1  2  3\n",
      " 2  3  4  5  6  7  8       7  8  9 10 11 12 13       4  5  6  7  8  9 10\n",
      " 9 10 11 12 13 14 15      14 15 16 17 18 19 20      11 12 13 14 15 16 17\n",
      "16 17 18 19 20 21 22      21 22 23 24 25 26 27      18 19 20 21 22 23 24\n",
      "23 24 25 26 27 28 29      28 29 30 31               25 26 27 28 29 30\n",
      "30\n",
      "\n",
      "        July                     August                  September\n",
      "Mo Tu We Th Fr Sa Su      Mo Tu We Th Fr Sa Su      Mo Tu We Th Fr Sa Su\n",
      "                   1             1  2  3  4  5                      1  2\n",
      " 2  3  4  5  6  7  8       6  7  8  9 10 11 12       3  4  5  6  7  8  9\n",
      " 9 10 11 12 13 14 15      13 14 15 16 17 18 19      10 11 12 13 14 15 16\n",
      "16 17 18 19 20 21 22      20 21 22 23 24 25 26      17 18 19 20 21 22 23\n",
      "23 24 25 26 27 28 29      27 28 29 30 31            24 25 26 27 28 29 30\n",
      "30 31\n",
      "\n",
      "      October                   November                  December\n",
      "Mo Tu We Th Fr Sa Su      Mo Tu We Th Fr Sa Su      Mo Tu We Th Fr Sa Su\n",
      " 1  2  3  4  5  6  7                1  2  3  4                      1  2\n",
      " 8  9 10 11 12 13 14       5  6  7  8  9 10 11       3  4  5  6  7  8  9\n",
      "15 16 17 18 19 20 21      12 13 14 15 16 17 18      10 11 12 13 14 15 16\n",
      "22 23 24 25 26 27 28      19 20 21 22 23 24 25      17 18 19 20 21 22 23\n",
      "29 30 31                  26 27 28 29 30            24 25 26 27 28 29 30\n",
      "                                                    31\n",
      "\n"
     ]
    }
   ],
   "source": [
    "# 使用需要先导入\n",
    "import calendar\n",
    "# calendar: 获取一年的日历字符串\n",
    "# w = 每个日期之间的间隔字符数\n",
    "# l = 每周占用的行数\n",
    "# c = 每个月之间的间隔字符数\n",
    "# m = 每个月份用多少列显示出来\n",
    "\n",
    "cal = calendar.calendar(2018,w=2,l=1,c=6,m=3)\n",
    "print(cal)"
   ]
  },
  {
   "cell_type": "code",
   "execution_count": 18,
   "metadata": {},
   "outputs": [
    {
     "name": "stdout",
     "output_type": "stream",
     "text": [
      "True\n"
     ]
    }
   ],
   "source": [
    "# isleap: 判断某一年是否闰年\n",
    "le = calendar.isleap(2016)\n",
    "print(le)"
   ]
  },
  {
   "cell_type": "code",
   "execution_count": 19,
   "metadata": {},
   "outputs": [
    {
     "name": "stdout",
     "output_type": "stream",
     "text": [
      "4\n"
     ]
    }
   ],
   "source": [
    "# leapdays: 获取指定年份之间的闰年的个数,包含左边不包含右边\n",
    "lea = calendar.leapdays(2000,2016)\n",
    "print(lea)"
   ]
  },
  {
   "cell_type": "code",
   "execution_count": 22,
   "metadata": {},
   "outputs": [
    {
     "name": "stdout",
     "output_type": "stream",
     "text": [
      "     March 2019\n",
      "Mo Tu We Th Fr Sa Su\n",
      "             1  2  3\n",
      " 4  5  6  7  8  9 10\n",
      "11 12 13 14 15 16 17\n",
      "18 19 20 21 22 23 24\n",
      "25 26 27 28 29 30 31\n",
      "\n"
     ]
    }
   ],
   "source": [
    "# month 获取某个月的日历字符串\n",
    "m = calendar.month(2019,3)\n",
    "print(m)"
   ]
  },
  {
   "cell_type": "code",
   "execution_count": 27,
   "metadata": {},
   "outputs": [
    {
     "name": "stdout",
     "output_type": "stream",
     "text": [
      "(4, 31)\n"
     ]
    }
   ],
   "source": [
    "# monthrange 获取一个月是周几开始的,一共多少天,0~6 表示周一~周日\n",
    "mon = calendar.monthrange(2019,3)\n",
    "print(mon)"
   ]
  },
  {
   "cell_type": "code",
   "execution_count": 28,
   "metadata": {},
   "outputs": [
    {
     "name": "stdout",
     "output_type": "stream",
     "text": [
      "[0, 0, 0, 0, 1, 2, 3]\n",
      "[4, 5, 6, 7, 8, 9, 10]\n",
      "[11, 12, 13, 14, 15, 16, 17]\n",
      "[18, 19, 20, 21, 22, 23, 24]\n",
      "[25, 26, 27, 28, 29, 30, 31]\n"
     ]
    }
   ],
   "source": [
    "# monthcalendar 返回一个月每天的矩阵列表\n",
    "month = calendar.monthcalendar(2019,3)\n",
    "for i in month:\n",
    "    print(i)"
   ]
  },
  {
   "cell_type": "code",
   "execution_count": 41,
   "metadata": {},
   "outputs": [
    {
     "name": "stdout",
     "output_type": "stream",
     "text": [
      "                                  2019\n",
      "\n",
      "      January                   February                   March\n",
      "Mo Tu We Th Fr Sa Su      Mo Tu We Th Fr Sa Su      Mo Tu We Th Fr Sa Su\n",
      "    1  2  3  4  5  6                   1  2  3                   1  2  3\n",
      " 7  8  9 10 11 12 13       4  5  6  7  8  9 10       4  5  6  7  8  9 10\n",
      "14 15 16 17 18 19 20      11 12 13 14 15 16 17      11 12 13 14 15 16 17\n",
      "21 22 23 24 25 26 27      18 19 20 21 22 23 24      18 19 20 21 22 23 24\n",
      "28 29 30 31               25 26 27 28               25 26 27 28 29 30 31\n",
      "\n",
      "       April                      May                       June\n",
      "Mo Tu We Th Fr Sa Su      Mo Tu We Th Fr Sa Su      Mo Tu We Th Fr Sa Su\n",
      " 1  2  3  4  5  6  7             1  2  3  4  5                      1  2\n",
      " 8  9 10 11 12 13 14       6  7  8  9 10 11 12       3  4  5  6  7  8  9\n",
      "15 16 17 18 19 20 21      13 14 15 16 17 18 19      10 11 12 13 14 15 16\n",
      "22 23 24 25 26 27 28      20 21 22 23 24 25 26      17 18 19 20 21 22 23\n",
      "29 30                     27 28 29 30 31            24 25 26 27 28 29 30\n",
      "\n",
      "        July                     August                  September\n",
      "Mo Tu We Th Fr Sa Su      Mo Tu We Th Fr Sa Su      Mo Tu We Th Fr Sa Su\n",
      " 1  2  3  4  5  6  7                1  2  3  4                         1\n",
      " 8  9 10 11 12 13 14       5  6  7  8  9 10 11       2  3  4  5  6  7  8\n",
      "15 16 17 18 19 20 21      12 13 14 15 16 17 18       9 10 11 12 13 14 15\n",
      "22 23 24 25 26 27 28      19 20 21 22 23 24 25      16 17 18 19 20 21 22\n",
      "29 30 31                  26 27 28 29 30 31         23 24 25 26 27 28 29\n",
      "                                                    30\n",
      "\n",
      "      October                   November                  December\n",
      "Mo Tu We Th Fr Sa Su      Mo Tu We Th Fr Sa Su      Mo Tu We Th Fr Sa Su\n",
      "    1  2  3  4  5  6                   1  2  3                         1\n",
      " 7  8  9 10 11 12 13       4  5  6  7  8  9 10       2  3  4  5  6  7  8\n",
      "14 15 16 17 18 19 20      11 12 13 14 15 16 17       9 10 11 12 13 14 15\n",
      "21 22 23 24 25 26 27      18 19 20 21 22 23 24      16 17 18 19 20 21 22\n",
      "28 29 30 31               25 26 27 28 29 30         23 24 25 26 27 28 29\n",
      "                                                    30 31\n"
     ]
    }
   ],
   "source": [
    "# prcal 直接打印日历\n",
    "calendar.prcal(2019,w=0,l=0,c=6,m=3)"
   ]
  },
  {
   "cell_type": "code",
   "execution_count": 44,
   "metadata": {},
   "outputs": [
    {
     "name": "stdout",
     "output_type": "stream",
     "text": [
      "   February 2019\n",
      "Mo Tu We Th Fr Sa Su\n",
      "             1  2  3\n",
      " 4  5  6  7  8  9 10\n",
      "11 12 13 14 15 16 17\n",
      "18 19 20 21 22 23 24\n",
      "25 26 27 28\n"
     ]
    }
   ],
   "source": [
    "# prmonth 直接打印某一个月份的日历\n",
    "calendar.prmonth(2019,2)"
   ]
  },
  {
   "cell_type": "code",
   "execution_count": 47,
   "metadata": {},
   "outputs": [
    {
     "name": "stdout",
     "output_type": "stream",
     "text": [
      "0\n"
     ]
    }
   ],
   "source": [
    "# weekday 获取某天是周几 0~6 代表周一~周日\n",
    "day = calendar.weekday(2019,3,25)\n",
    "print(day)"
   ]
  },
  {
   "cell_type": "markdown",
   "metadata": {},
   "source": [
    "# time模块\n",
    "### 时间戳\n",
    "   - 一个时间表示,根据不同语言,可以是整数或者浮点数\n",
    "   - 是从1970年1月1日0时0分0秒到现在经历的秒数\n",
    "   - 如果表示的时间是1970年以前或者2038年后,可能出现异常\n",
    "    \n",
    "### UTC时间\n",
    "   - UTC又称为世界协调时间,以英国的格林尼治天文所在地区的时间作为参考时间,也叫做世界标准时间\n",
    "   - 中国时间是 UTC+8 东八区\n",
    "### 夏令时\n",
    "   - 夏令时就是在夏天的时候将时间调快一个小时,本意是催促大家早睡早起,每天变成25个小时,本质上海是24个\n",
    "### 时间元祖\n",
    "   - 一个包含时间内容的普通元祖\n",
    "    \n",
    "          索引       内容       属性          值\n",
    "          0           年       tm_year       2015\n",
    "          1           月       tm_mon        1~12\n",
    "          2           日       tm_mday       1~31\n",
    "          3           时       tm_hour       0~23\n",
    "          4           分       tm_min        0~59\n",
    "          5           秒       tm_sec        0~61  60表示润秒  61保留值\n",
    "          6          周几      tm_wday       0~6\n",
    "          7          第几天    tm_yday       1~366\n",
    "          8          夏令时    tm_isdst      0,1,-1 表示夏令时\n",
    "        \n",
    "    "
   ]
  },
  {
   "cell_type": "code",
   "execution_count": 98,
   "metadata": {},
   "outputs": [],
   "source": [
    "import time"
   ]
  },
  {
   "cell_type": "code",
   "execution_count": 49,
   "metadata": {},
   "outputs": [
    {
     "name": "stdout",
     "output_type": "stream",
     "text": [
      "-28800\n"
     ]
    }
   ],
   "source": [
    "# timezone 当前时区与UTC时间相差的秒数,在没有夏令时的情况下\n",
    "print(time.timezone)"
   ]
  },
  {
   "cell_type": "code",
   "execution_count": 51,
   "metadata": {},
   "outputs": [
    {
     "name": "stdout",
     "output_type": "stream",
     "text": [
      "-32400\n"
     ]
    }
   ],
   "source": [
    "# altzone 获取当前时区与UTC时间相差的秒数,在有夏令时的情况下\n",
    "print(time.altzone)"
   ]
  },
  {
   "cell_type": "code",
   "execution_count": 53,
   "metadata": {},
   "outputs": [
    {
     "name": "stdout",
     "output_type": "stream",
     "text": [
      "0\n"
     ]
    }
   ],
   "source": [
    "# daylight 检测当前是否是夏令时时间状态\n",
    "print(time.daylight)"
   ]
  },
  {
   "cell_type": "code",
   "execution_count": 66,
   "metadata": {},
   "outputs": [
    {
     "name": "stdout",
     "output_type": "stream",
     "text": [
      "1553517401.428\n",
      "1553517401.0\n"
     ]
    }
   ],
   "source": [
    "# time 得到时间戳\n",
    "print(time.time())\n",
    "\n",
    "# mktime 使用时间元祖获取对应的时间戳\n",
    "lt = time.localtime()\n",
    "mk = time.mktime(lt)\n",
    "print(mk)"
   ]
  },
  {
   "cell_type": "code",
   "execution_count": 57,
   "metadata": {},
   "outputs": [
    {
     "name": "stdout",
     "output_type": "stream",
     "text": [
      "time.struct_time(tm_year=2019, tm_mon=3, tm_mday=25, tm_hour=20, tm_min=10, tm_sec=52, tm_wday=0, tm_yday=84, tm_isdst=0)\n",
      "2019\n"
     ]
    }
   ],
   "source": [
    "# localtime 得到当前时间的时间结构\n",
    "l = time.localtime()\n",
    "print(l)\n",
    "print(l.tm_year)"
   ]
  },
  {
   "cell_type": "code",
   "execution_count": 61,
   "metadata": {},
   "outputs": [
    {
     "name": "stdout",
     "output_type": "stream",
     "text": [
      "Mon Mar 25 20:28:27 2019\n",
      "<class 'str'>\n"
     ]
    }
   ],
   "source": [
    "# asctime 返回元祖的正常字符串之后的时间格式\n",
    "asc = time.asctime()\n",
    "print(asc)\n",
    "print(type(asc))"
   ]
  },
  {
   "cell_type": "code",
   "execution_count": 62,
   "metadata": {},
   "outputs": [
    {
     "name": "stdout",
     "output_type": "stream",
     "text": [
      "Mon Mar 25 20:28:39 2019\n",
      "<class 'str'>\n"
     ]
    }
   ],
   "source": [
    "# ctime 获取字符串化的当前时间\n",
    "c = time.ctime()\n",
    "print(c)\n",
    "print(type(c))\n"
   ]
  },
  {
   "cell_type": "code",
   "execution_count": 67,
   "metadata": {},
   "outputs": [],
   "source": [
    "# clock 获取cpu时间, 3.0~3.3版本直接使用, 其他调用有问题"
   ]
  },
  {
   "cell_type": "code",
   "execution_count": 69,
   "metadata": {},
   "outputs": [
    {
     "name": "stdout",
     "output_type": "stream",
     "text": [
      "0\n",
      "1\n",
      "2\n",
      "3\n",
      "4\n",
      "5\n"
     ]
    }
   ],
   "source": [
    "# sleep 使程序进入睡眠, n秒后继续\n",
    "for i in range(6):\n",
    "    print(i)\n",
    "    time.sleep(1)"
   ]
  },
  {
   "cell_type": "markdown",
   "metadata": {},
   "source": [
    "### strftime 将时间元祖转化为自定义的字符串格式\n",
    "     格式     含义                备注\n",
    "     %A    本地完整星期名称\n",
    "     %b    本地简化月份名称\n",
    "     %B    本地完整月份名称\n",
    "     %c    本地相应的日期和时间表示\n",
    "     %d    一个月中的第几天    (01 - 30)\n",
    "     %H    一天中的第几个小时  (24 小时制, 00 - 23)\n",
    "     %I    一天中的第几个小时  (12 小时制, 01 - 12)\n",
    "     %j    一年中的第几天      (001 - 366)\n",
    "     %m    月份                (01 - 12)\n",
    "     %M    分钟数              (00 - 59)\n",
    "     %p    本地 am 或者 pm 的相应符\n",
    "     %S    秒                  (01 - 61)\n",
    "     %U    一年中的星期数      (00 - 53 星期天是一个星期的开始)\n",
    "     %w    一个星期中的第几天  (0 - 6)\n",
    "     %W    一年中的星期数      (00 - 53 星期一是一个星期的开始)\n",
    "     %x    本地相应日期\n",
    "     %X    本地相应时间\n",
    "     %y    去掉世纪的年份      (00 - 99)\n",
    "     %Y    完整的年份\n",
    "     %z    用 +HHMM 或 -HHMM 表示距离格林威志的时区偏移 \n",
    "     %%    %号本身"
   ]
  },
  {
   "cell_type": "code",
   "execution_count": 122,
   "metadata": {},
   "outputs": [
    {
     "name": "stdout",
     "output_type": "stream",
     "text": [
      "2019 03 25 22:07\n"
     ]
    }
   ],
   "source": [
    "# 把时间表示成 2019年3月25日 21:05\n",
    "\n",
    "t = time.localtime()\n",
    "tt = time.strftime(\"%Y %m %d %H:%M\", t)\n",
    "print(tt)\n"
   ]
  },
  {
   "cell_type": "markdown",
   "metadata": {},
   "source": [
    "# datetime模块\n",
    "- datetime提供日期和时间的运算和表示"
   ]
  },
  {
   "cell_type": "code",
   "execution_count": 97,
   "metadata": {},
   "outputs": [],
   "source": [
    "import datetime"
   ]
  },
  {
   "cell_type": "code",
   "execution_count": 124,
   "metadata": {},
   "outputs": [
    {
     "name": "stdout",
     "output_type": "stream",
     "text": [
      "2019-03-25\n",
      "2019\n",
      "3\n",
      "25\n"
     ]
    }
   ],
   "source": [
    "# datetime常见属性\n",
    "# datetime.date 一个理想和的日期,提供year, month, day属性\n",
    "da = datetime.date(2019,3,25)\n",
    "print(da)\n",
    "print(da.year)\n",
    "print(da.month)\n",
    "print(da.day)"
   ]
  },
  {
   "cell_type": "code",
   "execution_count": 125,
   "metadata": {},
   "outputs": [
    {
     "name": "stdout",
     "output_type": "stream",
     "text": [
      "21:54:34\n"
     ]
    }
   ],
   "source": [
    "# datetime.time 提供一个理想和的时间, 居于 hour, minute, sec, microsec等内容\n",
    "d = datetime.time(21,54,34)\n",
    "print(d) "
   ]
  },
  {
   "cell_type": "code",
   "execution_count": 126,
   "metadata": {},
   "outputs": [
    {
     "name": "stdout",
     "output_type": "stream",
     "text": [
      "2019-03-25 22:00:15\n"
     ]
    }
   ],
   "source": []
  },
  {
   "cell_type": "code",
   "execution_count": 99,
   "metadata": {},
   "outputs": [
    {
     "name": "stdout",
     "output_type": "stream",
     "text": [
      "2019-03-26 04:48:37.593400\n",
      "2019-03-26 04:48:37.593400\n",
      "2019-03-25 20:48:37.593400\n",
      "2019-03-26 04:48:37.593400\n"
     ]
    }
   ],
   "source": [
    "from datetime import datetime\n",
    "# today, now 获取当前日期和时间\n",
    "# utcnow UTC日期和时间\n",
    "# fromtimestamp 时间戳转为datetime\n",
    "d2 = datetime(2019,3,25)\n",
    "print(d2.today())\n",
    "print(d2.now())\n",
    "print(d2.utcnow())\n",
    "print(d2.fromtimestamp(time.time()))"
   ]
  },
  {
   "cell_type": "code",
   "execution_count": 90,
   "metadata": {},
   "outputs": [
    {
     "name": "stdout",
     "output_type": "stream",
     "text": [
      "1:00:00\n"
     ]
    }
   ],
   "source": [
    "# datetime.timedatetime 提供一个时间差,时间长度\n",
    "from datetime import datetime,timedelta\n",
    "\n",
    "t = datetime.now\n",
    "t1 = timedelta(hours=1)\n",
    "print(t1)"
   ]
  },
  {
   "cell_type": "markdown",
   "metadata": {},
   "source": [
    "### datetime.dadetime 模块\n",
    "- 提供比较好用的时间而已\n",
    "- 类定义\n",
    "                 \n",
    "         class datetime.datetime(year, month, day[, hour[, minute[, second[, microsecond[, tzinfo]]]]])\n",
    "         The year , month and day arguments ars required.\n",
    "         MINYEAR <= year <= MAXYEAR\n",
    "         1 <= month <= 12\n",
    "         1 <= day <= n\n",
    "         0 <= hour < 24\n",
    "         0 <= minute < 60\n",
    "         0 <= second < 60\n",
    "         0 <= microsecond <10**6\n",
    "         \n",
    "- 类方法\n",
    "\n",
    "        datetime.today(): 返回当前本地datetime.随着 tzinfo None.\n",
    "        datetime.fromtimestamp(time.time()).\n",
    "        datetime.now([tz]): 返回当前本地日期和时间,如果可选参数tz为None或没有详细说明,这个方法会想today().\n",
    "        datetime.utcnow(): 返回当前的UTC日期和时间,如果tzinfa None,那么与now()类似.\n",
    "        datetime.fromtimestamp(timestamp[, tz]): 根据时间戳返回本地的日期和时间,tz 指定时区.\n",
    "        datetime.utcfromtimestamp(timestamp): 根据时间戳返回 UTC datetime.\n",
    "        datetime.fromordinal(ordinal): 根据Gregorian ordinal 返回datetime.\n",
    "        datetime.combine(date, time): 根据date和time返回一个新的datetime.\n",
    "        datetime.strptime(date_string, format): 根据date_string和format返回一个datetime.\n",
    "\n",
    "- 实例方法\n",
    "\n",
    "        datetime.date(): 返回相同年月日的date对象.\n",
    "        datetime.time(): 返回相同时分秒微妙的time对象.\n",
    "        datetime.replace(kw): kw in [year, month, day, hour, minute, second, microsecond, tzinfo], 与date类似.\n",
    "\n",
    "- 类属性\n",
    "        \n",
    "        datetime.min: datetime(MINYEAR, 1, 1).\n",
    "        datetime.max: datetime(MAXYEAR, 12, 31, 23, 59, 59, 999999).\n",
    "        \n",
    "- 实例属性(read-only)\n",
    "\n",
    "        datetime.year: 1 至 9999\n",
    "        datetime.month: 1 至 12\n",
    "        datetime.day: 1 至 n\n",
    "        datetime.hour: In range(24). 0 至 23\n",
    "        datetime.minute: In range(60).\n",
    "        datetime.secoud: In range(60).\n",
    "        datetime.micresecond: In range(1000000)."
   ]
  },
  {
   "cell_type": "code",
   "execution_count": 95,
   "metadata": {},
   "outputs": [
    {
     "name": "stdout",
     "output_type": "stream",
     "text": [
      "2019-03-25 22:00:15\n"
     ]
    }
   ],
   "source": [
    "# datetime.datetime 提供时间跟日期的组合\n",
    "d1 = datetime.datetime(2019,3,25,22,0,15)\n",
    "print(d1)"
   ]
  },
  {
   "cell_type": "code",
   "execution_count": 94,
   "metadata": {},
   "outputs": [
    {
     "name": "stdout",
     "output_type": "stream",
     "text": [
      "2019-03-26 04:47:53.119400\n"
     ]
    }
   ],
   "source": [
    "from datetime import datetime as dt\n",
    "print(dt.now())"
   ]
  },
  {
   "cell_type": "markdown",
   "metadata": {},
   "source": [
    "# timeit \n",
    "- 时间测量工具"
   ]
  },
  {
   "cell_type": "code",
   "execution_count": 93,
   "metadata": {},
   "outputs": [],
   "source": [
    "import timeit"
   ]
  },
  {
   "cell_type": "code",
   "execution_count": 140,
   "metadata": {},
   "outputs": [
    {
     "name": "stdout",
     "output_type": "stream",
     "text": [
      "2.5\n"
     ]
    }
   ],
   "source": [
    "# sleep() 多少秒后执行\n",
    "\n",
    "# 定义一个函数,2.5秒后执行\n",
    "def p():\n",
    "    time.sleep(2.5)\n",
    "# 当前的时间\n",
    "t1 = time.time()\n",
    "p()\n",
    "# 当前的时间减去执行前的时间\n",
    "print(time.time() - t1)"
   ]
  },
  {
   "cell_type": "code",
   "execution_count": 145,
   "metadata": {},
   "outputs": [
    {
     "name": "stdout",
     "output_type": "stream",
     "text": [
      "3.3378165859994624\n",
      "6.475493394998921\n"
     ]
    }
   ],
   "source": [
    "# 利用timeit调用代码,执行10000次,查看运行时间\n",
    "# stmt 需要测试的代码片段\n",
    "\n",
    "t1 = timeit.timeit(stmt=\"[i for i in range(1000)]\",number=100000)\n",
    "\n",
    "c = '''\n",
    "sum = []\n",
    "for i in range(1000):\n",
    "    sum.append(i)\n",
    "'''\n",
    "\n",
    "t2 = timeit.timeit(stmt=c,number=100000)\n",
    "print(t1)\n",
    "print(t2)"
   ]
  },
  {
   "cell_type": "code",
   "execution_count": 158,
   "metadata": {},
   "outputs": [
    {
     "name": "stdout",
     "output_type": "stream",
     "text": [
      "1.4187059300020337\n"
     ]
    }
   ],
   "source": [
    "# timeit 执行一个函数,来测量一个函数的执行时间\n",
    "def do():\n",
    "    num = []\n",
    "    for i in range(20):\n",
    "        num.append(i)\n",
    "        \n",
    "t = timeit.timeit(stmt=do,number=1000000)\n",
    "print(t)"
   ]
  },
  {
   "cell_type": "markdown",
   "metadata": {},
   "source": [
    "# os模块  "
   ]
  },
  {
   "cell_type": "markdown",
   "metadata": {},
   "source": [
    "## os - 操作系统相关\n",
    "- 跟操作系统相关,主要是文件操作\n",
    "- 于系统相关的操作,主要包含在三个模块里\n",
    "    - os, 操作系统目录相关\n",
    "    - os.path, 系统路径相关操作\n",
    "    - shutil, 高级文件操作,目录树的操作,文件赋值, 删除, 移除\n",
    "- 路径:\n",
    "    - 绝对路径: 总是从跟目录上开始\n",
    "    - 相对路径: 基本以当前环境为开始的一个相对的地方"
   ]
  },
  {
   "cell_type": "code",
   "execution_count": 10,
   "metadata": {},
   "outputs": [],
   "source": [
    "import os"
   ]
  },
  {
   "cell_type": "code",
   "execution_count": 162,
   "metadata": {},
   "outputs": [
    {
     "name": "stdout",
     "output_type": "stream",
     "text": [
      "C:\\Users\\Administrator\\我的课件\\高级语法\n"
     ]
    }
   ],
   "source": [
    "# getcwd() 获取当前的目录路径 curdir()获取当前目录\n",
    "mydir = os.getcwd()\n",
    "print(mydir)"
   ]
  },
  {
   "cell_type": "code",
   "execution_count": 1,
   "metadata": {},
   "outputs": [],
   "source": [
    "# chdir() 改变当前的工作目录\n",
    "os.chdir(\"C:\\Users\")\n",
    "mydir = os.getcwd()\n",
    "print(mydir)\n",
    "# 允许此代码会更改存储路径"
   ]
  },
  {
   "cell_type": "code",
   "execution_count": 7,
   "metadata": {},
   "outputs": [
    {
     "name": "stdout",
     "output_type": "stream",
     "text": [
      "['.ipynb_checkpoints', '1.包.ipynb', '2.异常使用.ipynb', '3.常用模块.ipynb', '52.py', 'mk.py', '__pycache__']\n"
     ]
    }
   ],
   "source": [
    "# listdir() 获取一个目录中所有子目录和文件的名称列表\n",
    "li = os.listdir()\n",
    "print(li)\n",
    "# 隐藏文件不显示"
   ]
  },
  {
   "cell_type": "code",
   "execution_count": 8,
   "metadata": {},
   "outputs": [
    {
     "name": "stdout",
     "output_type": "stream",
     "text": [
      "创建了一个名为'Tkinter'的文件夹,如果没有指定,就是在当前文件夹下创建\n"
     ]
    }
   ],
   "source": [
    "# makedirs() 递归创建文件夹\n",
    "make = os.makedirs(\"Tkinter\")\n",
    "print(\"创建了一个名为'Tkinter'的文件夹,如果没有指定,就是在当前文件夹下创建\")"
   ]
  },
  {
   "cell_type": "code",
   "execution_count": 16,
   "metadata": {},
   "outputs": [],
   "source": [
    "# system() 运行系统shell命令\n",
    "\n",
    "# ls是列出当前文件和文件夹的系统命令\n",
    "sys = os.system(\"ls\")\n",
    "print(sys)\n",
    "# 但是不会显示\n",
    "\n",
    "# touch是创建一个 文集\n",
    "syst = os.system(\"touch Student.stu\")\n",
    "print(syst)\n",
    "\n",
    "\n",
    "# 一般推荐使用subprocess代替"
   ]
  },
  {
   "cell_type": "code",
   "execution_count": 18,
   "metadata": {},
   "outputs": [
    {
     "name": "stdout",
     "output_type": "stream",
     "text": [
      "E:\\ANACONDA;E:\\ANACONDA\\Library\\mingw-w64\\bin;E:\\ANACONDA\\Library\\usr\\bin;E:\\ANACONDA\\Library\\bin;E:\\ANACONDA\\Scripts;E:\\ANACONDA\\bin;E:\\ANACONDA\\condabin;E:\\ANACONDA;E:\\ANACONDA\\Library\\mingw-w64\\bin;E:\\ANACONDA\\Library\\usr\\bin;E:\\ANACONDA\\Library\\bin;E:\\ANACONDA\\Scripts;C:\\windows\\system32;C:\\windows;C:\\windows\\System32\\Wbem;C:\\windows\\System32\\WindowsPowerShell\\v1.0\\;E:\\Git\\cmd;E:\\ANACONDA;E:\\ANACONDA\\Library\\mingw-w64\\bin;E:\\ANACONDA\\Library\\usr\\bin;E:\\ANACONDA\\Library\\bin;E:\\ANACONDA\\Scripts\n"
     ]
    }
   ],
   "source": [
    "# getenv() 获取指定的系统环境变量值\n",
    "env = os.getenv(\"PATH\")\n",
    "print(env)\n",
    "\n",
    "# 相应的还有putenv()"
   ]
  },
  {
   "cell_type": "code",
   "execution_count": null,
   "metadata": {},
   "outputs": [],
   "source": [
    "# exit() 退出当前程序"
   ]
  },
  {
   "cell_type": "markdown",
   "metadata": {},
   "source": [
    "### 值部分\n",
    "- os.curdir: curretn dir, 当前目录\n",
    "- os.pardir: parent dir, 父目录\n",
    "- os.sep: 当前系统的路径分隔符\n",
    "    - windows: \"\\\"\n",
    "    - linux: \"/\"\n",
    "- os.linesep: 当前系统的路径换行符\n",
    "    - windows: \"/r/n\"\n",
    "    - uxin,linux,macos: \"\\n\"\n",
    "- os.name: 当前系统名称\n",
    "    - windows: nt\n",
    "    - mac,unix,linux: posix"
   ]
  },
  {
   "cell_type": "code",
   "execution_count": 19,
   "metadata": {},
   "outputs": [
    {
     "name": "stdout",
     "output_type": "stream",
     "text": [
      ".\n",
      "..\n",
      "\\\n",
      "\r\n",
      "\n",
      "nt\n"
     ]
    }
   ],
   "source": [
    "print(os.curdir)\n",
    "print(os.pardir)\n",
    "print(os.sep)\n",
    "print(os.linesep)\n",
    "print(os.name)\n",
    "# 在路径相关的操作中,不要手动拼写,因为不同系统下执行会出问题"
   ]
  },
  {
   "cell_type": "markdown",
   "metadata": {},
   "source": [
    "### os.path 模块 跟路径相关的模块"
   ]
  },
  {
   "cell_type": "code",
   "execution_count": 21,
   "metadata": {},
   "outputs": [],
   "source": [
    "import os.path "
   ]
  },
  {
   "cell_type": "code",
   "execution_count": 25,
   "metadata": {},
   "outputs": [
    {
     "name": "stdout",
     "output_type": "stream",
     "text": [
      "C:\\Users\\Administrator\\我的课件\\高级语法\n",
      "C:\\Users\\Administrator\\我的课件\n"
     ]
    }
   ],
   "source": [
    "# abspath() 将路径转化为绝对路径\n",
    "\n",
    "# .号代表当前目录\n",
    "# ..号代表父目录\n",
    "absp = os.path.abspath(\".\")\n",
    "abspa = os.path.abspath(\"..\")\n",
    "print(absp)\n",
    "print(abspa)"
   ]
  },
  {
   "cell_type": "code",
   "execution_count": 38,
   "metadata": {},
   "outputs": [
    {
     "name": "stdout",
     "output_type": "stream",
     "text": [
      "Git\n",
      "我的课件\n"
     ]
    }
   ],
   "source": [
    "# basename() 获取路径中的文件名部分\n",
    "\n",
    "base = os.path.basename(\"e:\\Git\")\n",
    "print(base)\n",
    "\n",
    "basen = os.path.basename(\"e:\\Git\\我的课件\")\n",
    "print(basen)"
   ]
  },
  {
   "cell_type": "code",
   "execution_count": 44,
   "metadata": {},
   "outputs": [
    {
     "name": "stdout",
     "output_type": "stream",
     "text": [
      "Git\\我的课件\\语法\n"
     ]
    }
   ],
   "source": [
    "# join() 将多个路径拼各成一个路径\n",
    "\n",
    "jo = os.path.join(\"Git\",\"我的课件\",\"语法\")\n",
    "print(jo)"
   ]
  },
  {
   "cell_type": "code",
   "execution_count": 45,
   "metadata": {},
   "outputs": [
    {
     "name": "stdout",
     "output_type": "stream",
     "text": [
      "('e:\\\\Git\\\\我的课件', 'helloword.py')\n"
     ]
    }
   ],
   "source": [
    "# split() 将路径切割为文件夹部分和当前文件部分,返回路径和文件名组成的元祖\n",
    "\n",
    "s = os.path.split(\"e:\\Git\\我的课件\\helloword.py\")\n",
    "print(s)"
   ]
  },
  {
   "cell_type": "code",
   "execution_count": 49,
   "metadata": {},
   "outputs": [
    {
     "name": "stdout",
     "output_type": "stream",
     "text": [
      "True\n"
     ]
    }
   ],
   "source": [
    "# isdir() 检测是否是目录\n",
    "isd = os.path.isdir(\"e:\\Git\\我的课件\")\n",
    "print(isd)"
   ]
  },
  {
   "cell_type": "code",
   "execution_count": 48,
   "metadata": {},
   "outputs": [
    {
     "name": "stdout",
     "output_type": "stream",
     "text": [
      "True\n"
     ]
    }
   ],
   "source": [
    "# exists() 检测文件或者目录是否存在\n",
    "\n",
    "e = os.path.exists(\"e:\\Git\\我的课件\")\n",
    "print(e)"
   ]
  },
  {
   "cell_type": "markdown",
   "metadata": {},
   "source": [
    "# shutil 模块\n",
    "- 文件操作"
   ]
  },
  {
   "cell_type": "code",
   "execution_count": 50,
   "metadata": {},
   "outputs": [],
   "source": [
    "import shutil"
   ]
  },
  {
   "cell_type": "code",
   "execution_count": 57,
   "metadata": {},
   "outputs": [
    {
     "name": "stdout",
     "output_type": "stream",
     "text": [
      "e:\\Git\\我的课件\\高级语法\\mkmk.py\n"
     ]
    }
   ],
   "source": [
    "# copy() 复制文件 同时还能重命名\n",
    "co = shutil.copy(\"e:\\Git\\我的课件\\高级语法\\mk.py\",\"e:\\Git\\我的课件\\高级语法\\mkmk.py\")\n",
    "print(co)"
   ]
  },
  {
   "cell_type": "code",
   "execution_count": 58,
   "metadata": {},
   "outputs": [],
   "source": [
    "# copy2() 跟copy()的却别在于copy2复制文件时,尽量保留元数据"
   ]
  },
  {
   "cell_type": "code",
   "execution_count": 62,
   "metadata": {},
   "outputs": [
    {
     "name": "stdout",
     "output_type": "stream",
     "text": [
      "e:\\Git\\我的课件\\高级语法\\mkmk.py\n"
     ]
    }
   ],
   "source": [
    "# copyfile() 将一个文件中的内容复制到另外一个文件当中,如果文件不存在则自动创建\n",
    "\n",
    "file = shutil.copyfile(\"e:\\Git\\我的课件\\高级语法\\mk.py\",\"e:\\Git\\我的课件\\高级语法\\mkmk.py\")\n",
    "print(file)"
   ]
  },
  {
   "cell_type": "code",
   "execution_count": 70,
   "metadata": {},
   "outputs": [
    {
     "name": "stdout",
     "output_type": "stream",
     "text": [
      "e:\\Git\\我的课件\\mkone.py\n"
     ]
    }
   ],
   "source": [
    "# move() 移动文件/文件夹到目录路径\n",
    "mo = shutil.move(\"e:\\Git\\我的课件\\高级语法\\mkone.py\",\"e:\\Git\\我的课件\")\n",
    "print(mo)"
   ]
  },
  {
   "cell_type": "markdown",
   "metadata": {},
   "source": [
    "### 归档和压缩\n",
    "- 归档: 把多个文件或者文件夹合并到一个文件当中\n",
    "- 压缩: 用算法把多个文件或者文件夹无损或者有损合 并到一个文件当中"
   ]
  },
  {
   "cell_type": "code",
   "execution_count": 71,
   "metadata": {},
   "outputs": [
    {
     "name": "stdout",
     "output_type": "stream",
     "text": [
      "e:\\Git\\我的课件\\Stu.zip\n"
     ]
    }
   ],
   "source": [
    "# make_archive() 归档操作 (归档后的目录名,后缀,需要归档的文件夹)\n",
    "ma = shutil.make_archive(\"e:\\Git\\我的课件\\Stu\",\"zip\",\"e:\\Git\\我的课件\\lianxi\")\n",
    "print(ma)"
   ]
  },
  {
   "cell_type": "code",
   "execution_count": 79,
   "metadata": {},
   "outputs": [
    {
     "name": "stdout",
     "output_type": "stream",
     "text": [
      "None\n"
     ]
    }
   ],
   "source": [
    "# unpack_archive() 解包操作 (归档文件地址,解包之后的地址)\n",
    "un = shutil.unpack_archive(\"e:\\Git\\我的课件\\Stu.zip\",\"e:\\Git\\我的课件\\高级语法\")\n",
    "print(un)"
   ]
  },
  {
   "cell_type": "markdown",
   "metadata": {},
   "source": [
    "# zip - 压缩包\n",
    "- 模块名称叫 zipfile"
   ]
  },
  {
   "cell_type": "code",
   "execution_count": 81,
   "metadata": {},
   "outputs": [],
   "source": [
    "import zipfile"
   ]
  },
  {
   "cell_type": "code",
   "execution_count": 82,
   "metadata": {},
   "outputs": [],
   "source": [
    "# ZipFile 创建一个ZipFile对象,表示一个zip文件. 参数file表示文件的路径或类文件对象(file-like object)\n",
    "\n",
    "zi = zipfile.ZipFile(\"e:\\Git\\我的课件\\Stu.zip\")"
   ]
  },
  {
   "cell_type": "code",
   "execution_count": 83,
   "metadata": {},
   "outputs": [
    {
     "name": "stdout",
     "output_type": "stream",
     "text": [
      "<ZipInfo filename='mk.py' compress_type=deflate filemode='-rw-rw-rw-' file_size=359 compress_size=237>\n"
     ]
    }
   ],
   "source": [
    "# ZipFile.getinfo(name) 获取zip文档内指定文件的信息,返回一个zipfile.ZipInfo对象,它包含文件的详细信息\n",
    "\n",
    "info = zi.getinfo(\"mk.py\")\n",
    "print(info)"
   ]
  },
  {
   "cell_type": "code",
   "execution_count": 84,
   "metadata": {},
   "outputs": [
    {
     "name": "stdout",
     "output_type": "stream",
     "text": [
      "['52.py', 'mk.py', 'mkone.py']\n"
     ]
    }
   ],
   "source": [
    "# ZipFile.namelist() 获取zip文档内所有文件的名称列表\n",
    "\n",
    "li = zi.namelist()\n",
    "print(li)"
   ]
  },
  {
   "cell_type": "code",
   "execution_count": 85,
   "metadata": {},
   "outputs": [
    {
     "name": "stdout",
     "output_type": "stream",
     "text": [
      "None\n"
     ]
    }
   ],
   "source": [
    "# ZipFile.extractall() 解压zip文档中的所有文件到()\n",
    "\n",
    "ext = zi.extractall(\"e:\\Git\\我的课件\\高级语法\\还是高级语法\")\n",
    "print(ext)"
   ]
  },
  {
   "cell_type": "markdown",
   "metadata": {},
   "source": [
    "# random 模块\n",
    "- 随机数\n",
    "- 所有随机模块都是伪随机"
   ]
  },
  {
   "cell_type": "code",
   "execution_count": 1,
   "metadata": {},
   "outputs": [],
   "source": [
    "import random"
   ]
  },
  {
   "cell_type": "code",
   "execution_count": 137,
   "metadata": {},
   "outputs": [
    {
     "name": "stdout",
     "output_type": "stream",
     "text": [
      "0.8827457305267347\n",
      "43\n"
     ]
    }
   ],
   "source": [
    "# random() 获取0-1之间的随机小数\n",
    "print(random.random())\n",
    "\n",
    "# 生成0-100之间的随机整数\n",
    "s = round(random.random() * 100)\n",
    "print(s)"
   ]
  },
  {
   "cell_type": "code",
   "execution_count": 150,
   "metadata": {},
   "outputs": [
    {
     "name": "stdout",
     "output_type": "stream",
     "text": [
      "is\n"
     ]
    }
   ],
   "source": [
    "# choice() 随机返回序列中的某个值\n",
    "\n",
    "c = [\"my\",\"name\",\"is\",\"student\"]\n",
    "ch = random.choice(c)\n",
    "print(ch)"
   ]
  },
  {
   "cell_type": "code",
   "execution_count": 162,
   "metadata": {},
   "outputs": [
    {
     "name": "stdout",
     "output_type": "stream",
     "text": [
      "[0, 1, 2, 3, 4, 5, 6, 7, 8, 9]\n",
      "[9, 7, 2, 8, 4, 3, 6, 0, 5, 1]\n"
     ]
    }
   ],
   "source": [
    "# shuffle() 随机打乱列表\n",
    "\n",
    "shu = [i for i in range(10)]\n",
    "print(shu)\n",
    "\n",
    "random.shuffle(shu)\n",
    "print(shu)"
   ]
  },
  {
   "cell_type": "code",
   "execution_count": 168,
   "metadata": {},
   "outputs": [
    {
     "name": "stdout",
     "output_type": "stream",
     "text": [
      "86\n"
     ]
    }
   ],
   "source": [
    "# randint() 随机生成一个(num-num)之间的整数\n",
    "\n",
    "print(random.randint(0,100))"
   ]
  },
  {
   "cell_type": "code",
   "execution_count": 43,
   "metadata": {},
   "outputs": [
    {
     "name": "stdout",
     "output_type": "stream",
     "text": [
      "5\n"
     ]
    }
   ],
   "source": [
    "# randrange() 随机获取指定范围内的整数( ] 可以指定间隔 默认1\n",
    "\n",
    "print(random.randrange(1,10,2))"
   ]
  },
  {
   "cell_type": "code",
   "execution_count": 52,
   "metadata": {},
   "outputs": [
    {
     "name": "stdout",
     "output_type": "stream",
     "text": [
      "3.155139708191502\n"
     ]
    }
   ],
   "source": [
    "# uniform() 随机获取指定范围的小数( ] \n",
    "\n",
    "print(random.uniform(1,5))"
   ]
  },
  {
   "cell_type": "markdown",
   "metadata": {},
   "source": [
    "# math 数学模块\n"
   ]
  },
  {
   "cell_type": "code",
   "execution_count": 53,
   "metadata": {},
   "outputs": [
    {
     "name": "stdout",
     "output_type": "stream",
     "text": [
      "6\n",
      "5\n",
      "15\n"
     ]
    }
   ],
   "source": [
    "# Python 内置函数\n",
    "\n",
    "print(round(5.5))   # 四舍五入\n",
    "print(abs(-5))      # 获取绝对值\n",
    "print(sum([1,5,9])) # 序列内数值的和"
   ]
  },
  {
   "cell_type": "code",
   "execution_count": 57,
   "metadata": {},
   "outputs": [],
   "source": [
    "import math"
   ]
  },
  {
   "cell_type": "code",
   "execution_count": 67,
   "metadata": {},
   "outputs": [
    {
     "name": "stdout",
     "output_type": "stream",
     "text": [
      "6\n"
     ]
    }
   ],
   "source": [
    "# ceil() 向上取整操作\n",
    "\n",
    "print(math.ceil(5.1))"
   ]
  },
  {
   "cell_type": "code",
   "execution_count": 66,
   "metadata": {},
   "outputs": [
    {
     "name": "stdout",
     "output_type": "stream",
     "text": [
      "5\n"
     ]
    }
   ],
   "source": [
    "# floor() 向下取整操作 \n",
    "\n",
    "print(math.floor(5.9))"
   ]
  },
  {
   "cell_type": "code",
   "execution_count": 62,
   "metadata": {},
   "outputs": [
    {
     "name": "stdout",
     "output_type": "stream",
     "text": [
      "9.0\n"
     ]
    }
   ],
   "source": [
    "# sqrt() 开平方\n",
    "\n",
    "print(math.sqrt(81))"
   ]
  },
  {
   "cell_type": "code",
   "execution_count": 63,
   "metadata": {},
   "outputs": [
    {
     "name": "stdout",
     "output_type": "stream",
     "text": [
      "27.0\n"
     ]
    }
   ],
   "source": [
    "# pow() 幂运算, 第一个参数是底数 第二个参数是指数\n",
    "\n",
    "print(math.pow(3,3))"
   ]
  },
  {
   "cell_type": "code",
   "execution_count": 64,
   "metadata": {},
   "outputs": [
    {
     "name": "stdout",
     "output_type": "stream",
     "text": [
      "8.0\n"
     ]
    }
   ],
   "source": [
    "# fabs() 获取绝对值\n",
    "\n",
    "print(math.fabs(-8))"
   ]
  },
  {
   "cell_type": "code",
   "execution_count": 65,
   "metadata": {},
   "outputs": [
    {
     "name": "stdout",
     "output_type": "stream",
     "text": [
      "10.0\n"
     ]
    }
   ],
   "source": [
    "# fsum() 序列内数值的和\n",
    "\n",
    "print(math.fsum([1,2,3,4]))"
   ]
  },
  {
   "cell_type": "code",
   "execution_count": 78,
   "metadata": {},
   "outputs": [
    {
     "name": "stdout",
     "output_type": "stream",
     "text": [
      "(0.5, 9.0)\n"
     ]
    }
   ],
   "source": [
    "# modf() 把浮点数拆分为 小数部分和整数部分的元祖(浮点数)\n",
    "\n",
    "print(math.modf(9.5))"
   ]
  },
  {
   "cell_type": "code",
   "execution_count": 79,
   "metadata": {},
   "outputs": [
    {
     "name": "stdout",
     "output_type": "stream",
     "text": [
      "-5.0\n",
      "5.0\n"
     ]
    }
   ],
   "source": [
    "# copysign() 将第二个数值的符号(正负号)传给第一个数 返回第一个数的浮点数\n",
    "\n",
    "print(math.copysign(5,-3))\n",
    "print(math.copysign(-5,3))"
   ]
  },
  {
   "cell_type": "code",
   "execution_count": 80,
   "metadata": {},
   "outputs": [
    {
     "name": "stdout",
     "output_type": "stream",
     "text": [
      "2.718281828459045\n",
      "3.141592653589793\n"
     ]
    }
   ],
   "source": [
    "# 打印自然对数e 和 π 的值\n",
    "print(math.e)\n",
    "print(math.pi)"
   ]
  }
 ],
 "metadata": {
  "kernelspec": {
   "display_name": "Python 3",
   "language": "python",
   "name": "python3"
  },
  "language_info": {
   "codemirror_mode": {
    "name": "ipython",
    "version": 3
   },
   "file_extension": ".py",
   "mimetype": "text/x-python",
   "name": "python",
   "nbconvert_exporter": "python",
   "pygments_lexer": "ipython3",
   "version": "3.7.0"
  }
 },
 "nbformat": 4,
 "nbformat_minor": 2
}
