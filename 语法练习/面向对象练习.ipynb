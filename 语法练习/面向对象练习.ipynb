{
 "cells": [
  {
   "cell_type": "markdown",
   "metadata": {},
   "source": [
    "### 定义一个列表的操作类 ListInfo\n",
    " 包括的方法\n",
    " 1. 列表元素添加:add_key()\n",
    " 2. 列表元素取值:get_key()\n",
    " 3. 别表合并: update_list(list)\n",
    " 4. 删除并且返回最后一个元素:del_key()\n",
    " 5. 列表添加元素,必须是数字或者字符串: add_is()"
   ]
  },
  {
   "cell_type": "code",
   "execution_count": 49,
   "metadata": {},
   "outputs": [
    {
     "name": "stdout",
     "output_type": "stream",
     "text": [
      "[1, 2, 3, 4, 5, 100]\n",
      "ok\n"
     ]
    }
   ],
   "source": [
    "class ListInfo(object):\n",
    "    \n",
    "    def __init__(self,list_val):\n",
    "        self.list = list_val\n",
    "    \n",
    "    def add_key(self,num):\n",
    "        self.list.append(num)\n",
    "        print(self.list)\n",
    "        return \"OK\"\n",
    "    \n",
    "    def get_key(self,value):\n",
    "        # 判断传入的索引是否超出了列表\n",
    "        if value >= 0 and value < len(self.list):\n",
    "            return self.list[value]\n",
    "        return \"没有那么多\"\n",
    "        \n",
    "    def update_list(self,new_list):\n",
    "        self.list.extend(new_list)\n",
    "        return self.list\n",
    "    \n",
    "    def del_key(self):\n",
    "        s = self.list.pop()\n",
    "        return s\n",
    "    \n",
    "    def add_is(self,number):\n",
    "        if isinstance (number,(int,str)):\n",
    "            self.list.append(number)\n",
    "            print(self.list)\n",
    "            return \"ok\"\n",
    "        else:\n",
    "            return \"输入不正确\"\n",
    "        \n",
    "        \n",
    "        \n",
    "a = ListInfo([1,2,3,4,5])\n",
    "# print(a.add_key(6))\n",
    "# print(a.get_key(4))\n",
    "# print(a.update_list([7,8,9]))\n",
    "# print(a.del_key())\n",
    "print(a.add_is(100))"
   ]
  },
  {
   "cell_type": "markdown",
   "metadata": {},
   "source": [
    "### 定义一个集合的操作类\n",
    " 包括的方法\n",
    " 1. 集合元素添加:add_setinfo()\n",
    " 2. 集合的交集:get_intersection()\n",
    " 3. 集合的并集:get_union()\n",
    " 4. 集合的差集:del_difference()\n",
    " "
   ]
  },
  {
   "cell_type": "code",
   "execution_count": 100,
   "metadata": {},
   "outputs": [
    {
     "name": "stdout",
     "output_type": "stream",
     "text": [
      "{1, 2, 3, 4, 5, 6}\n",
      "{4, 5, 6}\n",
      "{1, 2, 3, 4, 5, 6, 7}\n",
      "{1, 2}\n"
     ]
    }
   ],
   "source": [
    "class SetInfo(object):\n",
    "    def __init__(self,new_set):\n",
    "        self.set1 = new_set\n",
    "        \n",
    "    def add_setinfo(self,add_val):\n",
    "        self.set1.add(add_val)\n",
    "        return self.set1\n",
    "    \n",
    "    def get_intersection(self,key):\n",
    "#         return self.set1.intersection(key)\n",
    "        return self.set1 & key\n",
    "        \n",
    "    def get_union(self,name):\n",
    "#         return self.set1.union(name)\n",
    "        return self.set1 | name\n",
    "    \n",
    "    def del_difference(self,name_key):\n",
    "#         return self.set1.difference(name_key)\n",
    "        return self.set1 - name_key\n",
    "    \n",
    "    \n",
    "    \n",
    "A = set([1,2,3,4,5])\n",
    "a = SetInfo(A)\n",
    "print(a.add_setinfo(6))\n",
    "\n",
    "B = set([4,5,6,7,8])\n",
    "print(a.get_intersection(B))\n",
    "\n",
    "C = set([3,4,5,6,7])\n",
    "print(a.get_union(C))\n",
    "\n",
    "print(a.del_difference(C))"
   ]
  }
 ],
 "metadata": {
  "kernelspec": {
   "display_name": "Python 3",
   "language": "python",
   "name": "python3"
  },
  "language_info": {
   "codemirror_mode": {
    "name": "ipython",
    "version": 3
   },
   "file_extension": ".py",
   "mimetype": "text/x-python",
   "name": "python",
   "nbconvert_exporter": "python",
   "pygments_lexer": "ipython3",
   "version": "3.7.0"
  }
 },
 "nbformat": 4,
 "nbformat_minor": 2
}
