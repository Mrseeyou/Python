{
 "cells": [
  {
   "cell_type": "markdown",
   "metadata": {},
   "source": [
    "## BeautifulSoup4\n",
    "- 现在使用BeautifulSoup4\n",
    "- http://beautifulsoup.readthedocs.io/zh_CN/v4.4.0/\n",
    "- 几个常用提取信息工具的比较:\n",
    "    - 正则: 很快,不好用,不需要安装\n",
    "    - beautifulsoup: 慢,使用简单,安装简单\n",
    "    - lxml: 比较快,使用简单,安装一般\n",
    "\n",
    "#### 四大对象\n",
    "- 案例v30\n",
    "- Tag\n",
    "    - 对应HTML中的标签\n",
    "    - 可以通过soup.tag_name\n",
    "    - tag两个重要属性\n",
    "        - name\n",
    "        - attrs\n",
    "        \n",
    "- NavigableString\n",
    "    - 对应内容值\n",
    "\n",
    "- BeautifuSoup\n",
    "    - 表示的是一个文档的内容,大部分可以把他当做tag对象\n",
    "    - 一般我们可以用soup来表示\n",
    "    \n",
    "- Comment\n",
    "    - 特殊类型的NavagableString\n",
    "    - 对其输出,则内容不包括注释符号\n",
    "    \n",
    "#### 遍历文档对象\n",
    "- contents: tag的子节点以列表的方式给出\n",
    "- children: 子节点以迭代器形式返回\n",
    "- decendants: 所有的子孙节点\n",
    "- string: 显示内容\n",
    "- 案例v31\n",
    "\n",
    "#### 搜索文档对象\n",
    "- find_all(name, attrs, recursive, text, ** kwargs)\n",
    "    - name: 按照那个字符串搜索,可以传入的内容\n",
    "        - 字符串\n",
    "        - 正则表达式\n",
    "        - 列表\n",
    "    - keywortd参数,可以用来表示属性\n",
    "    - text: 对应tag的文本值\n",
    "- 案例v32\n",
    "   \n",
    "## CSS选择器\n",
    "- 使用soup.select, 返回一个列表\n",
    "    - 通过标签名称: soup.select(\"title\")\n",
    "    - 通过类名: soup.select(\".content\")\n",
    "    - id查找: soup.select(\"#name_id\")\n",
    "    - 组合查找: soup.select(\"div #input_content\")\n",
    "    - 属性查找: soup.select(\"img[class='photo']\")\n",
    "    - 获取tag内容: tag.get_text\n",
    "- 案例v33"
   ]
  }
 ],
 "metadata": {
  "kernelspec": {
   "display_name": "Python 3",
   "language": "python",
   "name": "python3"
  },
  "language_info": {
   "codemirror_mode": {
    "name": "ipython",
    "version": 3
   },
   "file_extension": ".py",
   "mimetype": "text/x-python",
   "name": "python",
   "nbconvert_exporter": "python",
   "pygments_lexer": "ipython3",
   "version": "3.7.0"
  }
 },
 "nbformat": 4,
 "nbformat_minor": 2
}
