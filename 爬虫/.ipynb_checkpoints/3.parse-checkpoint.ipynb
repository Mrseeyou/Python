{
 "cells": [
  {
   "cell_type": "markdown",
   "metadata": {},
   "source": [
    "## parse.urlcode使用方法\n",
    "- 将字典形式的数据转化成查询字符串\n",
    "    - 案例v4\n",
    "\n",
    "## request.date的使用\n",
    "- 访问网络的两种方法\n",
    "    - get\n",
    "        - 利用参数给服务器传递信息\n",
    "        - 参数为dict,然后用parse编码\n",
    "        \n",
    "    - post\n",
    "        - 一般向服务器传递参数使用\n",
    "        - post是把信息自动加密处理\n",
    "        - 我们如果想使用post的信息,需要用到data参数\n",
    "        - 案例v5\n",
    "        - 使用post,意味着Http的请求头可能需要更改:\n",
    "            - Content-Type: application/x-www.from-urlencode\n",
    "            - Content-Length: 数据长度\n",
    "            - 简而言之, 一旦更改请求方法, 请注意其他请求头部信息相时应\n",
    "        - urlllib.parse.urlendode可以将字符串自动转换成上面的样式\n",
    "        - 为了更好的设置请求信息,单纯的通过urlopen函数已经不太好用了\n",
    "        - 需要利用request.Request类\n",
    "        - 案例V6\n",
    "    \n",
    "    "
   ]
  }
 ],
 "metadata": {
  "kernelspec": {
   "display_name": "Python 3",
   "language": "python",
   "name": "python3"
  },
  "language_info": {
   "codemirror_mode": {
    "name": "ipython",
    "version": 3
   },
   "file_extension": ".py",
   "mimetype": "text/x-python",
   "name": "python",
   "nbconvert_exporter": "python",
   "pygments_lexer": "ipython3",
   "version": "3.7.0"
  }
 },
 "nbformat": 4,
 "nbformat_minor": 2
}
