{
 "cells": [
  {
   "cell_type": "markdown",
   "metadata": {},
   "source": [
    "# Requests\n",
    "- HTTP for Humans,更简洁更友好\n",
    "- 继承了urllib的所有特征\n",
    "- 底层使用的是urllib3\n",
    "- 开源地址: https://github.com/requests/requests\n",
    "- 中文文档: http://docs.python-requests.org/zh_CN/latest/index.html\n",
    "- 安装: conda install requests\n",
    "\n",
    "\n",
    "### get请求:\n",
    "    - requests.get(url)\n",
    "    - requests.request(\"get\",url)\n",
    "    - 可以带有headers和parmas参数\n",
    "    - 案例v21\n",
    "- get返回的内容\n",
    "    - 案例v22\n",
    "    \n",
    "### proxy代理\n",
    "- 代理有可能报错,如果使用人数多,考虑安全问题,可能会被强行关闭\n",
    "\n",
    "        proxy = {\n",
    "            'http':'address of proxy'\n",
    "            'https':'address of proxy'\n",
    "        }\n",
    "        rsp = requests.request('get', 'http:xxxx', proxies=proxies)\n",
    "        \n",
    "### 用户验证\n",
    "- 代理验证\n",
    "    \n",
    "        可能需要使用HTTP basic Auth \n",
    "        格式为  用户名:密码@代理地址:端口地址\n",
    "        proxy = {'http':'china:123456@192.168.1.123:4444'}\n",
    "        rsp = requests.get('http://baidu.com', proxies=proxy)\n",
    "    \n",
    "### web客户端验证\n",
    "- 如果通过web客户端验证,需要添加auth=(用户名, 密码)\n",
    "\n",
    "        auth = ('test1', '123456')# 授权信息\n",
    "        rsp = requests.get('http://www.baidu.com', 'auth=auth')"
   ]
  }
 ],
 "metadata": {
  "kernelspec": {
   "display_name": "Python 3",
   "language": "python",
   "name": "python3"
  },
  "language_info": {
   "codemirror_mode": {
    "name": "ipython",
    "version": 3
   },
   "file_extension": ".py",
   "mimetype": "text/x-python",
   "name": "python",
   "nbconvert_exporter": "python",
   "pygments_lexer": "ipython3",
   "version": "3.7.0"
  }
 },
 "nbformat": 4,
 "nbformat_minor": 2
}
