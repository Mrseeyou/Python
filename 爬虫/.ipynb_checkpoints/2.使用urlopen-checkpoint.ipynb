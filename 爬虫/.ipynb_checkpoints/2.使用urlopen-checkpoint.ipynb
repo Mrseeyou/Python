{
 "cells": [
  {
   "cell_type": "markdown",
   "metadata": {},
   "source": [
    "# urllib模块\n",
    "\n",
    "## request.urlopen(url)\n",
    "- 打开和读取数据\n",
    "    - 案例v1\n",
    "- 网页编码问题解决\n",
    "    - chardet 可以自动检测页面文件的编码格式, 但是, 可能有误\n",
    "    - 需要安装, conda install chardet\n",
    "    - 案例v2\n",
    "- urlopen 的返回对象\n",
    "    - getrul: 返回请求的url\n",
    "    - info: 请求反馈对象的meta信息(源信息)\n",
    "    - getcode: 返回的http code\n",
    "    - 案例v3\n",
    "    \n",
    "## parse: 包含解析url的方法\n",
    "- parse.urlencode使用方法\n",
    "- 将字典形式的数据转化成查询字符串    \n",
    "    \n",
    "## request.date的使用\n",
    "- 访问网络的两种方法\n",
    "- get\n",
    "    - 利用参数给服务器传递信息\n",
    "    - 参数为dict,然后用parse编码\n",
    "    - 案例v4\n",
    "- post\n",
    "    - 一般向服务器传递参数使用\n",
    "    - post是把信息自动加密处理\n",
    "    - 我们如果想使用post的信息,需要用到data参数      \n",
    "    - 使用post,意味着Http的请求头可能需要更改:\n",
    "        - Content-Type: application/x-www.from-urlencode\n",
    "        - Content-Length: 数据长度\n",
    "        - 简而言之, 一旦更改请求方法, 请注意其他请求头部信息相适应\n",
    "    - urlllib.parse.urlendode可以将字符串自动转换成上面的样式\n",
    "    - 案例v5\n",
    "    \n",
    "## request.Request\n",
    "- 为了更好的设置请求信息,单纯的通过urlopen函数已经不太好用了\n",
    "- 需要利用request.Request类,可以传入很多需要更改的参数\n",
    "- 案例V6\n",
    "\n",
    "## urllib.error:\n",
    "- 包含urllib.request产生的常见的错误,使用try捕捉\n",
    "- URLError产生的原因:\n",
    "    - 没网\n",
    "    - 服务器连接失败\n",
    "    - 找不到指定服务器\n",
    "    - 是OSerror的子类\n",
    "    - 案例v7\n",
    "- HTTPError, 是URLError的一个子类\n",
    "    - 案例v8\n",
    "- 两者区别\n",
    "    - HTTPError是相对应HTTP请求的返回码错误, 如果返回错误码400以上的,则引发HTTPError\n",
    "    - URLError对应的一般是网络出现问题, 包括url问题\n",
    "    - 关系级别: OSError - URLError - HTTPError\n",
    "           \n",
    "## robotparse: 解析robots.txt文件      "
   ]
  }
 ],
 "metadata": {
  "kernelspec": {
   "display_name": "Python 3",
   "language": "python",
   "name": "python3"
  },
  "language_info": {
   "codemirror_mode": {
    "name": "ipython",
    "version": 3
   },
   "file_extension": ".py",
   "mimetype": "text/x-python",
   "name": "python",
   "nbconvert_exporter": "python",
   "pygments_lexer": "ipython3",
   "version": "3.7.0"
  }
 },
 "nbformat": 4,
 "nbformat_minor": 2
}
