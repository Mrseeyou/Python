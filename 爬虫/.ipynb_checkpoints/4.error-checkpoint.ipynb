{
 "cells": [
  {
   "cell_type": "markdown",
   "metadata": {},
   "source": [
    "## urllib.error\n",
    "- URLError产生的原因:\n",
    "    - 没网\n",
    "    - 服务器连接失败\n",
    "    - 找不到指定服务器\n",
    "    - 是OSerror的子类\n",
    "    - 案例v7\n",
    "- HTTPError, 是URLError的一个子类\n",
    "    - 案例v8\n",
    "- 两者区别\n",
    "    - HTTPError是相对应HTTP请求的返回码错误, 如果返回错误码400以上的,则引发HTTPError\n",
    "    - URLError对应的一般是网络出现问题, 包括url问题\n",
    "    - 关系级别: OSError - URLError - HTTPError"
   ]
  }
 ],
 "metadata": {
  "kernelspec": {
   "display_name": "Python 3",
   "language": "python",
   "name": "python3"
  },
  "language_info": {
   "codemirror_mode": {
    "name": "ipython",
    "version": 3
   },
   "file_extension": ".py",
   "mimetype": "text/x-python",
   "name": "python",
   "nbconvert_exporter": "python",
   "pygments_lexer": "ipython3",
   "version": "3.7.0"
  }
 },
 "nbformat": 4,
 "nbformat_minor": 2
}
