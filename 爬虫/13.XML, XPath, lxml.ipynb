{
 "cells": [
  {
   "cell_type": "markdown",
   "metadata": {},
   "source": [
    "### XML\n",
    "- XML(EXtensibleMarkupLanguage)\n",
    "    - https://www.w3school.com.cn/xml/index.asp\n",
    "- 概念: 父节点,子节点,先辈节点,兄弟节点,后代节点\n",
    "\n",
    "### XPath\n",
    "- XPath(XML Path Language), 是一门在XML文档中查找信息的语言\n",
    "\n",
    "- 官方文档: http://www.w3school.com.cn/xpath/index.asp\n",
    "\n",
    "- XPath开发工具\n",
    "    - 开元的XPath表达式工具: XMLQuier\n",
    "    - chrome插件: Xpath Helper\n",
    "    - Firefox插件: XPath CHecker\n",
    "    \n",
    "- 常用路径表示: \n",
    "    - nodename: 选取此节点的所有子节点\n",
    "    - /: 从根节点开始选\n",
    "    - //: 选取元素,而不考虑元素的具体位置\n",
    "    - .: 当前节点\n",
    "    - ..: 父节点\n",
    "    - @: 选取属性\n",
    "        - booksotre: 选取booskstore下的所有子节点\n",
    "        - /booksotre: 选取根元素\n",
    "        - booksotre/book: 选取bookstore的所有为book的子元素\n",
    "        - //book: 选取book之元素\n",
    "        - //@lang:选取名称为lang的所有属性\n",
    "        \n",
    "- 谓语(Predicates)\n",
    "    - 谓语用来查找某个特定的节点,被写在方括号中\n",
    "    - /bookstore/book[1]: 选取第一个属于bookstore下叫book的元素\n",
    "    - /bookstore/book[last()]: 选取最后一个属于bookstore下叫boos的元素\n",
    "    - /bookstore/book[last()-1]: 选取倒数第二个属于bookstore下叫boos的元素\n",
    "    - /bookstore/book[position() < 3]: 选取属于bookstore叫book的前两个元素\n",
    "    - /bookstore/book[@lang]: 选取属于bookstore下叫book的,含有属性lang元素\n",
    "    - /bookstore/book[@lang='cn']: 选取属于bookstore下叫book的,含有属性lang的值是cn的元素\n",
    "    - /bookstore/boos[@price < 90]: 选取属性bookstore下叫book的,含有属性price的, 且值小于90的元素\n",
    "    - /booksotre/book[@price < 90]/title: 选取属性bookstore下叫book的,含有属性price的,且值小于90的元素的子元素title\n",
    "    \n",
    "- 通配符\n",
    "    - '*': 任何元素节点\n",
    "    - @*: 匹配任何属性节点\n",
    "    - node(): 匹配任何类型的节点\n",
    "    \n",
    "- 选取多个路径\n",
    "    - //book/title | //book/author: 选取book元素中的title和author元素\n",
    "    - //title | //price: 选取文档中所有的title和price元素 \n",
    "    \n",
    "### lxml\n",
    "- python的HTML/XML的解析器\n",
    "- 官方文档: http://lxml.de/index.html\n",
    "\n",
    "- 功能:\n",
    "    - 解析HTML 案例v28\n",
    "    - 文件读取 案例v29\n",
    "    - etree和XPath的使用\n",
    "    "
   ]
  },
  {
   "cell_type": "code",
   "execution_count": null,
   "metadata": {},
   "outputs": [],
   "source": []
  }
 ],
 "metadata": {
  "kernelspec": {
   "display_name": "Python 3",
   "language": "python",
   "name": "python3"
  },
  "language_info": {
   "codemirror_mode": {
    "name": "ipython",
    "version": 3
   },
   "file_extension": ".py",
   "mimetype": "text/x-python",
   "name": "python",
   "nbconvert_exporter": "python",
   "pygments_lexer": "ipython3",
   "version": "3.7.0"
  }
 },
 "nbformat": 4,
 "nbformat_minor": 2
}
