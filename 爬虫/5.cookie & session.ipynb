{
 "cells": [
  {
   "cell_type": "markdown",
   "metadata": {},
   "source": [
    "### cookie & session\n",
    "- 由于http协议的无记忆性,人们为了弥补这个缺憾,采用了一个补充协议\n",
    "- cookie是发给用户(即http浏览器)的一段信息,seesion是保存在服务器上的对应的另一半信息,用于记录客户信息\n",
    "\n",
    "### cookie & session的区别\n",
    "- 存放位置不同\n",
    "- cookie 不安全\n",
    "- session 会保存在服务器上一段时间,会过期\n",
    "- 单个cookie保存数据不超过4K, 很多浏览器限制一个站点最多保存20个\n",
    "\n",
    "### session的存放位置\n",
    "- 存在服务器端\n",
    "- 一般情况下, session是放在内存中或者数据库中"
   ]
  },
  {
   "cell_type": "markdown",
   "metadata": {},
   "source": [
    "### 使用登录后的地址进行访问\n",
    "\n",
    "#### 没有cookie登录\n",
    "- 没有cookie登录,页面反馈为未登录状态\n",
    "- 案例v11\n",
    "\n",
    "#### 使用cookie登录\n",
    "- 直接把cookie复制后,手动放入请求头 则是登录状态\n",
    "- 案例v12"
   ]
  },
  {
   "cell_type": "markdown",
   "metadata": {},
   "source": [
    "# http中关于cookie的模块\n",
    "\n",
    "### CookieJar\n",
    "- 管理存储cookie,向传出的http请求添加cookie\n",
    "- cookie存储在内存中,CookieJar实例回收后cookie将消失\n",
    "\n",
    "- 利用cookiejar访问人人网\n",
    "    - 自动使用cookie登录,案例v13\n",
    "        - 1.自动登录页面后自动通过用户名密码登录\n",
    "        - 2.自动提前反馈回来的cookie\n",
    "        - 3.利用提取的cookie登录隐私页面\n",
    "        \n",
    "#### handler是Handler的实例\n",
    "- 用来处理复杂请求,参看案例v13\n",
    "    - 生成cookie的管理器\n",
    "        - cookie_handler = request.HTTPCookieProcessor(cookie)\n",
    "    - 创建http请求管理器\n",
    "        - http_handler = request.HTTPHandler()\n",
    "    - 生成https管理器\n",
    "        - https_handler = request.HTTPSHandler()\n",
    "        \n",
    "创立handler后,使用opener打开,打开后相应的业务由相应的handler处理\n",
    "\n",
    "cookie作为一个变量,打印出来,案例v14\n",
    "\n",
    "- cookie的属性:\n",
    "\n",
    "        name:名称\n",
    "        value:值\n",
    "        domain:可以访问此cookie的域名\n",
    "        path:可以访问此cookie的页面路径\n",
    "        expires:过期时间\n",
    "        size:大小\n",
    "        Http:字段\n",
    "\n",
    "\n",
    "### FileCookieJar(filename, delayload=None, policy-None)\n",
    "- 使用文件管理cookie\n",
    "- filename是保存cookie的文件\n",
    "\n",
    "### MozillaCookieJar(filename, delayload=None, policy-None)\n",
    "- 建立与mocilla浏览器cookie.txt兼容的FileCookieJar实例\n",
    "- 案例v15\n",
    "- cookie的读取,案例v16\n",
    "### LwpCookieJar(filename, delayload=None, policy-None)\n",
    "- 建立与libwww-perl标准兼容的Set-Cookie3格式的FileCookieJar实例\n",
    "\n",
    "\n",
    " 他们的关系:CookieJar-->FileCookieJar-->MozillaCookieJar & LwpCookieJar\n",
    " \n"
   ]
  }
 ],
 "metadata": {
  "kernelspec": {
   "display_name": "Python 3",
   "language": "python",
   "name": "python3"
  },
  "language_info": {
   "codemirror_mode": {
    "name": "ipython",
    "version": 3
   },
   "file_extension": ".py",
   "mimetype": "text/x-python",
   "name": "python",
   "nbconvert_exporter": "python",
   "pygments_lexer": "ipython3",
   "version": "3.7.0"
  }
 },
 "nbformat": 4,
 "nbformat_minor": 2
}
