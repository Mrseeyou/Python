{
 "cells": [
  {
   "cell_type": "markdown",
   "metadata": {},
   "source": [
    "## scrapy\n",
    "### 爬虫框架\n",
    "- 框架\n",
    "    - scrapy\n",
    "    - pyspider\n",
    "    - crawley\n",
    "- scrapy框架介绍\n",
    "    - httpsL://doc.scrapy.org/en/latest/\n",
    "    - http://scrapy-chs.readthedocs.io/zh_CN/latest/index.html\n",
    "    \n",
    "- 安装\n",
    "    - 利用pip install Scrapy\n",
    "    \n"
   ]
  }
 ],
 "metadata": {
  "kernelspec": {
   "display_name": "Python 3",
   "language": "python",
   "name": "python3"
  },
  "language_info": {
   "codemirror_mode": {
    "name": "ipython",
    "version": 3
   },
   "file_extension": ".py",
   "mimetype": "text/x-python",
   "name": "python",
   "nbconvert_exporter": "python",
   "pygments_lexer": "ipython3",
   "version": "3.7.0"
  }
 },
 "nbformat": 4,
 "nbformat_minor": 2
}
