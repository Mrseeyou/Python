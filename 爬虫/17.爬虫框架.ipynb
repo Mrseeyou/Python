{
 "cells": [
  {
   "cell_type": "markdown",
   "metadata": {},
   "source": [
    "### scrapy\n",
    "### 爬虫框架\n",
    "- 框架\n",
    "    - scrapy\n",
    "    - pyspider\n",
    "    - crawley\n",
    "- scrapy框架介绍\n",
    "    - https://doc.scrapy.org/en/latest/\n",
    "    - http://scrapy-chs.readthedocs.io/zh_CN/latest/index.html\n",
    "    \n",
    "- 安装\n",
    "    - pip install Scrapy\n",
    "\n",
    "- scrapy概述\n",
    "    - 包含各个部件\n",
    "         - ScrapyEngine: 神经中枢,大脑,核心\n",
    "         - Scheduler调度器: 引擎发出来request请求,调度器需要处理,然后交换引擎\n",
    "         - Downloader下载器: 把引擎发来的requests发出请求,得到response\n",
    "         - Spider爬虫: 负责把下载器得到的网页/结果进行分解,分解成数据+链接\n",
    "         - ItemPipeline管道: 详细处理Item\n",
    "         - DownloaderMiddleware下载中间件: 自定义下载的功能扩展组件\n",
    "         - SpiderMiddleware爬虫中间件: 对spider进行功能扩张\n",
    "         \n",
    " - 爬虫项目大概流程\n",
    "     - 新建项目: scrapy startproject xxx\n",
    "     - 明确需要目标/产出: 编写item.py\n",
    "     - 制作爬虫: 地址 spider/xxspider.py\n",
    "     - 储存内容: pipeline.py\n",
    "     "
   ]
  }
 ],
 "metadata": {
  "kernelspec": {
   "display_name": "Python 3",
   "language": "python",
   "name": "python3"
  },
  "language_info": {
   "codemirror_mode": {
    "name": "ipython",
    "version": 3
   },
   "file_extension": ".py",
   "mimetype": "text/x-python",
   "name": "python",
   "nbconvert_exporter": "python",
   "pygments_lexer": "ipython3",
   "version": "3.7.0"
  }
 },
 "nbformat": 4,
 "nbformat_minor": 2
}
