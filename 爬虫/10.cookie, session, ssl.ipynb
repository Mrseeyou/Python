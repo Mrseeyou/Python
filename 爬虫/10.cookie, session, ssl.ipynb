{
 "cells": [
  {
   "cell_type": "markdown",
   "metadata": {},
   "source": [
    "## cookie\n",
    "- requests可以自动处理cookie信息\n",
    "\n",
    "    rsp = requestst.get(\"http://xxxxxxx\")\n",
    "    如果对方服务器给传送过来cookie信息,则可以通过反馈的cookie属性得到\n",
    "    返回一个cookiejar实例\n",
    "    cookiejar = rsp.cookies\n",
    "    \n",
    "    可以将cookiejar转换成字典\n",
    "    cookieduct = requests.urlls.dict_from_cookiejar(cookiejar)\n",
    "    \n",
    "## seesion\n",
    "- 跟服务器端session是一个\n",
    "- 模拟一次会话,从客户端浏览器链接服务器开始,到客户端浏览器断开\n",
    "- 能让我们跨请求时保持某些参数,比如在同一个session实例发出的 所有请求之间保持cookie\n",
    "\n",
    "        创建session对象,可以保持cookie值\n",
    "        ss = requests.session()\n",
    "        \n",
    "        headers = {\"User-Agetn\":\"xxxxxxxxxx\"}\n",
    "        \n",
    "        data = {\"name\":\"xxxxxxx\"}\n",
    "        \n",
    "        此时,由创建的session管理请求,负责发出请求\n",
    "        ss.post(\"http://www.baidu.com\", \"data=data\", \"headers=headers\")\n",
    "        \n",
    "        再发送就不需要重新设置了\n",
    "        rsp = ss.get(\"xxxxxxxxxxxxxxx\")\n",
    "        \n",
    "## https请求验证ssl证书\n",
    "- 参数verify负责表示是否需要验证SSL证书,默认True\n",
    "- 如果不需要验证ssl证书,则设置成False表示关闭\n",
    "\n",
    "        rsp = requests.get(\"https://www.baidu.com\", \"verify=False\")\n",
    "        如果用verify=True访问12306,会报错,因为他证书有问题"
   ]
  }
 ],
 "metadata": {
  "kernelspec": {
   "display_name": "Python 3",
   "language": "python",
   "name": "python3"
  },
  "language_info": {
   "codemirror_mode": {
    "name": "ipython",
    "version": 3
   },
   "file_extension": ".py",
   "mimetype": "text/x-python",
   "name": "python",
   "nbconvert_exporter": "python",
   "pygments_lexer": "ipython3",
   "version": "3.7.0"
  }
 },
 "nbformat": 4,
 "nbformat_minor": 2
}
