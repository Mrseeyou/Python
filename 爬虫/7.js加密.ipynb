{
 "cells": [
  {
   "cell_type": "markdown",
   "metadata": {},
   "source": [
    "# js加密\n",
    "- 有的反爬虫策略采用js对需要传输的数据进行加密处理(通常是取md5值)\n",
    "- 经过加密,传输的就是密文,但是\n",
    "- 加密函数或者过程一定是在浏览器完成,也就是一定会把代码(js代码)暴露给使用者\n",
    "- 通过阅读加密算法,就可以模拟出加密过程,从而达到破解\n",
    "- 直接复制data和headers,参看案例v18\n",
    "- 获取加盐的方法,参看案例v19\n",
    "    - js码格式化: https://tool.oschina.net/codeformat/js"
   ]
  }
 ],
 "metadata": {
  "kernelspec": {
   "display_name": "Python 3",
   "language": "python",
   "name": "python3"
  },
  "language_info": {
   "codemirror_mode": {
    "name": "ipython",
    "version": 3
   },
   "file_extension": ".py",
   "mimetype": "text/x-python",
   "name": "python",
   "nbconvert_exporter": "python",
   "pygments_lexer": "ipython3",
   "version": "3.7.0"
  }
 },
 "nbformat": 4,
 "nbformat_minor": 2
}
