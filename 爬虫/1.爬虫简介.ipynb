{
 "cells": [
  {
   "cell_type": "markdown",
   "metadata": {},
   "source": [
    "# 准备工作\n",
    "- 参考资料\n",
    "    - 《python网络数据采集》 图灵工业出版\n",
    "    - 《精通Python爬虫框架Scrapy》 人民邮电出版社\n",
    "    - [Pyhton3网络爬虫](http://blog.csdn.net/c406495762/article/details/72858983)\n",
    "    - [Scrapy官方教程](http://scrapy-chs.readthedocs.io/zh_CN/0.24/intro/tutorial.html)\n",
    "    \n",
    "- 前提知识\n",
    "    - url\n",
    "    - http协议\n",
    "    - web前端,html,css,js\n",
    "    - ajax\n",
    "    - re, xpath\n",
    "    - xml\n",
    "    \n",
    "# 爬虫简介\n",
    "- 爬虫定义:网络爬虫(又被称为网页蜘蛛,网络机器人,在FOAF社区中间,更经常的称为网页追逐者),是一种按照一定的规则,自动地抓取万维网信息的程序或者脚本,另外一些不常使用的名字还有蚂蚁,自动索引,模拟程序或者蠕虫\n",
    "    \n",
    "- 两大特征\n",
    "    - 能按作者要求下载数据或者内容\n",
    "    - 能自动在网络上流窜\n",
    "\n",
    "- 三大步骤\n",
    "    - 下载网页\n",
    "    - 提取正确的信息\n",
    "    - 根据一定规则自动跳到另外的网页上执行上两个步骤\n",
    "    \n",
    "- 爬虫分类\n",
    "    - 通用爬虫\n",
    "    - 专用爬虫(聚焦爬虫)\n",
    "    \n",
    "- Python网络包简介\n",
    "    - Python2.x: urllib, urllib2, urllib3, httplib, httplib2, requests\n",
    "        - 一般urllib和urllib2配合使用,或者requests\n",
    "    - Python3.x: urllib, urllib3, httplib2, requests\n",
    "        - 一般urllib或者requests\n",
    "\n",
    "    "
   ]
  }
 ],
 "metadata": {
  "kernelspec": {
   "display_name": "Python 3",
   "language": "python",
   "name": "python3"
  },
  "language_info": {
   "codemirror_mode": {
    "name": "ipython",
    "version": 3
   },
   "file_extension": ".py",
   "mimetype": "text/x-python",
   "name": "python",
   "nbconvert_exporter": "python",
   "pygments_lexer": "ipython3",
   "version": "3.7.0"
  }
 },
 "nbformat": 4,
 "nbformat_minor": 2
}
