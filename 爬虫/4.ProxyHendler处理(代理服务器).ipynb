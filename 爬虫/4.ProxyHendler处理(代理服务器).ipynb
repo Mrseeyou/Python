{
 "cells": [
  {
   "cell_type": "markdown",
   "metadata": {},
   "source": [
    "# ProxyHendler\n",
    "- 使用代理IP是爬虫的常用手段\n",
    "- 获取代理服务器的地址:\n",
    "    - www.xicidali.com\n",
    "    - www.goubanjia.com\n",
    "- 代理用来隐藏访问中的真实身份,代理也不允许频繁访问某一个固定网站,所以代理要尽量多\n",
    "\n",
    "### 基本使用步骤\n",
    "- 1. 设置代理地址\n",
    "- 2. 创建ProxyHandler\n",
    "- 3. 创建Opener\n",
    "- 4. 安装Opener\n",
    "    - 案例v10"
   ]
  }
 ],
 "metadata": {
  "kernelspec": {
   "display_name": "Python 3",
   "language": "python",
   "name": "python3"
  },
  "language_info": {
   "codemirror_mode": {
    "name": "ipython",
    "version": 3
   },
   "file_extension": ".py",
   "mimetype": "text/x-python",
   "name": "python",
   "nbconvert_exporter": "python",
   "pygments_lexer": "ipython3",
   "version": "3.7.0"
  }
 },
 "nbformat": 4,
 "nbformat_minor": 2
}
