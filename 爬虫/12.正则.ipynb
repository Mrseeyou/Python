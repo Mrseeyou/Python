{
 "cells": [
  {
   "cell_type": "markdown",
   "metadata": {},
   "source": [
    "## 正则表达式\n",
    "- 一套规则,可以在字符串文本中进行搜查替换\n",
    "- re的基本使用流程\n",
    "- match的基本使用,案例v24\n",
    "- 正则的常用方法:\n",
    "    - match: 从开始位置开始查找,一次匹配\n",
    "    - search: 从任何位置查找,一次匹配 案例v25\n",
    "    - findall: 全部匹配,返回列表 案例v26\n",
    "    - finditer: 全部匹配,返回迭代器\n",
    "    - split: 分割字符串,返回列表\n",
    "    - sub: 替换\n",
    "\n",
    "- 匹配中文\n",
    "    - 中文unicode范围主要在[u4e00-u9fa5]\n",
    "    - 案例v27\n",
    "    \n",
    "- 贪婪与非贪婪模式\n",
    "    - 贪婪模式: 在整个表达式匹配成功的前提下,尽可能多的匹配\n",
    "    - 非贪婪模式: 尽可能少的匹配\n",
    "    - python里面默认的是贪婪模式\n",
    "    "
   ]
  }
 ],
 "metadata": {
  "kernelspec": {
   "display_name": "Python 3",
   "language": "python",
   "name": "python3"
  },
  "language_info": {
   "codemirror_mode": {
    "name": "ipython",
    "version": 3
   },
   "file_extension": ".py",
   "mimetype": "text/x-python",
   "name": "python",
   "nbconvert_exporter": "python",
   "pygments_lexer": "ipython3",
   "version": "3.7.0"
  }
 },
 "nbformat": 4,
 "nbformat_minor": 2
}
