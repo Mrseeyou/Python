{
 "cells": [
  {
   "cell_type": "markdown",
   "metadata": {},
   "source": [
    "## 验证码识别问题\n",
    "- 验证码:放置机器人或者爬虫\n",
    "- 分类:\n",
    "    - 简单图片\n",
    "    - 极验\n",
    "    - 12306\n",
    "    - 电话\n",
    "    - google验证\n",
    "\n",
    "- 验证码破解:\n",
    "    - 通用方法:\n",
    "        - 下载网页和验证码\n",
    "        - 手动输入验证号码\n",
    "    - 简单的图片\n",
    "        - 使用图像识别软件或者文字识别软件\n",
    "        - 使用第三方图像验证破解网站, www.chaojiying.com\n",
    "    - 极验,官网 www.geetest.com\n",
    "        - 破解比较麻烦\n",
    "        - 可以模拟鼠标等移动\n",
    "        - 一直在进化\n",
    "    - 12306\n",
    "    - 电话:语音识别\n",
    "    - google验证\n",
    "\n",
    "#### Tesseract\n",
    "- 机器视觉领域的基础软件\n",
    "- OCR:OpticalChracterRecognition,光学文职识别\n",
    "- Tesseract: 一个ocr库, 有google赞助\n",
    "- 安装:\n",
    "    - windows:https://jingyan.baidu.com/article/219f4bf788addfde442d38fe.html\n",
    "    - Mac: brew install tesseract\n",
    "    - Linux: apt-get install tesseract-ocr\n",
    "    - 安装完成后需要设置环境变量\n",
    "- 安装完后还需要pytesseract\n",
    "    - pip install pytesseract"
   ]
  }
 ],
 "metadata": {
  "kernelspec": {
   "display_name": "Python 3",
   "language": "python",
   "name": "python3"
  },
  "language_info": {
   "codemirror_mode": {
    "name": "ipython",
    "version": 3
   },
   "file_extension": ".py",
   "mimetype": "text/x-python",
   "name": "python",
   "nbconvert_exporter": "python",
   "pygments_lexer": "ipython3",
   "version": "3.7.0"
  }
 },
 "nbformat": 4,
 "nbformat_minor": 2
}
